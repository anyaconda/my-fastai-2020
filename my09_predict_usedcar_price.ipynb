{
 "cells": [
  {
   "cell_type": "code",
   "execution_count": 1,
   "metadata": {},
   "outputs": [],
   "source": [
    "#meta 10/19/2020 myStudy Ch9. Tabular Modeling - replicate with a simpler dataset Used Cars (from Kaggle)\n",
    "# dataset source https://www.kaggle.com/avikasliwal/used-cars-price-prediction\n",
    "#note: this dataset is probably not big enough for DL but it's good practice for RF.\n",
    "\n",
    "#add'l reqs \n",
    "# package: dtreeviz\n",
    "# conda install -c michal-a dtreeviz\n",
    "# package: treeinterpeter\n",
    "# conda install -c brown-data-science treeinterpreter\n",
    "# package: waterfall_charts\n",
    "# pip install waterfallcharts (no conda, but shows up installed in conda)\n",
    "\n",
    "#history: \n",
    "#prev: 10/19/2020 a rough draft. revisit after saving to git.\n",
    "#here: 10/20/20202 better organized, redid some feeature selection.\n",
    "\n",
    "#focused on\n",
    "# data prep\n",
    "# feature selection\n",
    "# RF model and visualizations\n",
    "# fastai.collab nn model"
   ]
  },
  {
   "cell_type": "code",
   "execution_count": 2,
   "metadata": {},
   "outputs": [],
   "source": [
    "#hide\n",
    "#!pip install -Uqq fastbook\n",
    "#import fastbook\n",
    "#fastbook.setup_book()"
   ]
  },
  {
   "cell_type": "code",
   "execution_count": 3,
   "metadata": {},
   "outputs": [],
   "source": [
    "#hide\n",
    "from fastbook import *\n",
    "##from kaggle import api\n",
    "from pandas.api.types import is_string_dtype, is_numeric_dtype, is_categorical_dtype\n",
    "from fastai.tabular.all import *\n",
    "from sklearn.ensemble import RandomForestRegressor\n",
    "from sklearn.tree import DecisionTreeRegressor\n",
    "from dtreeviz.trees import *\n",
    "from IPython.display import Image, display_svg, SVG\n",
    "\n",
    "pd.options.display.max_rows = 20\n",
    "pd.options.display.max_columns = 8\n",
    "\n",
    "import regex as re"
   ]
  },
  {
   "cell_type": "markdown",
   "metadata": {},
   "source": [
    "# Tabular Modeling - Predict Used Car Sales Price\n",
    "#### my Shallow Dive\n",
    "The objective is to predict the value in one column based on the values in the other columns"
   ]
  },
  {
   "cell_type": "markdown",
   "metadata": {},
   "source": [
    "## Categorical Embeddings\n",
    "Continuous and Categorical Variables:  \n",
    "- Continuous variables are numerical data, that can be directly fed to the model.  \n",
    "- Categorical variables contain a number of discrete levels, for which addition and multiplication don't have meaning -> need to be converted to numbers"
   ]
  },
  {
   "cell_type": "markdown",
   "metadata": {},
   "source": [
    "## Beyond Deep Learning\n",
    "Modern machine learning can be distilled down to a couple of key techniques that are widely applicable. Recent studies have shown that the vast majority of datasets can be best modeled with just two methods:\n",
    "\n",
    "1. Ensembles of decision trees (i.e., random forests and gradient boosting machines), mainly for structured data (such as you might find in a database table at most companies)\n",
    "1. Multilayered neural networks learned with SGD (i.e., shallow and/or deep learning), mainly for unstructured data (such as audio, images, and natural language)\n",
    "\n",
    "Ensembles of decision trees tend to train faster, are often easier to interpret, do not require special GPU hardware for inference at scale, and often require less hyperparameter tuning. \n",
    "\n",
    "Most importantly, the critical step of interpreting a model of tabular data is significantly easier for decision tree ensembles. There are tools and methods for answering the pertinent questions, like:  \n",
    "- Which columns in the dataset were the most important for your predictions? \n",
    "- How are they related to the dependent variable?  \n",
    "- How do they interact with each other?  \n",
    "- And which particular features were most important for some particular observation?\n",
    "\n",
    "Therefore, ensembles of decision trees are our first approach for analyzing a new tabular dataset."
   ]
  },
  {
   "cell_type": "markdown",
   "metadata": {},
   "source": [
    "## 0. Load Data\n",
    "The Dataset: Kaggle Used Cars  \n",
    "Way smaller dataset.  Here, skipped official loading from Kaggle and just downloaded as csv. \n",
    "\n",
    "https://www.kaggle.com/avikasliwal/used-cars-price-prediction\n"
   ]
  },
  {
   "cell_type": "code",
   "execution_count": 4,
   "metadata": {},
   "outputs": [
    {
     "data": {
      "text/plain": [
       "Path('/home/jupyter/.fastai/archive/kaggle_usedcars')"
      ]
     },
     "execution_count": 4,
     "metadata": {},
     "output_type": "execute_result"
    }
   ],
   "source": [
    "path = URLs.path('kaggle_usedcars')\n",
    "path"
   ]
  },
  {
   "cell_type": "code",
   "execution_count": 5,
   "metadata": {},
   "outputs": [],
   "source": [
    "#hide\n",
    "Path.BASE_PATH = path"
   ]
  },
  {
   "cell_type": "code",
   "execution_count": 6,
   "metadata": {},
   "outputs": [],
   "source": [
    "# original when path didn't exist \n",
    "if not path.exists():\n",
    "    path.mkdir()\n",
    "    ##manually uploaded file in this small example, with not train-valid-test files available\n"
   ]
  },
  {
   "cell_type": "code",
   "execution_count": 7,
   "metadata": {},
   "outputs": [
    {
     "data": {
      "text/plain": [
       "(#3) [Path('train-data.csv'),Path('auto-mpg.csv'),Path('test-data.csv')]"
      ]
     },
     "execution_count": 7,
     "metadata": {},
     "output_type": "execute_result"
    }
   ],
   "source": [
    "path.ls(file_type='text')"
   ]
  },
  {
   "cell_type": "markdown",
   "metadata": {},
   "source": [
    "### 0.1 EDA and Data Prep"
   ]
  },
  {
   "cell_type": "code",
   "execution_count": 8,
   "metadata": {},
   "outputs": [
    {
     "name": "stdout",
     "output_type": "stream",
     "text": [
      "(6019, 14)\n"
     ]
    },
    {
     "data": {
      "text/html": [
       "<div>\n",
       "<style scoped>\n",
       "    .dataframe tbody tr th:only-of-type {\n",
       "        vertical-align: middle;\n",
       "    }\n",
       "\n",
       "    .dataframe tbody tr th {\n",
       "        vertical-align: top;\n",
       "    }\n",
       "\n",
       "    .dataframe thead th {\n",
       "        text-align: right;\n",
       "    }\n",
       "</style>\n",
       "<table border=\"1\" class=\"dataframe\">\n",
       "  <thead>\n",
       "    <tr style=\"text-align: right;\">\n",
       "      <th></th>\n",
       "      <th>Unnamed: 0</th>\n",
       "      <th>Name</th>\n",
       "      <th>Location</th>\n",
       "      <th>Year</th>\n",
       "      <th>...</th>\n",
       "      <th>Power</th>\n",
       "      <th>Seats</th>\n",
       "      <th>New_Price</th>\n",
       "      <th>Price</th>\n",
       "    </tr>\n",
       "  </thead>\n",
       "  <tbody>\n",
       "    <tr>\n",
       "      <th>0</th>\n",
       "      <td>0</td>\n",
       "      <td>Maruti Wagon R LXI CNG</td>\n",
       "      <td>Mumbai</td>\n",
       "      <td>2010</td>\n",
       "      <td>...</td>\n",
       "      <td>58.16 bhp</td>\n",
       "      <td>5.0</td>\n",
       "      <td>NaN</td>\n",
       "      <td>1.75</td>\n",
       "    </tr>\n",
       "    <tr>\n",
       "      <th>1</th>\n",
       "      <td>1</td>\n",
       "      <td>Hyundai Creta 1.6 CRDi SX Option</td>\n",
       "      <td>Pune</td>\n",
       "      <td>2015</td>\n",
       "      <td>...</td>\n",
       "      <td>126.2 bhp</td>\n",
       "      <td>5.0</td>\n",
       "      <td>NaN</td>\n",
       "      <td>12.50</td>\n",
       "    </tr>\n",
       "    <tr>\n",
       "      <th>2</th>\n",
       "      <td>2</td>\n",
       "      <td>Honda Jazz V</td>\n",
       "      <td>Chennai</td>\n",
       "      <td>2011</td>\n",
       "      <td>...</td>\n",
       "      <td>88.7 bhp</td>\n",
       "      <td>5.0</td>\n",
       "      <td>8.61 Lakh</td>\n",
       "      <td>4.50</td>\n",
       "    </tr>\n",
       "    <tr>\n",
       "      <th>3</th>\n",
       "      <td>3</td>\n",
       "      <td>Maruti Ertiga VDI</td>\n",
       "      <td>Chennai</td>\n",
       "      <td>2012</td>\n",
       "      <td>...</td>\n",
       "      <td>88.76 bhp</td>\n",
       "      <td>7.0</td>\n",
       "      <td>NaN</td>\n",
       "      <td>6.00</td>\n",
       "    </tr>\n",
       "    <tr>\n",
       "      <th>4</th>\n",
       "      <td>4</td>\n",
       "      <td>Audi A4 New 2.0 TDI Multitronic</td>\n",
       "      <td>Coimbatore</td>\n",
       "      <td>2013</td>\n",
       "      <td>...</td>\n",
       "      <td>140.8 bhp</td>\n",
       "      <td>5.0</td>\n",
       "      <td>NaN</td>\n",
       "      <td>17.74</td>\n",
       "    </tr>\n",
       "  </tbody>\n",
       "</table>\n",
       "<p>5 rows × 14 columns</p>\n",
       "</div>"
      ],
      "text/plain": [
       "   Unnamed: 0                              Name    Location  Year  ...  \\\n",
       "0           0            Maruti Wagon R LXI CNG      Mumbai  2010  ...   \n",
       "1           1  Hyundai Creta 1.6 CRDi SX Option        Pune  2015  ...   \n",
       "2           2                      Honda Jazz V     Chennai  2011  ...   \n",
       "3           3                 Maruti Ertiga VDI     Chennai  2012  ...   \n",
       "4           4   Audi A4 New 2.0 TDI Multitronic  Coimbatore  2013  ...   \n",
       "\n",
       "       Power Seats  New_Price  Price  \n",
       "0  58.16 bhp   5.0        NaN   1.75  \n",
       "1  126.2 bhp   5.0        NaN  12.50  \n",
       "2   88.7 bhp   5.0  8.61 Lakh   4.50  \n",
       "3  88.76 bhp   7.0        NaN   6.00  \n",
       "4  140.8 bhp   5.0        NaN  17.74  \n",
       "\n",
       "[5 rows x 14 columns]"
      ]
     },
     "execution_count": 8,
     "metadata": {},
     "output_type": "execute_result"
    }
   ],
   "source": [
    "df = pd.read_csv(path/'train-data.csv', low_memory=False)\n",
    "print(df.shape)\n",
    "df.head()"
   ]
  },
  {
   "cell_type": "code",
   "execution_count": 9,
   "metadata": {},
   "outputs": [
    {
     "data": {
      "text/plain": [
       "(Index(['Unnamed: 0', 'Name', 'Location', 'Year', 'Kilometers_Driven',\n",
       "        'Fuel_Type', 'Transmission', 'Owner_Type', 'Mileage', 'Engine', 'Power',\n",
       "        'Seats', 'New_Price', 'Price'],\n",
       "       dtype='object'),\n",
       " Unnamed: 0             int64\n",
       " Name                  object\n",
       " Location              object\n",
       " Year                   int64\n",
       " Kilometers_Driven      int64\n",
       " Fuel_Type             object\n",
       " Transmission          object\n",
       " Owner_Type            object\n",
       " Mileage               object\n",
       " Engine                object\n",
       " Power                 object\n",
       " Seats                float64\n",
       " New_Price             object\n",
       " Price                float64\n",
       " dtype: object)"
      ]
     },
     "execution_count": 9,
     "metadata": {},
     "output_type": "execute_result"
    }
   ],
   "source": [
    "df.columns, df.dtypes"
   ]
  },
  {
   "cell_type": "code",
   "execution_count": 10,
   "metadata": {},
   "outputs": [
    {
     "data": {
      "text/plain": [
       "Index(['car_id', 'name', 'location', 'year', 'kilometers_driven', 'fuel_type',\n",
       "       'transmission', 'owner_type', 'mileage', 'engine', 'power', 'seats',\n",
       "       'new_price', 'price'],\n",
       "      dtype='object')"
      ]
     },
     "execution_count": 10,
     "metadata": {},
     "output_type": "execute_result"
    }
   ],
   "source": [
    "#rename columns\n",
    "df.columns = ['car_id', 'Name', 'Location', 'Year', 'Kilometers_Driven',\n",
    "        'Fuel_Type', 'Transmission', 'Owner_Type', 'Mileage', 'Engine', 'Power',\n",
    "        'Seats', 'New_Price', 'Price']\n",
    "\n",
    "#use list comprehension to convert to lower case\n",
    "df.columns = [x.lower() for x in df.columns]\n",
    "\n",
    "#view column names\n",
    "df.columns\n"
   ]
  },
  {
   "cell_type": "code",
   "execution_count": 11,
   "metadata": {},
   "outputs": [
    {
     "data": {
      "text/plain": [
       "car_id                  0\n",
       "name                    0\n",
       "location                0\n",
       "year                    0\n",
       "kilometers_driven       0\n",
       "fuel_type               0\n",
       "transmission            0\n",
       "owner_type              0\n",
       "mileage                 2\n",
       "engine                 36\n",
       "power                  36\n",
       "seats                  42\n",
       "new_price            5195\n",
       "price                   0\n",
       "dtype: int64"
      ]
     },
     "execution_count": 11,
     "metadata": {},
     "output_type": "execute_result"
    }
   ],
   "source": [
    "#check for missing values\n",
    "df.isnull().sum()"
   ]
  },
  {
   "cell_type": "code",
   "execution_count": 12,
   "metadata": {},
   "outputs": [
    {
     "data": {
      "text/plain": [
       "car_id               6019\n",
       "name                 1876\n",
       "location               11\n",
       "year                   22\n",
       "kilometers_driven    3093\n",
       "fuel_type               5\n",
       "transmission            2\n",
       "owner_type              4\n",
       "mileage               442\n",
       "engine                146\n",
       "power                 372\n",
       "seats                   9\n",
       "new_price             540\n",
       "price                1373\n",
       "dtype: int64"
      ]
     },
     "execution_count": 12,
     "metadata": {},
     "output_type": "execute_result"
    }
   ],
   "source": [
    "df.nunique()"
   ]
  },
  {
   "cell_type": "markdown",
   "metadata": {},
   "source": [
    "#### Ordinal categories"
   ]
  },
  {
   "cell_type": "code",
   "execution_count": 13,
   "metadata": {},
   "outputs": [
    {
     "data": {
      "text/plain": [
       "array(['First', 'Second', 'Fourth & Above', 'Third'], dtype=object)"
      ]
     },
     "execution_count": 13,
     "metadata": {},
     "output_type": "execute_result"
    }
   ],
   "source": [
    "#expore \n",
    "df['owner_type'].unique()"
   ]
  },
  {
   "cell_type": "code",
   "execution_count": 14,
   "metadata": {},
   "outputs": [],
   "source": [
    "#ordinal columns\n",
    "owner_type_order = 'First', 'Second', 'Third','Fourth & Above', #class tuple\n",
    "\n",
    "# make cylinders into categories\n",
    "df['owner_type_cat'] = df['owner_type']\n",
    "df['owner_type_cat'] = df['owner_type_cat'].astype('category')\n",
    "#df['owner_type_cat'].cat.codes\n",
    "df['owner_type_cat'].cat.set_categories(owner_type_order, ordered=True, inplace=True)"
   ]
  },
  {
   "cell_type": "code",
   "execution_count": 15,
   "metadata": {},
   "outputs": [
    {
     "name": "stdout",
     "output_type": "stream",
     "text": [
      "First             4929\n",
      "Second             968\n",
      "Third              113\n",
      "Fourth & Above       9\n",
      "Name: owner_type_cat, dtype: int64\n"
     ]
    },
    {
     "data": {
      "image/png": "[encoded data removed]",
      "text/plain": [
       "<Figure size 432x288 with 1 Axes>"
      ]
     },
     "metadata": {
      "needs_background": "light"
     },
     "output_type": "display_data"
    }
   ],
   "source": [
    "print(df['owner_type_cat'].value_counts())\n",
    "df['owner_type_cat'].value_counts().plot(kind = 'bar');"
   ]
  },
  {
   "cell_type": "markdown",
   "metadata": {},
   "source": [
    "#### Impute Missing Values"
   ]
  },
  {
   "cell_type": "code",
   "execution_count": 16,
   "metadata": {},
   "outputs": [
    {
     "name": "stdout",
     "output_type": "stream",
     "text": [
      "median:  5.0\n"
     ]
    }
   ],
   "source": [
    "#Seats impute missing values\n",
    "print(\"median: \", df['seats'].median())"
   ]
  },
  {
   "cell_type": "code",
   "execution_count": 17,
   "metadata": {},
   "outputs": [
    {
     "data": {
      "text/plain": [
       "Int64Index([ 194,  208,  229,  733,  749, 1294, 1327, 1385, 1460, 1917, 2074,\n",
       "            2096, 2264, 2325, 2335, 2369, 2530, 2542, 2623, 2668, 2737, 2780,\n",
       "            2842, 3272, 3404, 3520, 3522, 3800, 3810, 3882, 4011, 4152, 4229,\n",
       "            4577, 4604, 4697, 4712, 4952, 5015, 5185, 5270, 5893],\n",
       "           dtype='int64')"
      ]
     },
     "execution_count": 17,
     "metadata": {},
     "output_type": "execute_result"
    }
   ],
   "source": [
    "idx_missing_seats = df[df['seats'].isnull()].index\n",
    "idx_missing_seats"
   ]
  },
  {
   "cell_type": "code",
   "execution_count": 18,
   "metadata": {},
   "outputs": [
    {
     "name": "stdout",
     "output_type": "stream",
     "text": [
      "nan\n"
     ]
    },
    {
     "data": {
      "text/plain": [
       "5.0"
      ]
     },
     "execution_count": 18,
     "metadata": {},
     "output_type": "execute_result"
    }
   ],
   "source": [
    "print(df.iloc[194]['seats'])\n",
    "df.loc[idx_missing_seats, 'seats'] = df['seats'].median()\n",
    "#confirm\n",
    "df.iloc[194]['seats']"
   ]
  },
  {
   "cell_type": "markdown",
   "metadata": {},
   "source": [
    "#### Continuous variables\n",
    "manually"
   ]
  },
  {
   "cell_type": "code",
   "execution_count": 19,
   "metadata": {},
   "outputs": [],
   "source": [
    "#mileage or km/l\n",
    "df['mileage_num'] = df['mileage'].str.replace('\\s(.*)','', regex=True)\n",
    "df['mileage_num'] = df['mileage_num'].fillna(0).astype('float')"
   ]
  },
  {
   "cell_type": "code",
   "execution_count": 20,
   "metadata": {},
   "outputs": [],
   "source": [
    "#engine\n",
    "df['engine_num'] = df['engine'].str.replace('\\s(.*)','', regex=True)\n",
    "df['engine_num'] = df['engine_num'].fillna(0).astype(float)"
   ]
  },
  {
   "cell_type": "code",
   "execution_count": 21,
   "metadata": {},
   "outputs": [],
   "source": [
    "#power\n",
    "df['power_num'] = df['power'].str.replace('\\s(.*)','', regex=True)\n",
    "df['power_num'] = df['power_num'].str.replace('null','0', regex=True) #$note: a strange value 'null'\n",
    "df['power_num'] = df['power_num'].fillna(0).astype(float)\n"
   ]
  },
  {
   "cell_type": "code",
   "execution_count": 22,
   "metadata": {},
   "outputs": [],
   "source": [
    "#engine\n",
    "df['new_price_num'] = df['new_price'].str.replace('\\s(.*)','', regex=True)\n",
    "df['new_price_num'] = df['new_price_num'].fillna(0).astype(float)"
   ]
  },
  {
   "cell_type": "code",
   "execution_count": 23,
   "metadata": {},
   "outputs": [
    {
     "name": "stdout",
     "output_type": "stream",
     "text": [
      "car_id                  int64\n",
      "name                   object\n",
      "location               object\n",
      "year                    int64\n",
      "kilometers_driven       int64\n",
      "fuel_type              object\n",
      "transmission           object\n",
      "owner_type             object\n",
      "mileage                object\n",
      "engine                 object\n",
      "power                  object\n",
      "seats                 float64\n",
      "new_price              object\n",
      "price                 float64\n",
      "owner_type_cat       category\n",
      "mileage_num           float64\n",
      "engine_num            float64\n",
      "power_num             float64\n",
      "new_price_num         float64\n",
      "dtype: object\n"
     ]
    },
    {
     "data": {
      "text/html": [
       "<div>\n",
       "<style scoped>\n",
       "    .dataframe tbody tr th:only-of-type {\n",
       "        vertical-align: middle;\n",
       "    }\n",
       "\n",
       "    .dataframe tbody tr th {\n",
       "        vertical-align: top;\n",
       "    }\n",
       "\n",
       "    .dataframe thead th {\n",
       "        text-align: right;\n",
       "    }\n",
       "</style>\n",
       "<table border=\"1\" class=\"dataframe\">\n",
       "  <thead>\n",
       "    <tr style=\"text-align: right;\">\n",
       "      <th></th>\n",
       "      <th>car_id</th>\n",
       "      <th>name</th>\n",
       "      <th>location</th>\n",
       "      <th>year</th>\n",
       "      <th>...</th>\n",
       "      <th>mileage_num</th>\n",
       "      <th>engine_num</th>\n",
       "      <th>power_num</th>\n",
       "      <th>new_price_num</th>\n",
       "    </tr>\n",
       "  </thead>\n",
       "  <tbody>\n",
       "    <tr>\n",
       "      <th>0</th>\n",
       "      <td>0</td>\n",
       "      <td>Maruti Wagon R LXI CNG</td>\n",
       "      <td>Mumbai</td>\n",
       "      <td>2010</td>\n",
       "      <td>...</td>\n",
       "      <td>26.60</td>\n",
       "      <td>998.0</td>\n",
       "      <td>58.16</td>\n",
       "      <td>0.00</td>\n",
       "    </tr>\n",
       "    <tr>\n",
       "      <th>10</th>\n",
       "      <td>10</td>\n",
       "      <td>Maruti Ciaz Zeta</td>\n",
       "      <td>Kochi</td>\n",
       "      <td>2018</td>\n",
       "      <td>...</td>\n",
       "      <td>21.56</td>\n",
       "      <td>1462.0</td>\n",
       "      <td>103.25</td>\n",
       "      <td>10.65</td>\n",
       "    </tr>\n",
       "    <tr>\n",
       "      <th>20</th>\n",
       "      <td>20</td>\n",
       "      <td>BMW 3 Series 320d</td>\n",
       "      <td>Kochi</td>\n",
       "      <td>2014</td>\n",
       "      <td>...</td>\n",
       "      <td>22.69</td>\n",
       "      <td>1995.0</td>\n",
       "      <td>190.00</td>\n",
       "      <td>47.87</td>\n",
       "    </tr>\n",
       "    <tr>\n",
       "      <th>30</th>\n",
       "      <td>30</td>\n",
       "      <td>Renault Duster 110PS Diesel RxZ Pack</td>\n",
       "      <td>Bangalore</td>\n",
       "      <td>2013</td>\n",
       "      <td>...</td>\n",
       "      <td>19.01</td>\n",
       "      <td>1461.0</td>\n",
       "      <td>108.45</td>\n",
       "      <td>0.00</td>\n",
       "    </tr>\n",
       "    <tr>\n",
       "      <th>40</th>\n",
       "      <td>40</td>\n",
       "      <td>Maruti Alto LXi</td>\n",
       "      <td>Delhi</td>\n",
       "      <td>2008</td>\n",
       "      <td>...</td>\n",
       "      <td>19.70</td>\n",
       "      <td>796.0</td>\n",
       "      <td>46.30</td>\n",
       "      <td>0.00</td>\n",
       "    </tr>\n",
       "    <tr>\n",
       "      <th>...</th>\n",
       "      <td>...</td>\n",
       "      <td>...</td>\n",
       "      <td>...</td>\n",
       "      <td>...</td>\n",
       "      <td>...</td>\n",
       "      <td>...</td>\n",
       "      <td>...</td>\n",
       "      <td>...</td>\n",
       "      <td>...</td>\n",
       "    </tr>\n",
       "    <tr>\n",
       "      <th>5970</th>\n",
       "      <td>5970</td>\n",
       "      <td>Mercedes-Benz GLA Class 200 Sport</td>\n",
       "      <td>Kochi</td>\n",
       "      <td>2018</td>\n",
       "      <td>...</td>\n",
       "      <td>13.70</td>\n",
       "      <td>1991.0</td>\n",
       "      <td>183.00</td>\n",
       "      <td>39.22</td>\n",
       "    </tr>\n",
       "    <tr>\n",
       "      <th>5980</th>\n",
       "      <td>5980</td>\n",
       "      <td>Hyundai i20 2015-2017 Magna</td>\n",
       "      <td>Pune</td>\n",
       "      <td>2010</td>\n",
       "      <td>...</td>\n",
       "      <td>18.50</td>\n",
       "      <td>1197.0</td>\n",
       "      <td>80.00</td>\n",
       "      <td>0.00</td>\n",
       "    </tr>\n",
       "    <tr>\n",
       "      <th>5990</th>\n",
       "      <td>5990</td>\n",
       "      <td>Tata New Safari DICOR 2.2 VX 4x2</td>\n",
       "      <td>Pune</td>\n",
       "      <td>2008</td>\n",
       "      <td>...</td>\n",
       "      <td>13.93</td>\n",
       "      <td>2179.0</td>\n",
       "      <td>138.00</td>\n",
       "      <td>0.00</td>\n",
       "    </tr>\n",
       "    <tr>\n",
       "      <th>6000</th>\n",
       "      <td>6000</td>\n",
       "      <td>Hyundai i20 Sportz 1.2</td>\n",
       "      <td>Bangalore</td>\n",
       "      <td>2014</td>\n",
       "      <td>...</td>\n",
       "      <td>18.50</td>\n",
       "      <td>1197.0</td>\n",
       "      <td>82.85</td>\n",
       "      <td>0.00</td>\n",
       "    </tr>\n",
       "    <tr>\n",
       "      <th>6010</th>\n",
       "      <td>6010</td>\n",
       "      <td>Honda Brio 1.2 VX MT</td>\n",
       "      <td>Delhi</td>\n",
       "      <td>2013</td>\n",
       "      <td>...</td>\n",
       "      <td>18.50</td>\n",
       "      <td>1198.0</td>\n",
       "      <td>86.80</td>\n",
       "      <td>6.63</td>\n",
       "    </tr>\n",
       "  </tbody>\n",
       "</table>\n",
       "<p>602 rows × 19 columns</p>\n",
       "</div>"
      ],
      "text/plain": [
       "      car_id                                  name   location  year  ...  \\\n",
       "0          0                Maruti Wagon R LXI CNG     Mumbai  2010  ...   \n",
       "10        10                      Maruti Ciaz Zeta      Kochi  2018  ...   \n",
       "20        20                     BMW 3 Series 320d      Kochi  2014  ...   \n",
       "30        30  Renault Duster 110PS Diesel RxZ Pack  Bangalore  2013  ...   \n",
       "40        40                       Maruti Alto LXi      Delhi  2008  ...   \n",
       "...      ...                                   ...        ...   ...  ...   \n",
       "5970    5970     Mercedes-Benz GLA Class 200 Sport      Kochi  2018  ...   \n",
       "5980    5980           Hyundai i20 2015-2017 Magna       Pune  2010  ...   \n",
       "5990    5990      Tata New Safari DICOR 2.2 VX 4x2       Pune  2008  ...   \n",
       "6000    6000                Hyundai i20 Sportz 1.2  Bangalore  2014  ...   \n",
       "6010    6010                  Honda Brio 1.2 VX MT      Delhi  2013  ...   \n",
       "\n",
       "      mileage_num engine_num power_num new_price_num  \n",
       "0           26.60      998.0     58.16          0.00  \n",
       "10          21.56     1462.0    103.25         10.65  \n",
       "20          22.69     1995.0    190.00         47.87  \n",
       "30          19.01     1461.0    108.45          0.00  \n",
       "40          19.70      796.0     46.30          0.00  \n",
       "...           ...        ...       ...           ...  \n",
       "5970        13.70     1991.0    183.00         39.22  \n",
       "5980        18.50     1197.0     80.00          0.00  \n",
       "5990        13.93     2179.0    138.00          0.00  \n",
       "6000        18.50     1197.0     82.85          0.00  \n",
       "6010        18.50     1198.0     86.80          6.63  \n",
       "\n",
       "[602 rows x 19 columns]"
      ]
     },
     "execution_count": 23,
     "metadata": {},
     "output_type": "execute_result"
    }
   ],
   "source": [
    "#review preprocessed dataset \n",
    "print(df.dtypes)\n",
    "#preview with cat columns\n",
    "df.loc[::10]"
   ]
  },
  {
   "cell_type": "code",
   "execution_count": 24,
   "metadata": {},
   "outputs": [],
   "source": [
    "##df[dep_var] = np.log(df[dep_var])\n",
    "dep_var = 'price'"
   ]
  },
  {
   "cell_type": "code",
   "execution_count": 25,
   "metadata": {},
   "outputs": [
    {
     "name": "stdout",
     "output_type": "stream",
     "text": [
      "(6019, 19)\n"
     ]
    },
    {
     "data": {
      "text/html": [
       "<div>\n",
       "<style scoped>\n",
       "    .dataframe tbody tr th:only-of-type {\n",
       "        vertical-align: middle;\n",
       "    }\n",
       "\n",
       "    .dataframe tbody tr th {\n",
       "        vertical-align: top;\n",
       "    }\n",
       "\n",
       "    .dataframe thead th {\n",
       "        text-align: right;\n",
       "    }\n",
       "</style>\n",
       "<table border=\"1\" class=\"dataframe\">\n",
       "  <thead>\n",
       "    <tr style=\"text-align: right;\">\n",
       "      <th></th>\n",
       "      <th>car_id</th>\n",
       "      <th>name</th>\n",
       "      <th>location</th>\n",
       "      <th>year</th>\n",
       "      <th>...</th>\n",
       "      <th>mileage_num</th>\n",
       "      <th>engine_num</th>\n",
       "      <th>power_num</th>\n",
       "      <th>new_price_num</th>\n",
       "    </tr>\n",
       "  </thead>\n",
       "  <tbody>\n",
       "    <tr>\n",
       "      <th>0</th>\n",
       "      <td>0</td>\n",
       "      <td>Maruti Wagon R LXI CNG</td>\n",
       "      <td>Mumbai</td>\n",
       "      <td>2010</td>\n",
       "      <td>...</td>\n",
       "      <td>26.60</td>\n",
       "      <td>998.0</td>\n",
       "      <td>58.16</td>\n",
       "      <td>0.00</td>\n",
       "    </tr>\n",
       "    <tr>\n",
       "      <th>1</th>\n",
       "      <td>1</td>\n",
       "      <td>Hyundai Creta 1.6 CRDi SX Option</td>\n",
       "      <td>Pune</td>\n",
       "      <td>2015</td>\n",
       "      <td>...</td>\n",
       "      <td>19.67</td>\n",
       "      <td>1582.0</td>\n",
       "      <td>126.20</td>\n",
       "      <td>0.00</td>\n",
       "    </tr>\n",
       "    <tr>\n",
       "      <th>2</th>\n",
       "      <td>2</td>\n",
       "      <td>Honda Jazz V</td>\n",
       "      <td>Chennai</td>\n",
       "      <td>2011</td>\n",
       "      <td>...</td>\n",
       "      <td>18.20</td>\n",
       "      <td>1199.0</td>\n",
       "      <td>88.70</td>\n",
       "      <td>8.61</td>\n",
       "    </tr>\n",
       "    <tr>\n",
       "      <th>3</th>\n",
       "      <td>3</td>\n",
       "      <td>Maruti Ertiga VDI</td>\n",
       "      <td>Chennai</td>\n",
       "      <td>2012</td>\n",
       "      <td>...</td>\n",
       "      <td>20.77</td>\n",
       "      <td>1248.0</td>\n",
       "      <td>88.76</td>\n",
       "      <td>0.00</td>\n",
       "    </tr>\n",
       "    <tr>\n",
       "      <th>4</th>\n",
       "      <td>4</td>\n",
       "      <td>Audi A4 New 2.0 TDI Multitronic</td>\n",
       "      <td>Coimbatore</td>\n",
       "      <td>2013</td>\n",
       "      <td>...</td>\n",
       "      <td>15.20</td>\n",
       "      <td>1968.0</td>\n",
       "      <td>140.80</td>\n",
       "      <td>0.00</td>\n",
       "    </tr>\n",
       "  </tbody>\n",
       "</table>\n",
       "<p>5 rows × 19 columns</p>\n",
       "</div>"
      ],
      "text/plain": [
       "   car_id                              name    location  year  ...  \\\n",
       "0       0            Maruti Wagon R LXI CNG      Mumbai  2010  ...   \n",
       "1       1  Hyundai Creta 1.6 CRDi SX Option        Pune  2015  ...   \n",
       "2       2                      Honda Jazz V     Chennai  2011  ...   \n",
       "3       3                 Maruti Ertiga VDI     Chennai  2012  ...   \n",
       "4       4   Audi A4 New 2.0 TDI Multitronic  Coimbatore  2013  ...   \n",
       "\n",
       "   mileage_num engine_num power_num new_price_num  \n",
       "0        26.60      998.0     58.16          0.00  \n",
       "1        19.67     1582.0    126.20          0.00  \n",
       "2        18.20     1199.0     88.70          8.61  \n",
       "3        20.77     1248.0     88.76          0.00  \n",
       "4        15.20     1968.0    140.80          0.00  \n",
       "\n",
       "[5 rows x 19 columns]"
      ]
     },
     "execution_count": 25,
     "metadata": {},
     "output_type": "execute_result"
    }
   ],
   "source": [
    "print(df.shape)\n",
    "df.head()"
   ]
  },
  {
   "cell_type": "markdown",
   "metadata": {},
   "source": [
    "## 1.  Model\n",
    "### 1.1 Decision Trees\n",
    "A decision tree asks a series of binary questions about the data. After each question the data at that part of the tree is split between a \"yes\" and a \"no\" branch. After one or more questions, either a prediction can be made on the basis of all previous answers or another question is required.\n"
   ]
  },
  {
   "cell_type": "markdown",
   "metadata": {},
   "source": [
    "#### Handling Dates\n",
    "No dates here. But if there were, for data preparation we need to enrich our representation of dates. "
   ]
  },
  {
   "cell_type": "code",
   "execution_count": 26,
   "metadata": {},
   "outputs": [
    {
     "data": {
      "text/plain": [
       "array([1998, 1999, 2000, 2001, 2002, 2003, 2004, 2005, 2006, 2007, 2008, 2009, 2010, 2011, 2012, 2013, 2014, 2015, 2016, 2017, 2018, 2019])"
      ]
     },
     "execution_count": 26,
     "metadata": {},
     "output_type": "execute_result"
    }
   ],
   "source": [
    "np.sort(df['year'].unique())"
   ]
  },
  {
   "cell_type": "markdown",
   "metadata": {},
   "source": [
    "### Using TabularPandas and TabularProc\n",
    "Another piece of preparatory processing is to be sure we can handle strings and missing data. Out of the box, sklearn cannot do either. Instead we will use fastai's class `TabularPandas`, which wraps a Pandas DataFrame and provides a few conveniences. To populate a `TabularPandas`, we will use two  `TabularProc`s, `Categorify` and `FillMissing`. A `TabularProc` is like a regular `Transform`, except that:\n",
    "\n",
    "- It returns the exact same object that's passed to it, after modifying the object in place.\n",
    "- It runs the transform once, when data is first passed in, rather than lazily as the data is accessed.\n",
    "\n",
    "`Categorify` is a `TabularProc` that replaces a column with a numeric categorical column. `FillMissing` is a `TabularProc` that replaces missing values with the median of the column, and creates a new Boolean column that is set to `True` for any row where the value was missing. These two transforms are needed for nearly every tabular dataset you will use, so this is a good starting point for your data processing:"
   ]
  },
  {
   "cell_type": "code",
   "execution_count": 27,
   "metadata": {},
   "outputs": [],
   "source": [
    "procs = [Categorify, FillMissing]"
   ]
  },
  {
   "cell_type": "markdown",
   "metadata": {},
   "source": [
    "`TabularPandas` will also handle splitting the dataset into training and validation sets for us. However we need to be very careful about our validation set. We want to design it so that it is like the *test set* Kaggle will use to judge the contest.  \n",
    "\n",
    "In some cases, i.e. with a time series, just randomly choosing a subset of your data points will do that. \n",
    "\n",
    "This is not a time series, therefore can use default random split."
   ]
  },
  {
   "cell_type": "code",
   "execution_count": 28,
   "metadata": {},
   "outputs": [],
   "source": [
    "##cond = (df.Year<2017)\n",
    "##train_idx = np.where( cond)[0]\n",
    "##valid_idx = np.where(~cond)[0]"
   ]
  },
  {
   "cell_type": "code",
   "execution_count": 29,
   "metadata": {},
   "outputs": [
    {
     "name": "stdout",
     "output_type": "stream",
     "text": [
      "6019 4815\n",
      "4815 1204\n"
     ]
    }
   ],
   "source": [
    "#my random split\n",
    "n_size = df.shape[0]\n",
    "n_train_size = int(n_size *.8)\n",
    "print(n_size, n_train_size)\n",
    "\n",
    "idx = np.arange(n_size)\n",
    "np.random.shuffle(idx)\n",
    "train_idx, valid_idx = idx[:n_train_size], idx[n_train_size:]\n",
    "print(len(train_idx), len(valid_idx))\n",
    "\n",
    "splits = (list(train_idx),list(valid_idx))\n"
   ]
  },
  {
   "cell_type": "markdown",
   "metadata": {},
   "source": [
    "`TabularPandas` needs to be told which columns are continuous and which are categorical. We can handle that automatically using the helper function `cont_cat_split`:"
   ]
  },
  {
   "cell_type": "code",
   "execution_count": 30,
   "metadata": {},
   "outputs": [
    {
     "data": {
      "text/plain": [
       "(['car_id',\n",
       "  'year',\n",
       "  'kilometers_driven',\n",
       "  'seats',\n",
       "  'mileage_num',\n",
       "  'engine_num',\n",
       "  'power_num',\n",
       "  'new_price_num'],\n",
       " ['name',\n",
       "  'location',\n",
       "  'fuel_type',\n",
       "  'transmission',\n",
       "  'owner_type',\n",
       "  'mileage',\n",
       "  'engine',\n",
       "  'power',\n",
       "  'new_price',\n",
       "  'owner_type_cat'])"
      ]
     },
     "execution_count": 30,
     "metadata": {},
     "output_type": "execute_result"
    }
   ],
   "source": [
    "cont,cat = cont_cat_split(df, 1, dep_var=dep_var)\n",
    "#mycheck\n",
    "cont, cat"
   ]
  },
  {
   "cell_type": "code",
   "execution_count": 31,
   "metadata": {},
   "outputs": [
    {
     "data": {
      "text/plain": [
       "(4815, 1204)"
      ]
     },
     "execution_count": 31,
     "metadata": {},
     "output_type": "execute_result"
    }
   ],
   "source": [
    "#my\n",
    "to = TabularPandas(df, procs, cat, cont, y_names=dep_var, splits=splits) #class fastai.tabular.core.TabularPandas\n",
    "len(to.train),len(to.valid)"
   ]
  },
  {
   "cell_type": "code",
   "execution_count": 32,
   "metadata": {},
   "outputs": [
    {
     "data": {
      "text/html": [
       "<table border=\"1\" class=\"dataframe\">\n",
       "  <thead>\n",
       "    <tr style=\"text-align: right;\">\n",
       "      <th></th>\n",
       "      <th>name</th>\n",
       "      <th>location</th>\n",
       "      <th>fuel_type</th>\n",
       "      <th>transmission</th>\n",
       "      <th>owner_type</th>\n",
       "      <th>mileage</th>\n",
       "      <th>engine</th>\n",
       "      <th>power</th>\n",
       "      <th>new_price</th>\n",
       "      <th>owner_type_cat</th>\n",
       "      <th>car_id</th>\n",
       "      <th>year</th>\n",
       "      <th>kilometers_driven</th>\n",
       "      <th>seats</th>\n",
       "      <th>mileage_num</th>\n",
       "      <th>engine_num</th>\n",
       "      <th>power_num</th>\n",
       "      <th>new_price_num</th>\n",
       "      <th>price</th>\n",
       "    </tr>\n",
       "  </thead>\n",
       "  <tbody>\n",
       "    <tr>\n",
       "      <th>2868</th>\n",
       "      <td>Maruti Swift Dzire VDI</td>\n",
       "      <td>Hyderabad</td>\n",
       "      <td>Diesel</td>\n",
       "      <td>Manual</td>\n",
       "      <td>First</td>\n",
       "      <td>23.4 kmpl</td>\n",
       "      <td>1248 CC</td>\n",
       "      <td>74 bhp</td>\n",
       "      <td>#na#</td>\n",
       "      <td>First</td>\n",
       "      <td>2868</td>\n",
       "      <td>2013</td>\n",
       "      <td>69000</td>\n",
       "      <td>5.0</td>\n",
       "      <td>23.4</td>\n",
       "      <td>1248.0</td>\n",
       "      <td>74.0</td>\n",
       "      <td>0.0</td>\n",
       "      <td>5.75</td>\n",
       "    </tr>\n",
       "    <tr>\n",
       "      <th>5924</th>\n",
       "      <td>Mahindra Scorpio 1.99 S4 Plus</td>\n",
       "      <td>Kochi</td>\n",
       "      <td>Diesel</td>\n",
       "      <td>Manual</td>\n",
       "      <td>First</td>\n",
       "      <td>15.4 kmpl</td>\n",
       "      <td>1997 CC</td>\n",
       "      <td>120 bhp</td>\n",
       "      <td>#na#</td>\n",
       "      <td>First</td>\n",
       "      <td>5924</td>\n",
       "      <td>2017</td>\n",
       "      <td>26741</td>\n",
       "      <td>7.0</td>\n",
       "      <td>15.4</td>\n",
       "      <td>1997.0</td>\n",
       "      <td>120.0</td>\n",
       "      <td>0.0</td>\n",
       "      <td>10.08</td>\n",
       "    </tr>\n",
       "    <tr>\n",
       "      <th>3764</th>\n",
       "      <td>Mahindra XUV500 W8 2WD</td>\n",
       "      <td>Delhi</td>\n",
       "      <td>Diesel</td>\n",
       "      <td>Manual</td>\n",
       "      <td>First</td>\n",
       "      <td>15.1 kmpl</td>\n",
       "      <td>2179 CC</td>\n",
       "      <td>140 bhp</td>\n",
       "      <td>#na#</td>\n",
       "      <td>First</td>\n",
       "      <td>3764</td>\n",
       "      <td>2014</td>\n",
       "      <td>86000</td>\n",
       "      <td>7.0</td>\n",
       "      <td>15.1</td>\n",
       "      <td>2179.0</td>\n",
       "      <td>140.0</td>\n",
       "      <td>0.0</td>\n",
       "      <td>7.85</td>\n",
       "    </tr>\n",
       "  </tbody>\n",
       "</table>"
      ],
      "text/plain": [
       "<IPython.core.display.HTML object>"
      ]
     },
     "metadata": {},
     "output_type": "display_data"
    }
   ],
   "source": [
    "to.show(3)"
   ]
  },
  {
   "cell_type": "code",
   "execution_count": 33,
   "metadata": {},
   "outputs": [
    {
     "data": {
      "text/html": [
       "<div>\n",
       "<style scoped>\n",
       "    .dataframe tbody tr th:only-of-type {\n",
       "        vertical-align: middle;\n",
       "    }\n",
       "\n",
       "    .dataframe tbody tr th {\n",
       "        vertical-align: top;\n",
       "    }\n",
       "\n",
       "    .dataframe thead th {\n",
       "        text-align: right;\n",
       "    }\n",
       "</style>\n",
       "<table border=\"1\" class=\"dataframe\">\n",
       "  <thead>\n",
       "    <tr style=\"text-align: right;\">\n",
       "      <th></th>\n",
       "      <th>car_id</th>\n",
       "      <th>name</th>\n",
       "      <th>location</th>\n",
       "      <th>year</th>\n",
       "      <th>...</th>\n",
       "      <th>mileage_num</th>\n",
       "      <th>engine_num</th>\n",
       "      <th>power_num</th>\n",
       "      <th>new_price_num</th>\n",
       "    </tr>\n",
       "  </thead>\n",
       "  <tbody>\n",
       "    <tr>\n",
       "      <th>2868</th>\n",
       "      <td>2868</td>\n",
       "      <td>1136</td>\n",
       "      <td>6</td>\n",
       "      <td>2013</td>\n",
       "      <td>...</td>\n",
       "      <td>23.4</td>\n",
       "      <td>1248.0</td>\n",
       "      <td>74.0</td>\n",
       "      <td>0.0</td>\n",
       "    </tr>\n",
       "    <tr>\n",
       "      <th>5924</th>\n",
       "      <td>5924</td>\n",
       "      <td>865</td>\n",
       "      <td>8</td>\n",
       "      <td>2017</td>\n",
       "      <td>...</td>\n",
       "      <td>15.4</td>\n",
       "      <td>1997.0</td>\n",
       "      <td>120.0</td>\n",
       "      <td>0.0</td>\n",
       "    </tr>\n",
       "    <tr>\n",
       "      <th>3764</th>\n",
       "      <td>3764</td>\n",
       "      <td>925</td>\n",
       "      <td>5</td>\n",
       "      <td>2014</td>\n",
       "      <td>...</td>\n",
       "      <td>15.1</td>\n",
       "      <td>2179.0</td>\n",
       "      <td>140.0</td>\n",
       "      <td>0.0</td>\n",
       "    </tr>\n",
       "  </tbody>\n",
       "</table>\n",
       "<p>3 rows × 19 columns</p>\n",
       "</div>"
      ],
      "text/plain": [
       "      car_id  name  location  year  ...  mileage_num  engine_num  power_num  \\\n",
       "2868    2868  1136         6  2013  ...         23.4      1248.0       74.0   \n",
       "5924    5924   865         8  2017  ...         15.4      1997.0      120.0   \n",
       "3764    3764   925         5  2014  ...         15.1      2179.0      140.0   \n",
       "\n",
       "      new_price_num  \n",
       "2868            0.0  \n",
       "5924            0.0  \n",
       "3764            0.0  \n",
       "\n",
       "[3 rows x 19 columns]"
      ]
     },
     "execution_count": 33,
     "metadata": {},
     "output_type": "execute_result"
    }
   ],
   "source": [
    "to.items.head(3)"
   ]
  },
  {
   "cell_type": "code",
   "execution_count": 34,
   "metadata": {},
   "outputs": [
    {
     "data": {
      "text/plain": [
       "(#5) ['#na#','First','Second','Third','Fourth & Above']"
      ]
     },
     "execution_count": 34,
     "metadata": {},
     "output_type": "execute_result"
    }
   ],
   "source": [
    "to.classes['owner_type_cat']"
   ]
  },
  {
   "cell_type": "code",
   "execution_count": 35,
   "metadata": {},
   "outputs": [],
   "source": [
    "#done preprocessing, save\n",
    "(path/'to.pkl').save(to)"
   ]
  },
  {
   "cell_type": "markdown",
   "metadata": {},
   "source": [
    "### Creating the Decision Tree"
   ]
  },
  {
   "cell_type": "code",
   "execution_count": 36,
   "metadata": {},
   "outputs": [],
   "source": [
    "#hide\n",
    "to = (path/'to.pkl').load()"
   ]
  },
  {
   "cell_type": "code",
   "execution_count": 37,
   "metadata": {},
   "outputs": [],
   "source": [
    "xs,y = to.train.xs,to.train.y\n",
    "valid_xs,valid_y = to.valid.xs,to.valid.y"
   ]
  },
  {
   "cell_type": "code",
   "execution_count": 38,
   "metadata": {},
   "outputs": [
    {
     "data": {
      "text/plain": [
       "(4815, 18)"
      ]
     },
     "execution_count": 38,
     "metadata": {},
     "output_type": "execute_result"
    }
   ],
   "source": [
    "xs.shape"
   ]
  },
  {
   "cell_type": "code",
   "execution_count": 39,
   "metadata": {},
   "outputs": [],
   "source": [
    "m = DecisionTreeRegressor(max_leaf_nodes=4)\n",
    "m.fit(xs, y);"
   ]
  },
  {
   "cell_type": "code",
   "execution_count": 40,
   "metadata": {},
   "outputs": [],
   "source": [
    "#original - partial diagram, can't see full tree\n",
    "#draw_tree(m, xs, size=7, leaves_parallel=True, precision=2)"
   ]
  },
  {
   "cell_type": "code",
   "execution_count": 41,
   "metadata": {},
   "outputs": [
    {
     "data": {
      "image/svg+xml": [
       "<?xml version=\"1.0\" encoding=\"UTF-8\" standalone=\"no\"?>\n",
       "<!DOCTYPE svg PUBLIC \"-//W3C//DTD SVG 1.1//EN\"\n",
       " \"http://www.w3.org/Graphics/SVG/1.1/DTD/svg11.dtd\">\n",
       "<!-- Generated by graphviz version 2.42.3 (20191010.1750)\n",
       " -->\n",
       "<!-- Title: Tree Pages: 1 -->\n",
       "<svg width=\"629pt\" height=\"381pt\"\n",
       " viewBox=\"0.00 0.00 628.64 380.50\" xmlns=\"http://www.w3.org/2000/svg\" xmlns:xlink=\"http://www.w3.org/1999/xlink\">\n",
       "<g id=\"graph0\" class=\"graph\" transform=\"scale(1 1) rotate(0) translate(4 376.5)\">\n",
       "<title>Tree</title>\n",
       "<polygon fill=\"white\" stroke=\"transparent\" points=\"-4,4 -4,-376.5 624.64,-376.5 624.64,4 -4,4\"/>\n",
       "<!-- 0 -->\n",
       "<g id=\"node1\" class=\"node\">\n",
       "<title>0</title>\n",
       "<path fill=\"#fcf2eb\" stroke=\"black\" d=\"M214.56,-373C214.56,-373 93.56,-373 93.56,-373 87.56,-373 81.56,-367 81.56,-361 81.56,-361 81.56,-317 81.56,-317 81.56,-311 87.56,-305 93.56,-305 93.56,-305 214.56,-305 214.56,-305 220.56,-305 226.56,-311 226.56,-317 226.56,-317 226.56,-361 226.56,-361 226.56,-367 220.56,-373 214.56,-373\"/>\n",
       "<text text-anchor=\"start\" x=\"89.56\" y=\"-357.8\" font-family=\"Helvetica,sans-Serif\" font-size=\"14.00\">power_num ≤ 164.85</text>\n",
       "<text text-anchor=\"start\" x=\"112.06\" y=\"-342.8\" font-family=\"Helvetica,sans-Serif\" font-size=\"14.00\">mse = 122.55</text>\n",
       "<text text-anchor=\"start\" x=\"105.56\" y=\"-327.8\" font-family=\"Helvetica,sans-Serif\" font-size=\"14.00\">samples = 4815</text>\n",
       "<text text-anchor=\"start\" x=\"116.56\" y=\"-312.8\" font-family=\"Helvetica,sans-Serif\" font-size=\"14.00\">value = 9.43</text>\n",
       "</g>\n",
       "<!-- 1 -->\n",
       "<g id=\"node2\" class=\"node\">\n",
       "<title>1</title>\n",
       "<path fill=\"#ffffff\" stroke=\"black\" d=\"M116.56,-52.5C116.56,-52.5 27.56,-52.5 27.56,-52.5 21.56,-52.5 15.56,-46.5 15.56,-40.5 15.56,-40.5 15.56,-11.5 15.56,-11.5 15.56,-5.5 21.56,0.5 27.56,0.5 27.56,0.5 116.56,0.5 116.56,0.5 122.56,0.5 128.56,-5.5 128.56,-11.5 128.56,-11.5 128.56,-40.5 128.56,-40.5 128.56,-46.5 122.56,-52.5 116.56,-52.5\"/>\n",
       "<text text-anchor=\"start\" x=\"34.06\" y=\"-37.3\" font-family=\"Helvetica,sans-Serif\" font-size=\"14.00\">mse = 18.59</text>\n",
       "<text text-anchor=\"start\" x=\"23.56\" y=\"-22.3\" font-family=\"Helvetica,sans-Serif\" font-size=\"14.00\">samples = 3957</text>\n",
       "<text text-anchor=\"start\" x=\"34.56\" y=\"-7.3\" font-family=\"Helvetica,sans-Serif\" font-size=\"14.00\">value = 5.77</text>\n",
       "</g>\n",
       "<!-- 0&#45;&gt;1 -->\n",
       "<g id=\"edge1\" class=\"edge\">\n",
       "<title>0&#45;&gt;1</title>\n",
       "<path fill=\"none\" stroke=\"black\" d=\"M145.29,-304.72C129.74,-245.76 97.5,-123.49 81.5,-62.79\"/>\n",
       "<polygon fill=\"black\" stroke=\"black\" points=\"84.82,-61.67 78.89,-52.9 78.06,-63.46 84.82,-61.67\"/>\n",
       "<text text-anchor=\"middle\" x=\"66.3\" y=\"-70.8\" font-family=\"Helvetica,sans-Serif\" font-size=\"14.00\">True</text>\n",
       "</g>\n",
       "<!-- 2 -->\n",
       "<g id=\"node3\" class=\"node\">\n",
       "<title>2</title>\n",
       "<path fill=\"#f0b78e\" stroke=\"black\" d=\"M371.56,-269C371.56,-269 258.56,-269 258.56,-269 252.56,-269 246.56,-263 246.56,-257 246.56,-257 246.56,-213 246.56,-213 246.56,-207 252.56,-201 258.56,-201 258.56,-201 371.56,-201 371.56,-201 377.56,-201 383.56,-207 383.56,-213 383.56,-213 383.56,-257 383.56,-257 383.56,-263 377.56,-269 371.56,-269\"/>\n",
       "<text text-anchor=\"start\" x=\"254.56\" y=\"-253.8\" font-family=\"Helvetica,sans-Serif\" font-size=\"14.00\">power_num ≤ 235.5</text>\n",
       "<text text-anchor=\"start\" x=\"273.06\" y=\"-238.8\" font-family=\"Helvetica,sans-Serif\" font-size=\"14.00\">mse = 255.52</text>\n",
       "<text text-anchor=\"start\" x=\"270.06\" y=\"-223.8\" font-family=\"Helvetica,sans-Serif\" font-size=\"14.00\">samples = 858</text>\n",
       "<text text-anchor=\"start\" x=\"277.56\" y=\"-208.8\" font-family=\"Helvetica,sans-Serif\" font-size=\"14.00\">value = 26.3</text>\n",
       "</g>\n",
       "<!-- 0&#45;&gt;2 -->\n",
       "<g id=\"edge2\" class=\"edge\">\n",
       "<title>0&#45;&gt;2</title>\n",
       "<path fill=\"none\" stroke=\"black\" d=\"M206.33,-304.88C221.6,-295.21 238.41,-284.56 254.15,-274.59\"/>\n",
       "<polygon fill=\"black\" stroke=\"black\" points=\"256.2,-277.43 262.78,-269.12 252.46,-271.52 256.2,-277.43\"/>\n",
       "<text text-anchor=\"middle\" x=\"257.3\" y=\"-289.82\" font-family=\"Helvetica,sans-Serif\" font-size=\"14.00\">False</text>\n",
       "</g>\n",
       "<!-- 3 -->\n",
       "<g id=\"node4\" class=\"node\">\n",
       "<title>3</title>\n",
       "<path fill=\"#f3c6a6\" stroke=\"black\" d=\"M356.06,-165C356.06,-165 274.06,-165 274.06,-165 268.06,-165 262.06,-159 262.06,-153 262.06,-153 262.06,-109 262.06,-109 262.06,-103 268.06,-97 274.06,-97 274.06,-97 356.06,-97 356.06,-97 362.06,-97 368.06,-103 368.06,-109 368.06,-109 368.06,-153 368.06,-153 368.06,-159 362.06,-165 356.06,-165\"/>\n",
       "<text text-anchor=\"start\" x=\"273.06\" y=\"-149.8\" font-family=\"Helvetica,sans-Serif\" font-size=\"14.00\">year ≤ 2013.5</text>\n",
       "<text text-anchor=\"start\" x=\"273.06\" y=\"-134.8\" font-family=\"Helvetica,sans-Serif\" font-size=\"14.00\">mse = 120.32</text>\n",
       "<text text-anchor=\"start\" x=\"270.06\" y=\"-119.8\" font-family=\"Helvetica,sans-Serif\" font-size=\"14.00\">samples = 675</text>\n",
       "<text text-anchor=\"start\" x=\"274.06\" y=\"-104.8\" font-family=\"Helvetica,sans-Serif\" font-size=\"14.00\">value = 22.08</text>\n",
       "</g>\n",
       "<!-- 2&#45;&gt;3 -->\n",
       "<g id=\"edge3\" class=\"edge\">\n",
       "<title>2&#45;&gt;3</title>\n",
       "<path fill=\"none\" stroke=\"black\" d=\"M315.06,-200.88C315.06,-192.78 315.06,-183.98 315.06,-175.47\"/>\n",
       "<polygon fill=\"black\" stroke=\"black\" points=\"318.56,-175.3 315.06,-165.3 311.56,-175.3 318.56,-175.3\"/>\n",
       "</g>\n",
       "<!-- 4 -->\n",
       "<g id=\"node7\" class=\"node\">\n",
       "<title>4</title>\n",
       "<path fill=\"#e58139\" stroke=\"black\" d=\"M594.06,-52.5C594.06,-52.5 512.06,-52.5 512.06,-52.5 506.06,-52.5 500.06,-46.5 500.06,-40.5 500.06,-40.5 500.06,-11.5 500.06,-11.5 500.06,-5.5 506.06,0.5 512.06,0.5 512.06,0.5 594.06,0.5 594.06,0.5 600.06,0.5 606.06,-5.5 606.06,-11.5 606.06,-11.5 606.06,-40.5 606.06,-40.5 606.06,-46.5 600.06,-52.5 594.06,-52.5\"/>\n",
       "<text text-anchor=\"start\" x=\"511.06\" y=\"-37.3\" font-family=\"Helvetica,sans-Serif\" font-size=\"14.00\">mse = 445.06</text>\n",
       "<text text-anchor=\"start\" x=\"508.06\" y=\"-22.3\" font-family=\"Helvetica,sans-Serif\" font-size=\"14.00\">samples = 183</text>\n",
       "<text text-anchor=\"start\" x=\"515.56\" y=\"-7.3\" font-family=\"Helvetica,sans-Serif\" font-size=\"14.00\">value = 41.9</text>\n",
       "</g>\n",
       "<!-- 2&#45;&gt;4 -->\n",
       "<g id=\"edge6\" class=\"edge\">\n",
       "<title>2&#45;&gt;4</title>\n",
       "<path fill=\"none\" stroke=\"black\" d=\"M353.04,-200.97C397.73,-162.1 471.46,-97.97 515.83,-59.38\"/>\n",
       "<polygon fill=\"black\" stroke=\"black\" points=\"518.24,-61.92 523.49,-52.72 513.65,-56.64 518.24,-61.92\"/>\n",
       "</g>\n",
       "<!-- 5 -->\n",
       "<g id=\"node5\" class=\"node\">\n",
       "<title>5</title>\n",
       "<path fill=\"#f9e1d0\" stroke=\"black\" d=\"M277.06,-52.5C277.06,-52.5 195.06,-52.5 195.06,-52.5 189.06,-52.5 183.06,-46.5 183.06,-40.5 183.06,-40.5 183.06,-11.5 183.06,-11.5 183.06,-5.5 189.06,0.5 195.06,0.5 195.06,0.5 277.06,0.5 277.06,0.5 283.06,0.5 289.06,-5.5 289.06,-11.5 289.06,-11.5 289.06,-40.5 289.06,-40.5 289.06,-46.5 283.06,-52.5 277.06,-52.5\"/>\n",
       "<text text-anchor=\"start\" x=\"198.06\" y=\"-37.3\" font-family=\"Helvetica,sans-Serif\" font-size=\"14.00\">mse = 39.42</text>\n",
       "<text text-anchor=\"start\" x=\"191.06\" y=\"-22.3\" font-family=\"Helvetica,sans-Serif\" font-size=\"14.00\">samples = 293</text>\n",
       "<text text-anchor=\"start\" x=\"195.06\" y=\"-7.3\" font-family=\"Helvetica,sans-Serif\" font-size=\"14.00\">value = 14.28</text>\n",
       "</g>\n",
       "<!-- 3&#45;&gt;5 -->\n",
       "<g id=\"edge4\" class=\"edge\">\n",
       "<title>3&#45;&gt;5</title>\n",
       "<path fill=\"none\" stroke=\"black\" d=\"M289.63,-96.84C280.77,-85.3 270.83,-72.33 261.94,-60.74\"/>\n",
       "<polygon fill=\"black\" stroke=\"black\" points=\"264.55,-58.39 255.68,-52.58 258.99,-62.65 264.55,-58.39\"/>\n",
       "</g>\n",
       "<!-- 6 -->\n",
       "<g id=\"node6\" class=\"node\">\n",
       "<title>6</title>\n",
       "<path fill=\"#efb185\" stroke=\"black\" d=\"M435.06,-52.5C435.06,-52.5 353.06,-52.5 353.06,-52.5 347.06,-52.5 341.06,-46.5 341.06,-40.5 341.06,-40.5 341.06,-11.5 341.06,-11.5 341.06,-5.5 347.06,0.5 353.06,0.5 353.06,0.5 435.06,0.5 435.06,0.5 441.06,0.5 447.06,-5.5 447.06,-11.5 447.06,-11.5 447.06,-40.5 447.06,-40.5 447.06,-46.5 441.06,-52.5 435.06,-52.5\"/>\n",
       "<text text-anchor=\"start\" x=\"352.06\" y=\"-37.3\" font-family=\"Helvetica,sans-Serif\" font-size=\"14.00\">mse = 100.05</text>\n",
       "<text text-anchor=\"start\" x=\"349.06\" y=\"-22.3\" font-family=\"Helvetica,sans-Serif\" font-size=\"14.00\">samples = 382</text>\n",
       "<text text-anchor=\"start\" x=\"353.06\" y=\"-7.3\" font-family=\"Helvetica,sans-Serif\" font-size=\"14.00\">value = 28.05</text>\n",
       "</g>\n",
       "<!-- 3&#45;&gt;6 -->\n",
       "<g id=\"edge5\" class=\"edge\">\n",
       "<title>3&#45;&gt;6</title>\n",
       "<path fill=\"none\" stroke=\"black\" d=\"M340.49,-96.84C349.35,-85.3 359.29,-72.33 368.18,-60.74\"/>\n",
       "<polygon fill=\"black\" stroke=\"black\" points=\"371.13,-62.65 374.44,-52.58 365.58,-58.39 371.13,-62.65\"/>\n",
       "</g>\n",
       "</g>\n",
       "</svg>\n"
      ],
      "text/plain": [
       "<graphviz.files.Source at 0x7fd2ab86d7d0>"
      ]
     },
     "execution_count": 41,
     "metadata": {},
     "output_type": "execute_result"
    }
   ],
   "source": [
    "#$myfix\n",
    "#draw_tree??\n",
    "draw_tree(m, xs, size=10, leaves_parallel=True, precision=2)"
   ]
  },
  {
   "cell_type": "code",
   "execution_count": 42,
   "metadata": {},
   "outputs": [],
   "source": [
    "#original - get error dtreeviz() got an unexpected keyword argument 'scale'\n",
    "#samp_idx = np.random.permutation(len(y))[:500]\n",
    "#dtreeviz(m, xs.iloc[samp_idx], y.iloc[samp_idx], xs.columns, dep_var,\n",
    "#        fontname='DejaVu Sans', scale=1.6, label_fontsize=10, orientation='LR')"
   ]
  },
  {
   "cell_type": "code",
   "execution_count": 43,
   "metadata": {},
   "outputs": [
    {
     "data": {
      "image/svg+xml": [
       "<svg xmlns=\"http://www.w3.org/2000/svg\" xmlns:dc=\"http://purl.org/dc/elements/1.1/\" xmlns:ns2=\"http://creativecommons.org/ns#\" xmlns:rdf=\"http://www.w3.org/1999/02/22-rdf-syntax-ns#\" xmlns:xlink=\"http://www.w3.org/1999/xlink\" height=\"185pt\" viewBox=\"0.00 0.00 541.00 185.00\" width=\"541pt\">\n",
       "<g class=\"graph\" id=\"graph0\" transform=\"scale(1 1) rotate(0) translate(4 181)\">\n",
       "<title>G</title>\n",
       "<polygon fill=\"white\" points=\"-4,4 -4,-181 537,-181 537,4 -4,4\" stroke=\"transparent\" />\n",
       "\n",
       "<g class=\"node\" id=\"node1\">\n",
       "<title>node3</title>\n",
       "<svg height=\"66px\" preserveAspectRatio=\"xMinYMin meet\" version=\"1.1\" viewBox=\"0 0 170.67625 88.216625\" width=\"128px\" x=\"324\" y=\"-142\">\n",
       " <metadata>\n",
       "  <rdf:RDF>\n",
       "   <ns2:Work>\n",
       "    <dc:type rdf:resource=\"http://purl.org/dc/dcmitype/StillImage\" />\n",
       "    <dc:date>2020-10-20T23:26:29.350965</dc:date>\n",
       "    <dc:format>image/svg+xml</dc:format>\n",
       "    <dc:creator>\n",
       "     <ns2:Agent>\n",
       "      <dc:title>Matplotlib v3.3.1, https://matplotlib.org/</dc:title>\n",
       "     </ns2:Agent>\n",
       "    </dc:creator>\n",
       "   </ns2:Work>\n",
       "  </rdf:RDF>\n",
       " </metadata>\n",
       " <defs>\n",
       "  <style type=\"text/css\">*{stroke-linecap:butt;stroke-linejoin:round;}</style>\n",
       " </defs>\n",
       " <g id=\"figure_1\">\n",
       "  <g id=\"patch_1\">\n",
       "   <path d=\"M 0 88.216625  L 170.67625 88.216625  L 170.67625 -0  L 0 -0  z \" style=\"fill:none;\" />\n",
       "  </g>\n",
       "  <g id=\"axes_1\">\n",
       "   <g id=\"patch_2\">\n",
       "    <path d=\"M 17.18 59.796  L 156.68 59.796  L 156.68 -0  L 17.18 -0  z \" style=\"fill:#ffffff;\" />\n",
       "   </g>\n",
       "   <g id=\"PathCollection_1\">\n",
       "    <defs>\n",
       "     <path d=\"M 0 1.118034  C 0.296506 1.118034 0.580908 1.000231 0.790569 0.790569  C 1.000231 0.580908 1.118034 0.296506 1.118034 0  C 1.118034 -0.296506 1.000231 -0.580908 0.790569 -0.790569  C 0.580908 -1.000231 0.296506 -1.118034 0 -1.118034  C -0.296506 -1.118034 -0.580908 -1.000231 -0.790569 -0.790569  C -1.000231 -0.580908 -1.118034 -0.296506 -1.118034 0  C -1.118034 0.296506 -1.000231 0.580908 -0.790569 0.790569  C -0.580908 1.000231 -0.296506 1.118034 0 1.118034  z \" id=\"m33c437b2e7\" style=\"stroke:#4575b4;stroke-opacity:0.4;stroke-width:0.3;\" />\n",
       "    </defs>\n",
       "    <g clip-path=\"url(#p5839b32f37)\">\n",
       "     <use style=\"fill:#4575b4;fill-opacity:0.4;stroke:#4575b4;stroke-opacity:0.4;stroke-width:0.3;\" x=\"123.465714\" y=\"46.482393\" xlink:href=\"#m33c437b2e7\" />\n",
       "     <use style=\"fill:#4575b4;fill-opacity:0.4;stroke:#4575b4;stroke-opacity:0.4;stroke-width:0.3;\" x=\"136.751429\" y=\"41.620218\" xlink:href=\"#m33c437b2e7\" />\n",
       "     <use style=\"fill:#4575b4;fill-opacity:0.4;stroke:#4575b4;stroke-opacity:0.4;stroke-width:0.3;\" x=\"156.68\" y=\"38.618634\" xlink:href=\"#m33c437b2e7\" />\n",
       "     <use style=\"fill:#4575b4;fill-opacity:0.4;stroke:#4575b4;stroke-opacity:0.4;stroke-width:0.3;\" x=\"143.394286\" y=\"36.861769\" xlink:href=\"#m33c437b2e7\" />\n",
       "     <use style=\"fill:#4575b4;fill-opacity:0.4;stroke:#4575b4;stroke-opacity:0.4;stroke-width:0.3;\" x=\"110.18\" y=\"50.372133\" xlink:href=\"#m33c437b2e7\" />\n",
       "     <use style=\"fill:#4575b4;fill-opacity:0.4;stroke:#4575b4;stroke-opacity:0.4;stroke-width:0.3;\" x=\"123.465714\" y=\"43.889233\" xlink:href=\"#m33c437b2e7\" />\n",
       "     <use style=\"fill:#4575b4;fill-opacity:0.4;stroke:#4575b4;stroke-opacity:0.4;stroke-width:0.3;\" x=\"150.037143\" y=\"34.521442\" xlink:href=\"#m33c437b2e7\" />\n",
       "     <use style=\"fill:#4575b4;fill-opacity:0.4;stroke:#4575b4;stroke-opacity:0.4;stroke-width:0.3;\" x=\"110.18\" y=\"48.751408\" xlink:href=\"#m33c437b2e7\" />\n",
       "     <use style=\"fill:#4575b4;fill-opacity:0.4;stroke:#4575b4;stroke-opacity:0.4;stroke-width:0.3;\" x=\"150.037143\" y=\"40.472744\" xlink:href=\"#m33c437b2e7\" />\n",
       "     <use style=\"fill:#4575b4;fill-opacity:0.4;stroke:#4575b4;stroke-opacity:0.4;stroke-width:0.3;\" x=\"116.822857\" y=\"49.399698\" xlink:href=\"#m33c437b2e7\" />\n",
       "     <use style=\"fill:#4575b4;fill-opacity:0.4;stroke:#4575b4;stroke-opacity:0.4;stroke-width:0.3;\" x=\"123.465714\" y=\"46.158248\" xlink:href=\"#m33c437b2e7\" />\n",
       "     <use style=\"fill:#4575b4;fill-opacity:0.4;stroke:#4575b4;stroke-opacity:0.4;stroke-width:0.3;\" x=\"96.894286\" y=\"52.641147\" xlink:href=\"#m33c437b2e7\" />\n",
       "     <use style=\"fill:#4575b4;fill-opacity:0.4;stroke:#4575b4;stroke-opacity:0.4;stroke-width:0.3;\" x=\"116.822857\" y=\"54.676778\" xlink:href=\"#m33c437b2e7\" />\n",
       "     <use style=\"fill:#4575b4;fill-opacity:0.4;stroke:#4575b4;stroke-opacity:0.4;stroke-width:0.3;\" x=\"103.537143\" y=\"52.317002\" xlink:href=\"#m33c437b2e7\" />\n",
       "     <use style=\"fill:#4575b4;fill-opacity:0.4;stroke:#4575b4;stroke-opacity:0.4;stroke-width:0.3;\" x=\"130.108571\" y=\"28.654418\" xlink:href=\"#m33c437b2e7\" />\n",
       "     <use style=\"fill:#4575b4;fill-opacity:0.4;stroke:#4575b4;stroke-opacity:0.4;stroke-width:0.3;\" x=\"63.68\" y=\"53.613582\" xlink:href=\"#m33c437b2e7\" />\n",
       "     <use style=\"fill:#4575b4;fill-opacity:0.4;stroke:#4575b4;stroke-opacity:0.4;stroke-width:0.3;\" x=\"130.108571\" y=\"47.759523\" xlink:href=\"#m33c437b2e7\" />\n",
       "     <use style=\"fill:#4575b4;fill-opacity:0.4;stroke:#4575b4;stroke-opacity:0.4;stroke-width:0.3;\" x=\"143.394286\" y=\"47.130683\" xlink:href=\"#m33c437b2e7\" />\n",
       "     <use style=\"fill:#4575b4;fill-opacity:0.4;stroke:#4575b4;stroke-opacity:0.4;stroke-width:0.3;\" x=\"123.465714\" y=\"52.414246\" xlink:href=\"#m33c437b2e7\" />\n",
       "     <use style=\"fill:#4575b4;fill-opacity:0.4;stroke:#4575b4;stroke-opacity:0.4;stroke-width:0.3;\" x=\"103.537143\" y=\"50.696277\" xlink:href=\"#m33c437b2e7\" />\n",
       "     <use style=\"fill:#4575b4;fill-opacity:0.4;stroke:#4575b4;stroke-opacity:0.4;stroke-width:0.3;\" x=\"136.751429\" y=\"39.675348\" xlink:href=\"#m33c437b2e7\" />\n",
       "     <use style=\"fill:#4575b4;fill-opacity:0.4;stroke:#4575b4;stroke-opacity:0.4;stroke-width:0.3;\" x=\"143.394286\" y=\"38.275041\" xlink:href=\"#m33c437b2e7\" />\n",
       "     <use style=\"fill:#4575b4;fill-opacity:0.4;stroke:#4575b4;stroke-opacity:0.4;stroke-width:0.3;\" x=\"123.465714\" y=\"41.944363\" xlink:href=\"#m33c437b2e7\" />\n",
       "     <use style=\"fill:#4575b4;fill-opacity:0.4;stroke:#4575b4;stroke-opacity:0.4;stroke-width:0.3;\" x=\"123.465714\" y=\"45.347885\" xlink:href=\"#m33c437b2e7\" />\n",
       "     <use style=\"fill:#4575b4;fill-opacity:0.4;stroke:#4575b4;stroke-opacity:0.4;stroke-width:0.3;\" x=\"103.537143\" y=\"51.830785\" xlink:href=\"#m33c437b2e7\" />\n",
       "     <use style=\"fill:#4575b4;fill-opacity:0.4;stroke:#4575b4;stroke-opacity:0.4;stroke-width:0.3;\" x=\"90.251429\" y=\"54.261872\" xlink:href=\"#m33c437b2e7\" />\n",
       "     <use style=\"fill:#4575b4;fill-opacity:0.4;stroke:#4575b4;stroke-opacity:0.4;stroke-width:0.3;\" x=\"150.037143\" y=\"34.670548\" xlink:href=\"#m33c437b2e7\" />\n",
       "     <use style=\"fill:#4575b4;fill-opacity:0.4;stroke:#4575b4;stroke-opacity:0.4;stroke-width:0.3;\" x=\"110.18\" y=\"52.641147\" xlink:href=\"#m33c437b2e7\" />\n",
       "     <use style=\"fill:#4575b4;fill-opacity:0.4;stroke:#4575b4;stroke-opacity:0.4;stroke-width:0.3;\" x=\"110.18\" y=\"48.751408\" xlink:href=\"#m33c437b2e7\" />\n",
       "     <use style=\"fill:#4575b4;fill-opacity:0.4;stroke:#4575b4;stroke-opacity:0.4;stroke-width:0.3;\" x=\"123.465714\" y=\"49.56177\" xlink:href=\"#m33c437b2e7\" />\n",
       "     <use style=\"fill:#4575b4;fill-opacity:0.4;stroke:#4575b4;stroke-opacity:0.4;stroke-width:0.3;\" x=\"143.394286\" y=\"31.740277\" xlink:href=\"#m33c437b2e7\" />\n",
       "     <use style=\"fill:#4575b4;fill-opacity:0.4;stroke:#4575b4;stroke-opacity:0.4;stroke-width:0.3;\" x=\"136.751429\" y=\"40.654266\" xlink:href=\"#m33c437b2e7\" />\n",
       "     <use style=\"fill:#4575b4;fill-opacity:0.4;stroke:#4575b4;stroke-opacity:0.4;stroke-width:0.3;\" x=\"136.751429\" y=\"32.544158\" xlink:href=\"#m33c437b2e7\" />\n",
       "     <use style=\"fill:#4575b4;fill-opacity:0.4;stroke:#4575b4;stroke-opacity:0.4;stroke-width:0.3;\" x=\"130.108571\" y=\"26.385403\" xlink:href=\"#m33c437b2e7\" />\n",
       "     <use style=\"fill:#4575b4;fill-opacity:0.4;stroke:#4575b4;stroke-opacity:0.4;stroke-width:0.3;\" x=\"143.394286\" y=\"45.192296\" xlink:href=\"#m33c437b2e7\" />\n",
       "     <use style=\"fill:#4575b4;fill-opacity:0.4;stroke:#4575b4;stroke-opacity:0.4;stroke-width:0.3;\" x=\"130.108571\" y=\"46.806538\" xlink:href=\"#m33c437b2e7\" />\n",
       "     <use style=\"fill:#4575b4;fill-opacity:0.4;stroke:#4575b4;stroke-opacity:0.4;stroke-width:0.3;\" x=\"103.537143\" y=\"56.278054\" xlink:href=\"#m33c437b2e7\" />\n",
       "     <use style=\"fill:#4575b4;fill-opacity:0.4;stroke:#4575b4;stroke-opacity:0.4;stroke-width:0.3;\" x=\"70.322857\" y=\"53.127365\" xlink:href=\"#m33c437b2e7\" />\n",
       "     <use style=\"fill:#4575b4;fill-opacity:0.4;stroke:#4575b4;stroke-opacity:0.4;stroke-width:0.3;\" x=\"150.037143\" y=\"38.702913\" xlink:href=\"#m33c437b2e7\" />\n",
       "     <use style=\"fill:#4575b4;fill-opacity:0.4;stroke:#4575b4;stroke-opacity:0.4;stroke-width:0.3;\" x=\"90.251429\" y=\"54.294287\" xlink:href=\"#m33c437b2e7\" />\n",
       "     <use style=\"fill:#4575b4;fill-opacity:0.4;stroke:#4575b4;stroke-opacity:0.4;stroke-width:0.3;\" x=\"123.465714\" y=\"45.509958\" xlink:href=\"#m33c437b2e7\" />\n",
       "     <use style=\"fill:#4575b4;fill-opacity:0.4;stroke:#4575b4;stroke-opacity:0.4;stroke-width:0.3;\" x=\"116.822857\" y=\"45.834103\" xlink:href=\"#m33c437b2e7\" />\n",
       "     <use style=\"fill:#4575b4;fill-opacity:0.4;stroke:#4575b4;stroke-opacity:0.4;stroke-width:0.3;\" x=\"110.18\" y=\"45.834103\" xlink:href=\"#m33c437b2e7\" />\n",
       "     <use style=\"fill:#4575b4;fill-opacity:0.4;stroke:#4575b4;stroke-opacity:0.4;stroke-width:0.3;\" x=\"123.465714\" y=\"49.950744\" xlink:href=\"#m33c437b2e7\" />\n",
       "     <use style=\"fill:#4575b4;fill-opacity:0.4;stroke:#4575b4;stroke-opacity:0.4;stroke-width:0.3;\" x=\"110.18\" y=\"53.127365\" xlink:href=\"#m33c437b2e7\" />\n",
       "     <use style=\"fill:#4575b4;fill-opacity:0.4;stroke:#4575b4;stroke-opacity:0.4;stroke-width:0.3;\" x=\"123.465714\" y=\"42.365751\" xlink:href=\"#m33c437b2e7\" />\n",
       "     <use style=\"fill:#4575b4;fill-opacity:0.4;stroke:#4575b4;stroke-opacity:0.4;stroke-width:0.3;\" x=\"83.608571\" y=\"53.289437\" xlink:href=\"#m33c437b2e7\" />\n",
       "     <use style=\"fill:#4575b4;fill-opacity:0.4;stroke:#4575b4;stroke-opacity:0.4;stroke-width:0.3;\" x=\"136.751429\" y=\"45.509958\" xlink:href=\"#m33c437b2e7\" />\n",
       "     <use style=\"fill:#4575b4;fill-opacity:0.4;stroke:#4575b4;stroke-opacity:0.4;stroke-width:0.3;\" x=\"83.608571\" y=\"58.248856\" xlink:href=\"#m33c437b2e7\" />\n",
       "     <use style=\"fill:#4575b4;fill-opacity:0.4;stroke:#4575b4;stroke-opacity:0.4;stroke-width:0.3;\" x=\"103.537143\" y=\"53.062536\" xlink:href=\"#m33c437b2e7\" />\n",
       "     <use style=\"fill:#4575b4;fill-opacity:0.4;stroke:#4575b4;stroke-opacity:0.4;stroke-width:0.3;\" x=\"110.18\" y=\"44.861668\" xlink:href=\"#m33c437b2e7\" />\n",
       "     <use style=\"fill:#4575b4;fill-opacity:0.4;stroke:#4575b4;stroke-opacity:0.4;stroke-width:0.3;\" x=\"123.465714\" y=\"39.351203\" xlink:href=\"#m33c437b2e7\" />\n",
       "     <use style=\"fill:#4575b4;fill-opacity:0.4;stroke:#4575b4;stroke-opacity:0.4;stroke-width:0.3;\" x=\"130.108571\" y=\"42.787139\" xlink:href=\"#m33c437b2e7\" />\n",
       "     <use style=\"fill:#4575b4;fill-opacity:0.4;stroke:#4575b4;stroke-opacity:0.4;stroke-width:0.3;\" x=\"143.394286\" y=\"37.548957\" xlink:href=\"#m33c437b2e7\" />\n",
       "     <use style=\"fill:#4575b4;fill-opacity:0.4;stroke:#4575b4;stroke-opacity:0.4;stroke-width:0.3;\" x=\"116.822857\" y=\"44.537523\" xlink:href=\"#m33c437b2e7\" />\n",
       "     <use style=\"fill:#4575b4;fill-opacity:0.4;stroke:#4575b4;stroke-opacity:0.4;stroke-width:0.3;\" x=\"150.037143\" y=\"34.482546\" xlink:href=\"#m33c437b2e7\" />\n",
       "     <use style=\"fill:#4575b4;fill-opacity:0.4;stroke:#4575b4;stroke-opacity:0.4;stroke-width:0.3;\" x=\"116.822857\" y=\"51.487191\" xlink:href=\"#m33c437b2e7\" />\n",
       "     <use style=\"fill:#4575b4;fill-opacity:0.4;stroke:#4575b4;stroke-opacity:0.4;stroke-width:0.3;\" x=\"136.751429\" y=\"41.924913\" xlink:href=\"#m33c437b2e7\" />\n",
       "    </g>\n",
       "   </g>\n",
       "   <g id=\"patch_3\">\n",
       "    <path d=\"M 120.144286 59.796  L 117.633286 65.7756  L 122.655286 65.7756  z \" style=\"fill:#444443;\" />\n",
       "   </g>\n",
       "   <g id=\"matplotlib.axis_1\">\n",
       "    <g id=\"xtick_1\">\n",
       "     <g id=\"line2d_1\">\n",
       "      <defs>\n",
       "       <path d=\"M 0 0  L 0 3.5  \" id=\"mfd50b53a92\" style=\"stroke:#444443;stroke-width:0.3;\" />\n",
       "      </defs>\n",
       "      <g>\n",
       "       <use style=\"fill:#444443;stroke:#444443;stroke-width:0.3;\" x=\"17.18\" y=\"59.796\" xlink:href=\"#mfd50b53a92\" />\n",
       "      </g>\n",
       "     </g>\n",
       "     <g id=\"text_1\">\n",
       "      \n",
       "      <g style=\"fill:#444443;\" transform=\"translate(3.18375 72.87475)scale(0.08 -0.08)\">\n",
       "       <defs>\n",
       "        <path d=\"M 12.40625 8.296875  L 28.515625 8.296875  L 28.515625 63.921875  L 10.984375 60.40625  L 10.984375 69.390625  L 28.421875 72.90625  L 38.28125 72.90625  L 38.28125 8.296875  L 54.390625 8.296875  L 54.390625 0  L 12.40625 0  z \" id=\"DejaVuSans-49\" />\n",
       "        <path d=\"M 10.984375 1.515625  L 10.984375 10.5  Q 14.703125 8.734375 18.5 7.8125  Q 22.3125 6.890625 25.984375 6.890625  Q 35.75 6.890625 40.890625 13.453125  Q 46.046875 20.015625 46.78125 33.40625  Q 43.953125 29.203125 39.59375 26.953125  Q 35.25 24.703125 29.984375 24.703125  Q 19.046875 24.703125 12.671875 31.3125  Q 6.296875 37.9375 6.296875 49.421875  Q 6.296875 60.640625 12.9375 67.421875  Q 19.578125 74.21875 30.609375 74.21875  Q 43.265625 74.21875 49.921875 64.515625  Q 56.59375 54.828125 56.59375 36.375  Q 56.59375 19.140625 48.40625 8.859375  Q 40.234375 -1.421875 26.421875 -1.421875  Q 22.703125 -1.421875 18.890625 -0.6875  Q 15.09375 0.046875 10.984375 1.515625  z M 30.609375 32.421875  Q 37.25 32.421875 41.125 36.953125  Q 45.015625 41.5 45.015625 49.421875  Q 45.015625 57.28125 41.125 61.84375  Q 37.25 66.40625 30.609375 66.40625  Q 23.96875 66.40625 20.09375 61.84375  Q 16.21875 57.28125 16.21875 49.421875  Q 16.21875 41.5 20.09375 36.953125  Q 23.96875 32.421875 30.609375 32.421875  z \" id=\"DejaVuSans-57\" />\n",
       "        <path d=\"M 31.78125 34.625  Q 24.75 34.625 20.71875 30.859375  Q 16.703125 27.09375 16.703125 20.515625  Q 16.703125 13.921875 20.71875 10.15625  Q 24.75 6.390625 31.78125 6.390625  Q 38.8125 6.390625 42.859375 10.171875  Q 46.921875 13.96875 46.921875 20.515625  Q 46.921875 27.09375 42.890625 30.859375  Q 38.875 34.625 31.78125 34.625  z M 21.921875 38.8125  Q 15.578125 40.375 12.03125 44.71875  Q 8.5 49.078125 8.5 55.328125  Q 8.5 64.0625 14.71875 69.140625  Q 20.953125 74.21875 31.78125 74.21875  Q 42.671875 74.21875 48.875 69.140625  Q 55.078125 64.0625 55.078125 55.328125  Q 55.078125 49.078125 51.53125 44.71875  Q 48 40.375 41.703125 38.8125  Q 48.828125 37.15625 52.796875 32.3125  Q 56.78125 27.484375 56.78125 20.515625  Q 56.78125 9.90625 50.3125 4.234375  Q 43.84375 -1.421875 31.78125 -1.421875  Q 19.734375 -1.421875 13.25 4.234375  Q 6.78125 9.90625 6.78125 20.515625  Q 6.78125 27.484375 10.78125 32.3125  Q 14.796875 37.15625 21.921875 38.8125  z M 18.3125 54.390625  Q 18.3125 48.734375 21.84375 45.5625  Q 25.390625 42.390625 31.78125 42.390625  Q 38.140625 42.390625 41.71875 45.5625  Q 45.3125 48.734375 45.3125 54.390625  Q 45.3125 60.0625 41.71875 63.234375  Q 38.140625 66.40625 31.78125 66.40625  Q 25.390625 66.40625 21.84375 63.234375  Q 18.3125 60.0625 18.3125 54.390625  z \" id=\"DejaVuSans-56\" />\n",
       "        <path d=\"M 10.6875 12.40625  L 21 12.40625  L 21 0  L 10.6875 0  z \" id=\"DejaVuSans-46\" />\n",
       "        <path d=\"M 31.78125 66.40625  Q 24.171875 66.40625 20.328125 58.90625  Q 16.5 51.421875 16.5 36.375  Q 16.5 21.390625 20.328125 13.890625  Q 24.171875 6.390625 31.78125 6.390625  Q 39.453125 6.390625 43.28125 13.890625  Q 47.125 21.390625 47.125 36.375  Q 47.125 51.421875 43.28125 58.90625  Q 39.453125 66.40625 31.78125 66.40625  z M 31.78125 74.21875  Q 44.046875 74.21875 50.515625 64.515625  Q 56.984375 54.828125 56.984375 36.375  Q 56.984375 17.96875 50.515625 8.265625  Q 44.046875 -1.421875 31.78125 -1.421875  Q 19.53125 -1.421875 13.0625 8.265625  Q 6.59375 17.96875 6.59375 36.375  Q 6.59375 54.828125 13.0625 64.515625  Q 19.53125 74.21875 31.78125 74.21875  z \" id=\"DejaVuSans-48\" />\n",
       "       </defs>\n",
       "       <use xlink:href=\"#DejaVuSans-49\" />\n",
       "       <use x=\"63.623047\" xlink:href=\"#DejaVuSans-57\" />\n",
       "       <use x=\"127.246094\" xlink:href=\"#DejaVuSans-57\" />\n",
       "       <use x=\"190.869141\" xlink:href=\"#DejaVuSans-56\" />\n",
       "       <use x=\"254.492188\" xlink:href=\"#DejaVuSans-46\" />\n",
       "       <use x=\"286.279297\" xlink:href=\"#DejaVuSans-48\" />\n",
       "      </g>\n",
       "     </g>\n",
       "    </g>\n",
       "    <g id=\"xtick_2\">\n",
       "     <g id=\"line2d_2\">\n",
       "      <g>\n",
       "       <use style=\"fill:#444443;stroke:#444443;stroke-width:0.3;\" x=\"156.68\" y=\"59.796\" xlink:href=\"#mfd50b53a92\" />\n",
       "      </g>\n",
       "     </g>\n",
       "     <g id=\"text_2\">\n",
       "      \n",
       "      <g style=\"fill:#444443;\" transform=\"translate(142.68375 72.87475)scale(0.08 -0.08)\">\n",
       "       <defs>\n",
       "        <path d=\"M 19.1875 8.296875  L 53.609375 8.296875  L 53.609375 0  L 7.328125 0  L 7.328125 8.296875  Q 12.9375 14.109375 22.625 23.890625  Q 32.328125 33.6875 34.8125 36.53125  Q 39.546875 41.84375 41.421875 45.53125  Q 43.3125 49.21875 43.3125 52.78125  Q 43.3125 58.59375 39.234375 62.25  Q 35.15625 65.921875 28.609375 65.921875  Q 23.96875 65.921875 18.8125 64.3125  Q 13.671875 62.703125 7.8125 59.421875  L 7.8125 69.390625  Q 13.765625 71.78125 18.9375 73  Q 24.125 74.21875 28.421875 74.21875  Q 39.75 74.21875 46.484375 68.546875  Q 53.21875 62.890625 53.21875 53.421875  Q 53.21875 48.921875 51.53125 44.890625  Q 49.859375 40.875 45.40625 35.40625  Q 44.1875 33.984375 37.640625 27.21875  Q 31.109375 20.453125 19.1875 8.296875  z \" id=\"DejaVuSans-50\" />\n",
       "       </defs>\n",
       "       <use xlink:href=\"#DejaVuSans-50\" />\n",
       "       <use x=\"63.623047\" xlink:href=\"#DejaVuSans-48\" />\n",
       "       <use x=\"127.246094\" xlink:href=\"#DejaVuSans-49\" />\n",
       "       <use x=\"190.869141\" xlink:href=\"#DejaVuSans-57\" />\n",
       "       <use x=\"254.492188\" xlink:href=\"#DejaVuSans-46\" />\n",
       "       <use x=\"286.279297\" xlink:href=\"#DejaVuSans-48\" />\n",
       "      </g>\n",
       "     </g>\n",
       "    </g>\n",
       "    <g id=\"xtick_3\">\n",
       "     <g id=\"line2d_3\">\n",
       "      <g>\n",
       "       <use style=\"fill:#444443;stroke:#444443;stroke-width:0.3;\" x=\"120.144286\" y=\"59.796\" xlink:href=\"#mfd50b53a92\" />\n",
       "      </g>\n",
       "     </g>\n",
       "     <g id=\"text_3\">\n",
       "      \n",
       "      <g style=\"fill:#444443;\" transform=\"translate(106.148036 72.87475)scale(0.08 -0.08)\">\n",
       "       <defs>\n",
       "        <path d=\"M 40.578125 39.3125  Q 47.65625 37.796875 51.625 33  Q 55.609375 28.21875 55.609375 21.1875  Q 55.609375 10.40625 48.1875 4.484375  Q 40.765625 -1.421875 27.09375 -1.421875  Q 22.515625 -1.421875 17.65625 -0.515625  Q 12.796875 0.390625 7.625 2.203125  L 7.625 11.71875  Q 11.71875 9.328125 16.59375 8.109375  Q 21.484375 6.890625 26.8125 6.890625  Q 36.078125 6.890625 40.9375 10.546875  Q 45.796875 14.203125 45.796875 21.1875  Q 45.796875 27.640625 41.28125 31.265625  Q 36.765625 34.90625 28.71875 34.90625  L 20.21875 34.90625  L 20.21875 43.015625  L 29.109375 43.015625  Q 36.375 43.015625 40.234375 45.921875  Q 44.09375 48.828125 44.09375 54.296875  Q 44.09375 59.90625 40.109375 62.90625  Q 36.140625 65.921875 28.71875 65.921875  Q 24.65625 65.921875 20.015625 65.03125  Q 15.375 64.15625 9.8125 62.3125  L 9.8125 71.09375  Q 15.4375 72.65625 20.34375 73.4375  Q 25.25 74.21875 29.59375 74.21875  Q 40.828125 74.21875 47.359375 69.109375  Q 53.90625 64.015625 53.90625 55.328125  Q 53.90625 49.265625 50.4375 45.09375  Q 46.96875 40.921875 40.578125 39.3125  z \" id=\"DejaVuSans-51\" />\n",
       "        <path d=\"M 10.796875 72.90625  L 49.515625 72.90625  L 49.515625 64.59375  L 19.828125 64.59375  L 19.828125 46.734375  Q 21.96875 47.46875 24.109375 47.828125  Q 26.265625 48.1875 28.421875 48.1875  Q 40.625 48.1875 47.75 41.5  Q 54.890625 34.8125 54.890625 23.390625  Q 54.890625 11.625 47.5625 5.09375  Q 40.234375 -1.421875 26.90625 -1.421875  Q 22.3125 -1.421875 17.546875 -0.640625  Q 12.796875 0.140625 7.71875 1.703125  L 7.71875 11.625  Q 12.109375 9.234375 16.796875 8.0625  Q 21.484375 6.890625 26.703125 6.890625  Q 35.15625 6.890625 40.078125 11.328125  Q 45.015625 15.765625 45.015625 23.390625  Q 45.015625 31 40.078125 35.4375  Q 35.15625 39.890625 26.703125 39.890625  Q 22.75 39.890625 18.8125 39.015625  Q 14.890625 38.140625 10.796875 36.28125  z \" id=\"DejaVuSans-53\" />\n",
       "       </defs>\n",
       "       <use xlink:href=\"#DejaVuSans-50\" />\n",
       "       <use x=\"63.623047\" xlink:href=\"#DejaVuSans-48\" />\n",
       "       <use x=\"127.246094\" xlink:href=\"#DejaVuSans-49\" />\n",
       "       <use x=\"190.869141\" xlink:href=\"#DejaVuSans-51\" />\n",
       "       <use x=\"254.492188\" xlink:href=\"#DejaVuSans-46\" />\n",
       "       <use x=\"286.279297\" xlink:href=\"#DejaVuSans-53\" />\n",
       "      </g>\n",
       "     </g>\n",
       "    </g>\n",
       "    <g id=\"text_4\">\n",
       "     \n",
       "     <g style=\"fill:#444443;\" transform=\"translate(75.774531 86.136937)scale(0.1 -0.1)\">\n",
       "      <defs>\n",
       "       <path d=\"M 32.171875 -5.078125  Q 28.375 -14.84375 24.75 -17.8125  Q 21.140625 -20.796875 15.09375 -20.796875  L 7.90625 -20.796875  L 7.90625 -13.28125  L 13.1875 -13.28125  Q 16.890625 -13.28125 18.9375 -11.515625  Q 21 -9.765625 23.484375 -3.21875  L 25.09375 0.875  L 2.984375 54.6875  L 12.5 54.6875  L 29.59375 11.921875  L 46.6875 54.6875  L 56.203125 54.6875  z \" id=\"DejaVuSans-121\" />\n",
       "       <path d=\"M 56.203125 29.59375  L 56.203125 25.203125  L 14.890625 25.203125  Q 15.484375 15.921875 20.484375 11.0625  Q 25.484375 6.203125 34.421875 6.203125  Q 39.59375 6.203125 44.453125 7.46875  Q 49.3125 8.734375 54.109375 11.28125  L 54.109375 2.78125  Q 49.265625 0.734375 44.1875 -0.34375  Q 39.109375 -1.421875 33.890625 -1.421875  Q 20.796875 -1.421875 13.15625 6.1875  Q 5.515625 13.8125 5.515625 26.8125  Q 5.515625 40.234375 12.765625 48.109375  Q 20.015625 56 32.328125 56  Q 43.359375 56 49.78125 48.890625  Q 56.203125 41.796875 56.203125 29.59375  z M 47.21875 32.234375  Q 47.125 39.59375 43.09375 43.984375  Q 39.0625 48.390625 32.421875 48.390625  Q 24.90625 48.390625 20.390625 44.140625  Q 15.875 39.890625 15.1875 32.171875  z \" id=\"DejaVuSans-101\" />\n",
       "       <path d=\"M 34.28125 27.484375  Q 23.390625 27.484375 19.1875 25  Q 14.984375 22.515625 14.984375 16.5  Q 14.984375 11.71875 18.140625 8.90625  Q 21.296875 6.109375 26.703125 6.109375  Q 34.1875 6.109375 38.703125 11.40625  Q 43.21875 16.703125 43.21875 25.484375  L 43.21875 27.484375  z M 52.203125 31.203125  L 52.203125 0  L 43.21875 0  L 43.21875 8.296875  Q 40.140625 3.328125 35.546875 0.953125  Q 30.953125 -1.421875 24.3125 -1.421875  Q 15.921875 -1.421875 10.953125 3.296875  Q 6 8.015625 6 15.921875  Q 6 25.140625 12.171875 29.828125  Q 18.359375 34.515625 30.609375 34.515625  L 43.21875 34.515625  L 43.21875 35.40625  Q 43.21875 41.609375 39.140625 45  Q 35.0625 48.390625 27.6875 48.390625  Q 23 48.390625 18.546875 47.265625  Q 14.109375 46.140625 10.015625 43.890625  L 10.015625 52.203125  Q 14.9375 54.109375 19.578125 55.046875  Q 24.21875 56 28.609375 56  Q 40.484375 56 46.34375 49.84375  Q 52.203125 43.703125 52.203125 31.203125  z \" id=\"DejaVuSans-97\" />\n",
       "       <path d=\"M 41.109375 46.296875  Q 39.59375 47.171875 37.8125 47.578125  Q 36.03125 48 33.890625 48  Q 26.265625 48 22.1875 43.046875  Q 18.109375 38.09375 18.109375 28.8125  L 18.109375 0  L 9.078125 0  L 9.078125 54.6875  L 18.109375 54.6875  L 18.109375 46.1875  Q 20.953125 51.171875 25.484375 53.578125  Q 30.03125 56 36.53125 56  Q 37.453125 56 38.578125 55.875  Q 39.703125 55.765625 41.0625 55.515625  z \" id=\"DejaVuSans-114\" />\n",
       "      </defs>\n",
       "      <use xlink:href=\"#DejaVuSans-121\" />\n",
       "      <use x=\"59.179688\" xlink:href=\"#DejaVuSans-101\" />\n",
       "      <use x=\"120.703125\" xlink:href=\"#DejaVuSans-97\" />\n",
       "      <use x=\"181.982422\" xlink:href=\"#DejaVuSans-114\" />\n",
       "     </g>\n",
       "    </g>\n",
       "   </g>\n",
       "   <g id=\"matplotlib.axis_2\">\n",
       "    <g id=\"ytick_1\">\n",
       "     <g id=\"line2d_4\">\n",
       "      <defs>\n",
       "       <path d=\"M 0 0  L -3.5 0  \" id=\"mdbcb744971\" style=\"stroke:#444443;stroke-width:0.3;\" />\n",
       "      </defs>\n",
       "      <g>\n",
       "       <use style=\"fill:#444443;stroke:#444443;stroke-width:0.3;\" x=\"17.18\" y=\"43.889233\" xlink:href=\"#mdbcb744971\" />\n",
       "      </g>\n",
       "     </g>\n",
       "     <g id=\"text_5\">\n",
       "      \n",
       "      <g style=\"fill:#444443;\" transform=\"translate(0 46.928608)scale(0.08 -0.08)\">\n",
       "       <use xlink:href=\"#DejaVuSans-50\" />\n",
       "       <use x=\"63.623047\" xlink:href=\"#DejaVuSans-53\" />\n",
       "      </g>\n",
       "     </g>\n",
       "    </g>\n",
       "    <g id=\"ytick_2\">\n",
       "     <g id=\"line2d_5\">\n",
       "      <g>\n",
       "       <use style=\"fill:#444443;stroke:#444443;stroke-width:0.3;\" x=\"17.18\" y=\"27.681983\" xlink:href=\"#mdbcb744971\" />\n",
       "      </g>\n",
       "     </g>\n",
       "     <g id=\"text_6\">\n",
       "      \n",
       "      <g style=\"fill:#444443;\" transform=\"translate(0 30.721358)scale(0.08 -0.08)\">\n",
       "       <use xlink:href=\"#DejaVuSans-53\" />\n",
       "       <use x=\"63.623047\" xlink:href=\"#DejaVuSans-48\" />\n",
       "      </g>\n",
       "     </g>\n",
       "    </g>\n",
       "    <g id=\"ytick_3\">\n",
       "     <g id=\"line2d_6\">\n",
       "      <g>\n",
       "       <use style=\"fill:#444443;stroke:#444443;stroke-width:0.3;\" x=\"17.18\" y=\"11.474733\" xlink:href=\"#mdbcb744971\" />\n",
       "      </g>\n",
       "     </g>\n",
       "     <g id=\"text_7\">\n",
       "      \n",
       "      <g style=\"fill:#444443;\" transform=\"translate(0 14.514108)scale(0.08 -0.08)\">\n",
       "       <defs>\n",
       "        <path d=\"M 8.203125 72.90625  L 55.078125 72.90625  L 55.078125 68.703125  L 28.609375 0  L 18.3125 0  L 43.21875 64.59375  L 8.203125 64.59375  z \" id=\"DejaVuSans-55\" />\n",
       "       </defs>\n",
       "       <use xlink:href=\"#DejaVuSans-55\" />\n",
       "       <use x=\"63.623047\" xlink:href=\"#DejaVuSans-53\" />\n",
       "      </g>\n",
       "     </g>\n",
       "    </g>\n",
       "   </g>\n",
       "   <g id=\"line2d_7\">\n",
       "    <path clip-path=\"url(#p5839b32f37)\" d=\"M 17.18 51.413989  L 120.144286 51.413989  \" style=\"fill:none;stroke:#000000;stroke-dasharray:3.7,1.6;stroke-dashoffset:0;\" />\n",
       "   </g>\n",
       "   <g id=\"line2d_8\">\n",
       "    <path clip-path=\"url(#p5839b32f37)\" d=\"M 120.144286 59.796  L 120.144286 -0  \" style=\"fill:none;stroke:#000000;stroke-dasharray:3.7,1.6;stroke-dashoffset:0;\" />\n",
       "   </g>\n",
       "   <g id=\"line2d_9\">\n",
       "    <path clip-path=\"url(#p5839b32f37)\" d=\"M 120.144286 41.044574  L 156.68 41.044574  \" style=\"fill:none;stroke:#000000;stroke-dasharray:3.7,1.6;stroke-dashoffset:0;\" />\n",
       "   </g>\n",
       "   <g id=\"patch_4\">\n",
       "    <path d=\"M 17.18 59.796  L 17.18 -0  \" style=\"fill:none;stroke:#000000;stroke-linecap:square;stroke-linejoin:miter;stroke-width:0.3;\" />\n",
       "   </g>\n",
       "   <g id=\"patch_5\">\n",
       "    <path d=\"M 17.18 59.796  L 156.68 59.796  \" style=\"fill:none;stroke:#000000;stroke-linecap:square;stroke-linejoin:miter;stroke-width:0.3;\" />\n",
       "   </g>\n",
       "  </g>\n",
       " </g>\n",
       " <defs>\n",
       "  <clipPath id=\"p5839b32f37\">\n",
       "   <rect height=\"59.796\" width=\"139.5\" x=\"17.18\" y=\"-0\" />\n",
       "  </clipPath>\n",
       " </defs>\n",
       "</svg></g>\n",
       "\n",
       "<g class=\"node\" id=\"node4\">\n",
       "<title>leaf5</title>\n",
       "<polygon fill=\"none\" points=\"533,-167 473,-167 473,-109 533,-109 533,-167\" stroke=\"black\" stroke-width=\"0\" />\n",
       "<svg height=\"50px\" preserveAspectRatio=\"xMinYMin meet\" version=\"1.1\" viewBox=\"0 0 69.553438 66.113937\" width=\"52px\" x=\"477\" y=\"-163\">\n",
       " <metadata>\n",
       "  <rdf:RDF>\n",
       "   <ns2:Work>\n",
       "    <dc:type rdf:resource=\"http://purl.org/dc/dcmitype/StillImage\" />\n",
       "    <dc:date>2020-10-20T23:26:29.769613</dc:date>\n",
       "    <dc:format>image/svg+xml</dc:format>\n",
       "    <dc:creator>\n",
       "     <ns2:Agent>\n",
       "      <dc:title>Matplotlib v3.3.1, https://matplotlib.org/</dc:title>\n",
       "     </ns2:Agent>\n",
       "    </dc:creator>\n",
       "   </ns2:Work>\n",
       "  </rdf:RDF>\n",
       " </metadata>\n",
       " <defs>\n",
       "  <style type=\"text/css\">*{stroke-linecap:butt;stroke-linejoin:round;}</style>\n",
       " </defs>\n",
       " <g id=\"figure_1\">\n",
       "  <g id=\"patch_1\">\n",
       "   <path d=\"M -0 66.113937  L 69.553438 66.113937  L 69.553438 0  L -0 0  z \" style=\"fill:none;\" />\n",
       "  </g>\n",
       "  <g id=\"axes_1\">\n",
       "   <g id=\"patch_2\">\n",
       "    <path d=\"M 17.18 43.488  L 59.03 43.488  L 59.03 -0  L 17.18 -0  z \" style=\"fill:#ffffff;\" />\n",
       "   </g>\n",
       "   <g id=\"PathCollection_1\">\n",
       "    <defs>\n",
       "     <path d=\"M 0 1.118034  C 0.296506 1.118034 0.580908 1.000231 0.790569 0.790569  C 1.000231 0.580908 1.118034 0.296506 1.118034 0  C 1.118034 -0.296506 1.000231 -0.580908 0.790569 -0.790569  C 0.580908 -1.000231 0.296506 -1.118034 0 -1.118034  C -0.296506 -1.118034 -0.580908 -1.000231 -0.790569 -0.790569  C -1.000231 -0.580908 -1.118034 -0.296506 -1.118034 0  C -1.118034 0.296506 -1.000231 0.580908 -0.790569 0.790569  C -0.580908 1.000231 -0.296506 1.118034 0 1.118034  z \" id=\"mfd6005deb7\" style=\"stroke:#225ea8;stroke-opacity:0.25;stroke-width:0.3;\" />\n",
       "    </defs>\n",
       "    <g clip-path=\"url(#p5fe590f1be)\">\n",
       "     <use style=\"fill:#225ea8;fill-opacity:0.25;stroke:#225ea8;stroke-opacity:0.25;stroke-width:0.3;\" x=\"35.116794\" y=\"36.634278\" xlink:href=\"#mfd6005deb7\" />\n",
       "     <use style=\"fill:#225ea8;fill-opacity:0.25;stroke:#225ea8;stroke-opacity:0.25;stroke-width:0.3;\" x=\"36.316831\" y=\"35.455569\" xlink:href=\"#mfd6005deb7\" />\n",
       "     <use style=\"fill:#225ea8;fill-opacity:0.25;stroke:#225ea8;stroke-opacity:0.25;stroke-width:0.3;\" x=\"38.811844\" y=\"35.927053\" xlink:href=\"#mfd6005deb7\" />\n",
       "     <use style=\"fill:#225ea8;fill-opacity:0.25;stroke:#225ea8;stroke-opacity:0.25;stroke-width:0.3;\" x=\"32.517975\" y=\"38.284471\" xlink:href=\"#mfd6005deb7\" />\n",
       "     <use style=\"fill:#225ea8;fill-opacity:0.25;stroke:#225ea8;stroke-opacity:0.25;stroke-width:0.3;\" x=\"39.104556\" y=\"39.76493\" xlink:href=\"#mfd6005deb7\" />\n",
       "     <use style=\"fill:#225ea8;fill-opacity:0.25;stroke:#225ea8;stroke-opacity:0.25;stroke-width:0.3;\" x=\"32.936558\" y=\"38.048729\" xlink:href=\"#mfd6005deb7\" />\n",
       "     <use style=\"fill:#225ea8;fill-opacity:0.25;stroke:#225ea8;stroke-opacity:0.25;stroke-width:0.3;\" x=\"40.003933\" y=\"38.991696\" xlink:href=\"#mfd6005deb7\" />\n",
       "     <use style=\"fill:#225ea8;fill-opacity:0.25;stroke:#225ea8;stroke-opacity:0.25;stroke-width:0.3;\" x=\"35.397211\" y=\"36.87002\" xlink:href=\"#mfd6005deb7\" />\n",
       "     <use style=\"fill:#225ea8;fill-opacity:0.25;stroke:#225ea8;stroke-opacity:0.25;stroke-width:0.3;\" x=\"34.951019\" y=\"37.695116\" xlink:href=\"#mfd6005deb7\" />\n",
       "     <use style=\"fill:#225ea8;fill-opacity:0.25;stroke:#225ea8;stroke-opacity:0.25;stroke-width:0.3;\" x=\"39.018323\" y=\"39.46318\" xlink:href=\"#mfd6005deb7\" />\n",
       "     <use style=\"fill:#225ea8;fill-opacity:0.25;stroke:#225ea8;stroke-opacity:0.25;stroke-width:0.3;\" x=\"40.76328\" y=\"38.284471\" xlink:href=\"#mfd6005deb7\" />\n",
       "     <use style=\"fill:#225ea8;fill-opacity:0.25;stroke:#225ea8;stroke-opacity:0.25;stroke-width:0.3;\" x=\"39.364718\" y=\"35.455569\" xlink:href=\"#mfd6005deb7\" />\n",
       "     <use style=\"fill:#225ea8;fill-opacity:0.25;stroke:#225ea8;stroke-opacity:0.25;stroke-width:0.3;\" x=\"38.80019\" y=\"40.929494\" xlink:href=\"#mfd6005deb7\" />\n",
       "     <use style=\"fill:#225ea8;fill-opacity:0.25;stroke:#225ea8;stroke-opacity:0.25;stroke-width:0.3;\" x=\"38.847594\" y=\"38.638084\" xlink:href=\"#mfd6005deb7\" />\n",
       "     <use style=\"fill:#225ea8;fill-opacity:0.25;stroke:#225ea8;stroke-opacity:0.25;stroke-width:0.3;\" x=\"39.385014\" y=\"39.486754\" xlink:href=\"#mfd6005deb7\" />\n",
       "     <use style=\"fill:#225ea8;fill-opacity:0.25;stroke:#225ea8;stroke-opacity:0.25;stroke-width:0.3;\" x=\"39.605025\" y=\"33.333893\" xlink:href=\"#mfd6005deb7\" />\n",
       "     <use style=\"fill:#225ea8;fill-opacity:0.25;stroke:#225ea8;stroke-opacity:0.25;stroke-width:0.3;\" x=\"36.784947\" y=\"33.333893\" xlink:href=\"#mfd6005deb7\" />\n",
       "     <use style=\"fill:#225ea8;fill-opacity:0.25;stroke:#225ea8;stroke-opacity:0.25;stroke-width:0.3;\" x=\"40.296276\" y=\"38.638084\" xlink:href=\"#mfd6005deb7\" />\n",
       "     <use style=\"fill:#225ea8;fill-opacity:0.25;stroke:#225ea8;stroke-opacity:0.25;stroke-width:0.3;\" x=\"35.432659\" y=\"38.755955\" xlink:href=\"#mfd6005deb7\" />\n",
       "     <use style=\"fill:#225ea8;fill-opacity:0.25;stroke:#225ea8;stroke-opacity:0.25;stroke-width:0.3;\" x=\"41.758985\" y=\"42.362804\" xlink:href=\"#mfd6005deb7\" />\n",
       "     <use style=\"fill:#225ea8;fill-opacity:0.25;stroke:#225ea8;stroke-opacity:0.25;stroke-width:0.3;\" x=\"40.724621\" y=\"38.590935\" xlink:href=\"#mfd6005deb7\" />\n",
       "     <use style=\"fill:#225ea8;fill-opacity:0.25;stroke:#225ea8;stroke-opacity:0.25;stroke-width:0.3;\" x=\"45.406657\" y=\"32.626667\" xlink:href=\"#mfd6005deb7\" />\n",
       "     <use style=\"fill:#225ea8;fill-opacity:0.25;stroke:#225ea8;stroke-opacity:0.25;stroke-width:0.3;\" x=\"39.825365\" y=\"32.390925\" xlink:href=\"#mfd6005deb7\" />\n",
       "     <use style=\"fill:#225ea8;fill-opacity:0.25;stroke:#225ea8;stroke-opacity:0.25;stroke-width:0.3;\" x=\"41.148666\" y=\"37.44523\" xlink:href=\"#mfd6005deb7\" />\n",
       "    </g>\n",
       "   </g>\n",
       "   <g id=\"matplotlib.axis_1\" />\n",
       "   <g id=\"matplotlib.axis_2\">\n",
       "    <g id=\"ytick_1\">\n",
       "     <g id=\"line2d_1\">\n",
       "      <defs>\n",
       "       <path d=\"M 0 0  L -3.5 0  \" id=\"m8140045c73\" style=\"stroke:#444443;stroke-width:0.3;\" />\n",
       "      </defs>\n",
       "      <g>\n",
       "       <use style=\"fill:#444443;stroke:#444443;stroke-width:0.3;\" x=\"17.18\" y=\"31.919442\" xlink:href=\"#m8140045c73\" />\n",
       "      </g>\n",
       "     </g>\n",
       "     <g id=\"text_1\">\n",
       "      \n",
       "      <g style=\"fill:#444443;\" transform=\"translate(0 34.958817)scale(0.08 -0.08)\">\n",
       "       <defs>\n",
       "        <path d=\"M 19.1875 8.296875  L 53.609375 8.296875  L 53.609375 0  L 7.328125 0  L 7.328125 8.296875  Q 12.9375 14.109375 22.625 23.890625  Q 32.328125 33.6875 34.8125 36.53125  Q 39.546875 41.84375 41.421875 45.53125  Q 43.3125 49.21875 43.3125 52.78125  Q 43.3125 58.59375 39.234375 62.25  Q 35.15625 65.921875 28.609375 65.921875  Q 23.96875 65.921875 18.8125 64.3125  Q 13.671875 62.703125 7.8125 59.421875  L 7.8125 69.390625  Q 13.765625 71.78125 18.9375 73  Q 24.125 74.21875 28.421875 74.21875  Q 39.75 74.21875 46.484375 68.546875  Q 53.21875 62.890625 53.21875 53.421875  Q 53.21875 48.921875 51.53125 44.890625  Q 49.859375 40.875 45.40625 35.40625  Q 44.1875 33.984375 37.640625 27.21875  Q 31.109375 20.453125 19.1875 8.296875  z \" id=\"DejaVuSans-50\" />\n",
       "        <path d=\"M 10.796875 72.90625  L 49.515625 72.90625  L 49.515625 64.59375  L 19.828125 64.59375  L 19.828125 46.734375  Q 21.96875 47.46875 24.109375 47.828125  Q 26.265625 48.1875 28.421875 48.1875  Q 40.625 48.1875 47.75 41.5  Q 54.890625 34.8125 54.890625 23.390625  Q 54.890625 11.625 47.5625 5.09375  Q 40.234375 -1.421875 26.90625 -1.421875  Q 22.3125 -1.421875 17.546875 -0.640625  Q 12.796875 0.140625 7.71875 1.703125  L 7.71875 11.625  Q 12.109375 9.234375 16.796875 8.0625  Q 21.484375 6.890625 26.703125 6.890625  Q 35.15625 6.890625 40.078125 11.328125  Q 45.015625 15.765625 45.015625 23.390625  Q 45.015625 31 40.078125 35.4375  Q 35.15625 39.890625 26.703125 39.890625  Q 22.75 39.890625 18.8125 39.015625  Q 14.890625 38.140625 10.796875 36.28125  z \" id=\"DejaVuSans-53\" />\n",
       "       </defs>\n",
       "       <use xlink:href=\"#DejaVuSans-50\" />\n",
       "       <use x=\"63.623047\" xlink:href=\"#DejaVuSans-53\" />\n",
       "      </g>\n",
       "     </g>\n",
       "    </g>\n",
       "    <g id=\"ytick_2\">\n",
       "     <g id=\"line2d_2\">\n",
       "      <g>\n",
       "       <use style=\"fill:#444443;stroke:#444443;stroke-width:0.3;\" x=\"17.18\" y=\"20.132351\" xlink:href=\"#m8140045c73\" />\n",
       "      </g>\n",
       "     </g>\n",
       "     <g id=\"text_2\">\n",
       "      \n",
       "      <g style=\"fill:#444443;\" transform=\"translate(0 23.171726)scale(0.08 -0.08)\">\n",
       "       <defs>\n",
       "        <path d=\"M 31.78125 66.40625  Q 24.171875 66.40625 20.328125 58.90625  Q 16.5 51.421875 16.5 36.375  Q 16.5 21.390625 20.328125 13.890625  Q 24.171875 6.390625 31.78125 6.390625  Q 39.453125 6.390625 43.28125 13.890625  Q 47.125 21.390625 47.125 36.375  Q 47.125 51.421875 43.28125 58.90625  Q 39.453125 66.40625 31.78125 66.40625  z M 31.78125 74.21875  Q 44.046875 74.21875 50.515625 64.515625  Q 56.984375 54.828125 56.984375 36.375  Q 56.984375 17.96875 50.515625 8.265625  Q 44.046875 -1.421875 31.78125 -1.421875  Q 19.53125 -1.421875 13.0625 8.265625  Q 6.59375 17.96875 6.59375 36.375  Q 6.59375 54.828125 13.0625 64.515625  Q 19.53125 74.21875 31.78125 74.21875  z \" id=\"DejaVuSans-48\" />\n",
       "       </defs>\n",
       "       <use xlink:href=\"#DejaVuSans-53\" />\n",
       "       <use x=\"63.623047\" xlink:href=\"#DejaVuSans-48\" />\n",
       "      </g>\n",
       "     </g>\n",
       "    </g>\n",
       "    <g id=\"ytick_3\">\n",
       "     <g id=\"line2d_3\">\n",
       "      <g>\n",
       "       <use style=\"fill:#444443;stroke:#444443;stroke-width:0.3;\" x=\"17.18\" y=\"8.34526\" xlink:href=\"#m8140045c73\" />\n",
       "      </g>\n",
       "     </g>\n",
       "     <g id=\"text_3\">\n",
       "      \n",
       "      <g style=\"fill:#444443;\" transform=\"translate(0 11.384635)scale(0.08 -0.08)\">\n",
       "       <defs>\n",
       "        <path d=\"M 8.203125 72.90625  L 55.078125 72.90625  L 55.078125 68.703125  L 28.609375 0  L 18.3125 0  L 43.21875 64.59375  L 8.203125 64.59375  z \" id=\"DejaVuSans-55\" />\n",
       "       </defs>\n",
       "       <use xlink:href=\"#DejaVuSans-55\" />\n",
       "       <use x=\"63.623047\" xlink:href=\"#DejaVuSans-53\" />\n",
       "      </g>\n",
       "     </g>\n",
       "    </g>\n",
       "   </g>\n",
       "   <g id=\"line2d_4\">\n",
       "    <path clip-path=\"url(#p5fe590f1be)\" d=\"M 17.18 37.391992  L 70.553438 37.391992  \" style=\"fill:none;stroke:#444443;stroke-dasharray:3.7,1.6;stroke-dashoffset:0;\" />\n",
       "   </g>\n",
       "   <g id=\"patch_3\">\n",
       "    <path d=\"M 17.18 43.488  L 17.18 -0  \" style=\"fill:none;stroke:#000000;stroke-linecap:square;stroke-linejoin:miter;stroke-width:0.3;\" />\n",
       "   </g>\n",
       "   <g id=\"text_4\">\n",
       "    \n",
       "    <g style=\"fill:#444443;\" transform=\"translate(7.656563 52.836437)scale(0.1 -0.1)\">\n",
       "     <defs>\n",
       "      <path d=\"M 18.109375 8.203125  L 18.109375 -20.796875  L 9.078125 -20.796875  L 9.078125 54.6875  L 18.109375 54.6875  L 18.109375 46.390625  Q 20.953125 51.265625 25.265625 53.625  Q 29.59375 56 35.59375 56  Q 45.5625 56 51.78125 48.09375  Q 58.015625 40.1875 58.015625 27.296875  Q 58.015625 14.40625 51.78125 6.484375  Q 45.5625 -1.421875 35.59375 -1.421875  Q 29.59375 -1.421875 25.265625 0.953125  Q 20.953125 3.328125 18.109375 8.203125  z M 48.6875 27.296875  Q 48.6875 37.203125 44.609375 42.84375  Q 40.53125 48.484375 33.40625 48.484375  Q 26.265625 48.484375 22.1875 42.84375  Q 18.109375 37.203125 18.109375 27.296875  Q 18.109375 17.390625 22.1875 11.75  Q 26.265625 6.109375 33.40625 6.109375  Q 40.53125 6.109375 44.609375 11.75  Q 48.6875 17.390625 48.6875 27.296875  z \" id=\"DejaVuSans-112\" />\n",
       "      <path d=\"M 41.109375 46.296875  Q 39.59375 47.171875 37.8125 47.578125  Q 36.03125 48 33.890625 48  Q 26.265625 48 22.1875 43.046875  Q 18.109375 38.09375 18.109375 28.8125  L 18.109375 0  L 9.078125 0  L 9.078125 54.6875  L 18.109375 54.6875  L 18.109375 46.1875  Q 20.953125 51.171875 25.484375 53.578125  Q 30.03125 56 36.53125 56  Q 37.453125 56 38.578125 55.875  Q 39.703125 55.765625 41.0625 55.515625  z \" id=\"DejaVuSans-114\" />\n",
       "      <path d=\"M 9.421875 54.6875  L 18.40625 54.6875  L 18.40625 0  L 9.421875 0  z M 9.421875 75.984375  L 18.40625 75.984375  L 18.40625 64.59375  L 9.421875 64.59375  z \" id=\"DejaVuSans-105\" />\n",
       "      <path d=\"M 48.78125 52.59375  L 48.78125 44.1875  Q 44.96875 46.296875 41.140625 47.34375  Q 37.3125 48.390625 33.40625 48.390625  Q 24.65625 48.390625 19.8125 42.84375  Q 14.984375 37.3125 14.984375 27.296875  Q 14.984375 17.28125 19.8125 11.734375  Q 24.65625 6.203125 33.40625 6.203125  Q 37.3125 6.203125 41.140625 7.25  Q 44.96875 8.296875 48.78125 10.40625  L 48.78125 2.09375  Q 45.015625 0.34375 40.984375 -0.53125  Q 36.96875 -1.421875 32.421875 -1.421875  Q 20.0625 -1.421875 12.78125 6.34375  Q 5.515625 14.109375 5.515625 27.296875  Q 5.515625 40.671875 12.859375 48.328125  Q 20.21875 56 33.015625 56  Q 37.15625 56 41.109375 55.140625  Q 45.0625 54.296875 48.78125 52.59375  z \" id=\"DejaVuSans-99\" />\n",
       "      <path d=\"M 56.203125 29.59375  L 56.203125 25.203125  L 14.890625 25.203125  Q 15.484375 15.921875 20.484375 11.0625  Q 25.484375 6.203125 34.421875 6.203125  Q 39.59375 6.203125 44.453125 7.46875  Q 49.3125 8.734375 54.109375 11.28125  L 54.109375 2.78125  Q 49.265625 0.734375 44.1875 -0.34375  Q 39.109375 -1.421875 33.890625 -1.421875  Q 20.796875 -1.421875 13.15625 6.1875  Q 5.515625 13.8125 5.515625 26.8125  Q 5.515625 40.234375 12.765625 48.109375  Q 20.015625 56 32.328125 56  Q 43.359375 56 49.78125 48.890625  Q 56.203125 41.796875 56.203125 29.59375  z M 47.21875 32.234375  Q 47.125 39.59375 43.09375 43.984375  Q 39.0625 48.390625 32.421875 48.390625  Q 24.90625 48.390625 20.390625 44.140625  Q 15.875 39.890625 15.1875 32.171875  z \" id=\"DejaVuSans-101\" />\n",
       "      <path d=\"M 10.59375 45.40625  L 73.1875 45.40625  L 73.1875 37.203125  L 10.59375 37.203125  z M 10.59375 25.484375  L 73.1875 25.484375  L 73.1875 17.1875  L 10.59375 17.1875  z \" id=\"DejaVuSans-61\" />\n",
       "      <path d=\"M 12.40625 8.296875  L 28.515625 8.296875  L 28.515625 63.921875  L 10.984375 60.40625  L 10.984375 69.390625  L 28.421875 72.90625  L 38.28125 72.90625  L 38.28125 8.296875  L 54.390625 8.296875  L 54.390625 0  L 12.40625 0  z \" id=\"DejaVuSans-49\" />\n",
       "      <path d=\"M 40.578125 39.3125  Q 47.65625 37.796875 51.625 33  Q 55.609375 28.21875 55.609375 21.1875  Q 55.609375 10.40625 48.1875 4.484375  Q 40.765625 -1.421875 27.09375 -1.421875  Q 22.515625 -1.421875 17.65625 -0.515625  Q 12.796875 0.390625 7.625 2.203125  L 7.625 11.71875  Q 11.71875 9.328125 16.59375 8.109375  Q 21.484375 6.890625 26.8125 6.890625  Q 36.078125 6.890625 40.9375 10.546875  Q 45.796875 14.203125 45.796875 21.1875  Q 45.796875 27.640625 41.28125 31.265625  Q 36.765625 34.90625 28.71875 34.90625  L 20.21875 34.90625  L 20.21875 43.015625  L 29.109375 43.015625  Q 36.375 43.015625 40.234375 45.921875  Q 44.09375 48.828125 44.09375 54.296875  Q 44.09375 59.90625 40.109375 62.90625  Q 36.140625 65.921875 28.71875 65.921875  Q 24.65625 65.921875 20.015625 65.03125  Q 15.375 64.15625 9.8125 62.3125  L 9.8125 71.09375  Q 15.4375 72.65625 20.34375 73.4375  Q 25.25 74.21875 29.59375 74.21875  Q 40.828125 74.21875 47.359375 69.109375  Q 53.90625 64.015625 53.90625 55.328125  Q 53.90625 49.265625 50.4375 45.09375  Q 46.96875 40.921875 40.578125 39.3125  z \" id=\"DejaVuSans-51\" />\n",
       "      <path d=\"M 10.6875 12.40625  L 21 12.40625  L 21 0  L 10.6875 0  z \" id=\"DejaVuSans-46\" />\n",
       "      <path d=\"M 10.984375 1.515625  L 10.984375 10.5  Q 14.703125 8.734375 18.5 7.8125  Q 22.3125 6.890625 25.984375 6.890625  Q 35.75 6.890625 40.890625 13.453125  Q 46.046875 20.015625 46.78125 33.40625  Q 43.953125 29.203125 39.59375 26.953125  Q 35.25 24.703125 29.984375 24.703125  Q 19.046875 24.703125 12.671875 31.3125  Q 6.296875 37.9375 6.296875 49.421875  Q 6.296875 60.640625 12.9375 67.421875  Q 19.578125 74.21875 30.609375 74.21875  Q 43.265625 74.21875 49.921875 64.515625  Q 56.59375 54.828125 56.59375 36.375  Q 56.59375 19.140625 48.40625 8.859375  Q 40.234375 -1.421875 26.421875 -1.421875  Q 22.703125 -1.421875 18.890625 -0.6875  Q 15.09375 0.046875 10.984375 1.515625  z M 30.609375 32.421875  Q 37.25 32.421875 41.125 36.953125  Q 45.015625 41.5 45.015625 49.421875  Q 45.015625 57.28125 41.125 61.84375  Q 37.25 66.40625 30.609375 66.40625  Q 23.96875 66.40625 20.09375 61.84375  Q 16.21875 57.28125 16.21875 49.421875  Q 16.21875 41.5 20.09375 36.953125  Q 23.96875 32.421875 30.609375 32.421875  z \" id=\"DejaVuSans-57\" />\n",
       "     </defs>\n",
       "     <use xlink:href=\"#DejaVuSans-112\" />\n",
       "     <use x=\"63.476562\" xlink:href=\"#DejaVuSans-114\" />\n",
       "     <use x=\"104.589844\" xlink:href=\"#DejaVuSans-105\" />\n",
       "     <use x=\"132.373047\" xlink:href=\"#DejaVuSans-99\" />\n",
       "     <use x=\"187.353516\" xlink:href=\"#DejaVuSans-101\" />\n",
       "     <use x=\"248.876953\" xlink:href=\"#DejaVuSans-61\" />\n",
       "     <use x=\"332.666016\" xlink:href=\"#DejaVuSans-49\" />\n",
       "     <use x=\"396.289062\" xlink:href=\"#DejaVuSans-51\" />\n",
       "     <use x=\"459.912109\" xlink:href=\"#DejaVuSans-46\" />\n",
       "     <use x=\"491.699219\" xlink:href=\"#DejaVuSans-51\" />\n",
       "     <use x=\"555.322266\" xlink:href=\"#DejaVuSans-57\" />\n",
       "    </g>\n",
       "    \n",
       "    <g style=\"fill:#444443;\" transform=\"translate(24.883906 64.03425)scale(0.1 -0.1)\">\n",
       "     <defs>\n",
       "      <path d=\"M 54.890625 33.015625  L 54.890625 0  L 45.90625 0  L 45.90625 32.71875  Q 45.90625 40.484375 42.875 44.328125  Q 39.84375 48.1875 33.796875 48.1875  Q 26.515625 48.1875 22.3125 43.546875  Q 18.109375 38.921875 18.109375 30.90625  L 18.109375 0  L 9.078125 0  L 9.078125 54.6875  L 18.109375 54.6875  L 18.109375 46.1875  Q 21.34375 51.125 25.703125 53.5625  Q 30.078125 56 35.796875 56  Q 45.21875 56 50.046875 50.171875  Q 54.890625 44.34375 54.890625 33.015625  z \" id=\"DejaVuSans-110\" />\n",
       "      <path d=\"M 37.796875 64.3125  L 12.890625 25.390625  L 37.796875 25.390625  z M 35.203125 72.90625  L 47.609375 72.90625  L 47.609375 25.390625  L 58.015625 25.390625  L 58.015625 17.1875  L 47.609375 17.1875  L 47.609375 0  L 37.796875 0  L 37.796875 17.1875  L 4.890625 17.1875  L 4.890625 26.703125  z \" id=\"DejaVuSans-52\" />\n",
       "     </defs>\n",
       "     <use xlink:href=\"#DejaVuSans-110\" />\n",
       "     <use x=\"63.378906\" xlink:href=\"#DejaVuSans-61\" />\n",
       "     <use x=\"147.167969\" xlink:href=\"#DejaVuSans-50\" />\n",
       "     <use x=\"210.791016\" xlink:href=\"#DejaVuSans-52\" />\n",
       "    </g>\n",
       "   </g>\n",
       "  </g>\n",
       " </g>\n",
       " <defs>\n",
       "  <clipPath id=\"p5fe590f1be\">\n",
       "   <rect height=\"43.488\" width=\"41.85\" x=\"17.18\" y=\"-0\" />\n",
       "  </clipPath>\n",
       " </defs>\n",
       "</svg></g>\n",
       "\n",
       "<g class=\"edge\" id=\"edge1\">\n",
       "<title>node3-&gt;leaf5</title>\n",
       "<path d=\"M456.04,-126.2C460.46,-127.34 464.79,-128.45 468.92,-129.51\" fill=\"none\" stroke=\"#444443\" stroke-width=\"0.3\" />\n",
       "<polygon fill=\"#444443\" points=\"468.75,-130.91 472.97,-130.55 469.45,-128.2 468.75,-130.91\" stroke=\"#444443\" stroke-width=\"0.3\" />\n",
       "</g>\n",
       "\n",
       "<g class=\"node\" id=\"node5\">\n",
       "<title>leaf6</title>\n",
       "<polygon fill=\"none\" points=\"533,-95 473,-95 473,-37 533,-37 533,-95\" stroke=\"black\" stroke-width=\"0\" />\n",
       "<svg height=\"50px\" preserveAspectRatio=\"xMinYMin meet\" version=\"1.1\" viewBox=\"0 0 69.553438 66.113937\" width=\"52px\" x=\"477\" y=\"-91\">\n",
       " <metadata>\n",
       "  <rdf:RDF>\n",
       "   <ns2:Work>\n",
       "    <dc:type rdf:resource=\"http://purl.org/dc/dcmitype/StillImage\" />\n",
       "    <dc:date>2020-10-20T23:26:29.851668</dc:date>\n",
       "    <dc:format>image/svg+xml</dc:format>\n",
       "    <dc:creator>\n",
       "     <ns2:Agent>\n",
       "      <dc:title>Matplotlib v3.3.1, https://matplotlib.org/</dc:title>\n",
       "     </ns2:Agent>\n",
       "    </dc:creator>\n",
       "   </ns2:Work>\n",
       "  </rdf:RDF>\n",
       " </metadata>\n",
       " <defs>\n",
       "  <style type=\"text/css\">*{stroke-linecap:butt;stroke-linejoin:round;}</style>\n",
       " </defs>\n",
       " <g id=\"figure_1\">\n",
       "  <g id=\"patch_1\">\n",
       "   <path d=\"M -0 66.113937  L 69.553438 66.113937  L 69.553438 0  L -0 0  z \" style=\"fill:none;\" />\n",
       "  </g>\n",
       "  <g id=\"axes_1\">\n",
       "   <g id=\"patch_2\">\n",
       "    <path d=\"M 17.18 43.488  L 59.03 43.488  L 59.03 -0  L 17.18 -0  z \" style=\"fill:#ffffff;\" />\n",
       "   </g>\n",
       "   <g id=\"PathCollection_1\">\n",
       "    <defs>\n",
       "     <path d=\"M 0 1.118034  C 0.296506 1.118034 0.580908 1.000231 0.790569 0.790569  C 1.000231 0.580908 1.118034 0.296506 1.118034 0  C 1.118034 -0.296506 1.000231 -0.580908 0.790569 -0.790569  C 0.580908 -1.000231 0.296506 -1.118034 0 -1.118034  C -0.296506 -1.118034 -0.580908 -1.000231 -0.790569 -0.790569  C -1.000231 -0.580908 -1.118034 -0.296506 -1.118034 0  C -1.118034 0.296506 -1.000231 0.580908 -0.790569 0.790569  C -0.580908 1.000231 -0.296506 1.118034 0 1.118034  z \" id=\"md977f42826\" style=\"stroke:#225ea8;stroke-opacity:0.25;stroke-width:0.3;\" />\n",
       "    </defs>\n",
       "    <g clip-path=\"url(#p4ed1373d22)\">\n",
       "     <use style=\"fill:#225ea8;fill-opacity:0.25;stroke:#225ea8;stroke-opacity:0.25;stroke-width:0.3;\" x=\"32.880318\" y=\"33.805376\" xlink:href=\"#md977f42826\" />\n",
       "     <use style=\"fill:#225ea8;fill-opacity:0.25;stroke:#225ea8;stroke-opacity:0.25;stroke-width:0.3;\" x=\"41.257801\" y=\"30.269249\" xlink:href=\"#md977f42826\" />\n",
       "     <use style=\"fill:#225ea8;fill-opacity:0.25;stroke:#225ea8;stroke-opacity:0.25;stroke-width:0.3;\" x=\"42.043775\" y=\"28.086279\" xlink:href=\"#md977f42826\" />\n",
       "     <use style=\"fill:#225ea8;fill-opacity:0.25;stroke:#225ea8;stroke-opacity:0.25;stroke-width:0.3;\" x=\"43.142807\" y=\"26.808559\" xlink:href=\"#md977f42826\" />\n",
       "     <use style=\"fill:#225ea8;fill-opacity:0.25;stroke:#225ea8;stroke-opacity:0.25;stroke-width:0.3;\" x=\"38.508321\" y=\"31.919442\" xlink:href=\"#md977f42826\" />\n",
       "     <use style=\"fill:#225ea8;fill-opacity:0.25;stroke:#225ea8;stroke-opacity:0.25;stroke-width:0.3;\" x=\"36.960341\" y=\"25.106503\" xlink:href=\"#md977f42826\" />\n",
       "     <use style=\"fill:#225ea8;fill-opacity:0.25;stroke:#225ea8;stroke-opacity:0.25;stroke-width:0.3;\" x=\"34.457305\" y=\"29.434723\" xlink:href=\"#md977f42826\" />\n",
       "     <use style=\"fill:#225ea8;fill-opacity:0.25;stroke:#225ea8;stroke-opacity:0.25;stroke-width:0.3;\" x=\"34.763576\" y=\"33.569635\" xlink:href=\"#md977f42826\" />\n",
       "     <use style=\"fill:#225ea8;fill-opacity:0.25;stroke:#225ea8;stroke-opacity:0.25;stroke-width:0.3;\" x=\"38.019269\" y=\"20.839577\" xlink:href=\"#md977f42826\" />\n",
       "     <use style=\"fill:#225ea8;fill-opacity:0.25;stroke:#225ea8;stroke-opacity:0.25;stroke-width:0.3;\" x=\"32.241186\" y=\"34.734199\" xlink:href=\"#md977f42826\" />\n",
       "     <use style=\"fill:#225ea8;fill-opacity:0.25;stroke:#225ea8;stroke-opacity:0.25;stroke-width:0.3;\" x=\"35.533004\" y=\"34.27686\" xlink:href=\"#md977f42826\" />\n",
       "     <use style=\"fill:#225ea8;fill-opacity:0.25;stroke:#225ea8;stroke-opacity:0.25;stroke-width:0.3;\" x=\"38.40472\" y=\"38.119451\" xlink:href=\"#md977f42826\" />\n",
       "     <use style=\"fill:#225ea8;fill-opacity:0.25;stroke:#225ea8;stroke-opacity:0.25;stroke-width:0.3;\" x=\"38.329997\" y=\"28.854798\" xlink:href=\"#md977f42826\" />\n",
       "     <use style=\"fill:#225ea8;fill-opacity:0.25;stroke:#225ea8;stroke-opacity:0.25;stroke-width:0.3;\" x=\"34.85947\" y=\"27.836394\" xlink:href=\"#md977f42826\" />\n",
       "     <use style=\"fill:#225ea8;fill-opacity:0.25;stroke:#225ea8;stroke-opacity:0.25;stroke-width:0.3;\" x=\"33.974026\" y=\"30.504991\" xlink:href=\"#md977f42826\" />\n",
       "     <use style=\"fill:#225ea8;fill-opacity:0.25;stroke:#225ea8;stroke-opacity:0.25;stroke-width:0.3;\" x=\"34.474052\" y=\"32.98028\" xlink:href=\"#md977f42826\" />\n",
       "     <use style=\"fill:#225ea8;fill-opacity:0.25;stroke:#225ea8;stroke-opacity:0.25;stroke-width:0.3;\" x=\"37.365587\" y=\"25.214944\" xlink:href=\"#md977f42826\" />\n",
       "     <use style=\"fill:#225ea8;fill-opacity:0.25;stroke:#225ea8;stroke-opacity:0.25;stroke-width:0.3;\" x=\"45.235561\" y=\"36.044924\" xlink:href=\"#md977f42826\" />\n",
       "     <use style=\"fill:#225ea8;fill-opacity:0.25;stroke:#225ea8;stroke-opacity:0.25;stroke-width:0.3;\" x=\"41.655015\" y=\"23.083838\" xlink:href=\"#md977f42826\" />\n",
       "     <use style=\"fill:#225ea8;fill-opacity:0.25;stroke:#225ea8;stroke-opacity:0.25;stroke-width:0.3;\" x=\"38.822123\" y=\"29.566739\" xlink:href=\"#md977f42826\" />\n",
       "     <use style=\"fill:#225ea8;fill-opacity:0.25;stroke:#225ea8;stroke-opacity:0.25;stroke-width:0.3;\" x=\"39.959426\" y=\"23.668478\" xlink:href=\"#md977f42826\" />\n",
       "     <use style=\"fill:#225ea8;fill-opacity:0.25;stroke:#225ea8;stroke-opacity:0.25;stroke-width:0.3;\" x=\"41.506116\" y=\"19.189384\" xlink:href=\"#md977f42826\" />\n",
       "     <use style=\"fill:#225ea8;fill-opacity:0.25;stroke:#225ea8;stroke-opacity:0.25;stroke-width:0.3;\" x=\"40.366971\" y=\"32.867124\" xlink:href=\"#md977f42826\" />\n",
       "     <use style=\"fill:#225ea8;fill-opacity:0.25;stroke:#225ea8;stroke-opacity:0.25;stroke-width:0.3;\" x=\"37.073113\" y=\"34.041118\" xlink:href=\"#md977f42826\" />\n",
       "     <use style=\"fill:#225ea8;fill-opacity:0.25;stroke:#225ea8;stroke-opacity:0.25;stroke-width:0.3;\" x=\"35.273971\" y=\"28.147573\" xlink:href=\"#md977f42826\" />\n",
       "     <use style=\"fill:#225ea8;fill-opacity:0.25;stroke:#225ea8;stroke-opacity:0.25;stroke-width:0.3;\" x=\"37.685582\" y=\"33.098151\" xlink:href=\"#md977f42826\" />\n",
       "     <use style=\"fill:#225ea8;fill-opacity:0.25;stroke:#225ea8;stroke-opacity:0.25;stroke-width:0.3;\" x=\"41.467201\" y=\"36.327814\" xlink:href=\"#md977f42826\" />\n",
       "     <use style=\"fill:#225ea8;fill-opacity:0.25;stroke:#225ea8;stroke-opacity:0.25;stroke-width:0.3;\" x=\"37.19973\" y=\"30.811455\" xlink:href=\"#md977f42826\" />\n",
       "     <use style=\"fill:#225ea8;fill-opacity:0.25;stroke:#225ea8;stroke-opacity:0.25;stroke-width:0.3;\" x=\"34.406546\" y=\"33.098151\" xlink:href=\"#md977f42826\" />\n",
       "     <use style=\"fill:#225ea8;fill-opacity:0.25;stroke:#225ea8;stroke-opacity:0.25;stroke-width:0.3;\" x=\"32.334896\" y=\"28.619056\" xlink:href=\"#md977f42826\" />\n",
       "     <use style=\"fill:#225ea8;fill-opacity:0.25;stroke:#225ea8;stroke-opacity:0.25;stroke-width:0.3;\" x=\"37.699789\" y=\"31.117919\" xlink:href=\"#md977f42826\" />\n",
       "     <use style=\"fill:#225ea8;fill-opacity:0.25;stroke:#225ea8;stroke-opacity:0.25;stroke-width:0.3;\" x=\"34.67115\" y=\"27.308333\" xlink:href=\"#md977f42826\" />\n",
       "     <use style=\"fill:#225ea8;fill-opacity:0.25;stroke:#225ea8;stroke-opacity:0.25;stroke-width:0.3;\" x=\"36.643545\" y=\"25.078215\" xlink:href=\"#md977f42826\" />\n",
       "     <use style=\"fill:#225ea8;fill-opacity:0.25;stroke:#225ea8;stroke-opacity:0.25;stroke-width:0.3;\" x=\"42.980467\" y=\"30.490846\" xlink:href=\"#md977f42826\" />\n",
       "    </g>\n",
       "   </g>\n",
       "   <g id=\"matplotlib.axis_1\" />\n",
       "   <g id=\"matplotlib.axis_2\">\n",
       "    <g id=\"ytick_1\">\n",
       "     <g id=\"line2d_1\">\n",
       "      <defs>\n",
       "       <path d=\"M 0 0  L -3.5 0  \" id=\"m463b1cb73d\" style=\"stroke:#444443;stroke-width:0.3;\" />\n",
       "      </defs>\n",
       "      <g>\n",
       "       <use style=\"fill:#444443;stroke:#444443;stroke-width:0.3;\" x=\"17.18\" y=\"31.919442\" xlink:href=\"#m463b1cb73d\" />\n",
       "      </g>\n",
       "     </g>\n",
       "     <g id=\"text_1\">\n",
       "      \n",
       "      <g style=\"fill:#444443;\" transform=\"translate(0 34.958817)scale(0.08 -0.08)\">\n",
       "       <defs>\n",
       "        <path d=\"M 19.1875 8.296875  L 53.609375 8.296875  L 53.609375 0  L 7.328125 0  L 7.328125 8.296875  Q 12.9375 14.109375 22.625 23.890625  Q 32.328125 33.6875 34.8125 36.53125  Q 39.546875 41.84375 41.421875 45.53125  Q 43.3125 49.21875 43.3125 52.78125  Q 43.3125 58.59375 39.234375 62.25  Q 35.15625 65.921875 28.609375 65.921875  Q 23.96875 65.921875 18.8125 64.3125  Q 13.671875 62.703125 7.8125 59.421875  L 7.8125 69.390625  Q 13.765625 71.78125 18.9375 73  Q 24.125 74.21875 28.421875 74.21875  Q 39.75 74.21875 46.484375 68.546875  Q 53.21875 62.890625 53.21875 53.421875  Q 53.21875 48.921875 51.53125 44.890625  Q 49.859375 40.875 45.40625 35.40625  Q 44.1875 33.984375 37.640625 27.21875  Q 31.109375 20.453125 19.1875 8.296875  z \" id=\"DejaVuSans-50\" />\n",
       "        <path d=\"M 10.796875 72.90625  L 49.515625 72.90625  L 49.515625 64.59375  L 19.828125 64.59375  L 19.828125 46.734375  Q 21.96875 47.46875 24.109375 47.828125  Q 26.265625 48.1875 28.421875 48.1875  Q 40.625 48.1875 47.75 41.5  Q 54.890625 34.8125 54.890625 23.390625  Q 54.890625 11.625 47.5625 5.09375  Q 40.234375 -1.421875 26.90625 -1.421875  Q 22.3125 -1.421875 17.546875 -0.640625  Q 12.796875 0.140625 7.71875 1.703125  L 7.71875 11.625  Q 12.109375 9.234375 16.796875 8.0625  Q 21.484375 6.890625 26.703125 6.890625  Q 35.15625 6.890625 40.078125 11.328125  Q 45.015625 15.765625 45.015625 23.390625  Q 45.015625 31 40.078125 35.4375  Q 35.15625 39.890625 26.703125 39.890625  Q 22.75 39.890625 18.8125 39.015625  Q 14.890625 38.140625 10.796875 36.28125  z \" id=\"DejaVuSans-53\" />\n",
       "       </defs>\n",
       "       <use xlink:href=\"#DejaVuSans-50\" />\n",
       "       <use x=\"63.623047\" xlink:href=\"#DejaVuSans-53\" />\n",
       "      </g>\n",
       "     </g>\n",
       "    </g>\n",
       "    <g id=\"ytick_2\">\n",
       "     <g id=\"line2d_2\">\n",
       "      <g>\n",
       "       <use style=\"fill:#444443;stroke:#444443;stroke-width:0.3;\" x=\"17.18\" y=\"20.132351\" xlink:href=\"#m463b1cb73d\" />\n",
       "      </g>\n",
       "     </g>\n",
       "     <g id=\"text_2\">\n",
       "      \n",
       "      <g style=\"fill:#444443;\" transform=\"translate(0 23.171726)scale(0.08 -0.08)\">\n",
       "       <defs>\n",
       "        <path d=\"M 31.78125 66.40625  Q 24.171875 66.40625 20.328125 58.90625  Q 16.5 51.421875 16.5 36.375  Q 16.5 21.390625 20.328125 13.890625  Q 24.171875 6.390625 31.78125 6.390625  Q 39.453125 6.390625 43.28125 13.890625  Q 47.125 21.390625 47.125 36.375  Q 47.125 51.421875 43.28125 58.90625  Q 39.453125 66.40625 31.78125 66.40625  z M 31.78125 74.21875  Q 44.046875 74.21875 50.515625 64.515625  Q 56.984375 54.828125 56.984375 36.375  Q 56.984375 17.96875 50.515625 8.265625  Q 44.046875 -1.421875 31.78125 -1.421875  Q 19.53125 -1.421875 13.0625 8.265625  Q 6.59375 17.96875 6.59375 36.375  Q 6.59375 54.828125 13.0625 64.515625  Q 19.53125 74.21875 31.78125 74.21875  z \" id=\"DejaVuSans-48\" />\n",
       "       </defs>\n",
       "       <use xlink:href=\"#DejaVuSans-53\" />\n",
       "       <use x=\"63.623047\" xlink:href=\"#DejaVuSans-48\" />\n",
       "      </g>\n",
       "     </g>\n",
       "    </g>\n",
       "    <g id=\"ytick_3\">\n",
       "     <g id=\"line2d_3\">\n",
       "      <g>\n",
       "       <use style=\"fill:#444443;stroke:#444443;stroke-width:0.3;\" x=\"17.18\" y=\"8.34526\" xlink:href=\"#m463b1cb73d\" />\n",
       "      </g>\n",
       "     </g>\n",
       "     <g id=\"text_3\">\n",
       "      \n",
       "      <g style=\"fill:#444443;\" transform=\"translate(0 11.384635)scale(0.08 -0.08)\">\n",
       "       <defs>\n",
       "        <path d=\"M 8.203125 72.90625  L 55.078125 72.90625  L 55.078125 68.703125  L 28.609375 0  L 18.3125 0  L 43.21875 64.59375  L 8.203125 64.59375  z \" id=\"DejaVuSans-55\" />\n",
       "       </defs>\n",
       "       <use xlink:href=\"#DejaVuSans-55\" />\n",
       "       <use x=\"63.623047\" xlink:href=\"#DejaVuSans-53\" />\n",
       "      </g>\n",
       "     </g>\n",
       "    </g>\n",
       "   </g>\n",
       "   <g id=\"line2d_4\">\n",
       "    <path clip-path=\"url(#p4ed1373d22)\" d=\"M 17.18 29.850599  L 70.553438 29.850599  \" style=\"fill:none;stroke:#444443;stroke-dasharray:3.7,1.6;stroke-dashoffset:0;\" />\n",
       "   </g>\n",
       "   <g id=\"patch_3\">\n",
       "    <path d=\"M 17.18 43.488  L 17.18 -0  \" style=\"fill:none;stroke:#000000;stroke-linecap:square;stroke-linejoin:miter;stroke-width:0.3;\" />\n",
       "   </g>\n",
       "   <g id=\"text_4\">\n",
       "    \n",
       "    <g style=\"fill:#444443;\" transform=\"translate(7.656563 52.836437)scale(0.1 -0.1)\">\n",
       "     <defs>\n",
       "      <path d=\"M 18.109375 8.203125  L 18.109375 -20.796875  L 9.078125 -20.796875  L 9.078125 54.6875  L 18.109375 54.6875  L 18.109375 46.390625  Q 20.953125 51.265625 25.265625 53.625  Q 29.59375 56 35.59375 56  Q 45.5625 56 51.78125 48.09375  Q 58.015625 40.1875 58.015625 27.296875  Q 58.015625 14.40625 51.78125 6.484375  Q 45.5625 -1.421875 35.59375 -1.421875  Q 29.59375 -1.421875 25.265625 0.953125  Q 20.953125 3.328125 18.109375 8.203125  z M 48.6875 27.296875  Q 48.6875 37.203125 44.609375 42.84375  Q 40.53125 48.484375 33.40625 48.484375  Q 26.265625 48.484375 22.1875 42.84375  Q 18.109375 37.203125 18.109375 27.296875  Q 18.109375 17.390625 22.1875 11.75  Q 26.265625 6.109375 33.40625 6.109375  Q 40.53125 6.109375 44.609375 11.75  Q 48.6875 17.390625 48.6875 27.296875  z \" id=\"DejaVuSans-112\" />\n",
       "      <path d=\"M 41.109375 46.296875  Q 39.59375 47.171875 37.8125 47.578125  Q 36.03125 48 33.890625 48  Q 26.265625 48 22.1875 43.046875  Q 18.109375 38.09375 18.109375 28.8125  L 18.109375 0  L 9.078125 0  L 9.078125 54.6875  L 18.109375 54.6875  L 18.109375 46.1875  Q 20.953125 51.171875 25.484375 53.578125  Q 30.03125 56 36.53125 56  Q 37.453125 56 38.578125 55.875  Q 39.703125 55.765625 41.0625 55.515625  z \" id=\"DejaVuSans-114\" />\n",
       "      <path d=\"M 9.421875 54.6875  L 18.40625 54.6875  L 18.40625 0  L 9.421875 0  z M 9.421875 75.984375  L 18.40625 75.984375  L 18.40625 64.59375  L 9.421875 64.59375  z \" id=\"DejaVuSans-105\" />\n",
       "      <path d=\"M 48.78125 52.59375  L 48.78125 44.1875  Q 44.96875 46.296875 41.140625 47.34375  Q 37.3125 48.390625 33.40625 48.390625  Q 24.65625 48.390625 19.8125 42.84375  Q 14.984375 37.3125 14.984375 27.296875  Q 14.984375 17.28125 19.8125 11.734375  Q 24.65625 6.203125 33.40625 6.203125  Q 37.3125 6.203125 41.140625 7.25  Q 44.96875 8.296875 48.78125 10.40625  L 48.78125 2.09375  Q 45.015625 0.34375 40.984375 -0.53125  Q 36.96875 -1.421875 32.421875 -1.421875  Q 20.0625 -1.421875 12.78125 6.34375  Q 5.515625 14.109375 5.515625 27.296875  Q 5.515625 40.671875 12.859375 48.328125  Q 20.21875 56 33.015625 56  Q 37.15625 56 41.109375 55.140625  Q 45.0625 54.296875 48.78125 52.59375  z \" id=\"DejaVuSans-99\" />\n",
       "      <path d=\"M 56.203125 29.59375  L 56.203125 25.203125  L 14.890625 25.203125  Q 15.484375 15.921875 20.484375 11.0625  Q 25.484375 6.203125 34.421875 6.203125  Q 39.59375 6.203125 44.453125 7.46875  Q 49.3125 8.734375 54.109375 11.28125  L 54.109375 2.78125  Q 49.265625 0.734375 44.1875 -0.34375  Q 39.109375 -1.421875 33.890625 -1.421875  Q 20.796875 -1.421875 13.15625 6.1875  Q 5.515625 13.8125 5.515625 26.8125  Q 5.515625 40.234375 12.765625 48.109375  Q 20.015625 56 32.328125 56  Q 43.359375 56 49.78125 48.890625  Q 56.203125 41.796875 56.203125 29.59375  z M 47.21875 32.234375  Q 47.125 39.59375 43.09375 43.984375  Q 39.0625 48.390625 32.421875 48.390625  Q 24.90625 48.390625 20.390625 44.140625  Q 15.875 39.890625 15.1875 32.171875  z \" id=\"DejaVuSans-101\" />\n",
       "      <path d=\"M 10.59375 45.40625  L 73.1875 45.40625  L 73.1875 37.203125  L 10.59375 37.203125  z M 10.59375 25.484375  L 73.1875 25.484375  L 73.1875 17.1875  L 10.59375 17.1875  z \" id=\"DejaVuSans-61\" />\n",
       "      <path d=\"M 10.984375 1.515625  L 10.984375 10.5  Q 14.703125 8.734375 18.5 7.8125  Q 22.3125 6.890625 25.984375 6.890625  Q 35.75 6.890625 40.890625 13.453125  Q 46.046875 20.015625 46.78125 33.40625  Q 43.953125 29.203125 39.59375 26.953125  Q 35.25 24.703125 29.984375 24.703125  Q 19.046875 24.703125 12.671875 31.3125  Q 6.296875 37.9375 6.296875 49.421875  Q 6.296875 60.640625 12.9375 67.421875  Q 19.578125 74.21875 30.609375 74.21875  Q 43.265625 74.21875 49.921875 64.515625  Q 56.59375 54.828125 56.59375 36.375  Q 56.59375 19.140625 48.40625 8.859375  Q 40.234375 -1.421875 26.421875 -1.421875  Q 22.703125 -1.421875 18.890625 -0.6875  Q 15.09375 0.046875 10.984375 1.515625  z M 30.609375 32.421875  Q 37.25 32.421875 41.125 36.953125  Q 45.015625 41.5 45.015625 49.421875  Q 45.015625 57.28125 41.125 61.84375  Q 37.25 66.40625 30.609375 66.40625  Q 23.96875 66.40625 20.09375 61.84375  Q 16.21875 57.28125 16.21875 49.421875  Q 16.21875 41.5 20.09375 36.953125  Q 23.96875 32.421875 30.609375 32.421875  z \" id=\"DejaVuSans-57\" />\n",
       "      <path d=\"M 10.6875 12.40625  L 21 12.40625  L 21 0  L 10.6875 0  z \" id=\"DejaVuSans-46\" />\n",
       "      <path d=\"M 40.578125 39.3125  Q 47.65625 37.796875 51.625 33  Q 55.609375 28.21875 55.609375 21.1875  Q 55.609375 10.40625 48.1875 4.484375  Q 40.765625 -1.421875 27.09375 -1.421875  Q 22.515625 -1.421875 17.65625 -0.515625  Q 12.796875 0.390625 7.625 2.203125  L 7.625 11.71875  Q 11.71875 9.328125 16.59375 8.109375  Q 21.484375 6.890625 26.8125 6.890625  Q 36.078125 6.890625 40.9375 10.546875  Q 45.796875 14.203125 45.796875 21.1875  Q 45.796875 27.640625 41.28125 31.265625  Q 36.765625 34.90625 28.71875 34.90625  L 20.21875 34.90625  L 20.21875 43.015625  L 29.109375 43.015625  Q 36.375 43.015625 40.234375 45.921875  Q 44.09375 48.828125 44.09375 54.296875  Q 44.09375 59.90625 40.109375 62.90625  Q 36.140625 65.921875 28.71875 65.921875  Q 24.65625 65.921875 20.015625 65.03125  Q 15.375 64.15625 9.8125 62.3125  L 9.8125 71.09375  Q 15.4375 72.65625 20.34375 73.4375  Q 25.25 74.21875 29.59375 74.21875  Q 40.828125 74.21875 47.359375 69.109375  Q 53.90625 64.015625 53.90625 55.328125  Q 53.90625 49.265625 50.4375 45.09375  Q 46.96875 40.921875 40.578125 39.3125  z \" id=\"DejaVuSans-51\" />\n",
       "     </defs>\n",
       "     <use xlink:href=\"#DejaVuSans-112\" />\n",
       "     <use x=\"63.476562\" xlink:href=\"#DejaVuSans-114\" />\n",
       "     <use x=\"104.589844\" xlink:href=\"#DejaVuSans-105\" />\n",
       "     <use x=\"132.373047\" xlink:href=\"#DejaVuSans-99\" />\n",
       "     <use x=\"187.353516\" xlink:href=\"#DejaVuSans-101\" />\n",
       "     <use x=\"248.876953\" xlink:href=\"#DejaVuSans-61\" />\n",
       "     <use x=\"332.666016\" xlink:href=\"#DejaVuSans-50\" />\n",
       "     <use x=\"396.289062\" xlink:href=\"#DejaVuSans-57\" />\n",
       "     <use x=\"459.912109\" xlink:href=\"#DejaVuSans-46\" />\n",
       "     <use x=\"491.699219\" xlink:href=\"#DejaVuSans-51\" />\n",
       "     <use x=\"555.322266\" xlink:href=\"#DejaVuSans-57\" />\n",
       "    </g>\n",
       "    \n",
       "    <g style=\"fill:#444443;\" transform=\"translate(24.883906 64.03425)scale(0.1 -0.1)\">\n",
       "     <defs>\n",
       "      <path d=\"M 54.890625 33.015625  L 54.890625 0  L 45.90625 0  L 45.90625 32.71875  Q 45.90625 40.484375 42.875 44.328125  Q 39.84375 48.1875 33.796875 48.1875  Q 26.515625 48.1875 22.3125 43.546875  Q 18.109375 38.921875 18.109375 30.90625  L 18.109375 0  L 9.078125 0  L 9.078125 54.6875  L 18.109375 54.6875  L 18.109375 46.1875  Q 21.34375 51.125 25.703125 53.5625  Q 30.078125 56 35.796875 56  Q 45.21875 56 50.046875 50.171875  Q 54.890625 44.34375 54.890625 33.015625  z \" id=\"DejaVuSans-110\" />\n",
       "      <path d=\"M 37.796875 64.3125  L 12.890625 25.390625  L 37.796875 25.390625  z M 35.203125 72.90625  L 47.609375 72.90625  L 47.609375 25.390625  L 58.015625 25.390625  L 58.015625 17.1875  L 47.609375 17.1875  L 47.609375 0  L 37.796875 0  L 37.796875 17.1875  L 4.890625 17.1875  L 4.890625 26.703125  z \" id=\"DejaVuSans-52\" />\n",
       "     </defs>\n",
       "     <use xlink:href=\"#DejaVuSans-110\" />\n",
       "     <use x=\"63.378906\" xlink:href=\"#DejaVuSans-61\" />\n",
       "     <use x=\"147.167969\" xlink:href=\"#DejaVuSans-51\" />\n",
       "     <use x=\"210.791016\" xlink:href=\"#DejaVuSans-52\" />\n",
       "    </g>\n",
       "   </g>\n",
       "  </g>\n",
       " </g>\n",
       " <defs>\n",
       "  <clipPath id=\"p4ed1373d22\">\n",
       "   <rect height=\"43.488\" width=\"41.85\" x=\"17.18\" y=\"-0\" />\n",
       "  </clipPath>\n",
       " </defs>\n",
       "</svg></g>\n",
       "\n",
       "<g class=\"edge\" id=\"edge2\">\n",
       "<title>node3-&gt;leaf6</title>\n",
       "<path d=\"M456.04,-83.49C460.55,-81.77 464.97,-80.09 469.17,-78.49\" fill=\"none\" stroke=\"#444443\" stroke-width=\"0.3\" />\n",
       "<polygon fill=\"#444443\" points=\"469.73,-79.78 472.97,-77.05 468.74,-77.16 469.73,-79.78\" stroke=\"#444443\" stroke-width=\"0.3\" />\n",
       "</g>\n",
       "\n",
       "<g class=\"node\" id=\"node6\">\n",
       "<title>leaf4</title>\n",
       "<polygon fill=\"none\" points=\"418,-58 358,-58 358,0 418,0 418,-58\" stroke=\"black\" stroke-width=\"0\" />\n",
       "<svg height=\"50px\" preserveAspectRatio=\"xMinYMin meet\" version=\"1.1\" viewBox=\"0 0 69.553438 66.113937\" width=\"52px\" x=\"362\" y=\"-54\">\n",
       " <metadata>\n",
       "  <rdf:RDF>\n",
       "   <ns2:Work>\n",
       "    <dc:type rdf:resource=\"http://purl.org/dc/dcmitype/StillImage\" />\n",
       "    <dc:date>2020-10-20T23:26:29.931441</dc:date>\n",
       "    <dc:format>image/svg+xml</dc:format>\n",
       "    <dc:creator>\n",
       "     <ns2:Agent>\n",
       "      <dc:title>Matplotlib v3.3.1, https://matplotlib.org/</dc:title>\n",
       "     </ns2:Agent>\n",
       "    </dc:creator>\n",
       "   </ns2:Work>\n",
       "  </rdf:RDF>\n",
       " </metadata>\n",
       " <defs>\n",
       "  <style type=\"text/css\">*{stroke-linecap:butt;stroke-linejoin:round;}</style>\n",
       " </defs>\n",
       " <g id=\"figure_1\">\n",
       "  <g id=\"patch_1\">\n",
       "   <path d=\"M -0 66.113937  L 69.553438 66.113937  L 69.553438 0  L -0 0  z \" style=\"fill:none;\" />\n",
       "  </g>\n",
       "  <g id=\"axes_1\">\n",
       "   <g id=\"patch_2\">\n",
       "    <path d=\"M 17.18 43.488  L 59.03 43.488  L 59.03 -0  L 17.18 -0  z \" style=\"fill:#ffffff;\" />\n",
       "   </g>\n",
       "   <g id=\"PathCollection_1\">\n",
       "    <defs>\n",
       "     <path d=\"M 0 1.118034  C 0.296506 1.118034 0.580908 1.000231 0.790569 0.790569  C 1.000231 0.580908 1.118034 0.296506 1.118034 0  C 1.118034 -0.296506 1.000231 -0.580908 0.790569 -0.790569  C 0.580908 -1.000231 0.296506 -1.118034 0 -1.118034  C -0.296506 -1.118034 -0.580908 -1.000231 -0.790569 -0.790569  C -1.000231 -0.580908 -1.118034 -0.296506 -1.118034 0  C -1.118034 0.296506 -1.000231 0.580908 -0.790569 0.790569  C -0.580908 1.000231 -0.296506 1.118034 0 1.118034  z \" id=\"mcbaee512a1\" style=\"stroke:#225ea8;stroke-opacity:0.25;stroke-width:0.3;\" />\n",
       "    </defs>\n",
       "    <g clip-path=\"url(#p27864e7dbb)\">\n",
       "     <use style=\"fill:#225ea8;fill-opacity:0.25;stroke:#225ea8;stroke-opacity:0.25;stroke-width:0.3;\" x=\"37.924711\" y=\"29.562024\" xlink:href=\"#mcbaee512a1\" />\n",
       "     <use style=\"fill:#225ea8;fill-opacity:0.25;stroke:#225ea8;stroke-opacity:0.25;stroke-width:0.3;\" x=\"35.592457\" y=\"29.788336\" xlink:href=\"#mcbaee512a1\" />\n",
       "     <use style=\"fill:#225ea8;fill-opacity:0.25;stroke:#225ea8;stroke-opacity:0.25;stroke-width:0.3;\" x=\"39.138699\" y=\"32.390925\" xlink:href=\"#mcbaee512a1\" />\n",
       "     <use style=\"fill:#225ea8;fill-opacity:0.25;stroke:#225ea8;stroke-opacity:0.25;stroke-width:0.3;\" x=\"44.536356\" y=\"24.847187\" xlink:href=\"#mcbaee512a1\" />\n",
       "     <use style=\"fill:#225ea8;fill-opacity:0.25;stroke:#225ea8;stroke-opacity:0.25;stroke-width:0.3;\" x=\"37.700909\" y=\"38.638084\" xlink:href=\"#mcbaee512a1\" />\n",
       "     <use style=\"fill:#225ea8;fill-opacity:0.25;stroke:#225ea8;stroke-opacity:0.25;stroke-width:0.3;\" x=\"30.218698\" y=\"35.889334\" xlink:href=\"#mcbaee512a1\" />\n",
       "     <use style=\"fill:#225ea8;fill-opacity:0.25;stroke:#225ea8;stroke-opacity:0.25;stroke-width:0.3;\" x=\"40.281456\" y=\"15.063902\" xlink:href=\"#mcbaee512a1\" />\n",
       "     <use style=\"fill:#225ea8;fill-opacity:0.25;stroke:#225ea8;stroke-opacity:0.25;stroke-width:0.3;\" x=\"39.264848\" y=\"39.896945\" xlink:href=\"#mcbaee512a1\" />\n",
       "     <use style=\"fill:#225ea8;fill-opacity:0.25;stroke:#225ea8;stroke-opacity:0.25;stroke-width:0.3;\" x=\"38.40673\" y=\"22.489769\" xlink:href=\"#mcbaee512a1\" />\n",
       "     <use style=\"fill:#225ea8;fill-opacity:0.25;stroke:#225ea8;stroke-opacity:0.25;stroke-width:0.3;\" x=\"37.371195\" y=\"8.34526\" xlink:href=\"#mcbaee512a1\" />\n",
       "     <use style=\"fill:#225ea8;fill-opacity:0.25;stroke:#225ea8;stroke-opacity:0.25;stroke-width:0.3;\" x=\"35.402253\" y=\"22.961253\" xlink:href=\"#mcbaee512a1\" />\n",
       "     <use style=\"fill:#225ea8;fill-opacity:0.25;stroke:#225ea8;stroke-opacity:0.25;stroke-width:0.3;\" x=\"43.177134\" y=\"29.797766\" xlink:href=\"#mcbaee512a1\" />\n",
       "     <use style=\"fill:#225ea8;fill-opacity:0.25;stroke:#225ea8;stroke-opacity:0.25;stroke-width:0.3;\" x=\"31.95034\" y=\"20.132351\" xlink:href=\"#mcbaee512a1\" />\n",
       "     <use style=\"fill:#225ea8;fill-opacity:0.25;stroke:#225ea8;stroke-opacity:0.25;stroke-width:0.3;\" x=\"37.070598\" y=\"22.961253\" xlink:href=\"#mcbaee512a1\" />\n",
       "     <use style=\"fill:#225ea8;fill-opacity:0.25;stroke:#225ea8;stroke-opacity:0.25;stroke-width:0.3;\" x=\"36.992325\" y=\"32.772827\" xlink:href=\"#mcbaee512a1\" />\n",
       "     <use style=\"fill:#225ea8;fill-opacity:0.25;stroke:#225ea8;stroke-opacity:0.25;stroke-width:0.3;\" x=\"40.962323\" y=\"15.582533\" xlink:href=\"#mcbaee512a1\" />\n",
       "     <use style=\"fill:#225ea8;fill-opacity:0.25;stroke:#225ea8;stroke-opacity:0.25;stroke-width:0.3;\" x=\"42.241992\" y=\"22.489769\" xlink:href=\"#mcbaee512a1\" />\n",
       "     <use style=\"fill:#225ea8;fill-opacity:0.25;stroke:#225ea8;stroke-opacity:0.25;stroke-width:0.3;\" x=\"37.345895\" y=\"23.90422\" xlink:href=\"#mcbaee512a1\" />\n",
       "     <use style=\"fill:#225ea8;fill-opacity:0.25;stroke:#225ea8;stroke-opacity:0.25;stroke-width:0.3;\" x=\"38.75105\" y=\"1.273006\" xlink:href=\"#mcbaee512a1\" />\n",
       "    </g>\n",
       "   </g>\n",
       "   <g id=\"matplotlib.axis_1\" />\n",
       "   <g id=\"matplotlib.axis_2\">\n",
       "    <g id=\"ytick_1\">\n",
       "     <g id=\"line2d_1\">\n",
       "      <defs>\n",
       "       <path d=\"M 0 0  L -3.5 0  \" id=\"m9506a0f584\" style=\"stroke:#444443;stroke-width:0.3;\" />\n",
       "      </defs>\n",
       "      <g>\n",
       "       <use style=\"fill:#444443;stroke:#444443;stroke-width:0.3;\" x=\"17.18\" y=\"31.919442\" xlink:href=\"#m9506a0f584\" />\n",
       "      </g>\n",
       "     </g>\n",
       "     <g id=\"text_1\">\n",
       "      \n",
       "      <g style=\"fill:#444443;\" transform=\"translate(0 34.958817)scale(0.08 -0.08)\">\n",
       "       <defs>\n",
       "        <path d=\"M 19.1875 8.296875  L 53.609375 8.296875  L 53.609375 0  L 7.328125 0  L 7.328125 8.296875  Q 12.9375 14.109375 22.625 23.890625  Q 32.328125 33.6875 34.8125 36.53125  Q 39.546875 41.84375 41.421875 45.53125  Q 43.3125 49.21875 43.3125 52.78125  Q 43.3125 58.59375 39.234375 62.25  Q 35.15625 65.921875 28.609375 65.921875  Q 23.96875 65.921875 18.8125 64.3125  Q 13.671875 62.703125 7.8125 59.421875  L 7.8125 69.390625  Q 13.765625 71.78125 18.9375 73  Q 24.125 74.21875 28.421875 74.21875  Q 39.75 74.21875 46.484375 68.546875  Q 53.21875 62.890625 53.21875 53.421875  Q 53.21875 48.921875 51.53125 44.890625  Q 49.859375 40.875 45.40625 35.40625  Q 44.1875 33.984375 37.640625 27.21875  Q 31.109375 20.453125 19.1875 8.296875  z \" id=\"DejaVuSans-50\" />\n",
       "        <path d=\"M 10.796875 72.90625  L 49.515625 72.90625  L 49.515625 64.59375  L 19.828125 64.59375  L 19.828125 46.734375  Q 21.96875 47.46875 24.109375 47.828125  Q 26.265625 48.1875 28.421875 48.1875  Q 40.625 48.1875 47.75 41.5  Q 54.890625 34.8125 54.890625 23.390625  Q 54.890625 11.625 47.5625 5.09375  Q 40.234375 -1.421875 26.90625 -1.421875  Q 22.3125 -1.421875 17.546875 -0.640625  Q 12.796875 0.140625 7.71875 1.703125  L 7.71875 11.625  Q 12.109375 9.234375 16.796875 8.0625  Q 21.484375 6.890625 26.703125 6.890625  Q 35.15625 6.890625 40.078125 11.328125  Q 45.015625 15.765625 45.015625 23.390625  Q 45.015625 31 40.078125 35.4375  Q 35.15625 39.890625 26.703125 39.890625  Q 22.75 39.890625 18.8125 39.015625  Q 14.890625 38.140625 10.796875 36.28125  z \" id=\"DejaVuSans-53\" />\n",
       "       </defs>\n",
       "       <use xlink:href=\"#DejaVuSans-50\" />\n",
       "       <use x=\"63.623047\" xlink:href=\"#DejaVuSans-53\" />\n",
       "      </g>\n",
       "     </g>\n",
       "    </g>\n",
       "    <g id=\"ytick_2\">\n",
       "     <g id=\"line2d_2\">\n",
       "      <g>\n",
       "       <use style=\"fill:#444443;stroke:#444443;stroke-width:0.3;\" x=\"17.18\" y=\"20.132351\" xlink:href=\"#m9506a0f584\" />\n",
       "      </g>\n",
       "     </g>\n",
       "     <g id=\"text_2\">\n",
       "      \n",
       "      <g style=\"fill:#444443;\" transform=\"translate(0 23.171726)scale(0.08 -0.08)\">\n",
       "       <defs>\n",
       "        <path d=\"M 31.78125 66.40625  Q 24.171875 66.40625 20.328125 58.90625  Q 16.5 51.421875 16.5 36.375  Q 16.5 21.390625 20.328125 13.890625  Q 24.171875 6.390625 31.78125 6.390625  Q 39.453125 6.390625 43.28125 13.890625  Q 47.125 21.390625 47.125 36.375  Q 47.125 51.421875 43.28125 58.90625  Q 39.453125 66.40625 31.78125 66.40625  z M 31.78125 74.21875  Q 44.046875 74.21875 50.515625 64.515625  Q 56.984375 54.828125 56.984375 36.375  Q 56.984375 17.96875 50.515625 8.265625  Q 44.046875 -1.421875 31.78125 -1.421875  Q 19.53125 -1.421875 13.0625 8.265625  Q 6.59375 17.96875 6.59375 36.375  Q 6.59375 54.828125 13.0625 64.515625  Q 19.53125 74.21875 31.78125 74.21875  z \" id=\"DejaVuSans-48\" />\n",
       "       </defs>\n",
       "       <use xlink:href=\"#DejaVuSans-53\" />\n",
       "       <use x=\"63.623047\" xlink:href=\"#DejaVuSans-48\" />\n",
       "      </g>\n",
       "     </g>\n",
       "    </g>\n",
       "    <g id=\"ytick_3\">\n",
       "     <g id=\"line2d_3\">\n",
       "      <g>\n",
       "       <use style=\"fill:#444443;stroke:#444443;stroke-width:0.3;\" x=\"17.18\" y=\"8.34526\" xlink:href=\"#m9506a0f584\" />\n",
       "      </g>\n",
       "     </g>\n",
       "     <g id=\"text_3\">\n",
       "      \n",
       "      <g style=\"fill:#444443;\" transform=\"translate(0 11.384635)scale(0.08 -0.08)\">\n",
       "       <defs>\n",
       "        <path d=\"M 8.203125 72.90625  L 55.078125 72.90625  L 55.078125 68.703125  L 28.609375 0  L 18.3125 0  L 43.21875 64.59375  L 8.203125 64.59375  z \" id=\"DejaVuSans-55\" />\n",
       "       </defs>\n",
       "       <use xlink:href=\"#DejaVuSans-55\" />\n",
       "       <use x=\"63.623047\" xlink:href=\"#DejaVuSans-53\" />\n",
       "      </g>\n",
       "     </g>\n",
       "    </g>\n",
       "   </g>\n",
       "   <g id=\"line2d_4\">\n",
       "    <path clip-path=\"url(#p27864e7dbb)\" d=\"M 17.18 24.672985  L 70.553438 24.672985  \" style=\"fill:none;stroke:#444443;stroke-dasharray:3.7,1.6;stroke-dashoffset:0;\" />\n",
       "   </g>\n",
       "   <g id=\"patch_3\">\n",
       "    <path d=\"M 17.18 43.488  L 17.18 -0  \" style=\"fill:none;stroke:#000000;stroke-linecap:square;stroke-linejoin:miter;stroke-width:0.3;\" />\n",
       "   </g>\n",
       "   <g id=\"text_4\">\n",
       "    \n",
       "    <g style=\"fill:#444443;\" transform=\"translate(7.656563 52.836437)scale(0.1 -0.1)\">\n",
       "     <defs>\n",
       "      <path d=\"M 18.109375 8.203125  L 18.109375 -20.796875  L 9.078125 -20.796875  L 9.078125 54.6875  L 18.109375 54.6875  L 18.109375 46.390625  Q 20.953125 51.265625 25.265625 53.625  Q 29.59375 56 35.59375 56  Q 45.5625 56 51.78125 48.09375  Q 58.015625 40.1875 58.015625 27.296875  Q 58.015625 14.40625 51.78125 6.484375  Q 45.5625 -1.421875 35.59375 -1.421875  Q 29.59375 -1.421875 25.265625 0.953125  Q 20.953125 3.328125 18.109375 8.203125  z M 48.6875 27.296875  Q 48.6875 37.203125 44.609375 42.84375  Q 40.53125 48.484375 33.40625 48.484375  Q 26.265625 48.484375 22.1875 42.84375  Q 18.109375 37.203125 18.109375 27.296875  Q 18.109375 17.390625 22.1875 11.75  Q 26.265625 6.109375 33.40625 6.109375  Q 40.53125 6.109375 44.609375 11.75  Q 48.6875 17.390625 48.6875 27.296875  z \" id=\"DejaVuSans-112\" />\n",
       "      <path d=\"M 41.109375 46.296875  Q 39.59375 47.171875 37.8125 47.578125  Q 36.03125 48 33.890625 48  Q 26.265625 48 22.1875 43.046875  Q 18.109375 38.09375 18.109375 28.8125  L 18.109375 0  L 9.078125 0  L 9.078125 54.6875  L 18.109375 54.6875  L 18.109375 46.1875  Q 20.953125 51.171875 25.484375 53.578125  Q 30.03125 56 36.53125 56  Q 37.453125 56 38.578125 55.875  Q 39.703125 55.765625 41.0625 55.515625  z \" id=\"DejaVuSans-114\" />\n",
       "      <path d=\"M 9.421875 54.6875  L 18.40625 54.6875  L 18.40625 0  L 9.421875 0  z M 9.421875 75.984375  L 18.40625 75.984375  L 18.40625 64.59375  L 9.421875 64.59375  z \" id=\"DejaVuSans-105\" />\n",
       "      <path d=\"M 48.78125 52.59375  L 48.78125 44.1875  Q 44.96875 46.296875 41.140625 47.34375  Q 37.3125 48.390625 33.40625 48.390625  Q 24.65625 48.390625 19.8125 42.84375  Q 14.984375 37.3125 14.984375 27.296875  Q 14.984375 17.28125 19.8125 11.734375  Q 24.65625 6.203125 33.40625 6.203125  Q 37.3125 6.203125 41.140625 7.25  Q 44.96875 8.296875 48.78125 10.40625  L 48.78125 2.09375  Q 45.015625 0.34375 40.984375 -0.53125  Q 36.96875 -1.421875 32.421875 -1.421875  Q 20.0625 -1.421875 12.78125 6.34375  Q 5.515625 14.109375 5.515625 27.296875  Q 5.515625 40.671875 12.859375 48.328125  Q 20.21875 56 33.015625 56  Q 37.15625 56 41.109375 55.140625  Q 45.0625 54.296875 48.78125 52.59375  z \" id=\"DejaVuSans-99\" />\n",
       "      <path d=\"M 56.203125 29.59375  L 56.203125 25.203125  L 14.890625 25.203125  Q 15.484375 15.921875 20.484375 11.0625  Q 25.484375 6.203125 34.421875 6.203125  Q 39.59375 6.203125 44.453125 7.46875  Q 49.3125 8.734375 54.109375 11.28125  L 54.109375 2.78125  Q 49.265625 0.734375 44.1875 -0.34375  Q 39.109375 -1.421875 33.890625 -1.421875  Q 20.796875 -1.421875 13.15625 6.1875  Q 5.515625 13.8125 5.515625 26.8125  Q 5.515625 40.234375 12.765625 48.109375  Q 20.015625 56 32.328125 56  Q 43.359375 56 49.78125 48.890625  Q 56.203125 41.796875 56.203125 29.59375  z M 47.21875 32.234375  Q 47.125 39.59375 43.09375 43.984375  Q 39.0625 48.390625 32.421875 48.390625  Q 24.90625 48.390625 20.390625 44.140625  Q 15.875 39.890625 15.1875 32.171875  z \" id=\"DejaVuSans-101\" />\n",
       "      <path d=\"M 10.59375 45.40625  L 73.1875 45.40625  L 73.1875 37.203125  L 10.59375 37.203125  z M 10.59375 25.484375  L 73.1875 25.484375  L 73.1875 17.1875  L 10.59375 17.1875  z \" id=\"DejaVuSans-61\" />\n",
       "      <path d=\"M 37.796875 64.3125  L 12.890625 25.390625  L 37.796875 25.390625  z M 35.203125 72.90625  L 47.609375 72.90625  L 47.609375 25.390625  L 58.015625 25.390625  L 58.015625 17.1875  L 47.609375 17.1875  L 47.609375 0  L 37.796875 0  L 37.796875 17.1875  L 4.890625 17.1875  L 4.890625 26.703125  z \" id=\"DejaVuSans-52\" />\n",
       "      <path d=\"M 10.6875 12.40625  L 21 12.40625  L 21 0  L 10.6875 0  z \" id=\"DejaVuSans-46\" />\n",
       "      <path d=\"M 40.578125 39.3125  Q 47.65625 37.796875 51.625 33  Q 55.609375 28.21875 55.609375 21.1875  Q 55.609375 10.40625 48.1875 4.484375  Q 40.765625 -1.421875 27.09375 -1.421875  Q 22.515625 -1.421875 17.65625 -0.515625  Q 12.796875 0.390625 7.625 2.203125  L 7.625 11.71875  Q 11.71875 9.328125 16.59375 8.109375  Q 21.484375 6.890625 26.8125 6.890625  Q 36.078125 6.890625 40.9375 10.546875  Q 45.796875 14.203125 45.796875 21.1875  Q 45.796875 27.640625 41.28125 31.265625  Q 36.765625 34.90625 28.71875 34.90625  L 20.21875 34.90625  L 20.21875 43.015625  L 29.109375 43.015625  Q 36.375 43.015625 40.234375 45.921875  Q 44.09375 48.828125 44.09375 54.296875  Q 44.09375 59.90625 40.109375 62.90625  Q 36.140625 65.921875 28.71875 65.921875  Q 24.65625 65.921875 20.015625 65.03125  Q 15.375 64.15625 9.8125 62.3125  L 9.8125 71.09375  Q 15.4375 72.65625 20.34375 73.4375  Q 25.25 74.21875 29.59375 74.21875  Q 40.828125 74.21875 47.359375 69.109375  Q 53.90625 64.015625 53.90625 55.328125  Q 53.90625 49.265625 50.4375 45.09375  Q 46.96875 40.921875 40.578125 39.3125  z \" id=\"DejaVuSans-51\" />\n",
       "     </defs>\n",
       "     <use xlink:href=\"#DejaVuSans-112\" />\n",
       "     <use x=\"63.476562\" xlink:href=\"#DejaVuSans-114\" />\n",
       "     <use x=\"104.589844\" xlink:href=\"#DejaVuSans-105\" />\n",
       "     <use x=\"132.373047\" xlink:href=\"#DejaVuSans-99\" />\n",
       "     <use x=\"187.353516\" xlink:href=\"#DejaVuSans-101\" />\n",
       "     <use x=\"248.876953\" xlink:href=\"#DejaVuSans-61\" />\n",
       "     <use x=\"332.666016\" xlink:href=\"#DejaVuSans-52\" />\n",
       "     <use x=\"396.289062\" xlink:href=\"#DejaVuSans-48\" />\n",
       "     <use x=\"459.912109\" xlink:href=\"#DejaVuSans-46\" />\n",
       "     <use x=\"491.699219\" xlink:href=\"#DejaVuSans-51\" />\n",
       "     <use x=\"555.322266\" xlink:href=\"#DejaVuSans-55\" />\n",
       "    </g>\n",
       "    \n",
       "    <g style=\"fill:#444443;\" transform=\"translate(24.883906 64.03425)scale(0.1 -0.1)\">\n",
       "     <defs>\n",
       "      <path d=\"M 54.890625 33.015625  L 54.890625 0  L 45.90625 0  L 45.90625 32.71875  Q 45.90625 40.484375 42.875 44.328125  Q 39.84375 48.1875 33.796875 48.1875  Q 26.515625 48.1875 22.3125 43.546875  Q 18.109375 38.921875 18.109375 30.90625  L 18.109375 0  L 9.078125 0  L 9.078125 54.6875  L 18.109375 54.6875  L 18.109375 46.1875  Q 21.34375 51.125 25.703125 53.5625  Q 30.078125 56 35.796875 56  Q 45.21875 56 50.046875 50.171875  Q 54.890625 44.34375 54.890625 33.015625  z \" id=\"DejaVuSans-110\" />\n",
       "      <path d=\"M 12.40625 8.296875  L 28.515625 8.296875  L 28.515625 63.921875  L 10.984375 60.40625  L 10.984375 69.390625  L 28.421875 72.90625  L 38.28125 72.90625  L 38.28125 8.296875  L 54.390625 8.296875  L 54.390625 0  L 12.40625 0  z \" id=\"DejaVuSans-49\" />\n",
       "      <path d=\"M 10.984375 1.515625  L 10.984375 10.5  Q 14.703125 8.734375 18.5 7.8125  Q 22.3125 6.890625 25.984375 6.890625  Q 35.75 6.890625 40.890625 13.453125  Q 46.046875 20.015625 46.78125 33.40625  Q 43.953125 29.203125 39.59375 26.953125  Q 35.25 24.703125 29.984375 24.703125  Q 19.046875 24.703125 12.671875 31.3125  Q 6.296875 37.9375 6.296875 49.421875  Q 6.296875 60.640625 12.9375 67.421875  Q 19.578125 74.21875 30.609375 74.21875  Q 43.265625 74.21875 49.921875 64.515625  Q 56.59375 54.828125 56.59375 36.375  Q 56.59375 19.140625 48.40625 8.859375  Q 40.234375 -1.421875 26.421875 -1.421875  Q 22.703125 -1.421875 18.890625 -0.6875  Q 15.09375 0.046875 10.984375 1.515625  z M 30.609375 32.421875  Q 37.25 32.421875 41.125 36.953125  Q 45.015625 41.5 45.015625 49.421875  Q 45.015625 57.28125 41.125 61.84375  Q 37.25 66.40625 30.609375 66.40625  Q 23.96875 66.40625 20.09375 61.84375  Q 16.21875 57.28125 16.21875 49.421875  Q 16.21875 41.5 20.09375 36.953125  Q 23.96875 32.421875 30.609375 32.421875  z \" id=\"DejaVuSans-57\" />\n",
       "     </defs>\n",
       "     <use xlink:href=\"#DejaVuSans-110\" />\n",
       "     <use x=\"63.378906\" xlink:href=\"#DejaVuSans-61\" />\n",
       "     <use x=\"147.167969\" xlink:href=\"#DejaVuSans-49\" />\n",
       "     <use x=\"210.791016\" xlink:href=\"#DejaVuSans-57\" />\n",
       "    </g>\n",
       "   </g>\n",
       "  </g>\n",
       " </g>\n",
       " <defs>\n",
       "  <clipPath id=\"p27864e7dbb\">\n",
       "   <rect height=\"43.488\" width=\"41.85\" x=\"17.18\" y=\"-0\" />\n",
       "  </clipPath>\n",
       " </defs>\n",
       "</svg></g>\n",
       "\n",
       "\n",
       "<g class=\"node\" id=\"node2\">\n",
       "<title>node2</title>\n",
       "<svg height=\"66px\" preserveAspectRatio=\"xMinYMin meet\" version=\"1.1\" viewBox=\"0 0 168.13125 88.216625\" width=\"126px\" x=\"173\" y=\"-101\">\n",
       " <metadata>\n",
       "  <rdf:RDF>\n",
       "   <ns2:Work>\n",
       "    <dc:type rdf:resource=\"http://purl.org/dc/dcmitype/StillImage\" />\n",
       "    <dc:date>2020-10-20T23:26:29.457363</dc:date>\n",
       "    <dc:format>image/svg+xml</dc:format>\n",
       "    <dc:creator>\n",
       "     <ns2:Agent>\n",
       "      <dc:title>Matplotlib v3.3.1, https://matplotlib.org/</dc:title>\n",
       "     </ns2:Agent>\n",
       "    </dc:creator>\n",
       "   </ns2:Work>\n",
       "  </rdf:RDF>\n",
       " </metadata>\n",
       " <defs>\n",
       "  <style type=\"text/css\">*{stroke-linecap:butt;stroke-linejoin:round;}</style>\n",
       " </defs>\n",
       " <g id=\"figure_1\">\n",
       "  <g id=\"patch_1\">\n",
       "   <path d=\"M 0 88.216625  L 168.13125 88.216625  L 168.13125 -0  L 0 -0  z \" style=\"fill:none;\" />\n",
       "  </g>\n",
       "  <g id=\"axes_1\">\n",
       "   <g id=\"patch_2\">\n",
       "    <path d=\"M 17.18 59.796  L 156.68 59.796  L 156.68 -0  L 17.18 -0  z \" style=\"fill:#ffffff;\" />\n",
       "   </g>\n",
       "   <g id=\"PathCollection_1\">\n",
       "    <defs>\n",
       "     <path d=\"M 0 1.118034  C 0.296506 1.118034 0.580908 1.000231 0.790569 0.790569  C 1.000231 0.580908 1.118034 0.296506 1.118034 0  C 1.118034 -0.296506 1.000231 -0.580908 0.790569 -0.790569  C 0.580908 -1.000231 0.296506 -1.118034 0 -1.118034  C -0.296506 -1.118034 -0.580908 -1.000231 -0.790569 -0.790569  C -1.000231 -0.580908 -1.118034 -0.296506 -1.118034 0  C -1.118034 0.296506 -1.000231 0.580908 -0.790569 0.790569  C -0.580908 1.000231 -0.296506 1.118034 0 1.118034  z \" id=\"mdcd0dc2898\" style=\"stroke:#4575b4;stroke-opacity:0.4;stroke-width:0.3;\" />\n",
       "    </defs>\n",
       "    <g clip-path=\"url(#paeb9d39d36)\">\n",
       "     <use style=\"fill:#4575b4;fill-opacity:0.4;stroke:#4575b4;stroke-opacity:0.4;stroke-width:0.3;\" x=\"80.137245\" y=\"46.482393\" xlink:href=\"#mdcd0dc2898\" />\n",
       "     <use style=\"fill:#4575b4;fill-opacity:0.4;stroke:#4575b4;stroke-opacity:0.4;stroke-width:0.3;\" x=\"137.428335\" y=\"40.647783\" xlink:href=\"#mdcd0dc2898\" />\n",
       "     <use style=\"fill:#4575b4;fill-opacity:0.4;stroke:#4575b4;stroke-opacity:0.4;stroke-width:0.3;\" x=\"78.149121\" y=\"41.620218\" xlink:href=\"#mdcd0dc2898\" />\n",
       "     <use style=\"fill:#4575b4;fill-opacity:0.4;stroke:#4575b4;stroke-opacity:0.4;stroke-width:0.3;\" x=\"75.001259\" y=\"38.618634\" xlink:href=\"#mdcd0dc2898\" />\n",
       "     <use style=\"fill:#4575b4;fill-opacity:0.4;stroke:#4575b4;stroke-opacity:0.4;stroke-width:0.3;\" x=\"80.137245\" y=\"36.861769\" xlink:href=\"#mdcd0dc2898\" />\n",
       "     <use style=\"fill:#4575b4;fill-opacity:0.4;stroke:#4575b4;stroke-opacity:0.4;stroke-width:0.3;\" x=\"98.36171\" y=\"40.958961\" xlink:href=\"#mdcd0dc2898\" />\n",
       "     <use style=\"fill:#4575b4;fill-opacity:0.4;stroke:#4575b4;stroke-opacity:0.4;stroke-width:0.3;\" x=\"73.013135\" y=\"50.372133\" xlink:href=\"#mdcd0dc2898\" />\n",
       "     <use style=\"fill:#4575b4;fill-opacity:0.4;stroke:#4575b4;stroke-opacity:0.4;stroke-width:0.3;\" x=\"72.714919\" y=\"43.889233\" xlink:href=\"#mdcd0dc2898\" />\n",
       "     <use style=\"fill:#4575b4;fill-opacity:0.4;stroke:#4575b4;stroke-opacity:0.4;stroke-width:0.3;\" x=\"106.943775\" y=\"44.537523\" xlink:href=\"#mdcd0dc2898\" />\n",
       "     <use style=\"fill:#4575b4;fill-opacity:0.4;stroke:#4575b4;stroke-opacity:0.4;stroke-width:0.3;\" x=\"97.168834\" y=\"34.164883\" xlink:href=\"#mdcd0dc2898\" />\n",
       "     <use style=\"fill:#4575b4;fill-opacity:0.4;stroke:#4575b4;stroke-opacity:0.4;stroke-width:0.3;\" x=\"72.721542\" y=\"34.521442\" xlink:href=\"#mdcd0dc2898\" />\n",
       "     <use style=\"fill:#4575b4;fill-opacity:0.4;stroke:#4575b4;stroke-opacity:0.4;stroke-width:0.3;\" x=\"78.149121\" y=\"48.751408\" xlink:href=\"#mdcd0dc2898\" />\n",
       "     <use style=\"fill:#4575b4;fill-opacity:0.4;stroke:#4575b4;stroke-opacity:0.4;stroke-width:0.3;\" x=\"82.522992\" y=\"40.472744\" xlink:href=\"#mdcd0dc2898\" />\n",
       "     <use style=\"fill:#4575b4;fill-opacity:0.4;stroke:#4575b4;stroke-opacity:0.4;stroke-width:0.3;\" x=\"78.149121\" y=\"49.399698\" xlink:href=\"#mdcd0dc2898\" />\n",
       "     <use style=\"fill:#4575b4;fill-opacity:0.4;stroke:#4575b4;stroke-opacity:0.4;stroke-width:0.3;\" x=\"80.137245\" y=\"46.158248\" xlink:href=\"#mdcd0dc2898\" />\n",
       "     <use style=\"fill:#4575b4;fill-opacity:0.4;stroke:#4575b4;stroke-opacity:0.4;stroke-width:0.3;\" x=\"76.658029\" y=\"52.641147\" xlink:href=\"#mdcd0dc2898\" />\n",
       "     <use style=\"fill:#4575b4;fill-opacity:0.4;stroke:#4575b4;stroke-opacity:0.4;stroke-width:0.3;\" x=\"123.544608\" y=\"53.127365\" xlink:href=\"#mdcd0dc2898\" />\n",
       "     <use style=\"fill:#4575b4;fill-opacity:0.4;stroke:#4575b4;stroke-opacity:0.4;stroke-width:0.3;\" x=\"81.562068\" y=\"54.676778\" xlink:href=\"#mdcd0dc2898\" />\n",
       "     <use style=\"fill:#4575b4;fill-opacity:0.4;stroke:#4575b4;stroke-opacity:0.4;stroke-width:0.3;\" x=\"88.421093\" y=\"52.317002\" xlink:href=\"#mdcd0dc2898\" />\n",
       "     <use style=\"fill:#4575b4;fill-opacity:0.4;stroke:#4575b4;stroke-opacity:0.4;stroke-width:0.3;\" x=\"91.403278\" y=\"28.654418\" xlink:href=\"#mdcd0dc2898\" />\n",
       "     <use style=\"fill:#4575b4;fill-opacity:0.4;stroke:#4575b4;stroke-opacity:0.4;stroke-width:0.3;\" x=\"82.953753\" y=\"53.613582\" xlink:href=\"#mdcd0dc2898\" />\n",
       "     <use style=\"fill:#4575b4;fill-opacity:0.4;stroke:#4575b4;stroke-opacity:0.4;stroke-width:0.3;\" x=\"73.013135\" y=\"47.759523\" xlink:href=\"#mdcd0dc2898\" />\n",
       "     <use style=\"fill:#4575b4;fill-opacity:0.4;stroke:#4575b4;stroke-opacity:0.4;stroke-width:0.3;\" x=\"73.510166\" y=\"47.130683\" xlink:href=\"#mdcd0dc2898\" />\n",
       "     <use style=\"fill:#4575b4;fill-opacity:0.4;stroke:#4575b4;stroke-opacity:0.4;stroke-width:0.3;\" x=\"106.943775\" y=\"49.347834\" xlink:href=\"#mdcd0dc2898\" />\n",
       "     <use style=\"fill:#4575b4;fill-opacity:0.4;stroke:#4575b4;stroke-opacity:0.4;stroke-width:0.3;\" x=\"101.605663\" y=\"20.712865\" xlink:href=\"#mdcd0dc2898\" />\n",
       "     <use style=\"fill:#4575b4;fill-opacity:0.4;stroke:#4575b4;stroke-opacity:0.4;stroke-width:0.3;\" x=\"97.162211\" y=\"54.858299\" xlink:href=\"#mdcd0dc2898\" />\n",
       "     <use style=\"fill:#4575b4;fill-opacity:0.4;stroke:#4575b4;stroke-opacity:0.4;stroke-width:0.3;\" x=\"75.352493\" y=\"52.414246\" xlink:href=\"#mdcd0dc2898\" />\n",
       "     <use style=\"fill:#4575b4;fill-opacity:0.4;stroke:#4575b4;stroke-opacity:0.4;stroke-width:0.3;\" x=\"98.925011\" y=\"30.923433\" xlink:href=\"#mdcd0dc2898\" />\n",
       "     <use style=\"fill:#4575b4;fill-opacity:0.4;stroke:#4575b4;stroke-opacity:0.4;stroke-width:0.3;\" x=\"95.843418\" y=\"11.474733\" xlink:href=\"#mdcd0dc2898\" />\n",
       "     <use style=\"fill:#4575b4;fill-opacity:0.4;stroke:#4575b4;stroke-opacity:0.4;stroke-width:0.3;\" x=\"78.811829\" y=\"50.696277\" xlink:href=\"#mdcd0dc2898\" />\n",
       "     <use style=\"fill:#4575b4;fill-opacity:0.4;stroke:#4575b4;stroke-opacity:0.4;stroke-width:0.3;\" x=\"80.137245\" y=\"39.675348\" xlink:href=\"#mdcd0dc2898\" />\n",
       "     <use style=\"fill:#4575b4;fill-opacity:0.4;stroke:#4575b4;stroke-opacity:0.4;stroke-width:0.3;\" x=\"80.137245\" y=\"38.275041\" xlink:href=\"#mdcd0dc2898\" />\n",
       "     <use style=\"fill:#4575b4;fill-opacity:0.4;stroke:#4575b4;stroke-opacity:0.4;stroke-width:0.3;\" x=\"72.721542\" y=\"41.944363\" xlink:href=\"#mdcd0dc2898\" />\n",
       "     <use style=\"fill:#4575b4;fill-opacity:0.4;stroke:#4575b4;stroke-opacity:0.4;stroke-width:0.3;\" x=\"84.7762\" y=\"45.347885\" xlink:href=\"#mdcd0dc2898\" />\n",
       "     <use style=\"fill:#4575b4;fill-opacity:0.4;stroke:#4575b4;stroke-opacity:0.4;stroke-width:0.3;\" x=\"73.84152\" y=\"51.830785\" xlink:href=\"#mdcd0dc2898\" />\n",
       "     <use style=\"fill:#4575b4;fill-opacity:0.4;stroke:#4575b4;stroke-opacity:0.4;stroke-width:0.3;\" x=\"73.510166\" y=\"54.261872\" xlink:href=\"#mdcd0dc2898\" />\n",
       "     <use style=\"fill:#4575b4;fill-opacity:0.4;stroke:#4575b4;stroke-opacity:0.4;stroke-width:0.3;\" x=\"72.721542\" y=\"34.670548\" xlink:href=\"#mdcd0dc2898\" />\n",
       "     <use style=\"fill:#4575b4;fill-opacity:0.4;stroke:#4575b4;stroke-opacity:0.4;stroke-width:0.3;\" x=\"78.149121\" y=\"52.641147\" xlink:href=\"#mdcd0dc2898\" />\n",
       "     <use style=\"fill:#4575b4;fill-opacity:0.4;stroke:#4575b4;stroke-opacity:0.4;stroke-width:0.3;\" x=\"120.893777\" y=\"31.571723\" xlink:href=\"#mdcd0dc2898\" />\n",
       "     <use style=\"fill:#4575b4;fill-opacity:0.4;stroke:#4575b4;stroke-opacity:0.4;stroke-width:0.3;\" x=\"74.944929\" y=\"48.751408\" xlink:href=\"#mdcd0dc2898\" />\n",
       "     <use style=\"fill:#4575b4;fill-opacity:0.4;stroke:#4575b4;stroke-opacity:0.4;stroke-width:0.3;\" x=\"78.149121\" y=\"49.56177\" xlink:href=\"#mdcd0dc2898\" />\n",
       "     <use style=\"fill:#4575b4;fill-opacity:0.4;stroke:#4575b4;stroke-opacity:0.4;stroke-width:0.3;\" x=\"145.513369\" y=\"40.971928\" xlink:href=\"#mdcd0dc2898\" />\n",
       "     <use style=\"fill:#4575b4;fill-opacity:0.4;stroke:#4575b4;stroke-opacity:0.4;stroke-width:0.3;\" x=\"102.669311\" y=\"27.681983\" xlink:href=\"#mdcd0dc2898\" />\n",
       "     <use style=\"fill:#4575b4;fill-opacity:0.4;stroke:#4575b4;stroke-opacity:0.4;stroke-width:0.3;\" x=\"74.934989\" y=\"31.740277\" xlink:href=\"#mdcd0dc2898\" />\n",
       "     <use style=\"fill:#4575b4;fill-opacity:0.4;stroke:#4575b4;stroke-opacity:0.4;stroke-width:0.3;\" x=\"80.137245\" y=\"40.654266\" xlink:href=\"#mdcd0dc2898\" />\n",
       "     <use style=\"fill:#4575b4;fill-opacity:0.4;stroke:#4575b4;stroke-opacity:0.4;stroke-width:0.3;\" x=\"102.669311\" y=\"31.571723\" xlink:href=\"#mdcd0dc2898\" />\n",
       "     <use style=\"fill:#4575b4;fill-opacity:0.4;stroke:#4575b4;stroke-opacity:0.4;stroke-width:0.3;\" x=\"106.943775\" y=\"45.062637\" xlink:href=\"#mdcd0dc2898\" />\n",
       "     <use style=\"fill:#4575b4;fill-opacity:0.4;stroke:#4575b4;stroke-opacity:0.4;stroke-width:0.3;\" x=\"73.510166\" y=\"32.544158\" xlink:href=\"#mdcd0dc2898\" />\n",
       "     <use style=\"fill:#4575b4;fill-opacity:0.4;stroke:#4575b4;stroke-opacity:0.4;stroke-width:0.3;\" x=\"91.403278\" y=\"26.385403\" xlink:href=\"#mdcd0dc2898\" />\n",
       "     <use style=\"fill:#4575b4;fill-opacity:0.4;stroke:#4575b4;stroke-opacity:0.4;stroke-width:0.3;\" x=\"74.007197\" y=\"45.192296\" xlink:href=\"#mdcd0dc2898\" />\n",
       "     <use style=\"fill:#4575b4;fill-opacity:0.4;stroke:#4575b4;stroke-opacity:0.4;stroke-width:0.3;\" x=\"101.605663\" y=\"21.425983\" xlink:href=\"#mdcd0dc2898\" />\n",
       "     <use style=\"fill:#4575b4;fill-opacity:0.4;stroke:#4575b4;stroke-opacity:0.4;stroke-width:0.3;\" x=\"73.178812\" y=\"46.806538\" xlink:href=\"#mdcd0dc2898\" />\n",
       "     <use style=\"fill:#4575b4;fill-opacity:0.4;stroke:#4575b4;stroke-opacity:0.4;stroke-width:0.3;\" x=\"76.028458\" y=\"56.278054\" xlink:href=\"#mdcd0dc2898\" />\n",
       "     <use style=\"fill:#4575b4;fill-opacity:0.4;stroke:#4575b4;stroke-opacity:0.4;stroke-width:0.3;\" x=\"86.764323\" y=\"53.127365\" xlink:href=\"#mdcd0dc2898\" />\n",
       "     <use style=\"fill:#4575b4;fill-opacity:0.4;stroke:#4575b4;stroke-opacity:0.4;stroke-width:0.3;\" x=\"82.456722\" y=\"38.702913\" xlink:href=\"#mdcd0dc2898\" />\n",
       "     <use style=\"fill:#4575b4;fill-opacity:0.4;stroke:#4575b4;stroke-opacity:0.4;stroke-width:0.3;\" x=\"102.669311\" y=\"30.923433\" xlink:href=\"#mdcd0dc2898\" />\n",
       "     <use style=\"fill:#4575b4;fill-opacity:0.4;stroke:#4575b4;stroke-opacity:0.4;stroke-width:0.3;\" x=\"76.658029\" y=\"54.294287\" xlink:href=\"#mdcd0dc2898\" />\n",
       "     <use style=\"fill:#4575b4;fill-opacity:0.4;stroke:#4575b4;stroke-opacity:0.4;stroke-width:0.3;\" x=\"84.444846\" y=\"45.509958\" xlink:href=\"#mdcd0dc2898\" />\n",
       "     <use style=\"fill:#4575b4;fill-opacity:0.4;stroke:#4575b4;stroke-opacity:0.4;stroke-width:0.3;\" x=\"104.988789\" y=\"32.868303\" xlink:href=\"#mdcd0dc2898\" />\n",
       "     <use style=\"fill:#4575b4;fill-opacity:0.4;stroke:#4575b4;stroke-opacity:0.4;stroke-width:0.3;\" x=\"78.149121\" y=\"45.834103\" xlink:href=\"#mdcd0dc2898\" />\n",
       "     <use style=\"fill:#4575b4;fill-opacity:0.4;stroke:#4575b4;stroke-opacity:0.4;stroke-width:0.3;\" x=\"77.155059\" y=\"45.834103\" xlink:href=\"#mdcd0dc2898\" />\n",
       "     <use style=\"fill:#4575b4;fill-opacity:0.4;stroke:#4575b4;stroke-opacity:0.4;stroke-width:0.3;\" x=\"73.510166\" y=\"49.950744\" xlink:href=\"#mdcd0dc2898\" />\n",
       "     <use style=\"fill:#4575b4;fill-opacity:0.4;stroke:#4575b4;stroke-opacity:0.4;stroke-width:0.3;\" x=\"81.562068\" y=\"53.127365\" xlink:href=\"#mdcd0dc2898\" />\n",
       "     <use style=\"fill:#4575b4;fill-opacity:0.4;stroke:#4575b4;stroke-opacity:0.4;stroke-width:0.3;\" x=\"86.035345\" y=\"42.365751\" xlink:href=\"#mdcd0dc2898\" />\n",
       "     <use style=\"fill:#4575b4;fill-opacity:0.4;stroke:#4575b4;stroke-opacity:0.4;stroke-width:0.3;\" x=\"83.782138\" y=\"53.289437\" xlink:href=\"#mdcd0dc2898\" />\n",
       "     <use style=\"fill:#4575b4;fill-opacity:0.4;stroke:#4575b4;stroke-opacity:0.4;stroke-width:0.3;\" x=\"75.001259\" y=\"45.509958\" xlink:href=\"#mdcd0dc2898\" />\n",
       "     <use style=\"fill:#4575b4;fill-opacity:0.4;stroke:#4575b4;stroke-opacity:0.4;stroke-width:0.3;\" x=\"76.028458\" y=\"58.248856\" xlink:href=\"#mdcd0dc2898\" />\n",
       "     <use style=\"fill:#4575b4;fill-opacity:0.4;stroke:#4575b4;stroke-opacity:0.4;stroke-width:0.3;\" x=\"73.84152\" y=\"53.062536\" xlink:href=\"#mdcd0dc2898\" />\n",
       "     <use style=\"fill:#4575b4;fill-opacity:0.4;stroke:#4575b4;stroke-opacity:0.4;stroke-width:0.3;\" x=\"79.388387\" y=\"44.861668\" xlink:href=\"#mdcd0dc2898\" />\n",
       "     <use style=\"fill:#4575b4;fill-opacity:0.4;stroke:#4575b4;stroke-opacity:0.4;stroke-width:0.3;\" x=\"83.815275\" y=\"39.351203\" xlink:href=\"#mdcd0dc2898\" />\n",
       "     <use style=\"fill:#4575b4;fill-opacity:0.4;stroke:#4575b4;stroke-opacity:0.4;stroke-width:0.3;\" x=\"78.811829\" y=\"42.787139\" xlink:href=\"#mdcd0dc2898\" />\n",
       "     <use style=\"fill:#4575b4;fill-opacity:0.4;stroke:#4575b4;stroke-opacity:0.4;stroke-width:0.3;\" x=\"73.510166\" y=\"37.548957\" xlink:href=\"#mdcd0dc2898\" />\n",
       "     <use style=\"fill:#4575b4;fill-opacity:0.4;stroke:#4575b4;stroke-opacity:0.4;stroke-width:0.3;\" x=\"156.68\" y=\"1.750383\" xlink:href=\"#mdcd0dc2898\" />\n",
       "     <use style=\"fill:#4575b4;fill-opacity:0.4;stroke:#4575b4;stroke-opacity:0.4;stroke-width:0.3;\" x=\"79.37513\" y=\"44.537523\" xlink:href=\"#mdcd0dc2898\" />\n",
       "     <use style=\"fill:#4575b4;fill-opacity:0.4;stroke:#4575b4;stroke-opacity:0.4;stroke-width:0.3;\" x=\"72.721542\" y=\"34.482546\" xlink:href=\"#mdcd0dc2898\" />\n",
       "     <use style=\"fill:#4575b4;fill-opacity:0.4;stroke:#4575b4;stroke-opacity:0.4;stroke-width:0.3;\" x=\"75.001259\" y=\"51.487191\" xlink:href=\"#mdcd0dc2898\" />\n",
       "     <use style=\"fill:#4575b4;fill-opacity:0.4;stroke:#4575b4;stroke-opacity:0.4;stroke-width:0.3;\" x=\"77.155059\" y=\"41.924913\" xlink:href=\"#mdcd0dc2898\" />\n",
       "    </g>\n",
       "   </g>\n",
       "   <g id=\"patch_3\">\n",
       "    <path d=\"M 95.213848 59.796  L 92.702848 65.7756  L 97.724848 65.7756  z \" style=\"fill:#444443;\" />\n",
       "   </g>\n",
       "   <g id=\"matplotlib.axis_1\">\n",
       "    <g id=\"xtick_1\">\n",
       "     <g id=\"line2d_1\">\n",
       "      <defs>\n",
       "       <path d=\"M 0 0  L 0 3.5  \" id=\"mdf181244cd\" style=\"stroke:#444443;stroke-width:0.3;\" />\n",
       "      </defs>\n",
       "      <g>\n",
       "       <use style=\"fill:#444443;stroke:#444443;stroke-width:0.3;\" x=\"17.18\" y=\"59.796\" xlink:href=\"#mdf181244cd\" />\n",
       "      </g>\n",
       "     </g>\n",
       "     <g id=\"text_1\">\n",
       "      \n",
       "      <g style=\"fill:#444443;\" transform=\"translate(10.81875 72.87475)scale(0.08 -0.08)\">\n",
       "       <defs>\n",
       "        <path d=\"M 31.78125 66.40625  Q 24.171875 66.40625 20.328125 58.90625  Q 16.5 51.421875 16.5 36.375  Q 16.5 21.390625 20.328125 13.890625  Q 24.171875 6.390625 31.78125 6.390625  Q 39.453125 6.390625 43.28125 13.890625  Q 47.125 21.390625 47.125 36.375  Q 47.125 51.421875 43.28125 58.90625  Q 39.453125 66.40625 31.78125 66.40625  z M 31.78125 74.21875  Q 44.046875 74.21875 50.515625 64.515625  Q 56.984375 54.828125 56.984375 36.375  Q 56.984375 17.96875 50.515625 8.265625  Q 44.046875 -1.421875 31.78125 -1.421875  Q 19.53125 -1.421875 13.0625 8.265625  Q 6.59375 17.96875 6.59375 36.375  Q 6.59375 54.828125 13.0625 64.515625  Q 19.53125 74.21875 31.78125 74.21875  z \" id=\"DejaVuSans-48\" />\n",
       "        <path d=\"M 10.6875 12.40625  L 21 12.40625  L 21 0  L 10.6875 0  z \" id=\"DejaVuSans-46\" />\n",
       "       </defs>\n",
       "       <use xlink:href=\"#DejaVuSans-48\" />\n",
       "       <use x=\"63.623047\" xlink:href=\"#DejaVuSans-46\" />\n",
       "       <use x=\"95.410156\" xlink:href=\"#DejaVuSans-48\" />\n",
       "      </g>\n",
       "     </g>\n",
       "    </g>\n",
       "    <g id=\"xtick_2\">\n",
       "     <g id=\"line2d_2\">\n",
       "      <g>\n",
       "       <use style=\"fill:#444443;stroke:#444443;stroke-width:0.3;\" x=\"156.68\" y=\"59.796\" xlink:href=\"#mdf181244cd\" />\n",
       "      </g>\n",
       "     </g>\n",
       "     <g id=\"text_2\">\n",
       "      \n",
       "      <g style=\"fill:#444443;\" transform=\"translate(145.22875 72.87475)scale(0.08 -0.08)\">\n",
       "       <defs>\n",
       "        <path d=\"M 37.796875 64.3125  L 12.890625 25.390625  L 37.796875 25.390625  z M 35.203125 72.90625  L 47.609375 72.90625  L 47.609375 25.390625  L 58.015625 25.390625  L 58.015625 17.1875  L 47.609375 17.1875  L 47.609375 0  L 37.796875 0  L 37.796875 17.1875  L 4.890625 17.1875  L 4.890625 26.703125  z \" id=\"DejaVuSans-52\" />\n",
       "        <path d=\"M 19.1875 8.296875  L 53.609375 8.296875  L 53.609375 0  L 7.328125 0  L 7.328125 8.296875  Q 12.9375 14.109375 22.625 23.890625  Q 32.328125 33.6875 34.8125 36.53125  Q 39.546875 41.84375 41.421875 45.53125  Q 43.3125 49.21875 43.3125 52.78125  Q 43.3125 58.59375 39.234375 62.25  Q 35.15625 65.921875 28.609375 65.921875  Q 23.96875 65.921875 18.8125 64.3125  Q 13.671875 62.703125 7.8125 59.421875  L 7.8125 69.390625  Q 13.765625 71.78125 18.9375 73  Q 24.125 74.21875 28.421875 74.21875  Q 39.75 74.21875 46.484375 68.546875  Q 53.21875 62.890625 53.21875 53.421875  Q 53.21875 48.921875 51.53125 44.890625  Q 49.859375 40.875 45.40625 35.40625  Q 44.1875 33.984375 37.640625 27.21875  Q 31.109375 20.453125 19.1875 8.296875  z \" id=\"DejaVuSans-50\" />\n",
       "        <path d=\"M 12.40625 8.296875  L 28.515625 8.296875  L 28.515625 63.921875  L 10.984375 60.40625  L 10.984375 69.390625  L 28.421875 72.90625  L 38.28125 72.90625  L 38.28125 8.296875  L 54.390625 8.296875  L 54.390625 0  L 12.40625 0  z \" id=\"DejaVuSans-49\" />\n",
       "       </defs>\n",
       "       <use xlink:href=\"#DejaVuSans-52\" />\n",
       "       <use x=\"63.623047\" xlink:href=\"#DejaVuSans-50\" />\n",
       "       <use x=\"127.246094\" xlink:href=\"#DejaVuSans-49\" />\n",
       "       <use x=\"190.869141\" xlink:href=\"#DejaVuSans-46\" />\n",
       "       <use x=\"222.65625\" xlink:href=\"#DejaVuSans-48\" />\n",
       "      </g>\n",
       "     </g>\n",
       "    </g>\n",
       "    <g id=\"xtick_3\">\n",
       "     <g id=\"line2d_3\">\n",
       "      <g>\n",
       "       <use style=\"fill:#444443;stroke:#444443;stroke-width:0.3;\" x=\"95.213848\" y=\"59.796\" xlink:href=\"#mdf181244cd\" />\n",
       "      </g>\n",
       "     </g>\n",
       "     <g id=\"text_3\">\n",
       "      \n",
       "      <g style=\"fill:#444443;\" transform=\"translate(83.762598 72.87475)scale(0.08 -0.08)\">\n",
       "       <defs>\n",
       "        <path d=\"M 40.578125 39.3125  Q 47.65625 37.796875 51.625 33  Q 55.609375 28.21875 55.609375 21.1875  Q 55.609375 10.40625 48.1875 4.484375  Q 40.765625 -1.421875 27.09375 -1.421875  Q 22.515625 -1.421875 17.65625 -0.515625  Q 12.796875 0.390625 7.625 2.203125  L 7.625 11.71875  Q 11.71875 9.328125 16.59375 8.109375  Q 21.484375 6.890625 26.8125 6.890625  Q 36.078125 6.890625 40.9375 10.546875  Q 45.796875 14.203125 45.796875 21.1875  Q 45.796875 27.640625 41.28125 31.265625  Q 36.765625 34.90625 28.71875 34.90625  L 20.21875 34.90625  L 20.21875 43.015625  L 29.109375 43.015625  Q 36.375 43.015625 40.234375 45.921875  Q 44.09375 48.828125 44.09375 54.296875  Q 44.09375 59.90625 40.109375 62.90625  Q 36.140625 65.921875 28.71875 65.921875  Q 24.65625 65.921875 20.015625 65.03125  Q 15.375 64.15625 9.8125 62.3125  L 9.8125 71.09375  Q 15.4375 72.65625 20.34375 73.4375  Q 25.25 74.21875 29.59375 74.21875  Q 40.828125 74.21875 47.359375 69.109375  Q 53.90625 64.015625 53.90625 55.328125  Q 53.90625 49.265625 50.4375 45.09375  Q 46.96875 40.921875 40.578125 39.3125  z \" id=\"DejaVuSans-51\" />\n",
       "        <path d=\"M 10.796875 72.90625  L 49.515625 72.90625  L 49.515625 64.59375  L 19.828125 64.59375  L 19.828125 46.734375  Q 21.96875 47.46875 24.109375 47.828125  Q 26.265625 48.1875 28.421875 48.1875  Q 40.625 48.1875 47.75 41.5  Q 54.890625 34.8125 54.890625 23.390625  Q 54.890625 11.625 47.5625 5.09375  Q 40.234375 -1.421875 26.90625 -1.421875  Q 22.3125 -1.421875 17.546875 -0.640625  Q 12.796875 0.140625 7.71875 1.703125  L 7.71875 11.625  Q 12.109375 9.234375 16.796875 8.0625  Q 21.484375 6.890625 26.703125 6.890625  Q 35.15625 6.890625 40.078125 11.328125  Q 45.015625 15.765625 45.015625 23.390625  Q 45.015625 31 40.078125 35.4375  Q 35.15625 39.890625 26.703125 39.890625  Q 22.75 39.890625 18.8125 39.015625  Q 14.890625 38.140625 10.796875 36.28125  z \" id=\"DejaVuSans-53\" />\n",
       "       </defs>\n",
       "       <use xlink:href=\"#DejaVuSans-50\" />\n",
       "       <use x=\"63.623047\" xlink:href=\"#DejaVuSans-51\" />\n",
       "       <use x=\"127.246094\" xlink:href=\"#DejaVuSans-53\" />\n",
       "       <use x=\"190.869141\" xlink:href=\"#DejaVuSans-46\" />\n",
       "       <use x=\"222.65625\" xlink:href=\"#DejaVuSans-53\" />\n",
       "      </g>\n",
       "     </g>\n",
       "    </g>\n",
       "    <g id=\"text_4\">\n",
       "     \n",
       "     <g style=\"fill:#444443;\" transform=\"translate(57.7675 85.858812)scale(0.1 -0.1)\">\n",
       "      <defs>\n",
       "       <path d=\"M 18.109375 8.203125  L 18.109375 -20.796875  L 9.078125 -20.796875  L 9.078125 54.6875  L 18.109375 54.6875  L 18.109375 46.390625  Q 20.953125 51.265625 25.265625 53.625  Q 29.59375 56 35.59375 56  Q 45.5625 56 51.78125 48.09375  Q 58.015625 40.1875 58.015625 27.296875  Q 58.015625 14.40625 51.78125 6.484375  Q 45.5625 -1.421875 35.59375 -1.421875  Q 29.59375 -1.421875 25.265625 0.953125  Q 20.953125 3.328125 18.109375 8.203125  z M 48.6875 27.296875  Q 48.6875 37.203125 44.609375 42.84375  Q 40.53125 48.484375 33.40625 48.484375  Q 26.265625 48.484375 22.1875 42.84375  Q 18.109375 37.203125 18.109375 27.296875  Q 18.109375 17.390625 22.1875 11.75  Q 26.265625 6.109375 33.40625 6.109375  Q 40.53125 6.109375 44.609375 11.75  Q 48.6875 17.390625 48.6875 27.296875  z \" id=\"DejaVuSans-112\" />\n",
       "       <path d=\"M 30.609375 48.390625  Q 23.390625 48.390625 19.1875 42.75  Q 14.984375 37.109375 14.984375 27.296875  Q 14.984375 17.484375 19.15625 11.84375  Q 23.34375 6.203125 30.609375 6.203125  Q 37.796875 6.203125 41.984375 11.859375  Q 46.1875 17.53125 46.1875 27.296875  Q 46.1875 37.015625 41.984375 42.703125  Q 37.796875 48.390625 30.609375 48.390625  z M 30.609375 56  Q 42.328125 56 49.015625 48.375  Q 55.71875 40.765625 55.71875 27.296875  Q 55.71875 13.875 49.015625 6.21875  Q 42.328125 -1.421875 30.609375 -1.421875  Q 18.84375 -1.421875 12.171875 6.21875  Q 5.515625 13.875 5.515625 27.296875  Q 5.515625 40.765625 12.171875 48.375  Q 18.84375 56 30.609375 56  z \" id=\"DejaVuSans-111\" />\n",
       "       <path d=\"M 4.203125 54.6875  L 13.1875 54.6875  L 24.421875 12.015625  L 35.59375 54.6875  L 46.1875 54.6875  L 57.421875 12.015625  L 68.609375 54.6875  L 77.59375 54.6875  L 63.28125 0  L 52.6875 0  L 40.921875 44.828125  L 29.109375 0  L 18.5 0  z \" id=\"DejaVuSans-119\" />\n",
       "       <path d=\"M 56.203125 29.59375  L 56.203125 25.203125  L 14.890625 25.203125  Q 15.484375 15.921875 20.484375 11.0625  Q 25.484375 6.203125 34.421875 6.203125  Q 39.59375 6.203125 44.453125 7.46875  Q 49.3125 8.734375 54.109375 11.28125  L 54.109375 2.78125  Q 49.265625 0.734375 44.1875 -0.34375  Q 39.109375 -1.421875 33.890625 -1.421875  Q 20.796875 -1.421875 13.15625 6.1875  Q 5.515625 13.8125 5.515625 26.8125  Q 5.515625 40.234375 12.765625 48.109375  Q 20.015625 56 32.328125 56  Q 43.359375 56 49.78125 48.890625  Q 56.203125 41.796875 56.203125 29.59375  z M 47.21875 32.234375  Q 47.125 39.59375 43.09375 43.984375  Q 39.0625 48.390625 32.421875 48.390625  Q 24.90625 48.390625 20.390625 44.140625  Q 15.875 39.890625 15.1875 32.171875  z \" id=\"DejaVuSans-101\" />\n",
       "       <path d=\"M 41.109375 46.296875  Q 39.59375 47.171875 37.8125 47.578125  Q 36.03125 48 33.890625 48  Q 26.265625 48 22.1875 43.046875  Q 18.109375 38.09375 18.109375 28.8125  L 18.109375 0  L 9.078125 0  L 9.078125 54.6875  L 18.109375 54.6875  L 18.109375 46.1875  Q 20.953125 51.171875 25.484375 53.578125  Q 30.03125 56 36.53125 56  Q 37.453125 56 38.578125 55.875  Q 39.703125 55.765625 41.0625 55.515625  z \" id=\"DejaVuSans-114\" />\n",
       "       <path d=\"M 50.984375 -16.609375  L 50.984375 -23.578125  L -0.984375 -23.578125  L -0.984375 -16.609375  z \" id=\"DejaVuSans-95\" />\n",
       "       <path d=\"M 54.890625 33.015625  L 54.890625 0  L 45.90625 0  L 45.90625 32.71875  Q 45.90625 40.484375 42.875 44.328125  Q 39.84375 48.1875 33.796875 48.1875  Q 26.515625 48.1875 22.3125 43.546875  Q 18.109375 38.921875 18.109375 30.90625  L 18.109375 0  L 9.078125 0  L 9.078125 54.6875  L 18.109375 54.6875  L 18.109375 46.1875  Q 21.34375 51.125 25.703125 53.5625  Q 30.078125 56 35.796875 56  Q 45.21875 56 50.046875 50.171875  Q 54.890625 44.34375 54.890625 33.015625  z \" id=\"DejaVuSans-110\" />\n",
       "       <path d=\"M 8.5 21.578125  L 8.5 54.6875  L 17.484375 54.6875  L 17.484375 21.921875  Q 17.484375 14.15625 20.5 10.265625  Q 23.53125 6.390625 29.59375 6.390625  Q 36.859375 6.390625 41.078125 11.03125  Q 45.3125 15.671875 45.3125 23.6875  L 45.3125 54.6875  L 54.296875 54.6875  L 54.296875 0  L 45.3125 0  L 45.3125 8.40625  Q 42.046875 3.421875 37.71875 1  Q 33.40625 -1.421875 27.6875 -1.421875  Q 18.265625 -1.421875 13.375 4.4375  Q 8.5 10.296875 8.5 21.578125  z M 31.109375 56  z \" id=\"DejaVuSans-117\" />\n",
       "       <path d=\"M 52 44.1875  Q 55.375 50.25 60.0625 53.125  Q 64.75 56 71.09375 56  Q 79.640625 56 84.28125 50.015625  Q 88.921875 44.046875 88.921875 33.015625  L 88.921875 0  L 79.890625 0  L 79.890625 32.71875  Q 79.890625 40.578125 77.09375 44.375  Q 74.3125 48.1875 68.609375 48.1875  Q 61.625 48.1875 57.5625 43.546875  Q 53.515625 38.921875 53.515625 30.90625  L 53.515625 0  L 44.484375 0  L 44.484375 32.71875  Q 44.484375 40.625 41.703125 44.40625  Q 38.921875 48.1875 33.109375 48.1875  Q 26.21875 48.1875 22.15625 43.53125  Q 18.109375 38.875 18.109375 30.90625  L 18.109375 0  L 9.078125 0  L 9.078125 54.6875  L 18.109375 54.6875  L 18.109375 46.1875  Q 21.1875 51.21875 25.484375 53.609375  Q 29.78125 56 35.6875 56  Q 41.65625 56 45.828125 52.96875  Q 50 49.953125 52 44.1875  z \" id=\"DejaVuSans-109\" />\n",
       "      </defs>\n",
       "      <use xlink:href=\"#DejaVuSans-112\" />\n",
       "      <use x=\"63.476562\" xlink:href=\"#DejaVuSans-111\" />\n",
       "      <use x=\"124.658203\" xlink:href=\"#DejaVuSans-119\" />\n",
       "      <use x=\"206.445312\" xlink:href=\"#DejaVuSans-101\" />\n",
       "      <use x=\"267.96875\" xlink:href=\"#DejaVuSans-114\" />\n",
       "      <use x=\"309.082031\" xlink:href=\"#DejaVuSans-95\" />\n",
       "      <use x=\"359.082031\" xlink:href=\"#DejaVuSans-110\" />\n",
       "      <use x=\"422.460938\" xlink:href=\"#DejaVuSans-117\" />\n",
       "      <use x=\"485.839844\" xlink:href=\"#DejaVuSans-109\" />\n",
       "     </g>\n",
       "    </g>\n",
       "   </g>\n",
       "   <g id=\"matplotlib.axis_2\">\n",
       "    <g id=\"ytick_1\">\n",
       "     <g id=\"line2d_4\">\n",
       "      <defs>\n",
       "       <path d=\"M 0 0  L -3.5 0  \" id=\"m3eb10ffe39\" style=\"stroke:#444443;stroke-width:0.3;\" />\n",
       "      </defs>\n",
       "      <g>\n",
       "       <use style=\"fill:#444443;stroke:#444443;stroke-width:0.3;\" x=\"17.18\" y=\"43.889233\" xlink:href=\"#m3eb10ffe39\" />\n",
       "      </g>\n",
       "     </g>\n",
       "     <g id=\"text_5\">\n",
       "      \n",
       "      <g style=\"fill:#444443;\" transform=\"translate(0 46.928608)scale(0.08 -0.08)\">\n",
       "       <use xlink:href=\"#DejaVuSans-50\" />\n",
       "       <use x=\"63.623047\" xlink:href=\"#DejaVuSans-53\" />\n",
       "      </g>\n",
       "     </g>\n",
       "    </g>\n",
       "    <g id=\"ytick_2\">\n",
       "     <g id=\"line2d_5\">\n",
       "      <g>\n",
       "       <use style=\"fill:#444443;stroke:#444443;stroke-width:0.3;\" x=\"17.18\" y=\"27.681983\" xlink:href=\"#m3eb10ffe39\" />\n",
       "      </g>\n",
       "     </g>\n",
       "     <g id=\"text_6\">\n",
       "      \n",
       "      <g style=\"fill:#444443;\" transform=\"translate(0 30.721358)scale(0.08 -0.08)\">\n",
       "       <use xlink:href=\"#DejaVuSans-53\" />\n",
       "       <use x=\"63.623047\" xlink:href=\"#DejaVuSans-48\" />\n",
       "      </g>\n",
       "     </g>\n",
       "    </g>\n",
       "    <g id=\"ytick_3\">\n",
       "     <g id=\"line2d_6\">\n",
       "      <g>\n",
       "       <use style=\"fill:#444443;stroke:#444443;stroke-width:0.3;\" x=\"17.18\" y=\"11.474733\" xlink:href=\"#m3eb10ffe39\" />\n",
       "      </g>\n",
       "     </g>\n",
       "     <g id=\"text_7\">\n",
       "      \n",
       "      <g style=\"fill:#444443;\" transform=\"translate(0 14.514108)scale(0.08 -0.08)\">\n",
       "       <defs>\n",
       "        <path d=\"M 8.203125 72.90625  L 55.078125 72.90625  L 55.078125 68.703125  L 28.609375 0  L 18.3125 0  L 43.21875 64.59375  L 8.203125 64.59375  z \" id=\"DejaVuSans-55\" />\n",
       "       </defs>\n",
       "       <use xlink:href=\"#DejaVuSans-55\" />\n",
       "       <use x=\"63.623047\" xlink:href=\"#DejaVuSans-53\" />\n",
       "      </g>\n",
       "     </g>\n",
       "    </g>\n",
       "   </g>\n",
       "   <g id=\"line2d_7\">\n",
       "    <path clip-path=\"url(#paeb9d39d36)\" d=\"M 17.18 45.335365  L 95.213848 45.335365  \" style=\"fill:none;stroke:#000000;stroke-dasharray:3.7,1.6;stroke-dashoffset:0;\" />\n",
       "   </g>\n",
       "   <g id=\"line2d_8\">\n",
       "    <path clip-path=\"url(#paeb9d39d36)\" d=\"M 95.213848 59.796  L 95.213848 -0  \" style=\"fill:none;stroke:#000000;stroke-dasharray:3.7,1.6;stroke-dashoffset:0;\" />\n",
       "   </g>\n",
       "   <g id=\"line2d_9\">\n",
       "    <path clip-path=\"url(#paeb9d39d36)\" d=\"M 95.213848 33.925355  L 156.68 33.925355  \" style=\"fill:none;stroke:#000000;stroke-dasharray:3.7,1.6;stroke-dashoffset:0;\" />\n",
       "   </g>\n",
       "   <g id=\"patch_4\">\n",
       "    <path d=\"M 17.18 59.796  L 17.18 -0  \" style=\"fill:none;stroke:#000000;stroke-linecap:square;stroke-linejoin:miter;stroke-width:0.3;\" />\n",
       "   </g>\n",
       "   <g id=\"patch_5\">\n",
       "    <path d=\"M 17.18 59.796  L 156.68 59.796  \" style=\"fill:none;stroke:#000000;stroke-linecap:square;stroke-linejoin:miter;stroke-width:0.3;\" />\n",
       "   </g>\n",
       "  </g>\n",
       " </g>\n",
       " <defs>\n",
       "  <clipPath id=\"paeb9d39d36\">\n",
       "   <rect height=\"59.796\" width=\"139.5\" x=\"17.18\" y=\"-0\" />\n",
       "  </clipPath>\n",
       " </defs>\n",
       "</svg></g>\n",
       "\n",
       "<g class=\"edge\" id=\"edge4\">\n",
       "<title>node2-&gt;node3</title>\n",
       "<path d=\"M303.23,-86.1C307.43,-87.25 311.68,-88.41 315.91,-89.57\" fill=\"none\" stroke=\"#444443\" stroke-width=\"0.3\" />\n",
       "<polygon fill=\"#444443\" points=\"315.55,-90.92 319.78,-90.63 316.29,-88.22 315.55,-90.92\" stroke=\"#444443\" stroke-width=\"0.3\" />\n",
       "</g>\n",
       "\n",
       "<g class=\"edge\" id=\"edge5\">\n",
       "<title>node2-&gt;leaf4</title>\n",
       "<path d=\"M303.23,-50.78C320.73,-46.23 338.88,-41.51 353.79,-37.63\" fill=\"none\" stroke=\"#444443\" stroke-width=\"0.3\" />\n",
       "<polygon fill=\"#444443\" points=\"354.39,-38.92 357.91,-36.56 353.69,-36.21 354.39,-38.92\" stroke=\"#444443\" stroke-width=\"0.3\" />\n",
       "</g>\n",
       "\n",
       "<g class=\"node\" id=\"node3\">\n",
       "<title>node0</title>\n",
       "<svg height=\"66px\" preserveAspectRatio=\"xMinYMin meet\" version=\"1.1\" viewBox=\"0 0 181.809375 88.216625\" width=\"136px\" x=\"4\" y=\"-140\">\n",
       " <metadata>\n",
       "  <rdf:RDF>\n",
       "   <ns2:Work>\n",
       "    <dc:type rdf:resource=\"http://purl.org/dc/dcmitype/StillImage\" />\n",
       "    <dc:date>2020-10-20T23:26:29.564919</dc:date>\n",
       "    <dc:format>image/svg+xml</dc:format>\n",
       "    <dc:creator>\n",
       "     <ns2:Agent>\n",
       "      <dc:title>Matplotlib v3.3.1, https://matplotlib.org/</dc:title>\n",
       "     </ns2:Agent>\n",
       "    </dc:creator>\n",
       "   </ns2:Work>\n",
       "  </rdf:RDF>\n",
       " </metadata>\n",
       " <defs>\n",
       "  <style type=\"text/css\">*{stroke-linecap:butt;stroke-linejoin:round;}</style>\n",
       " </defs>\n",
       " <g id=\"figure_1\">\n",
       "  <g id=\"patch_1\">\n",
       "   <path d=\"M 0 88.216625  L 181.809375 88.216625  L 181.809375 -0  L 0 -0  z \" style=\"fill:none;\" />\n",
       "  </g>\n",
       "  <g id=\"axes_1\">\n",
       "   <g id=\"patch_2\">\n",
       "    <path d=\"M 30.858125 59.796  L 170.358125 59.796  L 170.358125 -0  L 30.858125 -0  z \" style=\"fill:#ffffff;\" />\n",
       "   </g>\n",
       "   <g id=\"PathCollection_1\">\n",
       "    <defs>\n",
       "     <path d=\"M 0 1.118034  C 0.296506 1.118034 0.580908 1.000231 0.790569 0.790569  C 1.000231 0.580908 1.118034 0.296506 1.118034 0  C 1.118034 -0.296506 1.000231 -0.580908 0.790569 -0.790569  C 0.580908 -1.000231 0.296506 -1.118034 0 -1.118034  C -0.296506 -1.118034 -0.580908 -1.000231 -0.790569 -0.790569  C -1.000231 -0.580908 -1.118034 -0.296506 -1.118034 0  C -1.118034 0.296506 -1.000231 0.580908 -0.790569 0.790569  C -0.580908 1.000231 -0.296506 1.118034 0 1.118034  z \" id=\"m7b450e2d66\" style=\"stroke:#4575b4;stroke-opacity:0.4;stroke-width:0.3;\" />\n",
       "    </defs>\n",
       "    <g clip-path=\"url(#p15bca47585)\">\n",
       "     <use style=\"fill:#4575b4;fill-opacity:0.4;stroke:#4575b4;stroke-opacity:0.4;stroke-width:0.3;\" x=\"60.282354\" y=\"55.850183\" xlink:href=\"#m7b450e2d66\" />\n",
       "     <use style=\"fill:#4575b4;fill-opacity:0.4;stroke:#4575b4;stroke-opacity:0.4;stroke-width:0.3;\" x=\"58.310797\" y=\"57.133797\" xlink:href=\"#m7b450e2d66\" />\n",
       "     <use style=\"fill:#4575b4;fill-opacity:0.4;stroke:#4575b4;stroke-opacity:0.4;stroke-width:0.3;\" x=\"63.529621\" y=\"52.965292\" xlink:href=\"#m7b450e2d66\" />\n",
       "     <use style=\"fill:#4575b4;fill-opacity:0.4;stroke:#4575b4;stroke-opacity:0.4;stroke-width:0.3;\" x=\"55.378315\" y=\"56.04467\" xlink:href=\"#m7b450e2d66\" />\n",
       "     <use style=\"fill:#4575b4;fill-opacity:0.4;stroke:#4575b4;stroke-opacity:0.4;stroke-width:0.3;\" x=\"69.725941\" y=\"57.34125\" xlink:href=\"#m7b450e2d66\" />\n",
       "     <use style=\"fill:#4575b4;fill-opacity:0.4;stroke:#4575b4;stroke-opacity:0.4;stroke-width:0.3;\" x=\"66.793457\" y=\"52.018789\" xlink:href=\"#m7b450e2d66\" />\n",
       "     <use style=\"fill:#4575b4;fill-opacity:0.4;stroke:#4575b4;stroke-opacity:0.4;stroke-width:0.3;\" x=\"50.129669\" y=\"58.054369\" xlink:href=\"#m7b450e2d66\" />\n",
       "     <use style=\"fill:#4575b4;fill-opacity:0.4;stroke:#4575b4;stroke-opacity:0.4;stroke-width:0.3;\" x=\"69.725941\" y=\"54.722158\" xlink:href=\"#m7b450e2d66\" />\n",
       "     <use style=\"fill:#4575b4;fill-opacity:0.4;stroke:#4575b4;stroke-opacity:0.4;stroke-width:0.3;\" x=\"73.934135\" y=\"57.535737\" xlink:href=\"#m7b450e2d66\" />\n",
       "     <use style=\"fill:#4575b4;fill-opacity:0.4;stroke:#4575b4;stroke-opacity:0.4;stroke-width:0.3;\" x=\"55.378315\" y=\"56.69296\" xlink:href=\"#m7b450e2d66\" />\n",
       "     <use style=\"fill:#4575b4;fill-opacity:0.4;stroke:#4575b4;stroke-opacity:0.4;stroke-width:0.3;\" x=\"46.431759\" y=\"58.216441\" xlink:href=\"#m7b450e2d66\" />\n",
       "     <use style=\"fill:#4575b4;fill-opacity:0.4;stroke:#4575b4;stroke-opacity:0.4;stroke-width:0.3;\" x=\"53.40676\" y=\"58.248856\" xlink:href=\"#m7b450e2d66\" />\n",
       "     <use style=\"fill:#4575b4;fill-opacity:0.4;stroke:#4575b4;stroke-opacity:0.4;stroke-width:0.3;\" x=\"61.905986\" y=\"56.466059\" xlink:href=\"#m7b450e2d66\" />\n",
       "     <use style=\"fill:#4575b4;fill-opacity:0.4;stroke:#4575b4;stroke-opacity:0.4;stroke-width:0.3;\" x=\"79.832235\" y=\"48.751408\" xlink:href=\"#m7b450e2d66\" />\n",
       "     <use style=\"fill:#4575b4;fill-opacity:0.4;stroke:#4575b4;stroke-opacity:0.4;stroke-width:0.3;\" x=\"72.674989\" y=\"56.271571\" xlink:href=\"#m7b450e2d66\" />\n",
       "     <use style=\"fill:#4575b4;fill-opacity:0.4;stroke:#4575b4;stroke-opacity:0.4;stroke-width:0.3;\" x=\"54.052899\" y=\"57.827467\" xlink:href=\"#m7b450e2d66\" />\n",
       "     <use style=\"fill:#4575b4;fill-opacity:0.4;stroke:#4575b4;stroke-opacity:0.4;stroke-width:0.3;\" x=\"69.957887\" y=\"57.244006\" xlink:href=\"#m7b450e2d66\" />\n",
       "     <use style=\"fill:#4575b4;fill-opacity:0.4;stroke:#4575b4;stroke-opacity:0.4;stroke-width:0.3;\" x=\"53.091972\" y=\"58.735073\" xlink:href=\"#m7b450e2d66\" />\n",
       "     <use style=\"fill:#4575b4;fill-opacity:0.4;stroke:#4575b4;stroke-opacity:0.4;stroke-width:0.3;\" x=\"58.691854\" y=\"56.284537\" xlink:href=\"#m7b450e2d66\" />\n",
       "     <use style=\"fill:#4575b4;fill-opacity:0.4;stroke:#4575b4;stroke-opacity:0.4;stroke-width:0.3;\" x=\"53.075406\" y=\"56.69296\" xlink:href=\"#m7b450e2d66\" />\n",
       "     <use style=\"fill:#4575b4;fill-opacity:0.4;stroke:#4575b4;stroke-opacity:0.4;stroke-width:0.3;\" x=\"67.472733\" y=\"56.53737\" xlink:href=\"#m7b450e2d66\" />\n",
       "     <use style=\"fill:#4575b4;fill-opacity:0.4;stroke:#4575b4;stroke-opacity:0.4;stroke-width:0.3;\" x=\"70.620595\" y=\"57.244006\" xlink:href=\"#m7b450e2d66\" />\n",
       "     <use style=\"fill:#4575b4;fill-opacity:0.4;stroke:#4575b4;stroke-opacity:0.4;stroke-width:0.3;\" x=\"81.840239\" y=\"54.132215\" xlink:href=\"#m7b450e2d66\" />\n",
       "     <use style=\"fill:#4575b4;fill-opacity:0.4;stroke:#4575b4;stroke-opacity:0.4;stroke-width:0.3;\" x=\"54.052899\" y=\"58.702659\" xlink:href=\"#m7b450e2d66\" />\n",
       "     <use style=\"fill:#4575b4;fill-opacity:0.4;stroke:#4575b4;stroke-opacity:0.4;stroke-width:0.3;\" x=\"81.223921\" y=\"56.595716\" xlink:href=\"#m7b450e2d66\" />\n",
       "     <use style=\"fill:#4575b4;fill-opacity:0.4;stroke:#4575b4;stroke-opacity:0.4;stroke-width:0.3;\" x=\"60.282354\" y=\"55.312102\" xlink:href=\"#m7b450e2d66\" />\n",
       "     <use style=\"fill:#4575b4;fill-opacity:0.4;stroke:#4575b4;stroke-opacity:0.4;stroke-width:0.3;\" x=\"64.656225\" y=\"57.98954\" xlink:href=\"#m7b450e2d66\" />\n",
       "     <use style=\"fill:#4575b4;fill-opacity:0.4;stroke:#4575b4;stroke-opacity:0.4;stroke-width:0.3;\" x=\"60.249217\" y=\"57.34125\" xlink:href=\"#m7b450e2d66\" />\n",
       "     <use style=\"fill:#4575b4;fill-opacity:0.4;stroke:#4575b4;stroke-opacity:0.4;stroke-width:0.3;\" x=\"55.34518\" y=\"58.216441\" xlink:href=\"#m7b450e2d66\" />\n",
       "     <use style=\"fill:#4575b4;fill-opacity:0.4;stroke:#4575b4;stroke-opacity:0.4;stroke-width:0.3;\" x=\"55.378315\" y=\"55.526038\" xlink:href=\"#m7b450e2d66\" />\n",
       "     <use style=\"fill:#4575b4;fill-opacity:0.4;stroke:#4575b4;stroke-opacity:0.4;stroke-width:0.3;\" x=\"93.81537\" y=\"46.482393\" xlink:href=\"#m7b450e2d66\" />\n",
       "     <use style=\"fill:#4575b4;fill-opacity:0.4;stroke:#4575b4;stroke-opacity:0.4;stroke-width:0.3;\" x=\"46.531165\" y=\"58.527621\" xlink:href=\"#m7b450e2d66\" />\n",
       "     <use style=\"fill:#4575b4;fill-opacity:0.4;stroke:#4575b4;stroke-opacity:0.4;stroke-width:0.3;\" x=\"58.956938\" y=\"58.417411\" xlink:href=\"#m7b450e2d66\" />\n",
       "     <use style=\"fill:#4575b4;fill-opacity:0.4;stroke:#4575b4;stroke-opacity:0.4;stroke-width:0.3;\" x=\"59.023208\" y=\"57.179177\" xlink:href=\"#m7b450e2d66\" />\n",
       "     <use style=\"fill:#4575b4;fill-opacity:0.4;stroke:#4575b4;stroke-opacity:0.4;stroke-width:0.3;\" x=\"57.366439\" y=\"57.503322\" xlink:href=\"#m7b450e2d66\" />\n",
       "     <use style=\"fill:#4575b4;fill-opacity:0.4;stroke:#4575b4;stroke-opacity:0.4;stroke-width:0.3;\" x=\"57.366439\" y=\"58.63783\" xlink:href=\"#m7b450e2d66\" />\n",
       "     <use style=\"fill:#4575b4;fill-opacity:0.4;stroke:#4575b4;stroke-opacity:0.4;stroke-width:0.3;\" x=\"74.000404\" y=\"57.924711\" xlink:href=\"#m7b450e2d66\" />\n",
       "     <use style=\"fill:#4575b4;fill-opacity:0.4;stroke:#4575b4;stroke-opacity:0.4;stroke-width:0.3;\" x=\"30.858125\" y=\"59.059218\" xlink:href=\"#m7b450e2d66\" />\n",
       "     <use style=\"fill:#4575b4;fill-opacity:0.4;stroke:#4575b4;stroke-opacity:0.4;stroke-width:0.3;\" x=\"60.249217\" y=\"55.19541\" xlink:href=\"#m7b450e2d66\" />\n",
       "     <use style=\"fill:#4575b4;fill-opacity:0.4;stroke:#4575b4;stroke-opacity:0.4;stroke-width:0.3;\" x=\"151.10646\" y=\"40.647783\" xlink:href=\"#m7b450e2d66\" />\n",
       "     <use style=\"fill:#4575b4;fill-opacity:0.4;stroke:#4575b4;stroke-opacity:0.4;stroke-width:0.3;\" x=\"43.283897\" y=\"59.752889\" xlink:href=\"#m7b450e2d66\" />\n",
       "     <use style=\"fill:#4575b4;fill-opacity:0.4;stroke:#4575b4;stroke-opacity:0.4;stroke-width:0.3;\" x=\"54.052899\" y=\"56.40123\" xlink:href=\"#m7b450e2d66\" />\n",
       "     <use style=\"fill:#4575b4;fill-opacity:0.4;stroke:#4575b4;stroke-opacity:0.4;stroke-width:0.3;\" x=\"77.247674\" y=\"54.0998\" xlink:href=\"#m7b450e2d66\" />\n",
       "     <use style=\"fill:#4575b4;fill-opacity:0.4;stroke:#4575b4;stroke-opacity:0.4;stroke-width:0.3;\" x=\"52.727484\" y=\"58.63783\" xlink:href=\"#m7b450e2d66\" />\n",
       "     <use style=\"fill:#4575b4;fill-opacity:0.4;stroke:#4575b4;stroke-opacity:0.4;stroke-width:0.3;\" x=\"60.182947\" y=\"55.19541\" xlink:href=\"#m7b450e2d66\" />\n",
       "     <use style=\"fill:#4575b4;fill-opacity:0.4;stroke:#4575b4;stroke-opacity:0.4;stroke-width:0.3;\" x=\"60.249217\" y=\"53.081985\" xlink:href=\"#m7b450e2d66\" />\n",
       "     <use style=\"fill:#4575b4;fill-opacity:0.4;stroke:#4575b4;stroke-opacity:0.4;stroke-width:0.3;\" x=\"91.827246\" y=\"41.620218\" xlink:href=\"#m7b450e2d66\" />\n",
       "     <use style=\"fill:#4575b4;fill-opacity:0.4;stroke:#4575b4;stroke-opacity:0.4;stroke-width:0.3;\" x=\"49.148862\" y=\"57.412562\" xlink:href=\"#m7b450e2d66\" />\n",
       "     <use style=\"fill:#4575b4;fill-opacity:0.4;stroke:#4575b4;stroke-opacity:0.4;stroke-width:0.3;\" x=\"72.708126\" y=\"55.720525\" xlink:href=\"#m7b450e2d66\" />\n",
       "     <use style=\"fill:#4575b4;fill-opacity:0.4;stroke:#4575b4;stroke-opacity:0.4;stroke-width:0.3;\" x=\"88.679384\" y=\"38.618634\" xlink:href=\"#m7b450e2d66\" />\n",
       "     <use style=\"fill:#4575b4;fill-opacity:0.4;stroke:#4575b4;stroke-opacity:0.4;stroke-width:0.3;\" x=\"55.34518\" y=\"57.535737\" xlink:href=\"#m7b450e2d66\" />\n",
       "     <use style=\"fill:#4575b4;fill-opacity:0.4;stroke:#4575b4;stroke-opacity:0.4;stroke-width:0.3;\" x=\"63.529621\" y=\"57.438493\" xlink:href=\"#m7b450e2d66\" />\n",
       "     <use style=\"fill:#4575b4;fill-opacity:0.4;stroke:#4575b4;stroke-opacity:0.4;stroke-width:0.3;\" x=\"60.182947\" y=\"54.359116\" xlink:href=\"#m7b450e2d66\" />\n",
       "     <use style=\"fill:#4575b4;fill-opacity:0.4;stroke:#4575b4;stroke-opacity:0.4;stroke-width:0.3;\" x=\"53.091972\" y=\"59.28612\" xlink:href=\"#m7b450e2d66\" />\n",
       "     <use style=\"fill:#4575b4;fill-opacity:0.4;stroke:#4575b4;stroke-opacity:0.4;stroke-width:0.3;\" x=\"93.81537\" y=\"36.861769\" xlink:href=\"#m7b450e2d66\" />\n",
       "     <use style=\"fill:#4575b4;fill-opacity:0.4;stroke:#4575b4;stroke-opacity:0.4;stroke-width:0.3;\" x=\"61.044467\" y=\"55.137064\" xlink:href=\"#m7b450e2d66\" />\n",
       "     <use style=\"fill:#4575b4;fill-opacity:0.4;stroke:#4575b4;stroke-opacity:0.4;stroke-width:0.3;\" x=\"70.620595\" y=\"57.017105\" xlink:href=\"#m7b450e2d66\" />\n",
       "     <use style=\"fill:#4575b4;fill-opacity:0.4;stroke:#4575b4;stroke-opacity:0.4;stroke-width:0.3;\" x=\"112.039835\" y=\"40.958961\" xlink:href=\"#m7b450e2d66\" />\n",
       "     <use style=\"fill:#4575b4;fill-opacity:0.4;stroke:#4575b4;stroke-opacity:0.4;stroke-width:0.3;\" x=\"58.393635\" y=\"56.070602\" xlink:href=\"#m7b450e2d66\" />\n",
       "     <use style=\"fill:#4575b4;fill-opacity:0.4;stroke:#4575b4;stroke-opacity:0.4;stroke-width:0.3;\" x=\"86.69126\" y=\"50.372133\" xlink:href=\"#m7b450e2d66\" />\n",
       "     <use style=\"fill:#4575b4;fill-opacity:0.4;stroke:#4575b4;stroke-opacity:0.4;stroke-width:0.3;\" x=\"65.159882\" y=\"53.795103\" xlink:href=\"#m7b450e2d66\" />\n",
       "     <use style=\"fill:#4575b4;fill-opacity:0.4;stroke:#4575b4;stroke-opacity:0.4;stroke-width:0.3;\" x=\"60.182947\" y=\"54.812919\" xlink:href=\"#m7b450e2d66\" />\n",
       "     <use style=\"fill:#4575b4;fill-opacity:0.4;stroke:#4575b4;stroke-opacity:0.4;stroke-width:0.3;\" x=\"58.40689\" y=\"56.433644\" xlink:href=\"#m7b450e2d66\" />\n",
       "     <use style=\"fill:#4575b4;fill-opacity:0.4;stroke:#4575b4;stroke-opacity:0.4;stroke-width:0.3;\" x=\"55.378315\" y=\"57.665395\" xlink:href=\"#m7b450e2d66\" />\n",
       "     <use style=\"fill:#4575b4;fill-opacity:0.4;stroke:#4575b4;stroke-opacity:0.4;stroke-width:0.3;\" x=\"61.674039\" y=\"58.475757\" xlink:href=\"#m7b450e2d66\" />\n",
       "     <use style=\"fill:#4575b4;fill-opacity:0.4;stroke:#4575b4;stroke-opacity:0.4;stroke-width:0.3;\" x=\"69.957887\" y=\"57.892296\" xlink:href=\"#m7b450e2d66\" />\n",
       "     <use style=\"fill:#4575b4;fill-opacity:0.4;stroke:#4575b4;stroke-opacity:0.4;stroke-width:0.3;\" x=\"76.618103\" y=\"58.151612\" xlink:href=\"#m7b450e2d66\" />\n",
       "     <use style=\"fill:#4575b4;fill-opacity:0.4;stroke:#4575b4;stroke-opacity:0.4;stroke-width:0.3;\" x=\"48.519289\" y=\"58.443343\" xlink:href=\"#m7b450e2d66\" />\n",
       "     <use style=\"fill:#4575b4;fill-opacity:0.4;stroke:#4575b4;stroke-opacity:0.4;stroke-width:0.3;\" x=\"72.688243\" y=\"54.624915\" xlink:href=\"#m7b450e2d66\" />\n",
       "     <use style=\"fill:#4575b4;fill-opacity:0.4;stroke:#4575b4;stroke-opacity:0.4;stroke-width:0.3;\" x=\"58.393635\" y=\"55.415829\" xlink:href=\"#m7b450e2d66\" />\n",
       "     <use style=\"fill:#4575b4;fill-opacity:0.4;stroke:#4575b4;stroke-opacity:0.4;stroke-width:0.3;\" x=\"57.962877\" y=\"57.827467\" xlink:href=\"#m7b450e2d66\" />\n",
       "     <use style=\"fill:#4575b4;fill-opacity:0.4;stroke:#4575b4;stroke-opacity:0.4;stroke-width:0.3;\" x=\"67.439598\" y=\"55.68811\" xlink:href=\"#m7b450e2d66\" />\n",
       "     <use style=\"fill:#4575b4;fill-opacity:0.4;stroke:#4575b4;stroke-opacity:0.4;stroke-width:0.3;\" x=\"59.288292\" y=\"56.660545\" xlink:href=\"#m7b450e2d66\" />\n",
       "     <use style=\"fill:#4575b4;fill-opacity:0.4;stroke:#4575b4;stroke-opacity:0.4;stroke-width:0.3;\" x=\"58.396949\" y=\"57.885813\" xlink:href=\"#m7b450e2d66\" />\n",
       "     <use style=\"fill:#4575b4;fill-opacity:0.4;stroke:#4575b4;stroke-opacity:0.4;stroke-width:0.3;\" x=\"30.858125\" y=\"58.676727\" xlink:href=\"#m7b450e2d66\" />\n",
       "     <use style=\"fill:#4575b4;fill-opacity:0.4;stroke:#4575b4;stroke-opacity:0.4;stroke-width:0.3;\" x=\"60.182947\" y=\"54.94906\" xlink:href=\"#m7b450e2d66\" />\n",
       "     <use style=\"fill:#4575b4;fill-opacity:0.4;stroke:#4575b4;stroke-opacity:0.4;stroke-width:0.3;\" x=\"69.957887\" y=\"56.530887\" xlink:href=\"#m7b450e2d66\" />\n",
       "     <use style=\"fill:#4575b4;fill-opacity:0.4;stroke:#4575b4;stroke-opacity:0.4;stroke-width:0.3;\" x=\"57.366439\" y=\"56.122465\" xlink:href=\"#m7b450e2d66\" />\n",
       "     <use style=\"fill:#4575b4;fill-opacity:0.4;stroke:#4575b4;stroke-opacity:0.4;stroke-width:0.3;\" x=\"53.072092\" y=\"57.859882\" xlink:href=\"#m7b450e2d66\" />\n",
       "     <use style=\"fill:#4575b4;fill-opacity:0.4;stroke:#4575b4;stroke-opacity:0.4;stroke-width:0.3;\" x=\"56.041023\" y=\"56.718892\" xlink:href=\"#m7b450e2d66\" />\n",
       "     <use style=\"fill:#4575b4;fill-opacity:0.4;stroke:#4575b4;stroke-opacity:0.4;stroke-width:0.3;\" x=\"69.957887\" y=\"55.979841\" xlink:href=\"#m7b450e2d66\" />\n",
       "     <use style=\"fill:#4575b4;fill-opacity:0.4;stroke:#4575b4;stroke-opacity:0.4;stroke-width:0.3;\" x=\"65.186391\" y=\"57.827467\" xlink:href=\"#m7b450e2d66\" />\n",
       "     <use style=\"fill:#4575b4;fill-opacity:0.4;stroke:#4575b4;stroke-opacity:0.4;stroke-width:0.3;\" x=\"60.259159\" y=\"55.79832\" xlink:href=\"#m7b450e2d66\" />\n",
       "     <use style=\"fill:#4575b4;fill-opacity:0.4;stroke:#4575b4;stroke-opacity:0.4;stroke-width:0.3;\" x=\"86.393044\" y=\"43.889233\" xlink:href=\"#m7b450e2d66\" />\n",
       "     <use style=\"fill:#4575b4;fill-opacity:0.4;stroke:#4575b4;stroke-opacity:0.4;stroke-width:0.3;\" x=\"85.100761\" y=\"56.40123\" xlink:href=\"#m7b450e2d66\" />\n",
       "     <use style=\"fill:#4575b4;fill-opacity:0.4;stroke:#4575b4;stroke-opacity:0.4;stroke-width:0.3;\" x=\"43.27727\" y=\"58.002506\" xlink:href=\"#m7b450e2d66\" />\n",
       "     <use style=\"fill:#4575b4;fill-opacity:0.4;stroke:#4575b4;stroke-opacity:0.4;stroke-width:0.3;\" x=\"54.052899\" y=\"58.819351\" xlink:href=\"#m7b450e2d66\" />\n",
       "     <use style=\"fill:#4575b4;fill-opacity:0.4;stroke:#4575b4;stroke-opacity:0.4;stroke-width:0.3;\" x=\"120.6219\" y=\"44.537523\" xlink:href=\"#m7b450e2d66\" />\n",
       "     <use style=\"fill:#4575b4;fill-opacity:0.4;stroke:#4575b4;stroke-opacity:0.4;stroke-width:0.3;\" x=\"53.072092\" y=\"56.634614\" xlink:href=\"#m7b450e2d66\" />\n",
       "     <use style=\"fill:#4575b4;fill-opacity:0.4;stroke:#4575b4;stroke-opacity:0.4;stroke-width:0.3;\" x=\"63.529621\" y=\"57.237524\" xlink:href=\"#m7b450e2d66\" />\n",
       "     <use style=\"fill:#4575b4;fill-opacity:0.4;stroke:#4575b4;stroke-opacity:0.4;stroke-width:0.3;\" x=\"49.148862\" y=\"57.98954\" xlink:href=\"#m7b450e2d66\" />\n",
       "     <use style=\"fill:#4575b4;fill-opacity:0.4;stroke:#4575b4;stroke-opacity:0.4;stroke-width:0.3;\" x=\"58.691854\" y=\"56.887447\" xlink:href=\"#m7b450e2d66\" />\n",
       "     <use style=\"fill:#4575b4;fill-opacity:0.4;stroke:#4575b4;stroke-opacity:0.4;stroke-width:0.3;\" x=\"75.922258\" y=\"43.986476\" xlink:href=\"#m7b450e2d66\" />\n",
       "     <use style=\"fill:#4575b4;fill-opacity:0.4;stroke:#4575b4;stroke-opacity:0.4;stroke-width:0.3;\" x=\"110.846959\" y=\"34.164883\" xlink:href=\"#m7b450e2d66\" />\n",
       "     <use style=\"fill:#4575b4;fill-opacity:0.4;stroke:#4575b4;stroke-opacity:0.4;stroke-width:0.3;\" x=\"66.810025\" y=\"57.98954\" xlink:href=\"#m7b450e2d66\" />\n",
       "     <use style=\"fill:#4575b4;fill-opacity:0.4;stroke:#4575b4;stroke-opacity:0.4;stroke-width:0.3;\" x=\"52.760619\" y=\"58.410928\" xlink:href=\"#m7b450e2d66\" />\n",
       "     <use style=\"fill:#4575b4;fill-opacity:0.4;stroke:#4575b4;stroke-opacity:0.4;stroke-width:0.3;\" x=\"63.529621\" y=\"56.012255\" xlink:href=\"#m7b450e2d66\" />\n",
       "     <use style=\"fill:#4575b4;fill-opacity:0.4;stroke:#4575b4;stroke-opacity:0.4;stroke-width:0.3;\" x=\"86.399667\" y=\"34.521442\" xlink:href=\"#m7b450e2d66\" />\n",
       "     <use style=\"fill:#4575b4;fill-opacity:0.4;stroke:#4575b4;stroke-opacity:0.4;stroke-width:0.3;\" x=\"69.394587\" y=\"57.34125\" xlink:href=\"#m7b450e2d66\" />\n",
       "     <use style=\"fill:#4575b4;fill-opacity:0.4;stroke:#4575b4;stroke-opacity:0.4;stroke-width:0.3;\" x=\"60.259159\" y=\"55.979841\" xlink:href=\"#m7b450e2d66\" />\n",
       "     <use style=\"fill:#4575b4;fill-opacity:0.4;stroke:#4575b4;stroke-opacity:0.4;stroke-width:0.3;\" x=\"57.00195\" y=\"57.29587\" xlink:href=\"#m7b450e2d66\" />\n",
       "     <use style=\"fill:#4575b4;fill-opacity:0.4;stroke:#4575b4;stroke-opacity:0.4;stroke-width:0.3;\" x=\"57.982757\" y=\"56.3364\" xlink:href=\"#m7b450e2d66\" />\n",
       "     <use style=\"fill:#4575b4;fill-opacity:0.4;stroke:#4575b4;stroke-opacity:0.4;stroke-width:0.3;\" x=\"43.11822\" y=\"59.765855\" xlink:href=\"#m7b450e2d66\" />\n",
       "     <use style=\"fill:#4575b4;fill-opacity:0.4;stroke:#4575b4;stroke-opacity:0.4;stroke-width:0.3;\" x=\"55.378315\" y=\"57.0949\" xlink:href=\"#m7b450e2d66\" />\n",
       "     <use style=\"fill:#4575b4;fill-opacity:0.4;stroke:#4575b4;stroke-opacity:0.4;stroke-width:0.3;\" x=\"60.62696\" y=\"53.937727\" xlink:href=\"#m7b450e2d66\" />\n",
       "     <use style=\"fill:#4575b4;fill-opacity:0.4;stroke:#4575b4;stroke-opacity:0.4;stroke-width:0.3;\" x=\"46.531165\" y=\"58.79342\" xlink:href=\"#m7b450e2d66\" />\n",
       "     <use style=\"fill:#4575b4;fill-opacity:0.4;stroke:#4575b4;stroke-opacity:0.4;stroke-width:0.3;\" x=\"91.827246\" y=\"48.751408\" xlink:href=\"#m7b450e2d66\" />\n",
       "     <use style=\"fill:#4575b4;fill-opacity:0.4;stroke:#4575b4;stroke-opacity:0.4;stroke-width:0.3;\" x=\"55.378315\" y=\"57.600566\" xlink:href=\"#m7b450e2d66\" />\n",
       "     <use style=\"fill:#4575b4;fill-opacity:0.4;stroke:#4575b4;stroke-opacity:0.4;stroke-width:0.3;\" x=\"96.201117\" y=\"40.472744\" xlink:href=\"#m7b450e2d66\" />\n",
       "     <use style=\"fill:#4575b4;fill-opacity:0.4;stroke:#4575b4;stroke-opacity:0.4;stroke-width:0.3;\" x=\"57.00195\" y=\"58.248856\" xlink:href=\"#m7b450e2d66\" />\n",
       "     <use style=\"fill:#4575b4;fill-opacity:0.4;stroke:#4575b4;stroke-opacity:0.4;stroke-width:0.3;\" x=\"64.656225\" y=\"53.970142\" xlink:href=\"#m7b450e2d66\" />\n",
       "     <use style=\"fill:#4575b4;fill-opacity:0.4;stroke:#4575b4;stroke-opacity:0.4;stroke-width:0.3;\" x=\"60.62696\" y=\"56.530887\" xlink:href=\"#m7b450e2d66\" />\n",
       "     <use style=\"fill:#4575b4;fill-opacity:0.4;stroke:#4575b4;stroke-opacity:0.4;stroke-width:0.3;\" x=\"58.029146\" y=\"57.34125\" xlink:href=\"#m7b450e2d66\" />\n",
       "     <use style=\"fill:#4575b4;fill-opacity:0.4;stroke:#4575b4;stroke-opacity:0.4;stroke-width:0.3;\" x=\"76.618103\" y=\"55.720525\" xlink:href=\"#m7b450e2d66\" />\n",
       "     <use style=\"fill:#4575b4;fill-opacity:0.4;stroke:#4575b4;stroke-opacity:0.4;stroke-width:0.3;\" x=\"91.827246\" y=\"49.399698\" xlink:href=\"#m7b450e2d66\" />\n",
       "     <use style=\"fill:#4575b4;fill-opacity:0.4;stroke:#4575b4;stroke-opacity:0.4;stroke-width:0.3;\" x=\"93.81537\" y=\"46.158248\" xlink:href=\"#m7b450e2d66\" />\n",
       "     <use style=\"fill:#4575b4;fill-opacity:0.4;stroke:#4575b4;stroke-opacity:0.4;stroke-width:0.3;\" x=\"64.656225\" y=\"54.261872\" xlink:href=\"#m7b450e2d66\" />\n",
       "     <use style=\"fill:#4575b4;fill-opacity:0.4;stroke:#4575b4;stroke-opacity:0.4;stroke-width:0.3;\" x=\"65.815963\" y=\"56.69296\" xlink:href=\"#m7b450e2d66\" />\n",
       "     <use style=\"fill:#4575b4;fill-opacity:0.4;stroke:#4575b4;stroke-opacity:0.4;stroke-width:0.3;\" x=\"53.091972\" y=\"57.535737\" xlink:href=\"#m7b450e2d66\" />\n",
       "     <use style=\"fill:#4575b4;fill-opacity:0.4;stroke:#4575b4;stroke-opacity:0.4;stroke-width:0.3;\" x=\"90.336154\" y=\"52.641147\" xlink:href=\"#m7b450e2d66\" />\n",
       "     <use style=\"fill:#4575b4;fill-opacity:0.4;stroke:#4575b4;stroke-opacity:0.4;stroke-width:0.3;\" x=\"137.222733\" y=\"53.127365\" xlink:href=\"#m7b450e2d66\" />\n",
       "     <use style=\"fill:#4575b4;fill-opacity:0.4;stroke:#4575b4;stroke-opacity:0.4;stroke-width:0.3;\" x=\"69.957887\" y=\"57.438493\" xlink:href=\"#m7b450e2d66\" />\n",
       "     <use style=\"fill:#4575b4;fill-opacity:0.4;stroke:#4575b4;stroke-opacity:0.4;stroke-width:0.3;\" x=\"95.240193\" y=\"54.676778\" xlink:href=\"#m7b450e2d66\" />\n",
       "     <use style=\"fill:#4575b4;fill-opacity:0.4;stroke:#4575b4;stroke-opacity:0.4;stroke-width:0.3;\" x=\"43.11822\" y=\"59.610265\" xlink:href=\"#m7b450e2d66\" />\n",
       "     <use style=\"fill:#4575b4;fill-opacity:0.4;stroke:#4575b4;stroke-opacity:0.4;stroke-width:0.3;\" x=\"51.435203\" y=\"58.605415\" xlink:href=\"#m7b450e2d66\" />\n",
       "     <use style=\"fill:#4575b4;fill-opacity:0.4;stroke:#4575b4;stroke-opacity:0.4;stroke-width:0.3;\" x=\"57.982757\" y=\"55.856666\" xlink:href=\"#m7b450e2d66\" />\n",
       "     <use style=\"fill:#4575b4;fill-opacity:0.4;stroke:#4575b4;stroke-opacity:0.4;stroke-width:0.3;\" x=\"77.612165\" y=\"55.882597\" xlink:href=\"#m7b450e2d66\" />\n",
       "     <use style=\"fill:#4575b4;fill-opacity:0.4;stroke:#4575b4;stroke-opacity:0.4;stroke-width:0.3;\" x=\"53.078718\" y=\"58.346099\" xlink:href=\"#m7b450e2d66\" />\n",
       "     <use style=\"fill:#4575b4;fill-opacity:0.4;stroke:#4575b4;stroke-opacity:0.4;stroke-width:0.3;\" x=\"60.182947\" y=\"55.947426\" xlink:href=\"#m7b450e2d66\" />\n",
       "     <use style=\"fill:#4575b4;fill-opacity:0.4;stroke:#4575b4;stroke-opacity:0.4;stroke-width:0.3;\" x=\"60.182947\" y=\"52.764322\" xlink:href=\"#m7b450e2d66\" />\n",
       "     <use style=\"fill:#4575b4;fill-opacity:0.4;stroke:#4575b4;stroke-opacity:0.4;stroke-width:0.3;\" x=\"77.247674\" y=\"54.261872\" xlink:href=\"#m7b450e2d66\" />\n",
       "     <use style=\"fill:#4575b4;fill-opacity:0.4;stroke:#4575b4;stroke-opacity:0.4;stroke-width:0.3;\" x=\"57.00195\" y=\"57.795053\" xlink:href=\"#m7b450e2d66\" />\n",
       "     <use style=\"fill:#4575b4;fill-opacity:0.4;stroke:#4575b4;stroke-opacity:0.4;stroke-width:0.3;\" x=\"58.393635\" y=\"56.433644\" xlink:href=\"#m7b450e2d66\" />\n",
       "     <use style=\"fill:#4575b4;fill-opacity:0.4;stroke:#4575b4;stroke-opacity:0.4;stroke-width:0.3;\" x=\"63.993517\" y=\"54.780505\" xlink:href=\"#m7b450e2d66\" />\n",
       "     <use style=\"fill:#4575b4;fill-opacity:0.4;stroke:#4575b4;stroke-opacity:0.4;stroke-width:0.3;\" x=\"60.249217\" y=\"57.179177\" xlink:href=\"#m7b450e2d66\" />\n",
       "     <use style=\"fill:#4575b4;fill-opacity:0.4;stroke:#4575b4;stroke-opacity:0.4;stroke-width:0.3;\" x=\"102.099218\" y=\"52.317002\" xlink:href=\"#m7b450e2d66\" />\n",
       "     <use style=\"fill:#4575b4;fill-opacity:0.4;stroke:#4575b4;stroke-opacity:0.4;stroke-width:0.3;\" x=\"79.898505\" y=\"54.586017\" xlink:href=\"#m7b450e2d66\" />\n",
       "     <use style=\"fill:#4575b4;fill-opacity:0.4;stroke:#4575b4;stroke-opacity:0.4;stroke-width:0.3;\" x=\"55.378315\" y=\"56.790203\" xlink:href=\"#m7b450e2d66\" />\n",
       "     <use style=\"fill:#4575b4;fill-opacity:0.4;stroke:#4575b4;stroke-opacity:0.4;stroke-width:0.3;\" x=\"60.259159\" y=\"55.072235\" xlink:href=\"#m7b450e2d66\" />\n",
       "     <use style=\"fill:#4575b4;fill-opacity:0.4;stroke:#4575b4;stroke-opacity:0.4;stroke-width:0.3;\" x=\"77.247674\" y=\"53.840484\" xlink:href=\"#m7b450e2d66\" />\n",
       "     <use style=\"fill:#4575b4;fill-opacity:0.4;stroke:#4575b4;stroke-opacity:0.4;stroke-width:0.3;\" x=\"60.182947\" y=\"55.461209\" xlink:href=\"#m7b450e2d66\" />\n",
       "     <use style=\"fill:#4575b4;fill-opacity:0.4;stroke:#4575b4;stroke-opacity:0.4;stroke-width:0.3;\" x=\"60.259159\" y=\"57.600566\" xlink:href=\"#m7b450e2d66\" />\n",
       "     <use style=\"fill:#4575b4;fill-opacity:0.4;stroke:#4575b4;stroke-opacity:0.4;stroke-width:0.3;\" x=\"53.091972\" y=\"59.28612\" xlink:href=\"#m7b450e2d66\" />\n",
       "     <use style=\"fill:#4575b4;fill-opacity:0.4;stroke:#4575b4;stroke-opacity:0.4;stroke-width:0.3;\" x=\"67.307056\" y=\"55.882597\" xlink:href=\"#m7b450e2d66\" />\n",
       "     <use style=\"fill:#4575b4;fill-opacity:0.4;stroke:#4575b4;stroke-opacity:0.4;stroke-width:0.3;\" x=\"59.586509\" y=\"56.115982\" xlink:href=\"#m7b450e2d66\" />\n",
       "     <use style=\"fill:#4575b4;fill-opacity:0.4;stroke:#4575b4;stroke-opacity:0.4;stroke-width:0.3;\" x=\"57.366439\" y=\"57.470908\" xlink:href=\"#m7b450e2d66\" />\n",
       "     <use style=\"fill:#4575b4;fill-opacity:0.4;stroke:#4575b4;stroke-opacity:0.4;stroke-width:0.3;\" x=\"105.081403\" y=\"28.654418\" xlink:href=\"#m7b450e2d66\" />\n",
       "     <use style=\"fill:#4575b4;fill-opacity:0.4;stroke:#4575b4;stroke-opacity:0.4;stroke-width:0.3;\" x=\"77.247674\" y=\"52.317002\" xlink:href=\"#m7b450e2d66\" />\n",
       "     <use style=\"fill:#4575b4;fill-opacity:0.4;stroke:#4575b4;stroke-opacity:0.4;stroke-width:0.3;\" x=\"64.192329\" y=\"54.74809\" xlink:href=\"#m7b450e2d66\" />\n",
       "     <use style=\"fill:#4575b4;fill-opacity:0.4;stroke:#4575b4;stroke-opacity:0.4;stroke-width:0.3;\" x=\"64.656225\" y=\"54.780505\" xlink:href=\"#m7b450e2d66\" />\n",
       "     <use style=\"fill:#4575b4;fill-opacity:0.4;stroke:#4575b4;stroke-opacity:0.4;stroke-width:0.3;\" x=\"53.40676\" y=\"58.171061\" xlink:href=\"#m7b450e2d66\" />\n",
       "     <use style=\"fill:#4575b4;fill-opacity:0.4;stroke:#4575b4;stroke-opacity:0.4;stroke-width:0.3;\" x=\"61.905986\" y=\"56.04467\" xlink:href=\"#m7b450e2d66\" />\n",
       "     <use style=\"fill:#4575b4;fill-opacity:0.4;stroke:#4575b4;stroke-opacity:0.4;stroke-width:0.3;\" x=\"55.378315\" y=\"56.98469\" xlink:href=\"#m7b450e2d66\" />\n",
       "     <use style=\"fill:#4575b4;fill-opacity:0.4;stroke:#4575b4;stroke-opacity:0.4;stroke-width:0.3;\" x=\"53.058838\" y=\"57.600566\" xlink:href=\"#m7b450e2d66\" />\n",
       "     <use style=\"fill:#4575b4;fill-opacity:0.4;stroke:#4575b4;stroke-opacity:0.4;stroke-width:0.3;\" x=\"76.618103\" y=\"55.590867\" xlink:href=\"#m7b450e2d66\" />\n",
       "     <use style=\"fill:#4575b4;fill-opacity:0.4;stroke:#4575b4;stroke-opacity:0.4;stroke-width:0.3;\" x=\"96.631878\" y=\"53.613582\" xlink:href=\"#m7b450e2d66\" />\n",
       "     <use style=\"fill:#4575b4;fill-opacity:0.4;stroke:#4575b4;stroke-opacity:0.4;stroke-width:0.3;\" x=\"46.531165\" y=\"58.28127\" xlink:href=\"#m7b450e2d66\" />\n",
       "     <use style=\"fill:#4575b4;fill-opacity:0.4;stroke:#4575b4;stroke-opacity:0.4;stroke-width:0.3;\" x=\"86.69126\" y=\"47.759523\" xlink:href=\"#m7b450e2d66\" />\n",
       "     <use style=\"fill:#4575b4;fill-opacity:0.4;stroke:#4575b4;stroke-opacity:0.4;stroke-width:0.3;\" x=\"87.188291\" y=\"47.130683\" xlink:href=\"#m7b450e2d66\" />\n",
       "     <use style=\"fill:#4575b4;fill-opacity:0.4;stroke:#4575b4;stroke-opacity:0.4;stroke-width:0.3;\" x=\"67.439598\" y=\"54.488774\" xlink:href=\"#m7b450e2d66\" />\n",
       "     <use style=\"fill:#4575b4;fill-opacity:0.4;stroke:#4575b4;stroke-opacity:0.4;stroke-width:0.3;\" x=\"67.307056\" y=\"56.628131\" xlink:href=\"#m7b450e2d66\" />\n",
       "     <use style=\"fill:#4575b4;fill-opacity:0.4;stroke:#4575b4;stroke-opacity:0.4;stroke-width:0.3;\" x=\"77.910382\" y=\"58.151612\" xlink:href=\"#m7b450e2d66\" />\n",
       "     <use style=\"fill:#4575b4;fill-opacity:0.4;stroke:#4575b4;stroke-opacity:0.4;stroke-width:0.3;\" x=\"55.34518\" y=\"57.179177\" xlink:href=\"#m7b450e2d66\" />\n",
       "     <use style=\"fill:#4575b4;fill-opacity:0.4;stroke:#4575b4;stroke-opacity:0.4;stroke-width:0.3;\" x=\"78.241735\" y=\"58.151612\" xlink:href=\"#m7b450e2d66\" />\n",
       "     <use style=\"fill:#4575b4;fill-opacity:0.4;stroke:#4575b4;stroke-opacity:0.4;stroke-width:0.3;\" x=\"82.549336\" y=\"57.347733\" xlink:href=\"#m7b450e2d66\" />\n",
       "     <use style=\"fill:#4575b4;fill-opacity:0.4;stroke:#4575b4;stroke-opacity:0.4;stroke-width:0.3;\" x=\"43.11822\" y=\"59.804752\" xlink:href=\"#m7b450e2d66\" />\n",
       "     <use style=\"fill:#4575b4;fill-opacity:0.4;stroke:#4575b4;stroke-opacity:0.4;stroke-width:0.3;\" x=\"69.725941\" y=\"57.34125\" xlink:href=\"#m7b450e2d66\" />\n",
       "     <use style=\"fill:#4575b4;fill-opacity:0.4;stroke:#4575b4;stroke-opacity:0.4;stroke-width:0.3;\" x=\"120.6219\" y=\"49.347834\" xlink:href=\"#m7b450e2d66\" />\n",
       "     <use style=\"fill:#4575b4;fill-opacity:0.4;stroke:#4575b4;stroke-opacity:0.4;stroke-width:0.3;\" x=\"73.934135\" y=\"57.34125\" xlink:href=\"#m7b450e2d66\" />\n",
       "     <use style=\"fill:#4575b4;fill-opacity:0.4;stroke:#4575b4;stroke-opacity:0.4;stroke-width:0.3;\" x=\"57.00195\" y=\"58.184027\" xlink:href=\"#m7b450e2d66\" />\n",
       "     <use style=\"fill:#4575b4;fill-opacity:0.4;stroke:#4575b4;stroke-opacity:0.4;stroke-width:0.3;\" x=\"58.625584\" y=\"57.373665\" xlink:href=\"#m7b450e2d66\" />\n",
       "     <use style=\"fill:#4575b4;fill-opacity:0.4;stroke:#4575b4;stroke-opacity:0.4;stroke-width:0.3;\" x=\"55.378315\" y=\"55.234307\" xlink:href=\"#m7b450e2d66\" />\n",
       "     <use style=\"fill:#4575b4;fill-opacity:0.4;stroke:#4575b4;stroke-opacity:0.4;stroke-width:0.3;\" x=\"53.40676\" y=\"57.769121\" xlink:href=\"#m7b450e2d66\" />\n",
       "     <use style=\"fill:#4575b4;fill-opacity:0.4;stroke:#4575b4;stroke-opacity:0.4;stroke-width:0.3;\" x=\"55.378315\" y=\"56.109499\" xlink:href=\"#m7b450e2d66\" />\n",
       "     <use style=\"fill:#4575b4;fill-opacity:0.4;stroke:#4575b4;stroke-opacity:0.4;stroke-width:0.3;\" x=\"59.288292\" y=\"58.670244\" xlink:href=\"#m7b450e2d66\" />\n",
       "     <use style=\"fill:#4575b4;fill-opacity:0.4;stroke:#4575b4;stroke-opacity:0.4;stroke-width:0.3;\" x=\"51.070714\" y=\"58.92956\" xlink:href=\"#m7b450e2d66\" />\n",
       "     <use style=\"fill:#4575b4;fill-opacity:0.4;stroke:#4575b4;stroke-opacity:0.4;stroke-width:0.3;\" x=\"55.378315\" y=\"57.34125\" xlink:href=\"#m7b450e2d66\" />\n",
       "     <use style=\"fill:#4575b4;fill-opacity:0.4;stroke:#4575b4;stroke-opacity:0.4;stroke-width:0.3;\" x=\"60.182947\" y=\"54.326702\" xlink:href=\"#m7b450e2d66\" />\n",
       "     <use style=\"fill:#4575b4;fill-opacity:0.4;stroke:#4575b4;stroke-opacity:0.4;stroke-width:0.3;\" x=\"81.886629\" y=\"53.704343\" xlink:href=\"#m7b450e2d66\" />\n",
       "     <use style=\"fill:#4575b4;fill-opacity:0.4;stroke:#4575b4;stroke-opacity:0.4;stroke-width:0.3;\" x=\"115.283788\" y=\"20.712865\" xlink:href=\"#m7b450e2d66\" />\n",
       "     <use style=\"fill:#4575b4;fill-opacity:0.4;stroke:#4575b4;stroke-opacity:0.4;stroke-width:0.3;\" x=\"72.708126\" y=\"55.791837\" xlink:href=\"#m7b450e2d66\" />\n",
       "     <use style=\"fill:#4575b4;fill-opacity:0.4;stroke:#4575b4;stroke-opacity:0.4;stroke-width:0.3;\" x=\"67.969764\" y=\"57.503322\" xlink:href=\"#m7b450e2d66\" />\n",
       "     <use style=\"fill:#4575b4;fill-opacity:0.4;stroke:#4575b4;stroke-opacity:0.4;stroke-width:0.3;\" x=\"56.372377\" y=\"57.04952\" xlink:href=\"#m7b450e2d66\" />\n",
       "     <use style=\"fill:#4575b4;fill-opacity:0.4;stroke:#4575b4;stroke-opacity:0.4;stroke-width:0.3;\" x=\"48.631949\" y=\"57.762638\" xlink:href=\"#m7b450e2d66\" />\n",
       "     <use style=\"fill:#4575b4;fill-opacity:0.4;stroke:#4575b4;stroke-opacity:0.4;stroke-width:0.3;\" x=\"64.821902\" y=\"58.702659\" xlink:href=\"#m7b450e2d66\" />\n",
       "     <use style=\"fill:#4575b4;fill-opacity:0.4;stroke:#4575b4;stroke-opacity:0.4;stroke-width:0.3;\" x=\"55.378315\" y=\"56.206742\" xlink:href=\"#m7b450e2d66\" />\n",
       "     <use style=\"fill:#4575b4;fill-opacity:0.4;stroke:#4575b4;stroke-opacity:0.4;stroke-width:0.3;\" x=\"81.840239\" y=\"54.0998\" xlink:href=\"#m7b450e2d66\" />\n",
       "     <use style=\"fill:#4575b4;fill-opacity:0.4;stroke:#4575b4;stroke-opacity:0.4;stroke-width:0.3;\" x=\"60.182947\" y=\"54.74809\" xlink:href=\"#m7b450e2d66\" />\n",
       "     <use style=\"fill:#4575b4;fill-opacity:0.4;stroke:#4575b4;stroke-opacity:0.4;stroke-width:0.3;\" x=\"72.674989\" y=\"50.696277\" xlink:href=\"#m7b450e2d66\" />\n",
       "     <use style=\"fill:#4575b4;fill-opacity:0.4;stroke:#4575b4;stroke-opacity:0.4;stroke-width:0.3;\" x=\"49.148862\" y=\"57.354216\" xlink:href=\"#m7b450e2d66\" />\n",
       "     <use style=\"fill:#4575b4;fill-opacity:0.4;stroke:#4575b4;stroke-opacity:0.4;stroke-width:0.3;\" x=\"51.435203\" y=\"59.091633\" xlink:href=\"#m7b450e2d66\" />\n",
       "     <use style=\"fill:#4575b4;fill-opacity:0.4;stroke:#4575b4;stroke-opacity:0.4;stroke-width:0.3;\" x=\"53.072092\" y=\"55.882597\" xlink:href=\"#m7b450e2d66\" />\n",
       "     <use style=\"fill:#4575b4;fill-opacity:0.4;stroke:#4575b4;stroke-opacity:0.4;stroke-width:0.3;\" x=\"53.721545\" y=\"55.260239\" xlink:href=\"#m7b450e2d66\" />\n",
       "     <use style=\"fill:#4575b4;fill-opacity:0.4;stroke:#4575b4;stroke-opacity:0.4;stroke-width:0.3;\" x=\"110.840336\" y=\"54.858299\" xlink:href=\"#m7b450e2d66\" />\n",
       "     <use style=\"fill:#4575b4;fill-opacity:0.4;stroke:#4575b4;stroke-opacity:0.4;stroke-width:0.3;\" x=\"73.934135\" y=\"58.63783\" xlink:href=\"#m7b450e2d66\" />\n",
       "     <use style=\"fill:#4575b4;fill-opacity:0.4;stroke:#4575b4;stroke-opacity:0.4;stroke-width:0.3;\" x=\"57.972817\" y=\"56.012255\" xlink:href=\"#m7b450e2d66\" />\n",
       "     <use style=\"fill:#4575b4;fill-opacity:0.4;stroke:#4575b4;stroke-opacity:0.4;stroke-width:0.3;\" x=\"59.288292\" y=\"56.667028\" xlink:href=\"#m7b450e2d66\" />\n",
       "     <use style=\"fill:#4575b4;fill-opacity:0.4;stroke:#4575b4;stroke-opacity:0.4;stroke-width:0.3;\" x=\"50.129669\" y=\"58.184027\" xlink:href=\"#m7b450e2d66\" />\n",
       "     <use style=\"fill:#4575b4;fill-opacity:0.4;stroke:#4575b4;stroke-opacity:0.4;stroke-width:0.3;\" x=\"77.247674\" y=\"54.586017\" xlink:href=\"#m7b450e2d66\" />\n",
       "     <use style=\"fill:#4575b4;fill-opacity:0.4;stroke:#4575b4;stroke-opacity:0.4;stroke-width:0.3;\" x=\"54.052899\" y=\"59.188876\" xlink:href=\"#m7b450e2d66\" />\n",
       "     <use style=\"fill:#4575b4;fill-opacity:0.4;stroke:#4575b4;stroke-opacity:0.4;stroke-width:0.3;\" x=\"55.358435\" y=\"57.665395\" xlink:href=\"#m7b450e2d66\" />\n",
       "     <use style=\"fill:#4575b4;fill-opacity:0.4;stroke:#4575b4;stroke-opacity:0.4;stroke-width:0.3;\" x=\"71.071237\" y=\"52.051204\" xlink:href=\"#m7b450e2d66\" />\n",
       "     <use style=\"fill:#4575b4;fill-opacity:0.4;stroke:#4575b4;stroke-opacity:0.4;stroke-width:0.3;\" x=\"65.186391\" y=\"56.621648\" xlink:href=\"#m7b450e2d66\" />\n",
       "     <use style=\"fill:#4575b4;fill-opacity:0.4;stroke:#4575b4;stroke-opacity:0.4;stroke-width:0.3;\" x=\"53.072092\" y=\"57.827467\" xlink:href=\"#m7b450e2d66\" />\n",
       "     <use style=\"fill:#4575b4;fill-opacity:0.4;stroke:#4575b4;stroke-opacity:0.4;stroke-width:0.3;\" x=\"66.793457\" y=\"55.072235\" xlink:href=\"#m7b450e2d66\" />\n",
       "     <use style=\"fill:#4575b4;fill-opacity:0.4;stroke:#4575b4;stroke-opacity:0.4;stroke-width:0.3;\" x=\"55.709669\" y=\"58.151612\" xlink:href=\"#m7b450e2d66\" />\n",
       "     <use style=\"fill:#4575b4;fill-opacity:0.4;stroke:#4575b4;stroke-opacity:0.4;stroke-width:0.3;\" x=\"71.051356\" y=\"52.641147\" xlink:href=\"#m7b450e2d66\" />\n",
       "     <use style=\"fill:#4575b4;fill-opacity:0.4;stroke:#4575b4;stroke-opacity:0.4;stroke-width:0.3;\" x=\"42.455512\" y=\"58.216441\" xlink:href=\"#m7b450e2d66\" />\n",
       "     <use style=\"fill:#4575b4;fill-opacity:0.4;stroke:#4575b4;stroke-opacity:0.4;stroke-width:0.3;\" x=\"49.94411\" y=\"58.540586\" xlink:href=\"#m7b450e2d66\" />\n",
       "     <use style=\"fill:#4575b4;fill-opacity:0.4;stroke:#4575b4;stroke-opacity:0.4;stroke-width:0.3;\" x=\"57.982757\" y=\"56.466059\" xlink:href=\"#m7b450e2d66\" />\n",
       "     <use style=\"fill:#4575b4;fill-opacity:0.4;stroke:#4575b4;stroke-opacity:0.4;stroke-width:0.3;\" x=\"56.041023\" y=\"59.026804\" xlink:href=\"#m7b450e2d66\" />\n",
       "     <use style=\"fill:#4575b4;fill-opacity:0.4;stroke:#4575b4;stroke-opacity:0.4;stroke-width:0.3;\" x=\"65.186391\" y=\"57.892296\" xlink:href=\"#m7b450e2d66\" />\n",
       "     <use style=\"fill:#4575b4;fill-opacity:0.4;stroke:#4575b4;stroke-opacity:0.4;stroke-width:0.3;\" x=\"57.167627\" y=\"58.663761\" xlink:href=\"#m7b450e2d66\" />\n",
       "     <use style=\"fill:#4575b4;fill-opacity:0.4;stroke:#4575b4;stroke-opacity:0.4;stroke-width:0.3;\" x=\"69.394587\" y=\"53.432061\" xlink:href=\"#m7b450e2d66\" />\n",
       "     <use style=\"fill:#4575b4;fill-opacity:0.4;stroke:#4575b4;stroke-opacity:0.4;stroke-width:0.3;\" x=\"53.091972\" y=\"57.98954\" xlink:href=\"#m7b450e2d66\" />\n",
       "     <use style=\"fill:#4575b4;fill-opacity:0.4;stroke:#4575b4;stroke-opacity:0.4;stroke-width:0.3;\" x=\"46.531165\" y=\"57.957125\" xlink:href=\"#m7b450e2d66\" />\n",
       "     <use style=\"fill:#4575b4;fill-opacity:0.4;stroke:#4575b4;stroke-opacity:0.4;stroke-width:0.3;\" x=\"53.072092\" y=\"57.568151\" xlink:href=\"#m7b450e2d66\" />\n",
       "     <use style=\"fill:#4575b4;fill-opacity:0.4;stroke:#4575b4;stroke-opacity:0.4;stroke-width:0.3;\" x=\"57.366439\" y=\"56.064119\" xlink:href=\"#m7b450e2d66\" />\n",
       "     <use style=\"fill:#4575b4;fill-opacity:0.4;stroke:#4575b4;stroke-opacity:0.4;stroke-width:0.3;\" x=\"74.033542\" y=\"57.179177\" xlink:href=\"#m7b450e2d66\" />\n",
       "     <use style=\"fill:#4575b4;fill-opacity:0.4;stroke:#4575b4;stroke-opacity:0.4;stroke-width:0.3;\" x=\"60.259159\" y=\"57.04952\" xlink:href=\"#m7b450e2d66\" />\n",
       "     <use style=\"fill:#4575b4;fill-opacity:0.4;stroke:#4575b4;stroke-opacity:0.4;stroke-width:0.3;\" x=\"55.378315\" y=\"56.98469\" xlink:href=\"#m7b450e2d66\" />\n",
       "     <use style=\"fill:#4575b4;fill-opacity:0.4;stroke:#4575b4;stroke-opacity:0.4;stroke-width:0.3;\" x=\"59.586509\" y=\"58.313685\" xlink:href=\"#m7b450e2d66\" />\n",
       "     <use style=\"fill:#4575b4;fill-opacity:0.4;stroke:#4575b4;stroke-opacity:0.4;stroke-width:0.3;\" x=\"60.182947\" y=\"55.720525\" xlink:href=\"#m7b450e2d66\" />\n",
       "     <use style=\"fill:#4575b4;fill-opacity:0.4;stroke:#4575b4;stroke-opacity:0.4;stroke-width:0.3;\" x=\"71.051356\" y=\"51.992857\" xlink:href=\"#m7b450e2d66\" />\n",
       "     <use style=\"fill:#4575b4;fill-opacity:0.4;stroke:#4575b4;stroke-opacity:0.4;stroke-width:0.3;\" x=\"59.023208\" y=\"59.156462\" xlink:href=\"#m7b450e2d66\" />\n",
       "     <use style=\"fill:#4575b4;fill-opacity:0.4;stroke:#4575b4;stroke-opacity:0.4;stroke-width:0.3;\" x=\"49.148862\" y=\"58.015471\" xlink:href=\"#m7b450e2d66\" />\n",
       "     <use style=\"fill:#4575b4;fill-opacity:0.4;stroke:#4575b4;stroke-opacity:0.4;stroke-width:0.3;\" x=\"64.656225\" y=\"55.564935\" xlink:href=\"#m7b450e2d66\" />\n",
       "     <use style=\"fill:#4575b4;fill-opacity:0.4;stroke:#4575b4;stroke-opacity:0.4;stroke-width:0.3;\" x=\"30.858125\" y=\"59.545436\" xlink:href=\"#m7b450e2d66\" />\n",
       "     <use style=\"fill:#4575b4;fill-opacity:0.4;stroke:#4575b4;stroke-opacity:0.4;stroke-width:0.3;\" x=\"71.051356\" y=\"51.999341\" xlink:href=\"#m7b450e2d66\" />\n",
       "     <use style=\"fill:#4575b4;fill-opacity:0.4;stroke:#4575b4;stroke-opacity:0.4;stroke-width:0.3;\" x=\"53.072092\" y=\"57.957125\" xlink:href=\"#m7b450e2d66\" />\n",
       "     <use style=\"fill:#4575b4;fill-opacity:0.4;stroke:#4575b4;stroke-opacity:0.4;stroke-width:0.3;\" x=\"65.053848\" y=\"55.234307\" xlink:href=\"#m7b450e2d66\" />\n",
       "     <use style=\"fill:#4575b4;fill-opacity:0.4;stroke:#4575b4;stroke-opacity:0.4;stroke-width:0.3;\" x=\"57.00195\" y=\"57.600566\" xlink:href=\"#m7b450e2d66\" />\n",
       "     <use style=\"fill:#4575b4;fill-opacity:0.4;stroke:#4575b4;stroke-opacity:0.4;stroke-width:0.3;\" x=\"57.00195\" y=\"58.475757\" xlink:href=\"#m7b450e2d66\" />\n",
       "     <use style=\"fill:#4575b4;fill-opacity:0.4;stroke:#4575b4;stroke-opacity:0.4;stroke-width:0.3;\" x=\"77.247674\" y=\"55.675145\" xlink:href=\"#m7b450e2d66\" />\n",
       "     <use style=\"fill:#4575b4;fill-opacity:0.4;stroke:#4575b4;stroke-opacity:0.4;stroke-width:0.3;\" x=\"43.27727\" y=\"59.279637\" xlink:href=\"#m7b450e2d66\" />\n",
       "     <use style=\"fill:#4575b4;fill-opacity:0.4;stroke:#4575b4;stroke-opacity:0.4;stroke-width:0.3;\" x=\"89.030618\" y=\"52.414246\" xlink:href=\"#m7b450e2d66\" />\n",
       "     <use style=\"fill:#4575b4;fill-opacity:0.4;stroke:#4575b4;stroke-opacity:0.4;stroke-width:0.3;\" x=\"112.603136\" y=\"30.923433\" xlink:href=\"#m7b450e2d66\" />\n",
       "     <use style=\"fill:#4575b4;fill-opacity:0.4;stroke:#4575b4;stroke-opacity:0.4;stroke-width:0.3;\" x=\"109.521543\" y=\"11.474733\" xlink:href=\"#m7b450e2d66\" />\n",
       "     <use style=\"fill:#4575b4;fill-opacity:0.4;stroke:#4575b4;stroke-opacity:0.4;stroke-width:0.3;\" x=\"55.34518\" y=\"58.216441\" xlink:href=\"#m7b450e2d66\" />\n",
       "     <use style=\"fill:#4575b4;fill-opacity:0.4;stroke:#4575b4;stroke-opacity:0.4;stroke-width:0.3;\" x=\"92.489954\" y=\"50.696277\" xlink:href=\"#m7b450e2d66\" />\n",
       "     <use style=\"fill:#4575b4;fill-opacity:0.4;stroke:#4575b4;stroke-opacity:0.4;stroke-width:0.3;\" x=\"77.247674\" y=\"49.788672\" xlink:href=\"#m7b450e2d66\" />\n",
       "     <use style=\"fill:#4575b4;fill-opacity:0.4;stroke:#4575b4;stroke-opacity:0.4;stroke-width:0.3;\" x=\"53.072092\" y=\"56.725375\" xlink:href=\"#m7b450e2d66\" />\n",
       "     <use style=\"fill:#4575b4;fill-opacity:0.4;stroke:#4575b4;stroke-opacity:0.4;stroke-width:0.3;\" x=\"72.674989\" y=\"51.519606\" xlink:href=\"#m7b450e2d66\" />\n",
       "     <use style=\"fill:#4575b4;fill-opacity:0.4;stroke:#4575b4;stroke-opacity:0.4;stroke-width:0.3;\" x=\"59.023208\" y=\"59.610265\" xlink:href=\"#m7b450e2d66\" />\n",
       "     <use style=\"fill:#4575b4;fill-opacity:0.4;stroke:#4575b4;stroke-opacity:0.4;stroke-width:0.3;\" x=\"51.435203\" y=\"57.827467\" xlink:href=\"#m7b450e2d66\" />\n",
       "     <use style=\"fill:#4575b4;fill-opacity:0.4;stroke:#4575b4;stroke-opacity:0.4;stroke-width:0.3;\" x=\"57.982757\" y=\"55.882597\" xlink:href=\"#m7b450e2d66\" />\n",
       "     <use style=\"fill:#4575b4;fill-opacity:0.4;stroke:#4575b4;stroke-opacity:0.4;stroke-width:0.3;\" x=\"72.708126\" y=\"57.665395\" xlink:href=\"#m7b450e2d66\" />\n",
       "     <use style=\"fill:#4575b4;fill-opacity:0.4;stroke:#4575b4;stroke-opacity:0.4;stroke-width:0.3;\" x=\"53.072092\" y=\"57.509805\" xlink:href=\"#m7b450e2d66\" />\n",
       "     <use style=\"fill:#4575b4;fill-opacity:0.4;stroke:#4575b4;stroke-opacity:0.4;stroke-width:0.3;\" x=\"58.956938\" y=\"56.530887\" xlink:href=\"#m7b450e2d66\" />\n",
       "     <use style=\"fill:#4575b4;fill-opacity:0.4;stroke:#4575b4;stroke-opacity:0.4;stroke-width:0.3;\" x=\"53.40676\" y=\"58.378514\" xlink:href=\"#m7b450e2d66\" />\n",
       "     <use style=\"fill:#4575b4;fill-opacity:0.4;stroke:#4575b4;stroke-opacity:0.4;stroke-width:0.3;\" x=\"59.619646\" y=\"55.75294\" xlink:href=\"#m7b450e2d66\" />\n",
       "     <use style=\"fill:#4575b4;fill-opacity:0.4;stroke:#4575b4;stroke-opacity:0.4;stroke-width:0.3;\" x=\"67.969764\" y=\"47.513174\" xlink:href=\"#m7b450e2d66\" />\n",
       "     <use style=\"fill:#4575b4;fill-opacity:0.4;stroke:#4575b4;stroke-opacity:0.4;stroke-width:0.3;\" x=\"93.81537\" y=\"39.675348\" xlink:href=\"#m7b450e2d66\" />\n",
       "     <use style=\"fill:#4575b4;fill-opacity:0.4;stroke:#4575b4;stroke-opacity:0.4;stroke-width:0.3;\" x=\"69.957887\" y=\"57.63298\" xlink:href=\"#m7b450e2d66\" />\n",
       "     <use style=\"fill:#4575b4;fill-opacity:0.4;stroke:#4575b4;stroke-opacity:0.4;stroke-width:0.3;\" x=\"60.249217\" y=\"57.535737\" xlink:href=\"#m7b450e2d66\" />\n",
       "     <use style=\"fill:#4575b4;fill-opacity:0.4;stroke:#4575b4;stroke-opacity:0.4;stroke-width:0.3;\" x=\"69.725941\" y=\"56.628131\" xlink:href=\"#m7b450e2d66\" />\n",
       "     <use style=\"fill:#4575b4;fill-opacity:0.4;stroke:#4575b4;stroke-opacity:0.4;stroke-width:0.3;\" x=\"76.594906\" y=\"55.590867\" xlink:href=\"#m7b450e2d66\" />\n",
       "     <use style=\"fill:#4575b4;fill-opacity:0.4;stroke:#4575b4;stroke-opacity:0.4;stroke-width:0.3;\" x=\"30.858125\" y=\"50.696277\" xlink:href=\"#m7b450e2d66\" />\n",
       "     <use style=\"fill:#4575b4;fill-opacity:0.4;stroke:#4575b4;stroke-opacity:0.4;stroke-width:0.3;\" x=\"59.288292\" y=\"56.115982\" xlink:href=\"#m7b450e2d66\" />\n",
       "     <use style=\"fill:#4575b4;fill-opacity:0.4;stroke:#4575b4;stroke-opacity:0.4;stroke-width:0.3;\" x=\"93.81537\" y=\"38.275041\" xlink:href=\"#m7b450e2d66\" />\n",
       "     <use style=\"fill:#4575b4;fill-opacity:0.4;stroke:#4575b4;stroke-opacity:0.4;stroke-width:0.3;\" x=\"46.531165\" y=\"57.970091\" xlink:href=\"#m7b450e2d66\" />\n",
       "     <use style=\"fill:#4575b4;fill-opacity:0.4;stroke:#4575b4;stroke-opacity:0.4;stroke-width:0.3;\" x=\"57.167627\" y=\"58.475757\" xlink:href=\"#m7b450e2d66\" />\n",
       "     <use style=\"fill:#4575b4;fill-opacity:0.4;stroke:#4575b4;stroke-opacity:0.4;stroke-width:0.3;\" x=\"49.082591\" y=\"58.378514\" xlink:href=\"#m7b450e2d66\" />\n",
       "     <use style=\"fill:#4575b4;fill-opacity:0.4;stroke:#4575b4;stroke-opacity:0.4;stroke-width:0.3;\" x=\"77.247674\" y=\"51.331601\" xlink:href=\"#m7b450e2d66\" />\n",
       "     <use style=\"fill:#4575b4;fill-opacity:0.4;stroke:#4575b4;stroke-opacity:0.4;stroke-width:0.3;\" x=\"86.399667\" y=\"41.944363\" xlink:href=\"#m7b450e2d66\" />\n",
       "     <use style=\"fill:#4575b4;fill-opacity:0.4;stroke:#4575b4;stroke-opacity:0.4;stroke-width:0.3;\" x=\"98.454325\" y=\"45.347885\" xlink:href=\"#m7b450e2d66\" />\n",
       "     <use style=\"fill:#4575b4;fill-opacity:0.4;stroke:#4575b4;stroke-opacity:0.4;stroke-width:0.3;\" x=\"55.378315\" y=\"55.020372\" xlink:href=\"#m7b450e2d66\" />\n",
       "     <use style=\"fill:#4575b4;fill-opacity:0.4;stroke:#4575b4;stroke-opacity:0.4;stroke-width:0.3;\" x=\"60.62696\" y=\"56.530887\" xlink:href=\"#m7b450e2d66\" />\n",
       "     <use style=\"fill:#4575b4;fill-opacity:0.4;stroke:#4575b4;stroke-opacity:0.4;stroke-width:0.3;\" x=\"87.519645\" y=\"51.830785\" xlink:href=\"#m7b450e2d66\" />\n",
       "     <use style=\"fill:#4575b4;fill-opacity:0.4;stroke:#4575b4;stroke-opacity:0.4;stroke-width:0.3;\" x=\"51.435203\" y=\"57.94416\" xlink:href=\"#m7b450e2d66\" />\n",
       "     <use style=\"fill:#4575b4;fill-opacity:0.4;stroke:#4575b4;stroke-opacity:0.4;stroke-width:0.3;\" x=\"42.455512\" y=\"58.080301\" xlink:href=\"#m7b450e2d66\" />\n",
       "     <use style=\"fill:#4575b4;fill-opacity:0.4;stroke:#4575b4;stroke-opacity:0.4;stroke-width:0.3;\" x=\"52.760619\" y=\"58.475757\" xlink:href=\"#m7b450e2d66\" />\n",
       "     <use style=\"fill:#4575b4;fill-opacity:0.4;stroke:#4575b4;stroke-opacity:0.4;stroke-width:0.3;\" x=\"87.188291\" y=\"54.261872\" xlink:href=\"#m7b450e2d66\" />\n",
       "     <use style=\"fill:#4575b4;fill-opacity:0.4;stroke:#4575b4;stroke-opacity:0.4;stroke-width:0.3;\" x=\"53.072092\" y=\"57.081934\" xlink:href=\"#m7b450e2d66\" />\n",
       "     <use style=\"fill:#4575b4;fill-opacity:0.4;stroke:#4575b4;stroke-opacity:0.4;stroke-width:0.3;\" x=\"86.399667\" y=\"34.670548\" xlink:href=\"#m7b450e2d66\" />\n",
       "     <use style=\"fill:#4575b4;fill-opacity:0.4;stroke:#4575b4;stroke-opacity:0.4;stroke-width:0.3;\" x=\"57.982757\" y=\"56.98469\" xlink:href=\"#m7b450e2d66\" />\n",
       "     <use style=\"fill:#4575b4;fill-opacity:0.4;stroke:#4575b4;stroke-opacity:0.4;stroke-width:0.3;\" x=\"70.852542\" y=\"52.80322\" xlink:href=\"#m7b450e2d66\" />\n",
       "     <use style=\"fill:#4575b4;fill-opacity:0.4;stroke:#4575b4;stroke-opacity:0.4;stroke-width:0.3;\" x=\"57.962877\" y=\"54.586017\" xlink:href=\"#m7b450e2d66\" />\n",
       "     <use style=\"fill:#4575b4;fill-opacity:0.4;stroke:#4575b4;stroke-opacity:0.4;stroke-width:0.3;\" x=\"55.378315\" y=\"55.590867\" xlink:href=\"#m7b450e2d66\" />\n",
       "     <use style=\"fill:#4575b4;fill-opacity:0.4;stroke:#4575b4;stroke-opacity:0.4;stroke-width:0.3;\" x=\"48.519289\" y=\"56.796686\" xlink:href=\"#m7b450e2d66\" />\n",
       "     <use style=\"fill:#4575b4;fill-opacity:0.4;stroke:#4575b4;stroke-opacity:0.4;stroke-width:0.3;\" x=\"57.982757\" y=\"56.855032\" xlink:href=\"#m7b450e2d66\" />\n",
       "     <use style=\"fill:#4575b4;fill-opacity:0.4;stroke:#4575b4;stroke-opacity:0.4;stroke-width:0.3;\" x=\"56.372377\" y=\"57.18566\" xlink:href=\"#m7b450e2d66\" />\n",
       "     <use style=\"fill:#4575b4;fill-opacity:0.4;stroke:#4575b4;stroke-opacity:0.4;stroke-width:0.3;\" x=\"57.982757\" y=\"57.859882\" xlink:href=\"#m7b450e2d66\" />\n",
       "     <use style=\"fill:#4575b4;fill-opacity:0.4;stroke:#4575b4;stroke-opacity:0.4;stroke-width:0.3;\" x=\"30.858125\" y=\"58.540586\" xlink:href=\"#m7b450e2d66\" />\n",
       "     <use style=\"fill:#4575b4;fill-opacity:0.4;stroke:#4575b4;stroke-opacity:0.4;stroke-width:0.3;\" x=\"53.390192\" y=\"58.313685\" xlink:href=\"#m7b450e2d66\" />\n",
       "     <use style=\"fill:#4575b4;fill-opacity:0.4;stroke:#4575b4;stroke-opacity:0.4;stroke-width:0.3;\" x=\"49.148862\" y=\"58.151612\" xlink:href=\"#m7b450e2d66\" />\n",
       "     <use style=\"fill:#4575b4;fill-opacity:0.4;stroke:#4575b4;stroke-opacity:0.4;stroke-width:0.3;\" x=\"91.827246\" y=\"52.641147\" xlink:href=\"#m7b450e2d66\" />\n",
       "     <use style=\"fill:#4575b4;fill-opacity:0.4;stroke:#4575b4;stroke-opacity:0.4;stroke-width:0.3;\" x=\"57.00195\" y=\"57.18566\" xlink:href=\"#m7b450e2d66\" />\n",
       "     <use style=\"fill:#4575b4;fill-opacity:0.4;stroke:#4575b4;stroke-opacity:0.4;stroke-width:0.3;\" x=\"59.619646\" y=\"57.276421\" xlink:href=\"#m7b450e2d66\" />\n",
       "     <use style=\"fill:#4575b4;fill-opacity:0.4;stroke:#4575b4;stroke-opacity:0.4;stroke-width:0.3;\" x=\"69.957887\" y=\"57.146763\" xlink:href=\"#m7b450e2d66\" />\n",
       "     <use style=\"fill:#4575b4;fill-opacity:0.4;stroke:#4575b4;stroke-opacity:0.4;stroke-width:0.3;\" x=\"52.064776\" y=\"59.318534\" xlink:href=\"#m7b450e2d66\" />\n",
       "     <use style=\"fill:#4575b4;fill-opacity:0.4;stroke:#4575b4;stroke-opacity:0.4;stroke-width:0.3;\" x=\"57.00195\" y=\"57.665395\" xlink:href=\"#m7b450e2d66\" />\n",
       "     <use style=\"fill:#4575b4;fill-opacity:0.4;stroke:#4575b4;stroke-opacity:0.4;stroke-width:0.3;\" x=\"72.674989\" y=\"54.488774\" xlink:href=\"#m7b450e2d66\" />\n",
       "     <use style=\"fill:#4575b4;fill-opacity:0.4;stroke:#4575b4;stroke-opacity:0.4;stroke-width:0.3;\" x=\"63.529621\" y=\"55.882597\" xlink:href=\"#m7b450e2d66\" />\n",
       "     <use style=\"fill:#4575b4;fill-opacity:0.4;stroke:#4575b4;stroke-opacity:0.4;stroke-width:0.3;\" x=\"83.129206\" y=\"50.871316\" xlink:href=\"#m7b450e2d66\" />\n",
       "     <use style=\"fill:#4575b4;fill-opacity:0.4;stroke:#4575b4;stroke-opacity:0.4;stroke-width:0.3;\" x=\"77.247674\" y=\"49.56177\" xlink:href=\"#m7b450e2d66\" />\n",
       "     <use style=\"fill:#4575b4;fill-opacity:0.4;stroke:#4575b4;stroke-opacity:0.4;stroke-width:0.3;\" x=\"77.247674\" y=\"56.141914\" xlink:href=\"#m7b450e2d66\" />\n",
       "     <use style=\"fill:#4575b4;fill-opacity:0.4;stroke:#4575b4;stroke-opacity:0.4;stroke-width:0.3;\" x=\"53.091972\" y=\"58.63783\" xlink:href=\"#m7b450e2d66\" />\n",
       "     <use style=\"fill:#4575b4;fill-opacity:0.4;stroke:#4575b4;stroke-opacity:0.4;stroke-width:0.3;\" x=\"30.858125\" y=\"59.57785\" xlink:href=\"#m7b450e2d66\" />\n",
       "     <use style=\"fill:#4575b4;fill-opacity:0.4;stroke:#4575b4;stroke-opacity:0.4;stroke-width:0.3;\" x=\"59.288292\" y=\"57.795053\" xlink:href=\"#m7b450e2d66\" />\n",
       "     <use style=\"fill:#4575b4;fill-opacity:0.4;stroke:#4575b4;stroke-opacity:0.4;stroke-width:0.3;\" x=\"65.053848\" y=\"58.475757\" xlink:href=\"#m7b450e2d66\" />\n",
       "     <use style=\"fill:#4575b4;fill-opacity:0.4;stroke:#4575b4;stroke-opacity:0.4;stroke-width:0.3;\" x=\"134.571902\" y=\"31.571723\" xlink:href=\"#m7b450e2d66\" />\n",
       "     <use style=\"fill:#4575b4;fill-opacity:0.4;stroke:#4575b4;stroke-opacity:0.4;stroke-width:0.3;\" x=\"88.623054\" y=\"48.751408\" xlink:href=\"#m7b450e2d66\" />\n",
       "     <use style=\"fill:#4575b4;fill-opacity:0.4;stroke:#4575b4;stroke-opacity:0.4;stroke-width:0.3;\" x=\"63.526307\" y=\"55.558452\" xlink:href=\"#m7b450e2d66\" />\n",
       "     <use style=\"fill:#4575b4;fill-opacity:0.4;stroke:#4575b4;stroke-opacity:0.4;stroke-width:0.3;\" x=\"91.827246\" y=\"49.56177\" xlink:href=\"#m7b450e2d66\" />\n",
       "     <use style=\"fill:#4575b4;fill-opacity:0.4;stroke:#4575b4;stroke-opacity:0.4;stroke-width:0.3;\" x=\"60.282354\" y=\"54.586017\" xlink:href=\"#m7b450e2d66\" />\n",
       "     <use style=\"fill:#4575b4;fill-opacity:0.4;stroke:#4575b4;stroke-opacity:0.4;stroke-width:0.3;\" x=\"159.191494\" y=\"40.971928\" xlink:href=\"#m7b450e2d66\" />\n",
       "     <use style=\"fill:#4575b4;fill-opacity:0.4;stroke:#4575b4;stroke-opacity:0.4;stroke-width:0.3;\" x=\"67.307056\" y=\"56.628131\" xlink:href=\"#m7b450e2d66\" />\n",
       "     <use style=\"fill:#4575b4;fill-opacity:0.4;stroke:#4575b4;stroke-opacity:0.4;stroke-width:0.3;\" x=\"65.650287\" y=\"57.017105\" xlink:href=\"#m7b450e2d66\" />\n",
       "     <use style=\"fill:#4575b4;fill-opacity:0.4;stroke:#4575b4;stroke-opacity:0.4;stroke-width:0.3;\" x=\"116.347436\" y=\"27.681983\" xlink:href=\"#m7b450e2d66\" />\n",
       "     <use style=\"fill:#4575b4;fill-opacity:0.4;stroke:#4575b4;stroke-opacity:0.4;stroke-width:0.3;\" x=\"53.390192\" y=\"58.216441\" xlink:href=\"#m7b450e2d66\" />\n",
       "     <use style=\"fill:#4575b4;fill-opacity:0.4;stroke:#4575b4;stroke-opacity:0.4;stroke-width:0.3;\" x=\"69.957887\" y=\"56.530887\" xlink:href=\"#m7b450e2d66\" />\n",
       "     <use style=\"fill:#4575b4;fill-opacity:0.4;stroke:#4575b4;stroke-opacity:0.4;stroke-width:0.3;\" x=\"59.586509\" y=\"56.04467\" xlink:href=\"#m7b450e2d66\" />\n",
       "     <use style=\"fill:#4575b4;fill-opacity:0.4;stroke:#4575b4;stroke-opacity:0.4;stroke-width:0.3;\" x=\"70.620595\" y=\"56.018738\" xlink:href=\"#m7b450e2d66\" />\n",
       "     <use style=\"fill:#4575b4;fill-opacity:0.4;stroke:#4575b4;stroke-opacity:0.4;stroke-width:0.3;\" x=\"59.288292\" y=\"58.086783\" xlink:href=\"#m7b450e2d66\" />\n",
       "     <use style=\"fill:#4575b4;fill-opacity:0.4;stroke:#4575b4;stroke-opacity:0.4;stroke-width:0.3;\" x=\"60.249217\" y=\"56.012255\" xlink:href=\"#m7b450e2d66\" />\n",
       "     <use style=\"fill:#4575b4;fill-opacity:0.4;stroke:#4575b4;stroke-opacity:0.4;stroke-width:0.3;\" x=\"75.922258\" y=\"44.861668\" xlink:href=\"#m7b450e2d66\" />\n",
       "     <use style=\"fill:#4575b4;fill-opacity:0.4;stroke:#4575b4;stroke-opacity:0.4;stroke-width:0.3;\" x=\"53.390192\" y=\"59.448192\" xlink:href=\"#m7b450e2d66\" />\n",
       "     <use style=\"fill:#4575b4;fill-opacity:0.4;stroke:#4575b4;stroke-opacity:0.4;stroke-width:0.3;\" x=\"72.674989\" y=\"50.838901\" xlink:href=\"#m7b450e2d66\" />\n",
       "     <use style=\"fill:#4575b4;fill-opacity:0.4;stroke:#4575b4;stroke-opacity:0.4;stroke-width:0.3;\" x=\"77.579028\" y=\"49.328385\" xlink:href=\"#m7b450e2d66\" />\n",
       "     <use style=\"fill:#4575b4;fill-opacity:0.4;stroke:#4575b4;stroke-opacity:0.4;stroke-width:0.3;\" x=\"88.613114\" y=\"31.740277\" xlink:href=\"#m7b450e2d66\" />\n",
       "     <use style=\"fill:#4575b4;fill-opacity:0.4;stroke:#4575b4;stroke-opacity:0.4;stroke-width:0.3;\" x=\"93.81537\" y=\"40.654266\" xlink:href=\"#m7b450e2d66\" />\n",
       "     <use style=\"fill:#4575b4;fill-opacity:0.4;stroke:#4575b4;stroke-opacity:0.4;stroke-width:0.3;\" x=\"116.347436\" y=\"31.571723\" xlink:href=\"#m7b450e2d66\" />\n",
       "     <use style=\"fill:#4575b4;fill-opacity:0.4;stroke:#4575b4;stroke-opacity:0.4;stroke-width:0.3;\" x=\"60.182947\" y=\"54.974991\" xlink:href=\"#m7b450e2d66\" />\n",
       "     <use style=\"fill:#4575b4;fill-opacity:0.4;stroke:#4575b4;stroke-opacity:0.4;stroke-width:0.3;\" x=\"120.6219\" y=\"45.062637\" xlink:href=\"#m7b450e2d66\" />\n",
       "     <use style=\"fill:#4575b4;fill-opacity:0.4;stroke:#4575b4;stroke-opacity:0.4;stroke-width:0.3;\" x=\"67.969764\" y=\"58.313685\" xlink:href=\"#m7b450e2d66\" />\n",
       "     <use style=\"fill:#4575b4;fill-opacity:0.4;stroke:#4575b4;stroke-opacity:0.4;stroke-width:0.3;\" x=\"53.058838\" y=\"57.34125\" xlink:href=\"#m7b450e2d66\" />\n",
       "     <use style=\"fill:#4575b4;fill-opacity:0.4;stroke:#4575b4;stroke-opacity:0.4;stroke-width:0.3;\" x=\"57.982757\" y=\"56.096533\" xlink:href=\"#m7b450e2d66\" />\n",
       "     <use style=\"fill:#4575b4;fill-opacity:0.4;stroke:#4575b4;stroke-opacity:0.4;stroke-width:0.3;\" x=\"57.972817\" y=\"56.362332\" xlink:href=\"#m7b450e2d66\" />\n",
       "     <use style=\"fill:#4575b4;fill-opacity:0.4;stroke:#4575b4;stroke-opacity:0.4;stroke-width:0.3;\" x=\"87.188291\" y=\"32.544158\" xlink:href=\"#m7b450e2d66\" />\n",
       "     <use style=\"fill:#4575b4;fill-opacity:0.4;stroke:#4575b4;stroke-opacity:0.4;stroke-width:0.3;\" x=\"76.594906\" y=\"51.344567\" xlink:href=\"#m7b450e2d66\" />\n",
       "     <use style=\"fill:#4575b4;fill-opacity:0.4;stroke:#4575b4;stroke-opacity:0.4;stroke-width:0.3;\" x=\"69.725941\" y=\"56.103016\" xlink:href=\"#m7b450e2d66\" />\n",
       "     <use style=\"fill:#4575b4;fill-opacity:0.4;stroke:#4575b4;stroke-opacity:0.4;stroke-width:0.3;\" x=\"72.674989\" y=\"51.137115\" xlink:href=\"#m7b450e2d66\" />\n",
       "     <use style=\"fill:#4575b4;fill-opacity:0.4;stroke:#4575b4;stroke-opacity:0.4;stroke-width:0.3;\" x=\"57.00195\" y=\"58.054369\" xlink:href=\"#m7b450e2d66\" />\n",
       "     <use style=\"fill:#4575b4;fill-opacity:0.4;stroke:#4575b4;stroke-opacity:0.4;stroke-width:0.3;\" x=\"53.091972\" y=\"59.57785\" xlink:href=\"#m7b450e2d66\" />\n",
       "     <use style=\"fill:#4575b4;fill-opacity:0.4;stroke:#4575b4;stroke-opacity:0.4;stroke-width:0.3;\" x=\"105.081403\" y=\"26.385403\" xlink:href=\"#m7b450e2d66\" />\n",
       "     <use style=\"fill:#4575b4;fill-opacity:0.4;stroke:#4575b4;stroke-opacity:0.4;stroke-width:0.3;\" x=\"65.544253\" y=\"58.728591\" xlink:href=\"#m7b450e2d66\" />\n",
       "     <use style=\"fill:#4575b4;fill-opacity:0.4;stroke:#4575b4;stroke-opacity:0.4;stroke-width:0.3;\" x=\"59.619646\" y=\"58.475757\" xlink:href=\"#m7b450e2d66\" />\n",
       "     <use style=\"fill:#4575b4;fill-opacity:0.4;stroke:#4575b4;stroke-opacity:0.4;stroke-width:0.3;\" x=\"87.685322\" y=\"45.192296\" xlink:href=\"#m7b450e2d66\" />\n",
       "     <use style=\"fill:#4575b4;fill-opacity:0.4;stroke:#4575b4;stroke-opacity:0.4;stroke-width:0.3;\" x=\"59.288292\" y=\"59.124047\" xlink:href=\"#m7b450e2d66\" />\n",
       "     <use style=\"fill:#4575b4;fill-opacity:0.4;stroke:#4575b4;stroke-opacity:0.4;stroke-width:0.3;\" x=\"60.679978\" y=\"58.184027\" xlink:href=\"#m7b450e2d66\" />\n",
       "     <use style=\"fill:#4575b4;fill-opacity:0.4;stroke:#4575b4;stroke-opacity:0.4;stroke-width:0.3;\" x=\"49.082591\" y=\"58.248856\" xlink:href=\"#m7b450e2d66\" />\n",
       "     <use style=\"fill:#4575b4;fill-opacity:0.4;stroke:#4575b4;stroke-opacity:0.4;stroke-width:0.3;\" x=\"69.957887\" y=\"58.417411\" xlink:href=\"#m7b450e2d66\" />\n",
       "     <use style=\"fill:#4575b4;fill-opacity:0.4;stroke:#4575b4;stroke-opacity:0.4;stroke-width:0.3;\" x=\"72.714752\" y=\"56.051153\" xlink:href=\"#m7b450e2d66\" />\n",
       "     <use style=\"fill:#4575b4;fill-opacity:0.4;stroke:#4575b4;stroke-opacity:0.4;stroke-width:0.3;\" x=\"57.962877\" y=\"56.855032\" xlink:href=\"#m7b450e2d66\" />\n",
       "     <use style=\"fill:#4575b4;fill-opacity:0.4;stroke:#4575b4;stroke-opacity:0.4;stroke-width:0.3;\" x=\"48.519289\" y=\"58.106232\" xlink:href=\"#m7b450e2d66\" />\n",
       "     <use style=\"fill:#4575b4;fill-opacity:0.4;stroke:#4575b4;stroke-opacity:0.4;stroke-width:0.3;\" x=\"70.620595\" y=\"55.99929\" xlink:href=\"#m7b450e2d66\" />\n",
       "     <use style=\"fill:#4575b4;fill-opacity:0.4;stroke:#4575b4;stroke-opacity:0.4;stroke-width:0.3;\" x=\"115.283788\" y=\"21.425983\" xlink:href=\"#m7b450e2d66\" />\n",
       "     <use style=\"fill:#4575b4;fill-opacity:0.4;stroke:#4575b4;stroke-opacity:0.4;stroke-width:0.3;\" x=\"86.856937\" y=\"46.806538\" xlink:href=\"#m7b450e2d66\" />\n",
       "     <use style=\"fill:#4575b4;fill-opacity:0.4;stroke:#4575b4;stroke-opacity:0.4;stroke-width:0.3;\" x=\"60.182947\" y=\"56.206742\" xlink:href=\"#m7b450e2d66\" />\n",
       "     <use style=\"fill:#4575b4;fill-opacity:0.4;stroke:#4575b4;stroke-opacity:0.4;stroke-width:0.3;\" x=\"53.091972\" y=\"58.735073\" xlink:href=\"#m7b450e2d66\" />\n",
       "     <use style=\"fill:#4575b4;fill-opacity:0.4;stroke:#4575b4;stroke-opacity:0.4;stroke-width:0.3;\" x=\"71.694181\" y=\"56.498473\" xlink:href=\"#m7b450e2d66\" />\n",
       "     <use style=\"fill:#4575b4;fill-opacity:0.4;stroke:#4575b4;stroke-opacity:0.4;stroke-width:0.3;\" x=\"89.706583\" y=\"56.278054\" xlink:href=\"#m7b450e2d66\" />\n",
       "     <use style=\"fill:#4575b4;fill-opacity:0.4;stroke:#4575b4;stroke-opacity:0.4;stroke-width:0.3;\" x=\"100.442448\" y=\"53.127365\" xlink:href=\"#m7b450e2d66\" />\n",
       "     <use style=\"fill:#4575b4;fill-opacity:0.4;stroke:#4575b4;stroke-opacity:0.4;stroke-width:0.3;\" x=\"67.969764\" y=\"58.378514\" xlink:href=\"#m7b450e2d66\" />\n",
       "     <use style=\"fill:#4575b4;fill-opacity:0.4;stroke:#4575b4;stroke-opacity:0.4;stroke-width:0.3;\" x=\"69.725941\" y=\"55.720525\" xlink:href=\"#m7b450e2d66\" />\n",
       "     <use style=\"fill:#4575b4;fill-opacity:0.4;stroke:#4575b4;stroke-opacity:0.4;stroke-width:0.3;\" x=\"69.957887\" y=\"58.475757\" xlink:href=\"#m7b450e2d66\" />\n",
       "     <use style=\"fill:#4575b4;fill-opacity:0.4;stroke:#4575b4;stroke-opacity:0.4;stroke-width:0.3;\" x=\"64.656225\" y=\"59.318534\" xlink:href=\"#m7b450e2d66\" />\n",
       "     <use style=\"fill:#4575b4;fill-opacity:0.4;stroke:#4575b4;stroke-opacity:0.4;stroke-width:0.3;\" x=\"96.134847\" y=\"38.702913\" xlink:href=\"#m7b450e2d66\" />\n",
       "     <use style=\"fill:#4575b4;fill-opacity:0.4;stroke:#4575b4;stroke-opacity:0.4;stroke-width:0.3;\" x=\"53.091972\" y=\"59.28612\" xlink:href=\"#m7b450e2d66\" />\n",
       "     <use style=\"fill:#4575b4;fill-opacity:0.4;stroke:#4575b4;stroke-opacity:0.4;stroke-width:0.3;\" x=\"53.091972\" y=\"57.957125\" xlink:href=\"#m7b450e2d66\" />\n",
       "     <use style=\"fill:#4575b4;fill-opacity:0.4;stroke:#4575b4;stroke-opacity:0.4;stroke-width:0.3;\" x=\"59.752186\" y=\"53.983108\" xlink:href=\"#m7b450e2d66\" />\n",
       "     <use style=\"fill:#4575b4;fill-opacity:0.4;stroke:#4575b4;stroke-opacity:0.4;stroke-width:0.3;\" x=\"59.288292\" y=\"57.081934\" xlink:href=\"#m7b450e2d66\" />\n",
       "     <use style=\"fill:#4575b4;fill-opacity:0.4;stroke:#4575b4;stroke-opacity:0.4;stroke-width:0.3;\" x=\"116.347436\" y=\"30.923433\" xlink:href=\"#m7b450e2d66\" />\n",
       "     <use style=\"fill:#4575b4;fill-opacity:0.4;stroke:#4575b4;stroke-opacity:0.4;stroke-width:0.3;\" x=\"58.029146\" y=\"58.475757\" xlink:href=\"#m7b450e2d66\" />\n",
       "     <use style=\"fill:#4575b4;fill-opacity:0.4;stroke:#4575b4;stroke-opacity:0.4;stroke-width:0.3;\" x=\"90.336154\" y=\"54.294287\" xlink:href=\"#m7b450e2d66\" />\n",
       "     <use style=\"fill:#4575b4;fill-opacity:0.4;stroke:#4575b4;stroke-opacity:0.4;stroke-width:0.3;\" x=\"55.34518\" y=\"58.48224\" xlink:href=\"#m7b450e2d66\" />\n",
       "     <use style=\"fill:#4575b4;fill-opacity:0.4;stroke:#4575b4;stroke-opacity:0.4;stroke-width:0.3;\" x=\"57.00195\" y=\"57.879331\" xlink:href=\"#m7b450e2d66\" />\n",
       "     <use style=\"fill:#4575b4;fill-opacity:0.4;stroke:#4575b4;stroke-opacity:0.4;stroke-width:0.3;\" x=\"98.122971\" y=\"45.509958\" xlink:href=\"#m7b450e2d66\" />\n",
       "     <use style=\"fill:#4575b4;fill-opacity:0.4;stroke:#4575b4;stroke-opacity:0.4;stroke-width:0.3;\" x=\"55.378315\" y=\"56.69296\" xlink:href=\"#m7b450e2d66\" />\n",
       "     <use style=\"fill:#4575b4;fill-opacity:0.4;stroke:#4575b4;stroke-opacity:0.4;stroke-width:0.3;\" x=\"58.029146\" y=\"57.179177\" xlink:href=\"#m7b450e2d66\" />\n",
       "     <use style=\"fill:#4575b4;fill-opacity:0.4;stroke:#4575b4;stroke-opacity:0.4;stroke-width:0.3;\" x=\"59.586509\" y=\"57.568151\" xlink:href=\"#m7b450e2d66\" />\n",
       "     <use style=\"fill:#4575b4;fill-opacity:0.4;stroke:#4575b4;stroke-opacity:0.4;stroke-width:0.3;\" x=\"65.650287\" y=\"56.69296\" xlink:href=\"#m7b450e2d66\" />\n",
       "     <use style=\"fill:#4575b4;fill-opacity:0.4;stroke:#4575b4;stroke-opacity:0.4;stroke-width:0.3;\" x=\"118.666914\" y=\"32.868303\" xlink:href=\"#m7b450e2d66\" />\n",
       "     <use style=\"fill:#4575b4;fill-opacity:0.4;stroke:#4575b4;stroke-opacity:0.4;stroke-width:0.3;\" x=\"91.827246\" y=\"45.834103\" xlink:href=\"#m7b450e2d66\" />\n",
       "     <use style=\"fill:#4575b4;fill-opacity:0.4;stroke:#4575b4;stroke-opacity:0.4;stroke-width:0.3;\" x=\"55.378315\" y=\"56.213225\" xlink:href=\"#m7b450e2d66\" />\n",
       "     <use style=\"fill:#4575b4;fill-opacity:0.4;stroke:#4575b4;stroke-opacity:0.4;stroke-width:0.3;\" x=\"58.029146\" y=\"56.595716\" xlink:href=\"#m7b450e2d66\" />\n",
       "     <use style=\"fill:#4575b4;fill-opacity:0.4;stroke:#4575b4;stroke-opacity:0.4;stroke-width:0.3;\" x=\"65.053848\" y=\"58.248856\" xlink:href=\"#m7b450e2d66\" />\n",
       "     <use style=\"fill:#4575b4;fill-opacity:0.4;stroke:#4575b4;stroke-opacity:0.4;stroke-width:0.3;\" x=\"46.199811\" y=\"58.994389\" xlink:href=\"#m7b450e2d66\" />\n",
       "     <use style=\"fill:#4575b4;fill-opacity:0.4;stroke:#4575b4;stroke-opacity:0.4;stroke-width:0.3;\" x=\"57.366439\" y=\"57.795053\" xlink:href=\"#m7b450e2d66\" />\n",
       "     <use style=\"fill:#4575b4;fill-opacity:0.4;stroke:#4575b4;stroke-opacity:0.4;stroke-width:0.3;\" x=\"90.833184\" y=\"45.834103\" xlink:href=\"#m7b450e2d66\" />\n",
       "     <use style=\"fill:#4575b4;fill-opacity:0.4;stroke:#4575b4;stroke-opacity:0.4;stroke-width:0.3;\" x=\"53.40676\" y=\"57.211592\" xlink:href=\"#m7b450e2d66\" />\n",
       "     <use style=\"fill:#4575b4;fill-opacity:0.4;stroke:#4575b4;stroke-opacity:0.4;stroke-width:0.3;\" x=\"55.34518\" y=\"57.827467\" xlink:href=\"#m7b450e2d66\" />\n",
       "     <use style=\"fill:#4575b4;fill-opacity:0.4;stroke:#4575b4;stroke-opacity:0.4;stroke-width:0.3;\" x=\"60.249217\" y=\"56.303986\" xlink:href=\"#m7b450e2d66\" />\n",
       "     <use style=\"fill:#4575b4;fill-opacity:0.4;stroke:#4575b4;stroke-opacity:0.4;stroke-width:0.3;\" x=\"59.619646\" y=\"56.69296\" xlink:href=\"#m7b450e2d66\" />\n",
       "     <use style=\"fill:#4575b4;fill-opacity:0.4;stroke:#4575b4;stroke-opacity:0.4;stroke-width:0.3;\" x=\"63.529621\" y=\"55.623281\" xlink:href=\"#m7b450e2d66\" />\n",
       "     <use style=\"fill:#4575b4;fill-opacity:0.4;stroke:#4575b4;stroke-opacity:0.4;stroke-width:0.3;\" x=\"63.993517\" y=\"59.350949\" xlink:href=\"#m7b450e2d66\" />\n",
       "     <use style=\"fill:#4575b4;fill-opacity:0.4;stroke:#4575b4;stroke-opacity:0.4;stroke-width:0.3;\" x=\"87.188291\" y=\"49.950744\" xlink:href=\"#m7b450e2d66\" />\n",
       "     <use style=\"fill:#4575b4;fill-opacity:0.4;stroke:#4575b4;stroke-opacity:0.4;stroke-width:0.3;\" x=\"53.072092\" y=\"57.885813\" xlink:href=\"#m7b450e2d66\" />\n",
       "     <use style=\"fill:#4575b4;fill-opacity:0.4;stroke:#4575b4;stroke-opacity:0.4;stroke-width:0.3;\" x=\"53.078718\" y=\"56.919861\" xlink:href=\"#m7b450e2d66\" />\n",
       "     <use style=\"fill:#4575b4;fill-opacity:0.4;stroke:#4575b4;stroke-opacity:0.4;stroke-width:0.3;\" x=\"55.378315\" y=\"57.179177\" xlink:href=\"#m7b450e2d66\" />\n",
       "     <use style=\"fill:#4575b4;fill-opacity:0.4;stroke:#4575b4;stroke-opacity:0.4;stroke-width:0.3;\" x=\"65.186391\" y=\"55.091684\" xlink:href=\"#m7b450e2d66\" />\n",
       "     <use style=\"fill:#4575b4;fill-opacity:0.4;stroke:#4575b4;stroke-opacity:0.4;stroke-width:0.3;\" x=\"57.00195\" y=\"58.313685\" xlink:href=\"#m7b450e2d66\" />\n",
       "     <use style=\"fill:#4575b4;fill-opacity:0.4;stroke:#4575b4;stroke-opacity:0.4;stroke-width:0.3;\" x=\"95.240193\" y=\"53.127365\" xlink:href=\"#m7b450e2d66\" />\n",
       "     <use style=\"fill:#4575b4;fill-opacity:0.4;stroke:#4575b4;stroke-opacity:0.4;stroke-width:0.3;\" x=\"30.858125\" y=\"57.34125\" xlink:href=\"#m7b450e2d66\" />\n",
       "     <use style=\"fill:#4575b4;fill-opacity:0.4;stroke:#4575b4;stroke-opacity:0.4;stroke-width:0.3;\" x=\"60.2691\" y=\"55.39638\" xlink:href=\"#m7b450e2d66\" />\n",
       "     <use style=\"fill:#4575b4;fill-opacity:0.4;stroke:#4575b4;stroke-opacity:0.4;stroke-width:0.3;\" x=\"53.390192\" y=\"58.469275\" xlink:href=\"#m7b450e2d66\" />\n",
       "     <use style=\"fill:#4575b4;fill-opacity:0.4;stroke:#4575b4;stroke-opacity:0.4;stroke-width:0.3;\" x=\"63.993517\" y=\"53.289437\" xlink:href=\"#m7b450e2d66\" />\n",
       "     <use style=\"fill:#4575b4;fill-opacity:0.4;stroke:#4575b4;stroke-opacity:0.4;stroke-width:0.3;\" x=\"58.40689\" y=\"55.876114\" xlink:href=\"#m7b450e2d66\" />\n",
       "     <use style=\"fill:#4575b4;fill-opacity:0.4;stroke:#4575b4;stroke-opacity:0.4;stroke-width:0.3;\" x=\"60.249217\" y=\"57.503322\" xlink:href=\"#m7b450e2d66\" />\n",
       "     <use style=\"fill:#4575b4;fill-opacity:0.4;stroke:#4575b4;stroke-opacity:0.4;stroke-width:0.3;\" x=\"71.051356\" y=\"57.244006\" xlink:href=\"#m7b450e2d66\" />\n",
       "     <use style=\"fill:#4575b4;fill-opacity:0.4;stroke:#4575b4;stroke-opacity:0.4;stroke-width:0.3;\" x=\"73.934135\" y=\"58.339616\" xlink:href=\"#m7b450e2d66\" />\n",
       "     <use style=\"fill:#4575b4;fill-opacity:0.4;stroke:#4575b4;stroke-opacity:0.4;stroke-width:0.3;\" x=\"99.71347\" y=\"42.365751\" xlink:href=\"#m7b450e2d66\" />\n",
       "     <use style=\"fill:#4575b4;fill-opacity:0.4;stroke:#4575b4;stroke-opacity:0.4;stroke-width:0.3;\" x=\"58.029146\" y=\"57.665395\" xlink:href=\"#m7b450e2d66\" />\n",
       "     <use style=\"fill:#4575b4;fill-opacity:0.4;stroke:#4575b4;stroke-opacity:0.4;stroke-width:0.3;\" x=\"97.460263\" y=\"53.289437\" xlink:href=\"#m7b450e2d66\" />\n",
       "     <use style=\"fill:#4575b4;fill-opacity:0.4;stroke:#4575b4;stroke-opacity:0.4;stroke-width:0.3;\" x=\"88.679384\" y=\"45.509958\" xlink:href=\"#m7b450e2d66\" />\n",
       "     <use style=\"fill:#4575b4;fill-opacity:0.4;stroke:#4575b4;stroke-opacity:0.4;stroke-width:0.3;\" x=\"30.858125\" y=\"58.897146\" xlink:href=\"#m7b450e2d66\" />\n",
       "     <use style=\"fill:#4575b4;fill-opacity:0.4;stroke:#4575b4;stroke-opacity:0.4;stroke-width:0.3;\" x=\"57.366439\" y=\"58.378514\" xlink:href=\"#m7b450e2d66\" />\n",
       "     <use style=\"fill:#4575b4;fill-opacity:0.4;stroke:#4575b4;stroke-opacity:0.4;stroke-width:0.3;\" x=\"63.529621\" y=\"55.247273\" xlink:href=\"#m7b450e2d66\" />\n",
       "     <use style=\"fill:#4575b4;fill-opacity:0.4;stroke:#4575b4;stroke-opacity:0.4;stroke-width:0.3;\" x=\"89.706583\" y=\"58.248856\" xlink:href=\"#m7b450e2d66\" />\n",
       "     <use style=\"fill:#4575b4;fill-opacity:0.4;stroke:#4575b4;stroke-opacity:0.4;stroke-width:0.3;\" x=\"53.091972\" y=\"59.253705\" xlink:href=\"#m7b450e2d66\" />\n",
       "     <use style=\"fill:#4575b4;fill-opacity:0.4;stroke:#4575b4;stroke-opacity:0.4;stroke-width:0.3;\" x=\"63.529621\" y=\"56.965242\" xlink:href=\"#m7b450e2d66\" />\n",
       "     <use style=\"fill:#4575b4;fill-opacity:0.4;stroke:#4575b4;stroke-opacity:0.4;stroke-width:0.3;\" x=\"58.029146\" y=\"56.485507\" xlink:href=\"#m7b450e2d66\" />\n",
       "     <use style=\"fill:#4575b4;fill-opacity:0.4;stroke:#4575b4;stroke-opacity:0.4;stroke-width:0.3;\" x=\"54.052899\" y=\"56.829101\" xlink:href=\"#m7b450e2d66\" />\n",
       "     <use style=\"fill:#4575b4;fill-opacity:0.4;stroke:#4575b4;stroke-opacity:0.4;stroke-width:0.3;\" x=\"55.358435\" y=\"58.080301\" xlink:href=\"#m7b450e2d66\" />\n",
       "     <use style=\"fill:#4575b4;fill-opacity:0.4;stroke:#4575b4;stroke-opacity:0.4;stroke-width:0.3;\" x=\"75.922258\" y=\"42.313888\" xlink:href=\"#m7b450e2d66\" />\n",
       "     <use style=\"fill:#4575b4;fill-opacity:0.4;stroke:#4575b4;stroke-opacity:0.4;stroke-width:0.3;\" x=\"77.247674\" y=\"55.39638\" xlink:href=\"#m7b450e2d66\" />\n",
       "     <use style=\"fill:#4575b4;fill-opacity:0.4;stroke:#4575b4;stroke-opacity:0.4;stroke-width:0.3;\" x=\"55.378315\" y=\"58.443343\" xlink:href=\"#m7b450e2d66\" />\n",
       "     <use style=\"fill:#4575b4;fill-opacity:0.4;stroke:#4575b4;stroke-opacity:0.4;stroke-width:0.3;\" x=\"55.378315\" y=\"57.179177\" xlink:href=\"#m7b450e2d66\" />\n",
       "     <use style=\"fill:#4575b4;fill-opacity:0.4;stroke:#4575b4;stroke-opacity:0.4;stroke-width:0.3;\" x=\"57.00195\" y=\"58.151612\" xlink:href=\"#m7b450e2d66\" />\n",
       "     <use style=\"fill:#4575b4;fill-opacity:0.4;stroke:#4575b4;stroke-opacity:0.4;stroke-width:0.3;\" x=\"63.529621\" y=\"56.952276\" xlink:href=\"#m7b450e2d66\" />\n",
       "     <use style=\"fill:#4575b4;fill-opacity:0.4;stroke:#4575b4;stroke-opacity:0.4;stroke-width:0.3;\" x=\"71.051356\" y=\"55.882597\" xlink:href=\"#m7b450e2d66\" />\n",
       "     <use style=\"fill:#4575b4;fill-opacity:0.4;stroke:#4575b4;stroke-opacity:0.4;stroke-width:0.3;\" x=\"87.519645\" y=\"53.062536\" xlink:href=\"#m7b450e2d66\" />\n",
       "     <use style=\"fill:#4575b4;fill-opacity:0.4;stroke:#4575b4;stroke-opacity:0.4;stroke-width:0.3;\" x=\"76.594906\" y=\"52.641147\" xlink:href=\"#m7b450e2d66\" />\n",
       "     <use style=\"fill:#4575b4;fill-opacity:0.4;stroke:#4575b4;stroke-opacity:0.4;stroke-width:0.3;\" x=\"55.34518\" y=\"58.086783\" xlink:href=\"#m7b450e2d66\" />\n",
       "     <use style=\"fill:#4575b4;fill-opacity:0.4;stroke:#4575b4;stroke-opacity:0.4;stroke-width:0.3;\" x=\"53.072092\" y=\"57.827467\" xlink:href=\"#m7b450e2d66\" />\n",
       "     <use style=\"fill:#4575b4;fill-opacity:0.4;stroke:#4575b4;stroke-opacity:0.4;stroke-width:0.3;\" x=\"57.366439\" y=\"58.410928\" xlink:href=\"#m7b450e2d66\" />\n",
       "     <use style=\"fill:#4575b4;fill-opacity:0.4;stroke:#4575b4;stroke-opacity:0.4;stroke-width:0.3;\" x=\"57.366439\" y=\"56.919861\" xlink:href=\"#m7b450e2d66\" />\n",
       "     <use style=\"fill:#4575b4;fill-opacity:0.4;stroke:#4575b4;stroke-opacity:0.4;stroke-width:0.3;\" x=\"30.858125\" y=\"58.410928\" xlink:href=\"#m7b450e2d66\" />\n",
       "     <use style=\"fill:#4575b4;fill-opacity:0.4;stroke:#4575b4;stroke-opacity:0.4;stroke-width:0.3;\" x=\"55.378315\" y=\"54.942577\" xlink:href=\"#m7b450e2d66\" />\n",
       "     <use style=\"fill:#4575b4;fill-opacity:0.4;stroke:#4575b4;stroke-opacity:0.4;stroke-width:0.3;\" x=\"55.378315\" y=\"57.503322\" xlink:href=\"#m7b450e2d66\" />\n",
       "     <use style=\"fill:#4575b4;fill-opacity:0.4;stroke:#4575b4;stroke-opacity:0.4;stroke-width:0.3;\" x=\"30.858125\" y=\"58.540586\" xlink:href=\"#m7b450e2d66\" />\n",
       "     <use style=\"fill:#4575b4;fill-opacity:0.4;stroke:#4575b4;stroke-opacity:0.4;stroke-width:0.3;\" x=\"93.066512\" y=\"44.861668\" xlink:href=\"#m7b450e2d66\" />\n",
       "     <use style=\"fill:#4575b4;fill-opacity:0.4;stroke:#4575b4;stroke-opacity:0.4;stroke-width:0.3;\" x=\"61.674039\" y=\"58.63783\" xlink:href=\"#m7b450e2d66\" />\n",
       "     <use style=\"fill:#4575b4;fill-opacity:0.4;stroke:#4575b4;stroke-opacity:0.4;stroke-width:0.3;\" x=\"60.249217\" y=\"56.576268\" xlink:href=\"#m7b450e2d66\" />\n",
       "     <use style=\"fill:#4575b4;fill-opacity:0.4;stroke:#4575b4;stroke-opacity:0.4;stroke-width:0.3;\" x=\"60.679978\" y=\"59.188876\" xlink:href=\"#m7b450e2d66\" />\n",
       "     <use style=\"fill:#4575b4;fill-opacity:0.4;stroke:#4575b4;stroke-opacity:0.4;stroke-width:0.3;\" x=\"59.619646\" y=\"55.895563\" xlink:href=\"#m7b450e2d66\" />\n",
       "     <use style=\"fill:#4575b4;fill-opacity:0.4;stroke:#4575b4;stroke-opacity:0.4;stroke-width:0.3;\" x=\"60.182947\" y=\"53.691377\" xlink:href=\"#m7b450e2d66\" />\n",
       "     <use style=\"fill:#4575b4;fill-opacity:0.4;stroke:#4575b4;stroke-opacity:0.4;stroke-width:0.3;\" x=\"72.714752\" y=\"56.855032\" xlink:href=\"#m7b450e2d66\" />\n",
       "     <use style=\"fill:#4575b4;fill-opacity:0.4;stroke:#4575b4;stroke-opacity:0.4;stroke-width:0.3;\" x=\"55.358435\" y=\"57.730224\" xlink:href=\"#m7b450e2d66\" />\n",
       "     <use style=\"fill:#4575b4;fill-opacity:0.4;stroke:#4575b4;stroke-opacity:0.4;stroke-width:0.3;\" x=\"63.993517\" y=\"53.931244\" xlink:href=\"#m7b450e2d66\" />\n",
       "     <use style=\"fill:#4575b4;fill-opacity:0.4;stroke:#4575b4;stroke-opacity:0.4;stroke-width:0.3;\" x=\"97.4934\" y=\"39.351203\" xlink:href=\"#m7b450e2d66\" />\n",
       "     <use style=\"fill:#4575b4;fill-opacity:0.4;stroke:#4575b4;stroke-opacity:0.4;stroke-width:0.3;\" x=\"53.390192\" y=\"57.63298\" xlink:href=\"#m7b450e2d66\" />\n",
       "     <use style=\"fill:#4575b4;fill-opacity:0.4;stroke:#4575b4;stroke-opacity:0.4;stroke-width:0.3;\" x=\"58.3605\" y=\"59.804752\" xlink:href=\"#m7b450e2d66\" />\n",
       "     <use style=\"fill:#4575b4;fill-opacity:0.4;stroke:#4575b4;stroke-opacity:0.4;stroke-width:0.3;\" x=\"64.656225\" y=\"57.503322\" xlink:href=\"#m7b450e2d66\" />\n",
       "     <use style=\"fill:#4575b4;fill-opacity:0.4;stroke:#4575b4;stroke-opacity:0.4;stroke-width:0.3;\" x=\"60.597139\" y=\"56.433644\" xlink:href=\"#m7b450e2d66\" />\n",
       "     <use style=\"fill:#4575b4;fill-opacity:0.4;stroke:#4575b4;stroke-opacity:0.4;stroke-width:0.3;\" x=\"56.703731\" y=\"58.63783\" xlink:href=\"#m7b450e2d66\" />\n",
       "     <use style=\"fill:#4575b4;fill-opacity:0.4;stroke:#4575b4;stroke-opacity:0.4;stroke-width:0.3;\" x=\"51.766557\" y=\"57.957125\" xlink:href=\"#m7b450e2d66\" />\n",
       "     <use style=\"fill:#4575b4;fill-opacity:0.4;stroke:#4575b4;stroke-opacity:0.4;stroke-width:0.3;\" x=\"58.691854\" y=\"56.78372\" xlink:href=\"#m7b450e2d66\" />\n",
       "     <use style=\"fill:#4575b4;fill-opacity:0.4;stroke:#4575b4;stroke-opacity:0.4;stroke-width:0.3;\" x=\"30.858125\" y=\"58.540586\" xlink:href=\"#m7b450e2d66\" />\n",
       "     <use style=\"fill:#4575b4;fill-opacity:0.4;stroke:#4575b4;stroke-opacity:0.4;stroke-width:0.3;\" x=\"60.182947\" y=\"55.493624\" xlink:href=\"#m7b450e2d66\" />\n",
       "     <use style=\"fill:#4575b4;fill-opacity:0.4;stroke:#4575b4;stroke-opacity:0.4;stroke-width:0.3;\" x=\"55.292162\" y=\"57.308835\" xlink:href=\"#m7b450e2d66\" />\n",
       "     <use style=\"fill:#4575b4;fill-opacity:0.4;stroke:#4575b4;stroke-opacity:0.4;stroke-width:0.3;\" x=\"57.982757\" y=\"56.200259\" xlink:href=\"#m7b450e2d66\" />\n",
       "     <use style=\"fill:#4575b4;fill-opacity:0.4;stroke:#4575b4;stroke-opacity:0.4;stroke-width:0.3;\" x=\"60.249217\" y=\"57.438493\" xlink:href=\"#m7b450e2d66\" />\n",
       "     <use style=\"fill:#4575b4;fill-opacity:0.4;stroke:#4575b4;stroke-opacity:0.4;stroke-width:0.3;\" x=\"62.005393\" y=\"59.448192\" xlink:href=\"#m7b450e2d66\" />\n",
       "     <use style=\"fill:#4575b4;fill-opacity:0.4;stroke:#4575b4;stroke-opacity:0.4;stroke-width:0.3;\" x=\"79.73614\" y=\"48.751408\" xlink:href=\"#m7b450e2d66\" />\n",
       "     <use style=\"fill:#4575b4;fill-opacity:0.4;stroke:#4575b4;stroke-opacity:0.4;stroke-width:0.3;\" x=\"85.100761\" y=\"54.294287\" xlink:href=\"#m7b450e2d66\" />\n",
       "     <use style=\"fill:#4575b4;fill-opacity:0.4;stroke:#4575b4;stroke-opacity:0.4;stroke-width:0.3;\" x=\"92.489954\" y=\"42.787139\" xlink:href=\"#m7b450e2d66\" />\n",
       "     <use style=\"fill:#4575b4;fill-opacity:0.4;stroke:#4575b4;stroke-opacity:0.4;stroke-width:0.3;\" x=\"53.72486\" y=\"58.540586\" xlink:href=\"#m7b450e2d66\" />\n",
       "     <use style=\"fill:#4575b4;fill-opacity:0.4;stroke:#4575b4;stroke-opacity:0.4;stroke-width:0.3;\" x=\"46.199811\" y=\"58.961975\" xlink:href=\"#m7b450e2d66\" />\n",
       "     <use style=\"fill:#4575b4;fill-opacity:0.4;stroke:#4575b4;stroke-opacity:0.4;stroke-width:0.3;\" x=\"58.393635\" y=\"56.375298\" xlink:href=\"#m7b450e2d66\" />\n",
       "     <use style=\"fill:#4575b4;fill-opacity:0.4;stroke:#4575b4;stroke-opacity:0.4;stroke-width:0.3;\" x=\"64.656225\" y=\"53.581168\" xlink:href=\"#m7b450e2d66\" />\n",
       "     <use style=\"fill:#4575b4;fill-opacity:0.4;stroke:#4575b4;stroke-opacity:0.4;stroke-width:0.3;\" x=\"59.288292\" y=\"58.378514\" xlink:href=\"#m7b450e2d66\" />\n",
       "     <use style=\"fill:#4575b4;fill-opacity:0.4;stroke:#4575b4;stroke-opacity:0.4;stroke-width:0.3;\" x=\"64.845096\" y=\"56.206742\" xlink:href=\"#m7b450e2d66\" />\n",
       "     <use style=\"fill:#4575b4;fill-opacity:0.4;stroke:#4575b4;stroke-opacity:0.4;stroke-width:0.3;\" x=\"58.691854\" y=\"55.655696\" xlink:href=\"#m7b450e2d66\" />\n",
       "     <use style=\"fill:#4575b4;fill-opacity:0.4;stroke:#4575b4;stroke-opacity:0.4;stroke-width:0.3;\" x=\"53.072092\" y=\"56.368815\" xlink:href=\"#m7b450e2d66\" />\n",
       "     <use style=\"fill:#4575b4;fill-opacity:0.4;stroke:#4575b4;stroke-opacity:0.4;stroke-width:0.3;\" x=\"53.390192\" y=\"58.021954\" xlink:href=\"#m7b450e2d66\" />\n",
       "     <use style=\"fill:#4575b4;fill-opacity:0.4;stroke:#4575b4;stroke-opacity:0.4;stroke-width:0.3;\" x=\"87.188291\" y=\"37.548957\" xlink:href=\"#m7b450e2d66\" />\n",
       "     <use style=\"fill:#4575b4;fill-opacity:0.4;stroke:#4575b4;stroke-opacity:0.4;stroke-width:0.3;\" x=\"71.051356\" y=\"52.096584\" xlink:href=\"#m7b450e2d66\" />\n",
       "     <use style=\"fill:#4575b4;fill-opacity:0.4;stroke:#4575b4;stroke-opacity:0.4;stroke-width:0.3;\" x=\"53.091972\" y=\"57.697809\" xlink:href=\"#m7b450e2d66\" />\n",
       "     <use style=\"fill:#4575b4;fill-opacity:0.4;stroke:#4575b4;stroke-opacity:0.4;stroke-width:0.3;\" x=\"64.656225\" y=\"51.539055\" xlink:href=\"#m7b450e2d66\" />\n",
       "     <use style=\"fill:#4575b4;fill-opacity:0.4;stroke:#4575b4;stroke-opacity:0.4;stroke-width:0.3;\" x=\"76.618103\" y=\"57.957125\" xlink:href=\"#m7b450e2d66\" />\n",
       "     <use style=\"fill:#4575b4;fill-opacity:0.4;stroke:#4575b4;stroke-opacity:0.4;stroke-width:0.3;\" x=\"60.249217\" y=\"55.882597\" xlink:href=\"#m7b450e2d66\" />\n",
       "     <use style=\"fill:#4575b4;fill-opacity:0.4;stroke:#4575b4;stroke-opacity:0.4;stroke-width:0.3;\" x=\"75.25955\" y=\"54.974991\" xlink:href=\"#m7b450e2d66\" />\n",
       "     <use style=\"fill:#4575b4;fill-opacity:0.4;stroke:#4575b4;stroke-opacity:0.4;stroke-width:0.3;\" x=\"59.616332\" y=\"55.882597\" xlink:href=\"#m7b450e2d66\" />\n",
       "     <use style=\"fill:#4575b4;fill-opacity:0.4;stroke:#4575b4;stroke-opacity:0.4;stroke-width:0.3;\" x=\"57.972817\" y=\"56.109499\" xlink:href=\"#m7b450e2d66\" />\n",
       "     <use style=\"fill:#4575b4;fill-opacity:0.4;stroke:#4575b4;stroke-opacity:0.4;stroke-width:0.3;\" x=\"55.358435\" y=\"57.652429\" xlink:href=\"#m7b450e2d66\" />\n",
       "     <use style=\"fill:#4575b4;fill-opacity:0.4;stroke:#4575b4;stroke-opacity:0.4;stroke-width:0.3;\" x=\"52.064776\" y=\"59.026804\" xlink:href=\"#m7b450e2d66\" />\n",
       "     <use style=\"fill:#4575b4;fill-opacity:0.4;stroke:#4575b4;stroke-opacity:0.4;stroke-width:0.3;\" x=\"60.2691\" y=\"56.271571\" xlink:href=\"#m7b450e2d66\" />\n",
       "     <use style=\"fill:#4575b4;fill-opacity:0.4;stroke:#4575b4;stroke-opacity:0.4;stroke-width:0.3;\" x=\"64.192329\" y=\"55.234307\" xlink:href=\"#m7b450e2d66\" />\n",
       "     <use style=\"fill:#4575b4;fill-opacity:0.4;stroke:#4575b4;stroke-opacity:0.4;stroke-width:0.3;\" x=\"61.574632\" y=\"59.610265\" xlink:href=\"#m7b450e2d66\" />\n",
       "     <use style=\"fill:#4575b4;fill-opacity:0.4;stroke:#4575b4;stroke-opacity:0.4;stroke-width:0.3;\" x=\"55.378315\" y=\"56.271571\" xlink:href=\"#m7b450e2d66\" />\n",
       "     <use style=\"fill:#4575b4;fill-opacity:0.4;stroke:#4575b4;stroke-opacity:0.4;stroke-width:0.3;\" x=\"72.674989\" y=\"54.0998\" xlink:href=\"#m7b450e2d66\" />\n",
       "     <use style=\"fill:#4575b4;fill-opacity:0.4;stroke:#4575b4;stroke-opacity:0.4;stroke-width:0.3;\" x=\"71.051356\" y=\"55.052786\" xlink:href=\"#m7b450e2d66\" />\n",
       "     <use style=\"fill:#4575b4;fill-opacity:0.4;stroke:#4575b4;stroke-opacity:0.4;stroke-width:0.3;\" x=\"60.08354\" y=\"58.832317\" xlink:href=\"#m7b450e2d66\" />\n",
       "     <use style=\"fill:#4575b4;fill-opacity:0.4;stroke:#4575b4;stroke-opacity:0.4;stroke-width:0.3;\" x=\"79.832235\" y=\"48.038288\" xlink:href=\"#m7b450e2d66\" />\n",
       "     <use style=\"fill:#4575b4;fill-opacity:0.4;stroke:#4575b4;stroke-opacity:0.4;stroke-width:0.3;\" x=\"170.358125\" y=\"1.750383\" xlink:href=\"#m7b450e2d66\" />\n",
       "     <use style=\"fill:#4575b4;fill-opacity:0.4;stroke:#4575b4;stroke-opacity:0.4;stroke-width:0.3;\" x=\"93.053255\" y=\"44.537523\" xlink:href=\"#m7b450e2d66\" />\n",
       "     <use style=\"fill:#4575b4;fill-opacity:0.4;stroke:#4575b4;stroke-opacity:0.4;stroke-width:0.3;\" x=\"55.368375\" y=\"57.373665\" xlink:href=\"#m7b450e2d66\" />\n",
       "     <use style=\"fill:#4575b4;fill-opacity:0.4;stroke:#4575b4;stroke-opacity:0.4;stroke-width:0.3;\" x=\"86.399667\" y=\"34.482546\" xlink:href=\"#m7b450e2d66\" />\n",
       "     <use style=\"fill:#4575b4;fill-opacity:0.4;stroke:#4575b4;stroke-opacity:0.4;stroke-width:0.3;\" x=\"58.327365\" y=\"57.081934\" xlink:href=\"#m7b450e2d66\" />\n",
       "     <use style=\"fill:#4575b4;fill-opacity:0.4;stroke:#4575b4;stroke-opacity:0.4;stroke-width:0.3;\" x=\"66.412402\" y=\"51.020422\" xlink:href=\"#m7b450e2d66\" />\n",
       "     <use style=\"fill:#4575b4;fill-opacity:0.4;stroke:#4575b4;stroke-opacity:0.4;stroke-width:0.3;\" x=\"53.072092\" y=\"55.655696\" xlink:href=\"#m7b450e2d66\" />\n",
       "     <use style=\"fill:#4575b4;fill-opacity:0.4;stroke:#4575b4;stroke-opacity:0.4;stroke-width:0.3;\" x=\"58.029146\" y=\"55.506589\" xlink:href=\"#m7b450e2d66\" />\n",
       "     <use style=\"fill:#4575b4;fill-opacity:0.4;stroke:#4575b4;stroke-opacity:0.4;stroke-width:0.3;\" x=\"55.292162\" y=\"57.017105\" xlink:href=\"#m7b450e2d66\" />\n",
       "     <use style=\"fill:#4575b4;fill-opacity:0.4;stroke:#4575b4;stroke-opacity:0.4;stroke-width:0.3;\" x=\"88.679384\" y=\"51.487191\" xlink:href=\"#m7b450e2d66\" />\n",
       "     <use style=\"fill:#4575b4;fill-opacity:0.4;stroke:#4575b4;stroke-opacity:0.4;stroke-width:0.3;\" x=\"72.674989\" y=\"53.289437\" xlink:href=\"#m7b450e2d66\" />\n",
       "     <use style=\"fill:#4575b4;fill-opacity:0.4;stroke:#4575b4;stroke-opacity:0.4;stroke-width:0.3;\" x=\"53.091972\" y=\"58.605415\" xlink:href=\"#m7b450e2d66\" />\n",
       "     <use style=\"fill:#4575b4;fill-opacity:0.4;stroke:#4575b4;stroke-opacity:0.4;stroke-width:0.3;\" x=\"90.833184\" y=\"41.924913\" xlink:href=\"#m7b450e2d66\" />\n",
       "     <use style=\"fill:#4575b4;fill-opacity:0.4;stroke:#4575b4;stroke-opacity:0.4;stroke-width:0.3;\" x=\"53.390192\" y=\"57.568151\" xlink:href=\"#m7b450e2d66\" />\n",
       "    </g>\n",
       "   </g>\n",
       "   <g id=\"patch_3\">\n",
       "    <path d=\"M 85.481818 59.796  L 82.970818 65.7756  L 87.992818 65.7756  z \" style=\"fill:#444443;\" />\n",
       "   </g>\n",
       "   <g id=\"matplotlib.axis_1\">\n",
       "    <g id=\"xtick_1\">\n",
       "     <g id=\"line2d_1\">\n",
       "      <defs>\n",
       "       <path d=\"M 0 0  L 0 3.5  \" id=\"m85ba23097b\" style=\"stroke:#444443;stroke-width:0.3;\" />\n",
       "      </defs>\n",
       "      <g>\n",
       "       <use style=\"fill:#444443;stroke:#444443;stroke-width:0.3;\" x=\"30.858125\" y=\"59.796\" xlink:href=\"#m85ba23097b\" />\n",
       "      </g>\n",
       "     </g>\n",
       "     <g id=\"text_1\">\n",
       "      \n",
       "      <g style=\"fill:#444443;\" transform=\"translate(24.496875 72.87475)scale(0.08 -0.08)\">\n",
       "       <defs>\n",
       "        <path d=\"M 31.78125 66.40625  Q 24.171875 66.40625 20.328125 58.90625  Q 16.5 51.421875 16.5 36.375  Q 16.5 21.390625 20.328125 13.890625  Q 24.171875 6.390625 31.78125 6.390625  Q 39.453125 6.390625 43.28125 13.890625  Q 47.125 21.390625 47.125 36.375  Q 47.125 51.421875 43.28125 58.90625  Q 39.453125 66.40625 31.78125 66.40625  z M 31.78125 74.21875  Q 44.046875 74.21875 50.515625 64.515625  Q 56.984375 54.828125 56.984375 36.375  Q 56.984375 17.96875 50.515625 8.265625  Q 44.046875 -1.421875 31.78125 -1.421875  Q 19.53125 -1.421875 13.0625 8.265625  Q 6.59375 17.96875 6.59375 36.375  Q 6.59375 54.828125 13.0625 64.515625  Q 19.53125 74.21875 31.78125 74.21875  z \" id=\"DejaVuSans-48\" />\n",
       "        <path d=\"M 10.6875 12.40625  L 21 12.40625  L 21 0  L 10.6875 0  z \" id=\"DejaVuSans-46\" />\n",
       "       </defs>\n",
       "       <use xlink:href=\"#DejaVuSans-48\" />\n",
       "       <use x=\"63.623047\" xlink:href=\"#DejaVuSans-46\" />\n",
       "       <use x=\"95.410156\" xlink:href=\"#DejaVuSans-48\" />\n",
       "      </g>\n",
       "     </g>\n",
       "    </g>\n",
       "    <g id=\"xtick_2\">\n",
       "     <g id=\"line2d_2\">\n",
       "      <g>\n",
       "       <use style=\"fill:#444443;stroke:#444443;stroke-width:0.3;\" x=\"170.358125\" y=\"59.796\" xlink:href=\"#m85ba23097b\" />\n",
       "      </g>\n",
       "     </g>\n",
       "     <g id=\"text_2\">\n",
       "      \n",
       "      <g style=\"fill:#444443;\" transform=\"translate(158.906875 72.87475)scale(0.08 -0.08)\">\n",
       "       <defs>\n",
       "        <path d=\"M 37.796875 64.3125  L 12.890625 25.390625  L 37.796875 25.390625  z M 35.203125 72.90625  L 47.609375 72.90625  L 47.609375 25.390625  L 58.015625 25.390625  L 58.015625 17.1875  L 47.609375 17.1875  L 47.609375 0  L 37.796875 0  L 37.796875 17.1875  L 4.890625 17.1875  L 4.890625 26.703125  z \" id=\"DejaVuSans-52\" />\n",
       "        <path d=\"M 19.1875 8.296875  L 53.609375 8.296875  L 53.609375 0  L 7.328125 0  L 7.328125 8.296875  Q 12.9375 14.109375 22.625 23.890625  Q 32.328125 33.6875 34.8125 36.53125  Q 39.546875 41.84375 41.421875 45.53125  Q 43.3125 49.21875 43.3125 52.78125  Q 43.3125 58.59375 39.234375 62.25  Q 35.15625 65.921875 28.609375 65.921875  Q 23.96875 65.921875 18.8125 64.3125  Q 13.671875 62.703125 7.8125 59.421875  L 7.8125 69.390625  Q 13.765625 71.78125 18.9375 73  Q 24.125 74.21875 28.421875 74.21875  Q 39.75 74.21875 46.484375 68.546875  Q 53.21875 62.890625 53.21875 53.421875  Q 53.21875 48.921875 51.53125 44.890625  Q 49.859375 40.875 45.40625 35.40625  Q 44.1875 33.984375 37.640625 27.21875  Q 31.109375 20.453125 19.1875 8.296875  z \" id=\"DejaVuSans-50\" />\n",
       "        <path d=\"M 12.40625 8.296875  L 28.515625 8.296875  L 28.515625 63.921875  L 10.984375 60.40625  L 10.984375 69.390625  L 28.421875 72.90625  L 38.28125 72.90625  L 38.28125 8.296875  L 54.390625 8.296875  L 54.390625 0  L 12.40625 0  z \" id=\"DejaVuSans-49\" />\n",
       "       </defs>\n",
       "       <use xlink:href=\"#DejaVuSans-52\" />\n",
       "       <use x=\"63.623047\" xlink:href=\"#DejaVuSans-50\" />\n",
       "       <use x=\"127.246094\" xlink:href=\"#DejaVuSans-49\" />\n",
       "       <use x=\"190.869141\" xlink:href=\"#DejaVuSans-46\" />\n",
       "       <use x=\"222.65625\" xlink:href=\"#DejaVuSans-48\" />\n",
       "      </g>\n",
       "     </g>\n",
       "    </g>\n",
       "    <g id=\"xtick_3\">\n",
       "     <g id=\"line2d_3\">\n",
       "      <g>\n",
       "       <use style=\"fill:#444443;stroke:#444443;stroke-width:0.3;\" x=\"85.481818\" y=\"59.796\" xlink:href=\"#m85ba23097b\" />\n",
       "      </g>\n",
       "     </g>\n",
       "     <g id=\"text_3\">\n",
       "      \n",
       "      <g style=\"fill:#444443;\" transform=\"translate(74.030568 72.87475)scale(0.08 -0.08)\">\n",
       "       <defs>\n",
       "        <path d=\"M 33.015625 40.375  Q 26.375 40.375 22.484375 35.828125  Q 18.609375 31.296875 18.609375 23.390625  Q 18.609375 15.53125 22.484375 10.953125  Q 26.375 6.390625 33.015625 6.390625  Q 39.65625 6.390625 43.53125 10.953125  Q 47.40625 15.53125 47.40625 23.390625  Q 47.40625 31.296875 43.53125 35.828125  Q 39.65625 40.375 33.015625 40.375  z M 52.59375 71.296875  L 52.59375 62.3125  Q 48.875 64.0625 45.09375 64.984375  Q 41.3125 65.921875 37.59375 65.921875  Q 27.828125 65.921875 22.671875 59.328125  Q 17.53125 52.734375 16.796875 39.40625  Q 19.671875 43.65625 24.015625 45.921875  Q 28.375 48.1875 33.59375 48.1875  Q 44.578125 48.1875 50.953125 41.515625  Q 57.328125 34.859375 57.328125 23.390625  Q 57.328125 12.15625 50.6875 5.359375  Q 44.046875 -1.421875 33.015625 -1.421875  Q 20.359375 -1.421875 13.671875 8.265625  Q 6.984375 17.96875 6.984375 36.375  Q 6.984375 53.65625 15.1875 63.9375  Q 23.390625 74.21875 37.203125 74.21875  Q 40.921875 74.21875 44.703125 73.484375  Q 48.484375 72.75 52.59375 71.296875  z \" id=\"DejaVuSans-54\" />\n",
       "        <path d=\"M 31.78125 34.625  Q 24.75 34.625 20.71875 30.859375  Q 16.703125 27.09375 16.703125 20.515625  Q 16.703125 13.921875 20.71875 10.15625  Q 24.75 6.390625 31.78125 6.390625  Q 38.8125 6.390625 42.859375 10.171875  Q 46.921875 13.96875 46.921875 20.515625  Q 46.921875 27.09375 42.890625 30.859375  Q 38.875 34.625 31.78125 34.625  z M 21.921875 38.8125  Q 15.578125 40.375 12.03125 44.71875  Q 8.5 49.078125 8.5 55.328125  Q 8.5 64.0625 14.71875 69.140625  Q 20.953125 74.21875 31.78125 74.21875  Q 42.671875 74.21875 48.875 69.140625  Q 55.078125 64.0625 55.078125 55.328125  Q 55.078125 49.078125 51.53125 44.71875  Q 48 40.375 41.703125 38.8125  Q 48.828125 37.15625 52.796875 32.3125  Q 56.78125 27.484375 56.78125 20.515625  Q 56.78125 9.90625 50.3125 4.234375  Q 43.84375 -1.421875 31.78125 -1.421875  Q 19.734375 -1.421875 13.25 4.234375  Q 6.78125 9.90625 6.78125 20.515625  Q 6.78125 27.484375 10.78125 32.3125  Q 14.796875 37.15625 21.921875 38.8125  z M 18.3125 54.390625  Q 18.3125 48.734375 21.84375 45.5625  Q 25.390625 42.390625 31.78125 42.390625  Q 38.140625 42.390625 41.71875 45.5625  Q 45.3125 48.734375 45.3125 54.390625  Q 45.3125 60.0625 41.71875 63.234375  Q 38.140625 66.40625 31.78125 66.40625  Q 25.390625 66.40625 21.84375 63.234375  Q 18.3125 60.0625 18.3125 54.390625  z \" id=\"DejaVuSans-56\" />\n",
       "       </defs>\n",
       "       <use xlink:href=\"#DejaVuSans-49\" />\n",
       "       <use x=\"63.623047\" xlink:href=\"#DejaVuSans-54\" />\n",
       "       <use x=\"127.246094\" xlink:href=\"#DejaVuSans-52\" />\n",
       "       <use x=\"190.869141\" xlink:href=\"#DejaVuSans-46\" />\n",
       "       <use x=\"222.65625\" xlink:href=\"#DejaVuSans-56\" />\n",
       "      </g>\n",
       "     </g>\n",
       "    </g>\n",
       "    <g id=\"text_4\">\n",
       "     \n",
       "     <g style=\"fill:#444443;\" transform=\"translate(71.445625 85.858812)scale(0.1 -0.1)\">\n",
       "      <defs>\n",
       "       <path d=\"M 18.109375 8.203125  L 18.109375 -20.796875  L 9.078125 -20.796875  L 9.078125 54.6875  L 18.109375 54.6875  L 18.109375 46.390625  Q 20.953125 51.265625 25.265625 53.625  Q 29.59375 56 35.59375 56  Q 45.5625 56 51.78125 48.09375  Q 58.015625 40.1875 58.015625 27.296875  Q 58.015625 14.40625 51.78125 6.484375  Q 45.5625 -1.421875 35.59375 -1.421875  Q 29.59375 -1.421875 25.265625 0.953125  Q 20.953125 3.328125 18.109375 8.203125  z M 48.6875 27.296875  Q 48.6875 37.203125 44.609375 42.84375  Q 40.53125 48.484375 33.40625 48.484375  Q 26.265625 48.484375 22.1875 42.84375  Q 18.109375 37.203125 18.109375 27.296875  Q 18.109375 17.390625 22.1875 11.75  Q 26.265625 6.109375 33.40625 6.109375  Q 40.53125 6.109375 44.609375 11.75  Q 48.6875 17.390625 48.6875 27.296875  z \" id=\"DejaVuSans-112\" />\n",
       "       <path d=\"M 30.609375 48.390625  Q 23.390625 48.390625 19.1875 42.75  Q 14.984375 37.109375 14.984375 27.296875  Q 14.984375 17.484375 19.15625 11.84375  Q 23.34375 6.203125 30.609375 6.203125  Q 37.796875 6.203125 41.984375 11.859375  Q 46.1875 17.53125 46.1875 27.296875  Q 46.1875 37.015625 41.984375 42.703125  Q 37.796875 48.390625 30.609375 48.390625  z M 30.609375 56  Q 42.328125 56 49.015625 48.375  Q 55.71875 40.765625 55.71875 27.296875  Q 55.71875 13.875 49.015625 6.21875  Q 42.328125 -1.421875 30.609375 -1.421875  Q 18.84375 -1.421875 12.171875 6.21875  Q 5.515625 13.875 5.515625 27.296875  Q 5.515625 40.765625 12.171875 48.375  Q 18.84375 56 30.609375 56  z \" id=\"DejaVuSans-111\" />\n",
       "       <path d=\"M 4.203125 54.6875  L 13.1875 54.6875  L 24.421875 12.015625  L 35.59375 54.6875  L 46.1875 54.6875  L 57.421875 12.015625  L 68.609375 54.6875  L 77.59375 54.6875  L 63.28125 0  L 52.6875 0  L 40.921875 44.828125  L 29.109375 0  L 18.5 0  z \" id=\"DejaVuSans-119\" />\n",
       "       <path d=\"M 56.203125 29.59375  L 56.203125 25.203125  L 14.890625 25.203125  Q 15.484375 15.921875 20.484375 11.0625  Q 25.484375 6.203125 34.421875 6.203125  Q 39.59375 6.203125 44.453125 7.46875  Q 49.3125 8.734375 54.109375 11.28125  L 54.109375 2.78125  Q 49.265625 0.734375 44.1875 -0.34375  Q 39.109375 -1.421875 33.890625 -1.421875  Q 20.796875 -1.421875 13.15625 6.1875  Q 5.515625 13.8125 5.515625 26.8125  Q 5.515625 40.234375 12.765625 48.109375  Q 20.015625 56 32.328125 56  Q 43.359375 56 49.78125 48.890625  Q 56.203125 41.796875 56.203125 29.59375  z M 47.21875 32.234375  Q 47.125 39.59375 43.09375 43.984375  Q 39.0625 48.390625 32.421875 48.390625  Q 24.90625 48.390625 20.390625 44.140625  Q 15.875 39.890625 15.1875 32.171875  z \" id=\"DejaVuSans-101\" />\n",
       "       <path d=\"M 41.109375 46.296875  Q 39.59375 47.171875 37.8125 47.578125  Q 36.03125 48 33.890625 48  Q 26.265625 48 22.1875 43.046875  Q 18.109375 38.09375 18.109375 28.8125  L 18.109375 0  L 9.078125 0  L 9.078125 54.6875  L 18.109375 54.6875  L 18.109375 46.1875  Q 20.953125 51.171875 25.484375 53.578125  Q 30.03125 56 36.53125 56  Q 37.453125 56 38.578125 55.875  Q 39.703125 55.765625 41.0625 55.515625  z \" id=\"DejaVuSans-114\" />\n",
       "       <path d=\"M 50.984375 -16.609375  L 50.984375 -23.578125  L -0.984375 -23.578125  L -0.984375 -16.609375  z \" id=\"DejaVuSans-95\" />\n",
       "       <path d=\"M 54.890625 33.015625  L 54.890625 0  L 45.90625 0  L 45.90625 32.71875  Q 45.90625 40.484375 42.875 44.328125  Q 39.84375 48.1875 33.796875 48.1875  Q 26.515625 48.1875 22.3125 43.546875  Q 18.109375 38.921875 18.109375 30.90625  L 18.109375 0  L 9.078125 0  L 9.078125 54.6875  L 18.109375 54.6875  L 18.109375 46.1875  Q 21.34375 51.125 25.703125 53.5625  Q 30.078125 56 35.796875 56  Q 45.21875 56 50.046875 50.171875  Q 54.890625 44.34375 54.890625 33.015625  z \" id=\"DejaVuSans-110\" />\n",
       "       <path d=\"M 8.5 21.578125  L 8.5 54.6875  L 17.484375 54.6875  L 17.484375 21.921875  Q 17.484375 14.15625 20.5 10.265625  Q 23.53125 6.390625 29.59375 6.390625  Q 36.859375 6.390625 41.078125 11.03125  Q 45.3125 15.671875 45.3125 23.6875  L 45.3125 54.6875  L 54.296875 54.6875  L 54.296875 0  L 45.3125 0  L 45.3125 8.40625  Q 42.046875 3.421875 37.71875 1  Q 33.40625 -1.421875 27.6875 -1.421875  Q 18.265625 -1.421875 13.375 4.4375  Q 8.5 10.296875 8.5 21.578125  z M 31.109375 56  z \" id=\"DejaVuSans-117\" />\n",
       "       <path d=\"M 52 44.1875  Q 55.375 50.25 60.0625 53.125  Q 64.75 56 71.09375 56  Q 79.640625 56 84.28125 50.015625  Q 88.921875 44.046875 88.921875 33.015625  L 88.921875 0  L 79.890625 0  L 79.890625 32.71875  Q 79.890625 40.578125 77.09375 44.375  Q 74.3125 48.1875 68.609375 48.1875  Q 61.625 48.1875 57.5625 43.546875  Q 53.515625 38.921875 53.515625 30.90625  L 53.515625 0  L 44.484375 0  L 44.484375 32.71875  Q 44.484375 40.625 41.703125 44.40625  Q 38.921875 48.1875 33.109375 48.1875  Q 26.21875 48.1875 22.15625 43.53125  Q 18.109375 38.875 18.109375 30.90625  L 18.109375 0  L 9.078125 0  L 9.078125 54.6875  L 18.109375 54.6875  L 18.109375 46.1875  Q 21.1875 51.21875 25.484375 53.609375  Q 29.78125 56 35.6875 56  Q 41.65625 56 45.828125 52.96875  Q 50 49.953125 52 44.1875  z \" id=\"DejaVuSans-109\" />\n",
       "      </defs>\n",
       "      <use xlink:href=\"#DejaVuSans-112\" />\n",
       "      <use x=\"63.476562\" xlink:href=\"#DejaVuSans-111\" />\n",
       "      <use x=\"124.658203\" xlink:href=\"#DejaVuSans-119\" />\n",
       "      <use x=\"206.445312\" xlink:href=\"#DejaVuSans-101\" />\n",
       "      <use x=\"267.96875\" xlink:href=\"#DejaVuSans-114\" />\n",
       "      <use x=\"309.082031\" xlink:href=\"#DejaVuSans-95\" />\n",
       "      <use x=\"359.082031\" xlink:href=\"#DejaVuSans-110\" />\n",
       "      <use x=\"422.460938\" xlink:href=\"#DejaVuSans-117\" />\n",
       "      <use x=\"485.839844\" xlink:href=\"#DejaVuSans-109\" />\n",
       "     </g>\n",
       "    </g>\n",
       "   </g>\n",
       "   <g id=\"matplotlib.axis_2\">\n",
       "    <g id=\"ytick_1\">\n",
       "     <g id=\"line2d_4\">\n",
       "      <defs>\n",
       "       <path d=\"M 0 0  L -3.5 0  \" id=\"mc8f26eb834\" style=\"stroke:#444443;stroke-width:0.3;\" />\n",
       "      </defs>\n",
       "      <g>\n",
       "       <use style=\"fill:#444443;stroke:#444443;stroke-width:0.3;\" x=\"30.858125\" y=\"43.889233\" xlink:href=\"#mc8f26eb834\" />\n",
       "      </g>\n",
       "     </g>\n",
       "     <g id=\"text_5\">\n",
       "      \n",
       "      <g style=\"fill:#444443;\" transform=\"translate(13.678125 46.928608)scale(0.08 -0.08)\">\n",
       "       <defs>\n",
       "        <path d=\"M 10.796875 72.90625  L 49.515625 72.90625  L 49.515625 64.59375  L 19.828125 64.59375  L 19.828125 46.734375  Q 21.96875 47.46875 24.109375 47.828125  Q 26.265625 48.1875 28.421875 48.1875  Q 40.625 48.1875 47.75 41.5  Q 54.890625 34.8125 54.890625 23.390625  Q 54.890625 11.625 47.5625 5.09375  Q 40.234375 -1.421875 26.90625 -1.421875  Q 22.3125 -1.421875 17.546875 -0.640625  Q 12.796875 0.140625 7.71875 1.703125  L 7.71875 11.625  Q 12.109375 9.234375 16.796875 8.0625  Q 21.484375 6.890625 26.703125 6.890625  Q 35.15625 6.890625 40.078125 11.328125  Q 45.015625 15.765625 45.015625 23.390625  Q 45.015625 31 40.078125 35.4375  Q 35.15625 39.890625 26.703125 39.890625  Q 22.75 39.890625 18.8125 39.015625  Q 14.890625 38.140625 10.796875 36.28125  z \" id=\"DejaVuSans-53\" />\n",
       "       </defs>\n",
       "       <use xlink:href=\"#DejaVuSans-50\" />\n",
       "       <use x=\"63.623047\" xlink:href=\"#DejaVuSans-53\" />\n",
       "      </g>\n",
       "     </g>\n",
       "    </g>\n",
       "    <g id=\"ytick_2\">\n",
       "     <g id=\"line2d_5\">\n",
       "      <g>\n",
       "       <use style=\"fill:#444443;stroke:#444443;stroke-width:0.3;\" x=\"30.858125\" y=\"27.681983\" xlink:href=\"#mc8f26eb834\" />\n",
       "      </g>\n",
       "     </g>\n",
       "     <g id=\"text_6\">\n",
       "      \n",
       "      <g style=\"fill:#444443;\" transform=\"translate(13.678125 30.721358)scale(0.08 -0.08)\">\n",
       "       <use xlink:href=\"#DejaVuSans-53\" />\n",
       "       <use x=\"63.623047\" xlink:href=\"#DejaVuSans-48\" />\n",
       "      </g>\n",
       "     </g>\n",
       "    </g>\n",
       "    <g id=\"ytick_3\">\n",
       "     <g id=\"line2d_6\">\n",
       "      <g>\n",
       "       <use style=\"fill:#444443;stroke:#444443;stroke-width:0.3;\" x=\"30.858125\" y=\"11.474733\" xlink:href=\"#mc8f26eb834\" />\n",
       "      </g>\n",
       "     </g>\n",
       "     <g id=\"text_7\">\n",
       "      \n",
       "      <g style=\"fill:#444443;\" transform=\"translate(13.678125 14.514108)scale(0.08 -0.08)\">\n",
       "       <defs>\n",
       "        <path d=\"M 8.203125 72.90625  L 55.078125 72.90625  L 55.078125 68.703125  L 28.609375 0  L 18.3125 0  L 43.21875 64.59375  L 8.203125 64.59375  z \" id=\"DejaVuSans-55\" />\n",
       "       </defs>\n",
       "       <use xlink:href=\"#DejaVuSans-55\" />\n",
       "       <use x=\"63.623047\" xlink:href=\"#DejaVuSans-53\" />\n",
       "      </g>\n",
       "     </g>\n",
       "    </g>\n",
       "    <g id=\"text_8\">\n",
       "     \n",
       "     <g style=\"fill:#444443;\" transform=\"translate(7.598438 42.342531)rotate(-90)scale(0.1 -0.1)\">\n",
       "      <defs>\n",
       "       <path d=\"M 9.421875 54.6875  L 18.40625 54.6875  L 18.40625 0  L 9.421875 0  z M 9.421875 75.984375  L 18.40625 75.984375  L 18.40625 64.59375  L 9.421875 64.59375  z \" id=\"DejaVuSans-105\" />\n",
       "       <path d=\"M 48.78125 52.59375  L 48.78125 44.1875  Q 44.96875 46.296875 41.140625 47.34375  Q 37.3125 48.390625 33.40625 48.390625  Q 24.65625 48.390625 19.8125 42.84375  Q 14.984375 37.3125 14.984375 27.296875  Q 14.984375 17.28125 19.8125 11.734375  Q 24.65625 6.203125 33.40625 6.203125  Q 37.3125 6.203125 41.140625 7.25  Q 44.96875 8.296875 48.78125 10.40625  L 48.78125 2.09375  Q 45.015625 0.34375 40.984375 -0.53125  Q 36.96875 -1.421875 32.421875 -1.421875  Q 20.0625 -1.421875 12.78125 6.34375  Q 5.515625 14.109375 5.515625 27.296875  Q 5.515625 40.671875 12.859375 48.328125  Q 20.21875 56 33.015625 56  Q 37.15625 56 41.109375 55.140625  Q 45.0625 54.296875 48.78125 52.59375  z \" id=\"DejaVuSans-99\" />\n",
       "      </defs>\n",
       "      <use xlink:href=\"#DejaVuSans-112\" />\n",
       "      <use x=\"63.476562\" xlink:href=\"#DejaVuSans-114\" />\n",
       "      <use x=\"104.589844\" xlink:href=\"#DejaVuSans-105\" />\n",
       "      <use x=\"132.373047\" xlink:href=\"#DejaVuSans-99\" />\n",
       "      <use x=\"187.353516\" xlink:href=\"#DejaVuSans-101\" />\n",
       "     </g>\n",
       "    </g>\n",
       "   </g>\n",
       "   <g id=\"line2d_7\">\n",
       "    <path clip-path=\"url(#p15bca47585)\" d=\"M 30.858125 56.554704  L 85.481818 56.554704  \" style=\"fill:none;stroke:#000000;stroke-dasharray:3.7,1.6;stroke-dashoffset:0;\" />\n",
       "   </g>\n",
       "   <g id=\"line2d_8\">\n",
       "    <path clip-path=\"url(#p15bca47585)\" d=\"M 85.481818 59.796  L 85.481818 -0  \" style=\"fill:none;stroke:#000000;stroke-dasharray:3.7,1.6;stroke-dashoffset:0;\" />\n",
       "   </g>\n",
       "   <g id=\"line2d_9\">\n",
       "    <path clip-path=\"url(#p15bca47585)\" d=\"M 85.481818 42.519908  L 170.358125 42.519908  \" style=\"fill:none;stroke:#000000;stroke-dasharray:3.7,1.6;stroke-dashoffset:0;\" />\n",
       "   </g>\n",
       "   <g id=\"patch_4\">\n",
       "    <path d=\"M 30.858125 59.796  L 30.858125 -0  \" style=\"fill:none;stroke:#000000;stroke-linecap:square;stroke-linejoin:miter;stroke-width:0.3;\" />\n",
       "   </g>\n",
       "   <g id=\"patch_5\">\n",
       "    <path d=\"M 30.858125 59.796  L 170.358125 59.796  \" style=\"fill:none;stroke:#000000;stroke-linecap:square;stroke-linejoin:miter;stroke-width:0.3;\" />\n",
       "   </g>\n",
       "  </g>\n",
       " </g>\n",
       " <defs>\n",
       "  <clipPath id=\"p15bca47585\">\n",
       "   <rect height=\"59.796\" width=\"139.5\" x=\"30.858125\" y=\"-0\" />\n",
       "  </clipPath>\n",
       " </defs>\n",
       "</svg></g>\n",
       "\n",
       "<g class=\"edge\" id=\"edge8\">\n",
       "<title>node0-&gt;node2</title>\n",
       "<path d=\"M144.06,-89.89C150.88,-88.25 157.81,-86.58 164.63,-84.94\" fill=\"none\" stroke=\"#444443\" stroke-width=\"0.3\" />\n",
       "<polygon fill=\"#444443\" points=\"165.3,-86.22 168.86,-83.92 164.65,-83.5 165.3,-86.22\" stroke=\"#444443\" stroke-width=\"0.3\" />\n",
       "<text font-family=\"Times,serif\" font-size=\"14.00\" text-anchor=\"start\" x=\"152\" y=\"-91.8\">&#8805;</text>\n",
       "</g>\n",
       "\n",
       "<g class=\"node\" id=\"node7\">\n",
       "<title>leaf1</title>\n",
       "<polygon fill=\"none\" points=\"265,-177 207,-177 207,-119 265,-119 265,-177\" stroke=\"black\" stroke-width=\"0\" />\n",
       "<svg height=\"50px\" preserveAspectRatio=\"xMinYMin meet\" version=\"1.1\" viewBox=\"0 0 66.372187 66.113937\" width=\"50px\" x=\"211\" y=\"-173\">\n",
       " <metadata>\n",
       "  <rdf:RDF>\n",
       "   <ns2:Work>\n",
       "    <dc:type rdf:resource=\"http://purl.org/dc/dcmitype/StillImage\" />\n",
       "    <dc:date>2020-10-20T23:26:29.675676</dc:date>\n",
       "    <dc:format>image/svg+xml</dc:format>\n",
       "    <dc:creator>\n",
       "     <ns2:Agent>\n",
       "      <dc:title>Matplotlib v3.3.1, https://matplotlib.org/</dc:title>\n",
       "     </ns2:Agent>\n",
       "    </dc:creator>\n",
       "   </ns2:Work>\n",
       "  </rdf:RDF>\n",
       " </metadata>\n",
       " <defs>\n",
       "  <style type=\"text/css\">*{stroke-linecap:butt;stroke-linejoin:round;}</style>\n",
       " </defs>\n",
       " <g id=\"figure_1\">\n",
       "  <g id=\"patch_1\">\n",
       "   <path d=\"M -0 66.113937  L 66.372188 66.113937  L 66.372188 0  L -0 0  z \" style=\"fill:none;\" />\n",
       "  </g>\n",
       "  <g id=\"axes_1\">\n",
       "   <g id=\"patch_2\">\n",
       "    <path d=\"M 17.18 43.488  L 59.03 43.488  L 59.03 -0  L 17.18 -0  z \" style=\"fill:#ffffff;\" />\n",
       "   </g>\n",
       "   <g id=\"PathCollection_1\">\n",
       "    <defs>\n",
       "     <path d=\"M 0 1.118034  C 0.296506 1.118034 0.580908 1.000231 0.790569 0.790569  C 1.000231 0.580908 1.118034 0.296506 1.118034 0  C 1.118034 -0.296506 1.000231 -0.580908 0.790569 -0.790569  C 0.580908 -1.000231 0.296506 -1.118034 0 -1.118034  C -0.296506 -1.118034 -0.580908 -1.000231 -0.790569 -0.790569  C -1.000231 -0.580908 -1.118034 -0.296506 -1.118034 0  C -1.118034 0.296506 -1.000231 0.580908 -0.790569 0.790569  C -0.580908 1.000231 -0.296506 1.118034 0 1.118034  z \" id=\"m7155e60ab4\" style=\"stroke:#225ea8;stroke-opacity:0.25;stroke-width:0.3;\" />\n",
       "    </defs>\n",
       "    <g clip-path=\"url(#p91b772e28a)\">\n",
       "     <use style=\"fill:#225ea8;fill-opacity:0.25;stroke:#225ea8;stroke-opacity:0.25;stroke-width:0.3;\" x=\"47.475983\" y=\"40.618315\" xlink:href=\"#m7155e60ab4\" />\n",
       "     <use style=\"fill:#225ea8;fill-opacity:0.25;stroke:#225ea8;stroke-opacity:0.25;stroke-width:0.3;\" x=\"39.941964\" y=\"41.551852\" xlink:href=\"#m7155e60ab4\" />\n",
       "     <use style=\"fill:#225ea8;fill-opacity:0.25;stroke:#225ea8;stroke-opacity:0.25;stroke-width:0.3;\" x=\"43.9716\" y=\"38.520213\" xlink:href=\"#m7155e60ab4\" />\n",
       "     <use style=\"fill:#225ea8;fill-opacity:0.25;stroke:#225ea8;stroke-opacity:0.25;stroke-width:0.3;\" x=\"37.957182\" y=\"40.75976\" xlink:href=\"#m7155e60ab4\" />\n",
       "     <use style=\"fill:#225ea8;fill-opacity:0.25;stroke:#225ea8;stroke-opacity:0.25;stroke-width:0.3;\" x=\"39.978427\" y=\"41.702727\" xlink:href=\"#m7155e60ab4\" />\n",
       "     <use style=\"fill:#225ea8;fill-opacity:0.25;stroke:#225ea8;stroke-opacity:0.25;stroke-width:0.3;\" x=\"37.615731\" y=\"37.831847\" xlink:href=\"#m7155e60ab4\" />\n",
       "     <use style=\"fill:#225ea8;fill-opacity:0.25;stroke:#225ea8;stroke-opacity:0.25;stroke-width:0.3;\" x=\"47.088097\" y=\"42.221359\" xlink:href=\"#m7155e60ab4\" />\n",
       "     <use style=\"fill:#225ea8;fill-opacity:0.25;stroke:#225ea8;stroke-opacity:0.25;stroke-width:0.3;\" x=\"35.809642\" y=\"39.797933\" xlink:href=\"#m7155e60ab4\" />\n",
       "     <use style=\"fill:#225ea8;fill-opacity:0.25;stroke:#225ea8;stroke-opacity:0.25;stroke-width:0.3;\" x=\"36.263686\" y=\"41.844172\" xlink:href=\"#m7155e60ab4\" />\n",
       "     <use style=\"fill:#225ea8;fill-opacity:0.25;stroke:#225ea8;stroke-opacity:0.25;stroke-width:0.3;\" x=\"40.771818\" y=\"41.231244\" xlink:href=\"#m7155e60ab4\" />\n",
       "     <use style=\"fill:#225ea8;fill-opacity:0.25;stroke:#225ea8;stroke-opacity:0.25;stroke-width:0.3;\" x=\"38.799619\" y=\"42.33923\" xlink:href=\"#m7155e60ab4\" />\n",
       "     <use style=\"fill:#225ea8;fill-opacity:0.25;stroke:#225ea8;stroke-opacity:0.25;stroke-width:0.3;\" x=\"36.684906\" y=\"42.362804\" xlink:href=\"#m7155e60ab4\" />\n",
       "     <use style=\"fill:#225ea8;fill-opacity:0.25;stroke:#225ea8;stroke-opacity:0.25;stroke-width:0.3;\" x=\"41.320343\" y=\"41.066224\" xlink:href=\"#m7155e60ab4\" />\n",
       "     <use style=\"fill:#225ea8;fill-opacity:0.25;stroke:#225ea8;stroke-opacity:0.25;stroke-width:0.3;\" x=\"37.967239\" y=\"35.455569\" xlink:href=\"#m7155e60ab4\" />\n",
       "     <use style=\"fill:#225ea8;fill-opacity:0.25;stroke:#225ea8;stroke-opacity:0.25;stroke-width:0.3;\" x=\"37.943637\" y=\"40.924779\" xlink:href=\"#m7155e60ab4\" />\n",
       "     <use style=\"fill:#225ea8;fill-opacity:0.25;stroke:#225ea8;stroke-opacity:0.25;stroke-width:0.3;\" x=\"38.87699\" y=\"42.05634\" xlink:href=\"#m7155e60ab4\" />\n",
       "     <use style=\"fill:#225ea8;fill-opacity:0.25;stroke:#225ea8;stroke-opacity:0.25;stroke-width:0.3;\" x=\"32.299164\" y=\"41.632005\" xlink:href=\"#m7155e60ab4\" />\n",
       "     <use style=\"fill:#225ea8;fill-opacity:0.25;stroke:#225ea8;stroke-opacity:0.25;stroke-width:0.3;\" x=\"32.770786\" y=\"42.716417\" xlink:href=\"#m7155e60ab4\" />\n",
       "     <use style=\"fill:#225ea8;fill-opacity:0.25;stroke:#225ea8;stroke-opacity:0.25;stroke-width:0.3;\" x=\"41.743927\" y=\"40.934209\" xlink:href=\"#m7155e60ab4\" />\n",
       "     <use style=\"fill:#225ea8;fill-opacity:0.25;stroke:#225ea8;stroke-opacity:0.25;stroke-width:0.3;\" x=\"35.838532\" y=\"41.231244\" xlink:href=\"#m7155e60ab4\" />\n",
       "     <use style=\"fill:#225ea8;fill-opacity:0.25;stroke:#225ea8;stroke-opacity:0.25;stroke-width:0.3;\" x=\"37.659879\" y=\"41.118088\" xlink:href=\"#m7155e60ab4\" />\n",
       "     <use style=\"fill:#225ea8;fill-opacity:0.25;stroke:#225ea8;stroke-opacity:0.25;stroke-width:0.3;\" x=\"43.503445\" y=\"41.632005\" xlink:href=\"#m7155e60ab4\" />\n",
       "     <use style=\"fill:#225ea8;fill-opacity:0.25;stroke:#225ea8;stroke-opacity:0.25;stroke-width:0.3;\" x=\"37.81082\" y=\"39.368883\" xlink:href=\"#m7155e60ab4\" />\n",
       "     <use style=\"fill:#225ea8;fill-opacity:0.25;stroke:#225ea8;stroke-opacity:0.25;stroke-width:0.3;\" x=\"37.401623\" y=\"42.692843\" xlink:href=\"#m7155e60ab4\" />\n",
       "     <use style=\"fill:#225ea8;fill-opacity:0.25;stroke:#225ea8;stroke-opacity:0.25;stroke-width:0.3;\" x=\"41.105068\" y=\"41.160521\" xlink:href=\"#m7155e60ab4\" />\n",
       "     <use style=\"fill:#225ea8;fill-opacity:0.25;stroke:#225ea8;stroke-opacity:0.25;stroke-width:0.3;\" x=\"36.102009\" y=\"40.226983\" xlink:href=\"#m7155e60ab4\" />\n",
       "     <use style=\"fill:#225ea8;fill-opacity:0.25;stroke:#225ea8;stroke-opacity:0.25;stroke-width:0.3;\" x=\"42.132407\" y=\"42.174211\" xlink:href=\"#m7155e60ab4\" />\n",
       "     <use style=\"fill:#225ea8;fill-opacity:0.25;stroke:#225ea8;stroke-opacity:0.25;stroke-width:0.3;\" x=\"41.036368\" y=\"41.702727\" xlink:href=\"#m7155e60ab4\" />\n",
       "     <use style=\"fill:#225ea8;fill-opacity:0.25;stroke:#225ea8;stroke-opacity:0.25;stroke-width:0.3;\" x=\"44.232956\" y=\"42.33923\" xlink:href=\"#m7155e60ab4\" />\n",
       "     <use style=\"fill:#225ea8;fill-opacity:0.25;stroke:#225ea8;stroke-opacity:0.25;stroke-width:0.3;\" x=\"35.793731\" y=\"40.382573\" xlink:href=\"#m7155e60ab4\" />\n",
       "     <use style=\"fill:#225ea8;fill-opacity:0.25;stroke:#225ea8;stroke-opacity:0.25;stroke-width:0.3;\" x=\"42.681631\" y=\"42.565542\" xlink:href=\"#m7155e60ab4\" />\n",
       "     <use style=\"fill:#225ea8;fill-opacity:0.25;stroke:#225ea8;stroke-opacity:0.25;stroke-width:0.3;\" x=\"39.9601\" y=\"42.48539\" xlink:href=\"#m7155e60ab4\" />\n",
       "     <use style=\"fill:#225ea8;fill-opacity:0.25;stroke:#225ea8;stroke-opacity:0.25;stroke-width:0.3;\" x=\"33.667673\" y=\"41.584856\" xlink:href=\"#m7155e60ab4\" />\n",
       "     <use style=\"fill:#225ea8;fill-opacity:0.25;stroke:#225ea8;stroke-opacity:0.25;stroke-width:0.3;\" x=\"29.413001\" y=\"41.820598\" xlink:href=\"#m7155e60ab4\" />\n",
       "     <use style=\"fill:#225ea8;fill-opacity:0.25;stroke:#225ea8;stroke-opacity:0.25;stroke-width:0.3;\" x=\"35.433206\" y=\"42.645694\" xlink:href=\"#m7155e60ab4\" />\n",
       "     <use style=\"fill:#225ea8;fill-opacity:0.25;stroke:#225ea8;stroke-opacity:0.25;stroke-width:0.3;\" x=\"39.08378\" y=\"42.127063\" xlink:href=\"#m7155e60ab4\" />\n",
       "     <use style=\"fill:#225ea8;fill-opacity:0.25;stroke:#225ea8;stroke-opacity:0.25;stroke-width:0.3;\" x=\"39.569241\" y=\"42.952159\" xlink:href=\"#m7155e60ab4\" />\n",
       "     <use style=\"fill:#225ea8;fill-opacity:0.25;stroke:#225ea8;stroke-opacity:0.25;stroke-width:0.3;\" x=\"37.907197\" y=\"40.142116\" xlink:href=\"#m7155e60ab4\" />\n",
       "     <use style=\"fill:#225ea8;fill-opacity:0.25;stroke:#225ea8;stroke-opacity:0.25;stroke-width:0.3;\" x=\"37.937167\" y=\"43.456646\" xlink:href=\"#m7155e60ab4\" />\n",
       "     <use style=\"fill:#225ea8;fill-opacity:0.25;stroke:#225ea8;stroke-opacity:0.25;stroke-width:0.3;\" x=\"37.683174\" y=\"41.019076\" xlink:href=\"#m7155e60ab4\" />\n",
       "     <use style=\"fill:#225ea8;fill-opacity:0.25;stroke:#225ea8;stroke-opacity:0.25;stroke-width:0.3;\" x=\"41.557515\" y=\"39.345309\" xlink:href=\"#m7155e60ab4\" />\n",
       "     <use style=\"fill:#225ea8;fill-opacity:0.25;stroke:#225ea8;stroke-opacity:0.25;stroke-width:0.3;\" x=\"33.296302\" y=\"42.645694\" xlink:href=\"#m7155e60ab4\" />\n",
       "     <use style=\"fill:#225ea8;fill-opacity:0.25;stroke:#225ea8;stroke-opacity:0.25;stroke-width:0.3;\" x=\"39.003234\" y=\"40.142116\" xlink:href=\"#m7155e60ab4\" />\n",
       "     <use style=\"fill:#225ea8;fill-opacity:0.25;stroke:#225ea8;stroke-opacity:0.25;stroke-width:0.3;\" x=\"35.350429\" y=\"38.60508\" xlink:href=\"#m7155e60ab4\" />\n",
       "     <use style=\"fill:#225ea8;fill-opacity:0.25;stroke:#225ea8;stroke-opacity:0.25;stroke-width:0.3;\" x=\"35.069901\" y=\"41.75459\" xlink:href=\"#m7155e60ab4\" />\n",
       "     <use style=\"fill:#225ea8;fill-opacity:0.25;stroke:#225ea8;stroke-opacity:0.25;stroke-width:0.3;\" x=\"42.04302\" y=\"40.524018\" xlink:href=\"#m7155e60ab4\" />\n",
       "     <use style=\"fill:#225ea8;fill-opacity:0.25;stroke:#225ea8;stroke-opacity:0.25;stroke-width:0.3;\" x=\"34.813035\" y=\"41.844172\" xlink:href=\"#m7155e60ab4\" />\n",
       "     <use style=\"fill:#225ea8;fill-opacity:0.25;stroke:#225ea8;stroke-opacity:0.25;stroke-width:0.3;\" x=\"37.637893\" y=\"41.77345\" xlink:href=\"#m7155e60ab4\" />\n",
       "     <use style=\"fill:#225ea8;fill-opacity:0.25;stroke:#225ea8;stroke-opacity:0.25;stroke-width:0.3;\" x=\"44.662053\" y=\"39.533902\" xlink:href=\"#m7155e60ab4\" />\n",
       "     <use style=\"fill:#225ea8;fill-opacity:0.25;stroke:#225ea8;stroke-opacity:0.25;stroke-width:0.3;\" x=\"40.910882\" y=\"43.117178\" xlink:href=\"#m7155e60ab4\" />\n",
       "     <use style=\"fill:#225ea8;fill-opacity:0.25;stroke:#225ea8;stroke-opacity:0.25;stroke-width:0.3;\" x=\"36.581759\" y=\"40.099683\" xlink:href=\"#m7155e60ab4\" />\n",
       "     <use style=\"fill:#225ea8;fill-opacity:0.25;stroke:#225ea8;stroke-opacity:0.25;stroke-width:0.3;\" x=\"36.858295\" y=\"41.466985\" xlink:href=\"#m7155e60ab4\" />\n",
       "     <use style=\"fill:#225ea8;fill-opacity:0.25;stroke:#225ea8;stroke-opacity:0.25;stroke-width:0.3;\" x=\"33.996325\" y=\"40.778619\" xlink:href=\"#m7155e60ab4\" />\n",
       "     <use style=\"fill:#225ea8;fill-opacity:0.25;stroke:#225ea8;stroke-opacity:0.25;stroke-width:0.3;\" x=\"42.45956\" y=\"39.123712\" xlink:href=\"#m7155e60ab4\" />\n",
       "     <use style=\"fill:#225ea8;fill-opacity:0.25;stroke:#225ea8;stroke-opacity:0.25;stroke-width:0.3;\" x=\"41.491006\" y=\"39.863941\" xlink:href=\"#m7155e60ab4\" />\n",
       "     <use style=\"fill:#225ea8;fill-opacity:0.25;stroke:#225ea8;stroke-opacity:0.25;stroke-width:0.3;\" x=\"40.403744\" y=\"41.04265\" xlink:href=\"#m7155e60ab4\" />\n",
       "     <use style=\"fill:#225ea8;fill-opacity:0.25;stroke:#225ea8;stroke-opacity:0.25;stroke-width:0.3;\" x=\"40.772797\" y=\"41.938469\" xlink:href=\"#m7155e60ab4\" />\n",
       "     <use style=\"fill:#225ea8;fill-opacity:0.25;stroke:#225ea8;stroke-opacity:0.25;stroke-width:0.3;\" x=\"35.511892\" y=\"42.527824\" xlink:href=\"#m7155e60ab4\" />\n",
       "     <use style=\"fill:#225ea8;fill-opacity:0.25;stroke:#225ea8;stroke-opacity:0.25;stroke-width:0.3;\" x=\"32.922589\" y=\"42.103488\" xlink:href=\"#m7155e60ab4\" />\n",
       "     <use style=\"fill:#225ea8;fill-opacity:0.25;stroke:#225ea8;stroke-opacity:0.25;stroke-width:0.3;\" x=\"39.981689\" y=\"42.292082\" xlink:href=\"#m7155e60ab4\" />\n",
       "     <use style=\"fill:#225ea8;fill-opacity:0.25;stroke:#225ea8;stroke-opacity:0.25;stroke-width:0.3;\" x=\"41.079892\" y=\"42.504249\" xlink:href=\"#m7155e60ab4\" />\n",
       "     <use style=\"fill:#225ea8;fill-opacity:0.25;stroke:#225ea8;stroke-opacity:0.25;stroke-width:0.3;\" x=\"43.485392\" y=\"39.727211\" xlink:href=\"#m7155e60ab4\" />\n",
       "     <use style=\"fill:#225ea8;fill-opacity:0.25;stroke:#225ea8;stroke-opacity:0.25;stroke-width:0.3;\" x=\"37.43242\" y=\"40.302421\" xlink:href=\"#m7155e60ab4\" />\n",
       "     <use style=\"fill:#225ea8;fill-opacity:0.25;stroke:#225ea8;stroke-opacity:0.25;stroke-width:0.3;\" x=\"36.944077\" y=\"42.05634\" xlink:href=\"#m7155e60ab4\" />\n",
       "     <use style=\"fill:#225ea8;fill-opacity:0.25;stroke:#225ea8;stroke-opacity:0.25;stroke-width:0.3;\" x=\"37.303957\" y=\"40.500444\" xlink:href=\"#m7155e60ab4\" />\n",
       "     <use style=\"fill:#225ea8;fill-opacity:0.25;stroke:#225ea8;stroke-opacity:0.25;stroke-width:0.3;\" x=\"40.35065\" y=\"41.207669\" xlink:href=\"#m7155e60ab4\" />\n",
       "     <use style=\"fill:#225ea8;fill-opacity:0.25;stroke:#225ea8;stroke-opacity:0.25;stroke-width:0.3;\" x=\"37.160565\" y=\"42.098773\" xlink:href=\"#m7155e60ab4\" />\n",
       "     <use style=\"fill:#225ea8;fill-opacity:0.25;stroke:#225ea8;stroke-opacity:0.25;stroke-width:0.3;\" x=\"37.930104\" y=\"42.673983\" xlink:href=\"#m7155e60ab4\" />\n",
       "     <use style=\"fill:#225ea8;fill-opacity:0.25;stroke:#225ea8;stroke-opacity:0.25;stroke-width:0.3;\" x=\"40.887365\" y=\"39.962953\" xlink:href=\"#m7155e60ab4\" />\n",
       "     <use style=\"fill:#225ea8;fill-opacity:0.25;stroke:#225ea8;stroke-opacity:0.25;stroke-width:0.3;\" x=\"36.009701\" y=\"41.113373\" xlink:href=\"#m7155e60ab4\" />\n",
       "     <use style=\"fill:#225ea8;fill-opacity:0.25;stroke:#225ea8;stroke-opacity:0.25;stroke-width:0.3;\" x=\"42.762584\" y=\"40.816338\" xlink:href=\"#m7155e60ab4\" />\n",
       "     <use style=\"fill:#225ea8;fill-opacity:0.25;stroke:#225ea8;stroke-opacity:0.25;stroke-width:0.3;\" x=\"40.224582\" y=\"42.079914\" xlink:href=\"#m7155e60ab4\" />\n",
       "     <use style=\"fill:#225ea8;fill-opacity:0.25;stroke:#225ea8;stroke-opacity:0.25;stroke-width:0.3;\" x=\"31.885686\" y=\"41.250103\" xlink:href=\"#m7155e60ab4\" />\n",
       "     <use style=\"fill:#225ea8;fill-opacity:0.25;stroke:#225ea8;stroke-opacity:0.25;stroke-width:0.3;\" x=\"36.379594\" y=\"40.712612\" xlink:href=\"#m7155e60ab4\" />\n",
       "     <use style=\"fill:#225ea8;fill-opacity:0.25;stroke:#225ea8;stroke-opacity:0.25;stroke-width:0.3;\" x=\"31.327498\" y=\"42.05634\" xlink:href=\"#m7155e60ab4\" />\n",
       "     <use style=\"fill:#225ea8;fill-opacity:0.25;stroke:#225ea8;stroke-opacity:0.25;stroke-width:0.3;\" x=\"37.446517\" y=\"40.580596\" xlink:href=\"#m7155e60ab4\" />\n",
       "     <use style=\"fill:#225ea8;fill-opacity:0.25;stroke:#225ea8;stroke-opacity:0.25;stroke-width:0.3;\" x=\"36.436654\" y=\"41.019076\" xlink:href=\"#m7155e60ab4\" />\n",
       "     <use style=\"fill:#225ea8;fill-opacity:0.25;stroke:#225ea8;stroke-opacity:0.25;stroke-width:0.3;\" x=\"40.900094\" y=\"42.183641\" xlink:href=\"#m7155e60ab4\" />\n",
       "     <use style=\"fill:#225ea8;fill-opacity:0.25;stroke:#225ea8;stroke-opacity:0.25;stroke-width:0.3;\" x=\"35.155351\" y=\"42.77771\" xlink:href=\"#m7155e60ab4\" />\n",
       "     <use style=\"fill:#225ea8;fill-opacity:0.25;stroke:#225ea8;stroke-opacity:0.25;stroke-width:0.3;\" x=\"39.403137\" y=\"41.18881\" xlink:href=\"#m7155e60ab4\" />\n",
       "     <use style=\"fill:#225ea8;fill-opacity:0.25;stroke:#225ea8;stroke-opacity:0.25;stroke-width:0.3;\" x=\"40.009502\" y=\"41.62729\" xlink:href=\"#m7155e60ab4\" />\n",
       "     <use style=\"fill:#225ea8;fill-opacity:0.25;stroke:#225ea8;stroke-opacity:0.25;stroke-width:0.3;\" x=\"38.966088\" y=\"42.174211\" xlink:href=\"#m7155e60ab4\" />\n",
       "     <use style=\"fill:#225ea8;fill-opacity:0.25;stroke:#225ea8;stroke-opacity:0.25;stroke-width:0.3;\" x=\"41.922134\" y=\"41.372689\" xlink:href=\"#m7155e60ab4\" />\n",
       "     <use style=\"fill:#225ea8;fill-opacity:0.25;stroke:#225ea8;stroke-opacity:0.25;stroke-width:0.3;\" x=\"45.029631\" y=\"31.990164\" xlink:href=\"#m7155e60ab4\" />\n",
       "     <use style=\"fill:#225ea8;fill-opacity:0.25;stroke:#225ea8;stroke-opacity:0.25;stroke-width:0.3;\" x=\"38.479782\" y=\"42.174211\" xlink:href=\"#m7155e60ab4\" />\n",
       "     <use style=\"fill:#225ea8;fill-opacity:0.25;stroke:#225ea8;stroke-opacity:0.25;stroke-width:0.3;\" x=\"39.461541\" y=\"42.480675\" xlink:href=\"#m7155e60ab4\" />\n",
       "     <use style=\"fill:#225ea8;fill-opacity:0.25;stroke:#225ea8;stroke-opacity:0.25;stroke-width:0.3;\" x=\"35.157833\" y=\"40.736186\" xlink:href=\"#m7155e60ab4\" />\n",
       "     <use style=\"fill:#225ea8;fill-opacity:0.25;stroke:#225ea8;stroke-opacity:0.25;stroke-width:0.3;\" x=\"34.691636\" y=\"41.702727\" xlink:href=\"#m7155e60ab4\" />\n",
       "     <use style=\"fill:#225ea8;fill-opacity:0.25;stroke:#225ea8;stroke-opacity:0.25;stroke-width:0.3;\" x=\"41.566262\" y=\"40.712612\" xlink:href=\"#m7155e60ab4\" />\n",
       "     <use style=\"fill:#225ea8;fill-opacity:0.25;stroke:#225ea8;stroke-opacity:0.25;stroke-width:0.3;\" x=\"41.123307\" y=\"41.669723\" xlink:href=\"#m7155e60ab4\" />\n",
       "     <use style=\"fill:#225ea8;fill-opacity:0.25;stroke:#225ea8;stroke-opacity:0.25;stroke-width:0.3;\" x=\"34.657833\" y=\"40.971928\" xlink:href=\"#m7155e60ab4\" />\n",
       "     <use style=\"fill:#225ea8;fill-opacity:0.25;stroke:#225ea8;stroke-opacity:0.25;stroke-width:0.3;\" x=\"33.725078\" y=\"43.466076\" xlink:href=\"#m7155e60ab4\" />\n",
       "     <use style=\"fill:#225ea8;fill-opacity:0.25;stroke:#225ea8;stroke-opacity:0.25;stroke-width:0.3;\" x=\"35.933029\" y=\"41.523563\" xlink:href=\"#m7155e60ab4\" />\n",
       "     <use style=\"fill:#225ea8;fill-opacity:0.25;stroke:#225ea8;stroke-opacity:0.25;stroke-width:0.3;\" x=\"37.631667\" y=\"39.227438\" xlink:href=\"#m7155e60ab4\" />\n",
       "     <use style=\"fill:#225ea8;fill-opacity:0.25;stroke:#225ea8;stroke-opacity:0.25;stroke-width:0.3;\" x=\"36.735245\" y=\"42.758851\" xlink:href=\"#m7155e60ab4\" />\n",
       "     <use style=\"fill:#225ea8;fill-opacity:0.25;stroke:#225ea8;stroke-opacity:0.25;stroke-width:0.3;\" x=\"38.642404\" y=\"41.891321\" xlink:href=\"#m7155e60ab4\" />\n",
       "     <use style=\"fill:#225ea8;fill-opacity:0.25;stroke:#225ea8;stroke-opacity:0.25;stroke-width:0.3;\" x=\"41.175325\" y=\"42.362804\" xlink:href=\"#m7155e60ab4\" />\n",
       "     <use style=\"fill:#225ea8;fill-opacity:0.25;stroke:#225ea8;stroke-opacity:0.25;stroke-width:0.3;\" x=\"39.652125\" y=\"39.251012\" xlink:href=\"#m7155e60ab4\" />\n",
       "     <use style=\"fill:#225ea8;fill-opacity:0.25;stroke:#225ea8;stroke-opacity:0.25;stroke-width:0.3;\" x=\"39.899933\" y=\"41.113373\" xlink:href=\"#m7155e60ab4\" />\n",
       "     <use style=\"fill:#225ea8;fill-opacity:0.25;stroke:#225ea8;stroke-opacity:0.25;stroke-width:0.3;\" x=\"29.897256\" y=\"41.702727\" xlink:href=\"#m7155e60ab4\" />\n",
       "     <use style=\"fill:#225ea8;fill-opacity:0.25;stroke:#225ea8;stroke-opacity:0.25;stroke-width:0.3;\" x=\"32.701653\" y=\"40.524018\" xlink:href=\"#m7155e60ab4\" />\n",
       "     <use style=\"fill:#225ea8;fill-opacity:0.25;stroke:#225ea8;stroke-opacity:0.25;stroke-width:0.3;\" x=\"35.438463\" y=\"39.46318\" xlink:href=\"#m7155e60ab4\" />\n",
       "     <use style=\"fill:#225ea8;fill-opacity:0.25;stroke:#225ea8;stroke-opacity:0.25;stroke-width:0.3;\" x=\"35.991094\" y=\"41.231244\" xlink:href=\"#m7155e60ab4\" />\n",
       "     <use style=\"fill:#225ea8;fill-opacity:0.25;stroke:#225ea8;stroke-opacity:0.25;stroke-width:0.3;\" x=\"40.916744\" y=\"41.844172\" xlink:href=\"#m7155e60ab4\" />\n",
       "     <use style=\"fill:#225ea8;fill-opacity:0.25;stroke:#225ea8;stroke-opacity:0.25;stroke-width:0.3;\" x=\"35.162438\" y=\"41.77345\" xlink:href=\"#m7155e60ab4\" />\n",
       "     <use style=\"fill:#225ea8;fill-opacity:0.25;stroke:#225ea8;stroke-opacity:0.25;stroke-width:0.3;\" x=\"40.337874\" y=\"43.35292\" xlink:href=\"#m7155e60ab4\" />\n",
       "     <use style=\"fill:#225ea8;fill-opacity:0.25;stroke:#225ea8;stroke-opacity:0.25;stroke-width:0.3;\" x=\"35.476466\" y=\"42.62212\" xlink:href=\"#m7155e60ab4\" />\n",
       "     <use style=\"fill:#225ea8;fill-opacity:0.25;stroke:#225ea8;stroke-opacity:0.25;stroke-width:0.3;\" x=\"34.084439\" y=\"40.62303\" xlink:href=\"#m7155e60ab4\" />\n",
       "     <use style=\"fill:#225ea8;fill-opacity:0.25;stroke:#225ea8;stroke-opacity:0.25;stroke-width:0.3;\" x=\"34.239903\" y=\"40.641889\" xlink:href=\"#m7155e60ab4\" />\n",
       "     <use style=\"fill:#225ea8;fill-opacity:0.25;stroke:#225ea8;stroke-opacity:0.25;stroke-width:0.3;\" x=\"45.665676\" y=\"42.433527\" xlink:href=\"#m7155e60ab4\" />\n",
       "     <use style=\"fill:#225ea8;fill-opacity:0.25;stroke:#225ea8;stroke-opacity:0.25;stroke-width:0.3;\" x=\"35.401942\" y=\"40.689037\" xlink:href=\"#m7155e60ab4\" />\n",
       "     <use style=\"fill:#225ea8;fill-opacity:0.25;stroke:#225ea8;stroke-opacity:0.25;stroke-width:0.3;\" x=\"40.418425\" y=\"38.374053\" xlink:href=\"#m7155e60ab4\" />\n",
       "     <use style=\"fill:#225ea8;fill-opacity:0.25;stroke:#225ea8;stroke-opacity:0.25;stroke-width:0.3;\" x=\"32.888152\" y=\"39.46318\" xlink:href=\"#m7155e60ab4\" />\n",
       "     <use style=\"fill:#225ea8;fill-opacity:0.25;stroke:#225ea8;stroke-opacity:0.25;stroke-width:0.3;\" x=\"42.855574\" y=\"42.032766\" xlink:href=\"#m7155e60ab4\" />\n",
       "     <use style=\"fill:#225ea8;fill-opacity:0.25;stroke:#225ea8;stroke-opacity:0.25;stroke-width:0.3;\" x=\"39.27359\" y=\"41.04265\" xlink:href=\"#m7155e60ab4\" />\n",
       "     <use style=\"fill:#225ea8;fill-opacity:0.25;stroke:#225ea8;stroke-opacity:0.25;stroke-width:0.3;\" x=\"39.022281\" y=\"39.840367\" xlink:href=\"#m7155e60ab4\" />\n",
       "     <use style=\"fill:#225ea8;fill-opacity:0.25;stroke:#225ea8;stroke-opacity:0.25;stroke-width:0.3;\" x=\"39.490494\" y=\"41.584856\" xlink:href=\"#m7155e60ab4\" />\n",
       "     <use style=\"fill:#225ea8;fill-opacity:0.25;stroke:#225ea8;stroke-opacity:0.25;stroke-width:0.3;\" x=\"39.859351\" y=\"39.698922\" xlink:href=\"#m7155e60ab4\" />\n",
       "     <use style=\"fill:#225ea8;fill-opacity:0.25;stroke:#225ea8;stroke-opacity:0.25;stroke-width:0.3;\" x=\"40.813757\" y=\"41.301966\" xlink:href=\"#m7155e60ab4\" />\n",
       "     <use style=\"fill:#225ea8;fill-opacity:0.25;stroke:#225ea8;stroke-opacity:0.25;stroke-width:0.3;\" x=\"36.099222\" y=\"40.052535\" xlink:href=\"#m7155e60ab4\" />\n",
       "     <use style=\"fill:#225ea8;fill-opacity:0.25;stroke:#225ea8;stroke-opacity:0.25;stroke-width:0.3;\" x=\"35.903394\" y=\"39.156716\" xlink:href=\"#m7155e60ab4\" />\n",
       "     <use style=\"fill:#225ea8;fill-opacity:0.25;stroke:#225ea8;stroke-opacity:0.25;stroke-width:0.3;\" x=\"38.269802\" y=\"40.335425\" xlink:href=\"#m7155e60ab4\" />\n",
       "     <use style=\"fill:#225ea8;fill-opacity:0.25;stroke:#225ea8;stroke-opacity:0.25;stroke-width:0.3;\" x=\"40.396464\" y=\"41.891321\" xlink:href=\"#m7155e60ab4\" />\n",
       "     <use style=\"fill:#225ea8;fill-opacity:0.25;stroke:#225ea8;stroke-opacity:0.25;stroke-width:0.3;\" x=\"37.881837\" y=\"43.117178\" xlink:href=\"#m7155e60ab4\" />\n",
       "     <use style=\"fill:#225ea8;fill-opacity:0.25;stroke:#225ea8;stroke-opacity:0.25;stroke-width:0.3;\" x=\"40.696023\" y=\"40.641889\" xlink:href=\"#m7155e60ab4\" />\n",
       "     <use style=\"fill:#225ea8;fill-opacity:0.25;stroke:#225ea8;stroke-opacity:0.25;stroke-width:0.3;\" x=\"40.173518\" y=\"40.811623\" xlink:href=\"#m7155e60ab4\" />\n",
       "     <use style=\"fill:#225ea8;fill-opacity:0.25;stroke:#225ea8;stroke-opacity:0.25;stroke-width:0.3;\" x=\"37.37854\" y=\"41.797024\" xlink:href=\"#m7155e60ab4\" />\n",
       "     <use style=\"fill:#225ea8;fill-opacity:0.25;stroke:#225ea8;stroke-opacity:0.25;stroke-width:0.3;\" x=\"32.255441\" y=\"38.048729\" xlink:href=\"#m7155e60ab4\" />\n",
       "     <use style=\"fill:#225ea8;fill-opacity:0.25;stroke:#225ea8;stroke-opacity:0.25;stroke-width:0.3;\" x=\"36.419188\" y=\"39.816793\" xlink:href=\"#m7155e60ab4\" />\n",
       "     <use style=\"fill:#225ea8;fill-opacity:0.25;stroke:#225ea8;stroke-opacity:0.25;stroke-width:0.3;\" x=\"43.939885\" y=\"39.840367\" xlink:href=\"#m7155e60ab4\" />\n",
       "     <use style=\"fill:#225ea8;fill-opacity:0.25;stroke:#225ea8;stroke-opacity:0.25;stroke-width:0.3;\" x=\"39.24352\" y=\"42.306226\" xlink:href=\"#m7155e60ab4\" />\n",
       "     <use style=\"fill:#225ea8;fill-opacity:0.25;stroke:#225ea8;stroke-opacity:0.25;stroke-width:0.3;\" x=\"35.963786\" y=\"40.75976\" xlink:href=\"#m7155e60ab4\" />\n",
       "     <use style=\"fill:#225ea8;fill-opacity:0.25;stroke:#225ea8;stroke-opacity:0.25;stroke-width:0.3;\" x=\"38.944181\" y=\"41.443411\" xlink:href=\"#m7155e60ab4\" />\n",
       "     <use style=\"fill:#225ea8;fill-opacity:0.25;stroke:#225ea8;stroke-opacity:0.25;stroke-width:0.3;\" x=\"40.370404\" y=\"41.891321\" xlink:href=\"#m7155e60ab4\" />\n",
       "     <use style=\"fill:#225ea8;fill-opacity:0.25;stroke:#225ea8;stroke-opacity:0.25;stroke-width:0.3;\" x=\"35.965408\" y=\"40.429722\" xlink:href=\"#m7155e60ab4\" />\n",
       "     <use style=\"fill:#225ea8;fill-opacity:0.25;stroke:#225ea8;stroke-opacity:0.25;stroke-width:0.3;\" x=\"42.241065\" y=\"42.386379\" xlink:href=\"#m7155e60ab4\" />\n",
       "     <use style=\"fill:#225ea8;fill-opacity:0.25;stroke:#225ea8;stroke-opacity:0.25;stroke-width:0.3;\" x=\"39.764597\" y=\"39.628199\" xlink:href=\"#m7155e60ab4\" />\n",
       "     <use style=\"fill:#225ea8;fill-opacity:0.25;stroke:#225ea8;stroke-opacity:0.25;stroke-width:0.3;\" x=\"34.422505\" y=\"41.184095\" xlink:href=\"#m7155e60ab4\" />\n",
       "     <use style=\"fill:#225ea8;fill-opacity:0.25;stroke:#225ea8;stroke-opacity:0.25;stroke-width:0.3;\" x=\"40.972114\" y=\"42.292082\" xlink:href=\"#m7155e60ab4\" />\n",
       "     <use style=\"fill:#225ea8;fill-opacity:0.25;stroke:#225ea8;stroke-opacity:0.25;stroke-width:0.3;\" x=\"36.733614\" y=\"41.584856\" xlink:href=\"#m7155e60ab4\" />\n",
       "     <use style=\"fill:#225ea8;fill-opacity:0.25;stroke:#225ea8;stroke-opacity:0.25;stroke-width:0.3;\" x=\"37.505271\" y=\"42.292082\" xlink:href=\"#m7155e60ab4\" />\n",
       "     <use style=\"fill:#225ea8;fill-opacity:0.25;stroke:#225ea8;stroke-opacity:0.25;stroke-width:0.3;\" x=\"34.703537\" y=\"41.707442\" xlink:href=\"#m7155e60ab4\" />\n",
       "     <use style=\"fill:#225ea8;fill-opacity:0.25;stroke:#225ea8;stroke-opacity:0.25;stroke-width:0.3;\" x=\"40.219083\" y=\"43.494365\" xlink:href=\"#m7155e60ab4\" />\n",
       "     <use style=\"fill:#225ea8;fill-opacity:0.25;stroke:#225ea8;stroke-opacity:0.25;stroke-width:0.3;\" x=\"37.606599\" y=\"41.702727\" xlink:href=\"#m7155e60ab4\" />\n",
       "     <use style=\"fill:#225ea8;fill-opacity:0.25;stroke:#225ea8;stroke-opacity:0.25;stroke-width:0.3;\" x=\"40.360738\" y=\"41.702727\" xlink:href=\"#m7155e60ab4\" />\n",
       "     <use style=\"fill:#225ea8;fill-opacity:0.25;stroke:#225ea8;stroke-opacity:0.25;stroke-width:0.3;\" x=\"36.260311\" y=\"42.315656\" xlink:href=\"#m7155e60ab4\" />\n",
       "     <use style=\"fill:#225ea8;fill-opacity:0.25;stroke:#225ea8;stroke-opacity:0.25;stroke-width:0.3;\" x=\"35.87723\" y=\"41.726301\" xlink:href=\"#m7155e60ab4\" />\n",
       "     <use style=\"fill:#225ea8;fill-opacity:0.25;stroke:#225ea8;stroke-opacity:0.25;stroke-width:0.3;\" x=\"35.605929\" y=\"40.170405\" xlink:href=\"#m7155e60ab4\" />\n",
       "     <use style=\"fill:#225ea8;fill-opacity:0.25;stroke:#225ea8;stroke-opacity:0.25;stroke-width:0.3;\" x=\"39.430916\" y=\"42.013906\" xlink:href=\"#m7155e60ab4\" />\n",
       "     <use style=\"fill:#225ea8;fill-opacity:0.25;stroke:#225ea8;stroke-opacity:0.25;stroke-width:0.3;\" x=\"35.827189\" y=\"40.806908\" xlink:href=\"#m7155e60ab4\" />\n",
       "     <use style=\"fill:#225ea8;fill-opacity:0.25;stroke:#225ea8;stroke-opacity:0.25;stroke-width:0.3;\" x=\"37.424979\" y=\"42.669269\" xlink:href=\"#m7155e60ab4\" />\n",
       "     <use style=\"fill:#225ea8;fill-opacity:0.25;stroke:#225ea8;stroke-opacity:0.25;stroke-width:0.3;\" x=\"36.369306\" y=\"42.857862\" xlink:href=\"#m7155e60ab4\" />\n",
       "     <use style=\"fill:#225ea8;fill-opacity:0.25;stroke:#225ea8;stroke-opacity:0.25;stroke-width:0.3;\" x=\"39.578401\" y=\"41.702727\" xlink:href=\"#m7155e60ab4\" />\n",
       "     <use style=\"fill:#225ea8;fill-opacity:0.25;stroke:#225ea8;stroke-opacity:0.25;stroke-width:0.3;\" x=\"32.295207\" y=\"39.510329\" xlink:href=\"#m7155e60ab4\" />\n",
       "     <use style=\"fill:#225ea8;fill-opacity:0.25;stroke:#225ea8;stroke-opacity:0.25;stroke-width:0.3;\" x=\"38.932066\" y=\"39.057704\" xlink:href=\"#m7155e60ab4\" />\n",
       "     <use style=\"fill:#225ea8;fill-opacity:0.25;stroke:#225ea8;stroke-opacity:0.25;stroke-width:0.3;\" x=\"43.901537\" y=\"40.575881\" xlink:href=\"#m7155e60ab4\" />\n",
       "     <use style=\"fill:#225ea8;fill-opacity:0.25;stroke:#225ea8;stroke-opacity:0.25;stroke-width:0.3;\" x=\"42.243215\" y=\"41.820598\" xlink:href=\"#m7155e60ab4\" />\n",
       "     <use style=\"fill:#225ea8;fill-opacity:0.25;stroke:#225ea8;stroke-opacity:0.25;stroke-width:0.3;\" x=\"36.040445\" y=\"41.49056\" xlink:href=\"#m7155e60ab4\" />\n",
       "     <use style=\"fill:#225ea8;fill-opacity:0.25;stroke:#225ea8;stroke-opacity:0.25;stroke-width:0.3;\" x=\"39.760927\" y=\"42.009192\" xlink:href=\"#m7155e60ab4\" />\n",
       "     <use style=\"fill:#225ea8;fill-opacity:0.25;stroke:#225ea8;stroke-opacity:0.25;stroke-width:0.3;\" x=\"39.111293\" y=\"42.692843\" xlink:href=\"#m7155e60ab4\" />\n",
       "     <use style=\"fill:#225ea8;fill-opacity:0.25;stroke:#225ea8;stroke-opacity:0.25;stroke-width:0.3;\" x=\"43.024525\" y=\"40.877631\" xlink:href=\"#m7155e60ab4\" />\n",
       "     <use style=\"fill:#225ea8;fill-opacity:0.25;stroke:#225ea8;stroke-opacity:0.25;stroke-width:0.3;\" x=\"29.701135\" y=\"39.345309\" xlink:href=\"#m7155e60ab4\" />\n",
       "     <use style=\"fill:#225ea8;fill-opacity:0.25;stroke:#225ea8;stroke-opacity:0.25;stroke-width:0.3;\" x=\"41.83088\" y=\"39.816793\" xlink:href=\"#m7155e60ab4\" />\n",
       "     <use style=\"fill:#225ea8;fill-opacity:0.25;stroke:#225ea8;stroke-opacity:0.25;stroke-width:0.3;\" x=\"37.209351\" y=\"36.87002\" xlink:href=\"#m7155e60ab4\" />\n",
       "     <use style=\"fill:#225ea8;fill-opacity:0.25;stroke:#225ea8;stroke-opacity:0.25;stroke-width:0.3;\" x=\"35.61667\" y=\"41.712157\" xlink:href=\"#m7155e60ab4\" />\n",
       "     <use style=\"fill:#225ea8;fill-opacity:0.25;stroke:#225ea8;stroke-opacity:0.25;stroke-width:0.3;\" x=\"35.521007\" y=\"42.975733\" xlink:href=\"#m7155e60ab4\" />\n",
       "     <use style=\"fill:#225ea8;fill-opacity:0.25;stroke:#225ea8;stroke-opacity:0.25;stroke-width:0.3;\" x=\"33.752914\" y=\"40.641889\" xlink:href=\"#m7155e60ab4\" />\n",
       "     <use style=\"fill:#225ea8;fill-opacity:0.25;stroke:#225ea8;stroke-opacity:0.25;stroke-width:0.3;\" x=\"36.048932\" y=\"40.189265\" xlink:href=\"#m7155e60ab4\" />\n",
       "     <use style=\"fill:#225ea8;fill-opacity:0.25;stroke:#225ea8;stroke-opacity:0.25;stroke-width:0.3;\" x=\"34.49005\" y=\"42.645694\" xlink:href=\"#m7155e60ab4\" />\n",
       "     <use style=\"fill:#225ea8;fill-opacity:0.25;stroke:#225ea8;stroke-opacity:0.25;stroke-width:0.3;\" x=\"38.708367\" y=\"40.736186\" xlink:href=\"#m7155e60ab4\" />\n",
       "     <use style=\"fill:#225ea8;fill-opacity:0.25;stroke:#225ea8;stroke-opacity:0.25;stroke-width:0.3;\" x=\"40.080111\" y=\"41.212384\" xlink:href=\"#m7155e60ab4\" />\n",
       "     <use style=\"fill:#225ea8;fill-opacity:0.25;stroke:#225ea8;stroke-opacity:0.25;stroke-width:0.3;\" x=\"37.245992\" y=\"42.315656\" xlink:href=\"#m7155e60ab4\" />\n",
       "     <use style=\"fill:#225ea8;fill-opacity:0.25;stroke:#225ea8;stroke-opacity:0.25;stroke-width:0.3;\" x=\"43.126073\" y=\"39.698922\" xlink:href=\"#m7155e60ab4\" />\n",
       "     <use style=\"fill:#225ea8;fill-opacity:0.25;stroke:#225ea8;stroke-opacity:0.25;stroke-width:0.3;\" x=\"36.268886\" y=\"43.046456\" xlink:href=\"#m7155e60ab4\" />\n",
       "     <use style=\"fill:#225ea8;fill-opacity:0.25;stroke:#225ea8;stroke-opacity:0.25;stroke-width:0.3;\" x=\"37.070929\" y=\"41.938469\" xlink:href=\"#m7155e60ab4\" />\n",
       "     <use style=\"fill:#225ea8;fill-opacity:0.25;stroke:#225ea8;stroke-opacity:0.25;stroke-width:0.3;\" x=\"36.521595\" y=\"37.855421\" xlink:href=\"#m7155e60ab4\" />\n",
       "     <use style=\"fill:#225ea8;fill-opacity:0.25;stroke:#225ea8;stroke-opacity:0.25;stroke-width:0.3;\" x=\"40.109176\" y=\"41.17938\" xlink:href=\"#m7155e60ab4\" />\n",
       "     <use style=\"fill:#225ea8;fill-opacity:0.25;stroke:#225ea8;stroke-opacity:0.25;stroke-width:0.3;\" x=\"40.447172\" y=\"42.05634\" xlink:href=\"#m7155e60ab4\" />\n",
       "     <use style=\"fill:#225ea8;fill-opacity:0.25;stroke:#225ea8;stroke-opacity:0.25;stroke-width:0.3;\" x=\"39.763488\" y=\"40.052535\" xlink:href=\"#m7155e60ab4\" />\n",
       "     <use style=\"fill:#225ea8;fill-opacity:0.25;stroke:#225ea8;stroke-opacity:0.25;stroke-width:0.3;\" x=\"37.689484\" y=\"42.292082\" xlink:href=\"#m7155e60ab4\" />\n",
       "     <use style=\"fill:#225ea8;fill-opacity:0.25;stroke:#225ea8;stroke-opacity:0.25;stroke-width:0.3;\" x=\"33.616595\" y=\"38.284471\" xlink:href=\"#m7155e60ab4\" />\n",
       "     <use style=\"fill:#225ea8;fill-opacity:0.25;stroke:#225ea8;stroke-opacity:0.25;stroke-width:0.3;\" x=\"37.035513\" y=\"42.33923\" xlink:href=\"#m7155e60ab4\" />\n",
       "     <use style=\"fill:#225ea8;fill-opacity:0.25;stroke:#225ea8;stroke-opacity:0.25;stroke-width:0.3;\" x=\"43.053812\" y=\"42.574972\" xlink:href=\"#m7155e60ab4\" />\n",
       "     <use style=\"fill:#225ea8;fill-opacity:0.25;stroke:#225ea8;stroke-opacity:0.25;stroke-width:0.3;\" x=\"41.49732\" y=\"41.066224\" xlink:href=\"#m7155e60ab4\" />\n",
       "     <use style=\"fill:#225ea8;fill-opacity:0.25;stroke:#225ea8;stroke-opacity:0.25;stroke-width:0.3;\" x=\"39.089481\" y=\"42.928585\" xlink:href=\"#m7155e60ab4\" />\n",
       "     <use style=\"fill:#225ea8;fill-opacity:0.25;stroke:#225ea8;stroke-opacity:0.25;stroke-width:0.3;\" x=\"36.817855\" y=\"42.103488\" xlink:href=\"#m7155e60ab4\" />\n",
       "     <use style=\"fill:#225ea8;fill-opacity:0.25;stroke:#225ea8;stroke-opacity:0.25;stroke-width:0.3;\" x=\"38.059405\" y=\"42.664554\" xlink:href=\"#m7155e60ab4\" />\n",
       "     <use style=\"fill:#225ea8;fill-opacity:0.25;stroke:#225ea8;stroke-opacity:0.25;stroke-width:0.3;\" x=\"36.832746\" y=\"38.859681\" xlink:href=\"#m7155e60ab4\" />\n",
       "     <use style=\"fill:#225ea8;fill-opacity:0.25;stroke:#225ea8;stroke-opacity:0.25;stroke-width:0.3;\" x=\"42.099337\" y=\"42.174211\" xlink:href=\"#m7155e60ab4\" />\n",
       "     <use style=\"fill:#225ea8;fill-opacity:0.25;stroke:#225ea8;stroke-opacity:0.25;stroke-width:0.3;\" x=\"35.296138\" y=\"42.150637\" xlink:href=\"#m7155e60ab4\" />\n",
       "     <use style=\"fill:#225ea8;fill-opacity:0.25;stroke:#225ea8;stroke-opacity:0.25;stroke-width:0.3;\" x=\"41.197445\" y=\"41.867746\" xlink:href=\"#m7155e60ab4\" />\n",
       "     <use style=\"fill:#225ea8;fill-opacity:0.25;stroke:#225ea8;stroke-opacity:0.25;stroke-width:0.3;\" x=\"36.33323\" y=\"40.773905\" xlink:href=\"#m7155e60ab4\" />\n",
       "     <use style=\"fill:#225ea8;fill-opacity:0.25;stroke:#225ea8;stroke-opacity:0.25;stroke-width:0.3;\" x=\"42.527463\" y=\"41.584856\" xlink:href=\"#m7155e60ab4\" />\n",
       "     <use style=\"fill:#225ea8;fill-opacity:0.25;stroke:#225ea8;stroke-opacity:0.25;stroke-width:0.3;\" x=\"39.533846\" y=\"41.49056\" xlink:href=\"#m7155e60ab4\" />\n",
       "     <use style=\"fill:#225ea8;fill-opacity:0.25;stroke:#225ea8;stroke-opacity:0.25;stroke-width:0.3;\" x=\"35.596051\" y=\"41.443411\" xlink:href=\"#m7155e60ab4\" />\n",
       "     <use style=\"fill:#225ea8;fill-opacity:0.25;stroke:#225ea8;stroke-opacity:0.25;stroke-width:0.3;\" x=\"37.069422\" y=\"42.409953\" xlink:href=\"#m7155e60ab4\" />\n",
       "     <use style=\"fill:#225ea8;fill-opacity:0.25;stroke:#225ea8;stroke-opacity:0.25;stroke-width:0.3;\" x=\"40.487573\" y=\"40.524018\" xlink:href=\"#m7155e60ab4\" />\n",
       "     <use style=\"fill:#225ea8;fill-opacity:0.25;stroke:#225ea8;stroke-opacity:0.25;stroke-width:0.3;\" x=\"36.43387\" y=\"37.812987\" xlink:href=\"#m7155e60ab4\" />\n",
       "     <use style=\"fill:#225ea8;fill-opacity:0.25;stroke:#225ea8;stroke-opacity:0.25;stroke-width:0.3;\" x=\"38.179113\" y=\"43.022881\" xlink:href=\"#m7155e60ab4\" />\n",
       "     <use style=\"fill:#225ea8;fill-opacity:0.25;stroke:#225ea8;stroke-opacity:0.25;stroke-width:0.3;\" x=\"36.387663\" y=\"42.19307\" xlink:href=\"#m7155e60ab4\" />\n",
       "     <use style=\"fill:#225ea8;fill-opacity:0.25;stroke:#225ea8;stroke-opacity:0.25;stroke-width:0.3;\" x=\"43.994524\" y=\"40.410862\" xlink:href=\"#m7155e60ab4\" />\n",
       "     <use style=\"fill:#225ea8;fill-opacity:0.25;stroke:#225ea8;stroke-opacity:0.25;stroke-width:0.3;\" x=\"44.570229\" y=\"43.305772\" xlink:href=\"#m7155e60ab4\" />\n",
       "     <use style=\"fill:#225ea8;fill-opacity:0.25;stroke:#225ea8;stroke-opacity:0.25;stroke-width:0.3;\" x=\"43.003539\" y=\"37.817702\" xlink:href=\"#m7155e60ab4\" />\n",
       "     <use style=\"fill:#225ea8;fill-opacity:0.25;stroke:#225ea8;stroke-opacity:0.25;stroke-width:0.3;\" x=\"37.688596\" y=\"42.150637\" xlink:href=\"#m7155e60ab4\" />\n",
       "     <use style=\"fill:#225ea8;fill-opacity:0.25;stroke:#225ea8;stroke-opacity:0.25;stroke-width:0.3;\" x=\"36.756584\" y=\"40.170405\" xlink:href=\"#m7155e60ab4\" />\n",
       "     <use style=\"fill:#225ea8;fill-opacity:0.25;stroke:#225ea8;stroke-opacity:0.25;stroke-width:0.3;\" x=\"35.49636\" y=\"41.891321\" xlink:href=\"#m7155e60ab4\" />\n",
       "     <use style=\"fill:#225ea8;fill-opacity:0.25;stroke:#225ea8;stroke-opacity:0.25;stroke-width:0.3;\" x=\"43.246595\" y=\"42.527824\" xlink:href=\"#m7155e60ab4\" />\n",
       "     <use style=\"fill:#225ea8;fill-opacity:0.25;stroke:#225ea8;stroke-opacity:0.25;stroke-width:0.3;\" x=\"41.221063\" y=\"40.491014\" xlink:href=\"#m7155e60ab4\" />\n",
       "     <use style=\"fill:#225ea8;fill-opacity:0.25;stroke:#225ea8;stroke-opacity:0.25;stroke-width:0.3;\" x=\"41.381891\" y=\"43.112463\" xlink:href=\"#m7155e60ab4\" />\n",
       "     <use style=\"fill:#225ea8;fill-opacity:0.25;stroke:#225ea8;stroke-opacity:0.25;stroke-width:0.3;\" x=\"37.268241\" y=\"42.33923\" xlink:href=\"#m7155e60ab4\" />\n",
       "     <use style=\"fill:#225ea8;fill-opacity:0.25;stroke:#225ea8;stroke-opacity:0.25;stroke-width:0.3;\" x=\"32.219559\" y=\"36.209943\" xlink:href=\"#m7155e60ab4\" />\n",
       "     <use style=\"fill:#225ea8;fill-opacity:0.25;stroke:#225ea8;stroke-opacity:0.25;stroke-width:0.3;\" x=\"32.989398\" y=\"41.254818\" xlink:href=\"#m7155e60ab4\" />\n",
       "     <use style=\"fill:#225ea8;fill-opacity:0.25;stroke:#225ea8;stroke-opacity:0.25;stroke-width:0.3;\" x=\"38.297959\" y=\"37.468804\" xlink:href=\"#m7155e60ab4\" />\n",
       "     <use style=\"fill:#225ea8;fill-opacity:0.25;stroke:#225ea8;stroke-opacity:0.25;stroke-width:0.3;\" x=\"36.355087\" y=\"43.35292\" xlink:href=\"#m7155e60ab4\" />\n",
       "     <use style=\"fill:#225ea8;fill-opacity:0.25;stroke:#225ea8;stroke-opacity:0.25;stroke-width:0.3;\" x=\"35.969976\" y=\"42.05634\" xlink:href=\"#m7155e60ab4\" />\n",
       "     <use style=\"fill:#225ea8;fill-opacity:0.25;stroke:#225ea8;stroke-opacity:0.25;stroke-width:0.3;\" x=\"39.260557\" y=\"40.641889\" xlink:href=\"#m7155e60ab4\" />\n",
       "     <use style=\"fill:#225ea8;fill-opacity:0.25;stroke:#225ea8;stroke-opacity:0.25;stroke-width:0.3;\" x=\"41.498733\" y=\"41.938469\" xlink:href=\"#m7155e60ab4\" />\n",
       "     <use style=\"fill:#225ea8;fill-opacity:0.25;stroke:#225ea8;stroke-opacity:0.25;stroke-width:0.3;\" x=\"35.757292\" y=\"41.825313\" xlink:href=\"#m7155e60ab4\" />\n",
       "     <use style=\"fill:#225ea8;fill-opacity:0.25;stroke:#225ea8;stroke-opacity:0.25;stroke-width:0.3;\" x=\"33.733819\" y=\"41.113373\" xlink:href=\"#m7155e60ab4\" />\n",
       "     <use style=\"fill:#225ea8;fill-opacity:0.25;stroke:#225ea8;stroke-opacity:0.25;stroke-width:0.3;\" x=\"35.836827\" y=\"42.457101\" xlink:href=\"#m7155e60ab4\" />\n",
       "     <use style=\"fill:#225ea8;fill-opacity:0.25;stroke:#225ea8;stroke-opacity:0.25;stroke-width:0.3;\" x=\"34.609809\" y=\"40.547592\" xlink:href=\"#m7155e60ab4\" />\n",
       "     <use style=\"fill:#225ea8;fill-opacity:0.25;stroke:#225ea8;stroke-opacity:0.25;stroke-width:0.3;\" x=\"40.089804\" y=\"34.555035\" xlink:href=\"#m7155e60ab4\" />\n",
       "     <use style=\"fill:#225ea8;fill-opacity:0.25;stroke:#225ea8;stroke-opacity:0.25;stroke-width:0.3;\" x=\"38.091244\" y=\"41.914895\" xlink:href=\"#m7155e60ab4\" />\n",
       "     <use style=\"fill:#225ea8;fill-opacity:0.25;stroke:#225ea8;stroke-opacity:0.25;stroke-width:0.3;\" x=\"44.400878\" y=\"41.844172\" xlink:href=\"#m7155e60ab4\" />\n",
       "     <use style=\"fill:#225ea8;fill-opacity:0.25;stroke:#225ea8;stroke-opacity:0.25;stroke-width:0.3;\" x=\"40.564726\" y=\"41.184095\" xlink:href=\"#m7155e60ab4\" />\n",
       "     <use style=\"fill:#225ea8;fill-opacity:0.25;stroke:#225ea8;stroke-opacity:0.25;stroke-width:0.3;\" x=\"44.17779\" y=\"40.429722\" xlink:href=\"#m7155e60ab4\" />\n",
       "     <use style=\"fill:#225ea8;fill-opacity:0.25;stroke:#225ea8;stroke-opacity:0.25;stroke-width:0.3;\" x=\"33.404825\" y=\"36.87002\" xlink:href=\"#m7155e60ab4\" />\n",
       "     <use style=\"fill:#225ea8;fill-opacity:0.25;stroke:#225ea8;stroke-opacity:0.25;stroke-width:0.3;\" x=\"27.214429\" y=\"40.811623\" xlink:href=\"#m7155e60ab4\" />\n",
       "     <use style=\"fill:#225ea8;fill-opacity:0.25;stroke:#225ea8;stroke-opacity:0.25;stroke-width:0.3;\" x=\"38.918537\" y=\"42.160066\" xlink:href=\"#m7155e60ab4\" />\n",
       "     <use style=\"fill:#225ea8;fill-opacity:0.25;stroke:#225ea8;stroke-opacity:0.25;stroke-width:0.3;\" x=\"38.517541\" y=\"42.527824\" xlink:href=\"#m7155e60ab4\" />\n",
       "     <use style=\"fill:#225ea8;fill-opacity:0.25;stroke:#225ea8;stroke-opacity:0.25;stroke-width:0.3;\" x=\"37.693914\" y=\"42.457101\" xlink:href=\"#m7155e60ab4\" />\n",
       "     <use style=\"fill:#225ea8;fill-opacity:0.25;stroke:#225ea8;stroke-opacity:0.25;stroke-width:0.3;\" x=\"38.425727\" y=\"37.332074\" xlink:href=\"#m7155e60ab4\" />\n",
       "     <use style=\"fill:#225ea8;fill-opacity:0.25;stroke:#225ea8;stroke-opacity:0.25;stroke-width:0.3;\" x=\"34.34176\" y=\"40.014816\" xlink:href=\"#m7155e60ab4\" />\n",
       "     <use style=\"fill:#225ea8;fill-opacity:0.25;stroke:#225ea8;stroke-opacity:0.25;stroke-width:0.3;\" x=\"39.990522\" y=\"41.113373\" xlink:href=\"#m7155e60ab4\" />\n",
       "     <use style=\"fill:#225ea8;fill-opacity:0.25;stroke:#225ea8;stroke-opacity:0.25;stroke-width:0.3;\" x=\"40.569775\" y=\"42.141207\" xlink:href=\"#m7155e60ab4\" />\n",
       "     <use style=\"fill:#225ea8;fill-opacity:0.25;stroke:#225ea8;stroke-opacity:0.25;stroke-width:0.3;\" x=\"34.088241\" y=\"42.240219\" xlink:href=\"#m7155e60ab4\" />\n",
       "     <use style=\"fill:#225ea8;fill-opacity:0.25;stroke:#225ea8;stroke-opacity:0.25;stroke-width:0.3;\" x=\"36.921025\" y=\"42.527824\" xlink:href=\"#m7155e60ab4\" />\n",
       "     <use style=\"fill:#225ea8;fill-opacity:0.25;stroke:#225ea8;stroke-opacity:0.25;stroke-width:0.3;\" x=\"37.12784\" y=\"41.514134\" xlink:href=\"#m7155e60ab4\" />\n",
       "     <use style=\"fill:#225ea8;fill-opacity:0.25;stroke:#225ea8;stroke-opacity:0.25;stroke-width:0.3;\" x=\"35.859125\" y=\"41.443411\" xlink:href=\"#m7155e60ab4\" />\n",
       "     <use style=\"fill:#225ea8;fill-opacity:0.25;stroke:#225ea8;stroke-opacity:0.25;stroke-width:0.3;\" x=\"34.217596\" y=\"38.402342\" xlink:href=\"#m7155e60ab4\" />\n",
       "     <use style=\"fill:#225ea8;fill-opacity:0.25;stroke:#225ea8;stroke-opacity:0.25;stroke-width:0.3;\" x=\"38.146867\" y=\"39.698922\" xlink:href=\"#m7155e60ab4\" />\n",
       "     <use style=\"fill:#225ea8;fill-opacity:0.25;stroke:#225ea8;stroke-opacity:0.25;stroke-width:0.3;\" x=\"38.978177\" y=\"40.429722\" xlink:href=\"#m7155e60ab4\" />\n",
       "     <use style=\"fill:#225ea8;fill-opacity:0.25;stroke:#225ea8;stroke-opacity:0.25;stroke-width:0.3;\" x=\"36.06211\" y=\"41.306681\" xlink:href=\"#m7155e60ab4\" />\n",
       "     <use style=\"fill:#225ea8;fill-opacity:0.25;stroke:#225ea8;stroke-opacity:0.25;stroke-width:0.3;\" x=\"34.45304\" y=\"41.349114\" xlink:href=\"#m7155e60ab4\" />\n",
       "     <use style=\"fill:#225ea8;fill-opacity:0.25;stroke:#225ea8;stroke-opacity:0.25;stroke-width:0.3;\" x=\"39.479546\" y=\"41.589571\" xlink:href=\"#m7155e60ab4\" />\n",
       "     <use style=\"fill:#225ea8;fill-opacity:0.25;stroke:#225ea8;stroke-opacity:0.25;stroke-width:0.3;\" x=\"35.536011\" y=\"42.079914\" xlink:href=\"#m7155e60ab4\" />\n",
       "     <use style=\"fill:#225ea8;fill-opacity:0.25;stroke:#225ea8;stroke-opacity:0.25;stroke-width:0.3;\" x=\"37.06978\" y=\"42.574972\" xlink:href=\"#m7155e60ab4\" />\n",
       "     <use style=\"fill:#225ea8;fill-opacity:0.25;stroke:#225ea8;stroke-opacity:0.25;stroke-width:0.3;\" x=\"36.645015\" y=\"42.409953\" xlink:href=\"#m7155e60ab4\" />\n",
       "     <use style=\"fill:#225ea8;fill-opacity:0.25;stroke:#225ea8;stroke-opacity:0.25;stroke-width:0.3;\" x=\"42.275633\" y=\"42.292082\" xlink:href=\"#m7155e60ab4\" />\n",
       "     <use style=\"fill:#225ea8;fill-opacity:0.25;stroke:#225ea8;stroke-opacity:0.25;stroke-width:0.3;\" x=\"35.689651\" y=\"41.589571\" xlink:href=\"#m7155e60ab4\" />\n",
       "     <use style=\"fill:#225ea8;fill-opacity:0.25;stroke:#225ea8;stroke-opacity:0.25;stroke-width:0.3;\" x=\"43.882063\" y=\"41.655579\" xlink:href=\"#m7155e60ab4\" />\n",
       "     <use style=\"fill:#225ea8;fill-opacity:0.25;stroke:#225ea8;stroke-opacity:0.25;stroke-width:0.3;\" x=\"40.623707\" y=\"41.561282\" xlink:href=\"#m7155e60ab4\" />\n",
       "     <use style=\"fill:#225ea8;fill-opacity:0.25;stroke:#225ea8;stroke-opacity:0.25;stroke-width:0.3;\" x=\"44.201369\" y=\"43.140752\" xlink:href=\"#m7155e60ab4\" />\n",
       "     <use style=\"fill:#225ea8;fill-opacity:0.25;stroke:#225ea8;stroke-opacity:0.25;stroke-width:0.3;\" x=\"40.330211\" y=\"41.938469\" xlink:href=\"#m7155e60ab4\" />\n",
       "     <use style=\"fill:#225ea8;fill-opacity:0.25;stroke:#225ea8;stroke-opacity:0.25;stroke-width:0.3;\" x=\"37.364943\" y=\"39.628199\" xlink:href=\"#m7155e60ab4\" />\n",
       "     <use style=\"fill:#225ea8;fill-opacity:0.25;stroke:#225ea8;stroke-opacity:0.25;stroke-width:0.3;\" x=\"35.033658\" y=\"40.641889\" xlink:href=\"#m7155e60ab4\" />\n",
       "     <use style=\"fill:#225ea8;fill-opacity:0.25;stroke:#225ea8;stroke-opacity:0.25;stroke-width:0.3;\" x=\"36.915083\" y=\"36.997321\" xlink:href=\"#m7155e60ab4\" />\n",
       "     <use style=\"fill:#225ea8;fill-opacity:0.25;stroke:#225ea8;stroke-opacity:0.25;stroke-width:0.3;\" x=\"43.084417\" y=\"36.044924\" xlink:href=\"#m7155e60ab4\" />\n",
       "     <use style=\"fill:#225ea8;fill-opacity:0.25;stroke:#225ea8;stroke-opacity:0.25;stroke-width:0.3;\" x=\"37.944501\" y=\"40.830483\" xlink:href=\"#m7155e60ab4\" />\n",
       "     <use style=\"fill:#225ea8;fill-opacity:0.25;stroke:#225ea8;stroke-opacity:0.25;stroke-width:0.3;\" x=\"40.317758\" y=\"42.645694\" xlink:href=\"#m7155e60ab4\" />\n",
       "     <use style=\"fill:#225ea8;fill-opacity:0.25;stroke:#225ea8;stroke-opacity:0.25;stroke-width:0.3;\" x=\"38.79794\" y=\"43.329346\" xlink:href=\"#m7155e60ab4\" />\n",
       "     <use style=\"fill:#225ea8;fill-opacity:0.25;stroke:#225ea8;stroke-opacity:0.25;stroke-width:0.3;\" x=\"38.940866\" y=\"42.032766\" xlink:href=\"#m7155e60ab4\" />\n",
       "     <use style=\"fill:#225ea8;fill-opacity:0.25;stroke:#225ea8;stroke-opacity:0.25;stroke-width:0.3;\" x=\"39.069759\" y=\"42.527824\" xlink:href=\"#m7155e60ab4\" />\n",
       "     <use style=\"fill:#225ea8;fill-opacity:0.25;stroke:#225ea8;stroke-opacity:0.25;stroke-width:0.3;\" x=\"39.763403\" y=\"40.406147\" xlink:href=\"#m7155e60ab4\" />\n",
       "     <use style=\"fill:#225ea8;fill-opacity:0.25;stroke:#225ea8;stroke-opacity:0.25;stroke-width:0.3;\" x=\"35.379368\" y=\"39.698922\" xlink:href=\"#m7155e60ab4\" />\n",
       "     <use style=\"fill:#225ea8;fill-opacity:0.25;stroke:#225ea8;stroke-opacity:0.25;stroke-width:0.3;\" x=\"37.184621\" y=\"41.184095\" xlink:href=\"#m7155e60ab4\" />\n",
       "     <use style=\"fill:#225ea8;fill-opacity:0.25;stroke:#225ea8;stroke-opacity:0.25;stroke-width:0.3;\" x=\"39.140581\" y=\"41.466985\" xlink:href=\"#m7155e60ab4\" />\n",
       "     <use style=\"fill:#225ea8;fill-opacity:0.25;stroke:#225ea8;stroke-opacity:0.25;stroke-width:0.3;\" x=\"38.652355\" y=\"42.33923\" xlink:href=\"#m7155e60ab4\" />\n",
       "     <use style=\"fill:#225ea8;fill-opacity:0.25;stroke:#225ea8;stroke-opacity:0.25;stroke-width:0.3;\" x=\"36.560887\" y=\"41.113373\" xlink:href=\"#m7155e60ab4\" />\n",
       "     <use style=\"fill:#225ea8;fill-opacity:0.25;stroke:#225ea8;stroke-opacity:0.25;stroke-width:0.3;\" x=\"39.49978\" y=\"40.75976\" xlink:href=\"#m7155e60ab4\" />\n",
       "     <use style=\"fill:#225ea8;fill-opacity:0.25;stroke:#225ea8;stroke-opacity:0.25;stroke-width:0.3;\" x=\"35.523219\" y=\"40.740901\" xlink:href=\"#m7155e60ab4\" />\n",
       "     <use style=\"fill:#225ea8;fill-opacity:0.25;stroke:#225ea8;stroke-opacity:0.25;stroke-width:0.3;\" x=\"34.010375\" y=\"42.244933\" xlink:href=\"#m7155e60ab4\" />\n",
       "     <use style=\"fill:#225ea8;fill-opacity:0.25;stroke:#225ea8;stroke-opacity:0.25;stroke-width:0.3;\" x=\"39.092612\" y=\"40.736186\" xlink:href=\"#m7155e60ab4\" />\n",
       "     <use style=\"fill:#225ea8;fill-opacity:0.25;stroke:#225ea8;stroke-opacity:0.25;stroke-width:0.3;\" x=\"34.09245\" y=\"32.626667\" xlink:href=\"#m7155e60ab4\" />\n",
       "     <use style=\"fill:#225ea8;fill-opacity:0.25;stroke:#225ea8;stroke-opacity:0.25;stroke-width:0.3;\" x=\"39.042855\" y=\"43.235049\" xlink:href=\"#m7155e60ab4\" />\n",
       "     <use style=\"fill:#225ea8;fill-opacity:0.25;stroke:#225ea8;stroke-opacity:0.25;stroke-width:0.3;\" x=\"31.560728\" y=\"36.973747\" xlink:href=\"#m7155e60ab4\" />\n",
       "     <use style=\"fill:#225ea8;fill-opacity:0.25;stroke:#225ea8;stroke-opacity:0.25;stroke-width:0.3;\" x=\"35.677741\" y=\"35.875189\" xlink:href=\"#m7155e60ab4\" />\n",
       "     <use style=\"fill:#225ea8;fill-opacity:0.25;stroke:#225ea8;stroke-opacity:0.25;stroke-width:0.3;\" x=\"37.008272\" y=\"39.981812\" xlink:href=\"#m7155e60ab4\" />\n",
       "     <use style=\"fill:#225ea8;fill-opacity:0.25;stroke:#225ea8;stroke-opacity:0.25;stroke-width:0.3;\" x=\"32.725985\" y=\"42.409953\" xlink:href=\"#m7155e60ab4\" />\n",
       "     <use style=\"fill:#225ea8;fill-opacity:0.25;stroke:#225ea8;stroke-opacity:0.25;stroke-width:0.3;\" x=\"36.857293\" y=\"41.702727\" xlink:href=\"#m7155e60ab4\" />\n",
       "     <use style=\"fill:#225ea8;fill-opacity:0.25;stroke:#225ea8;stroke-opacity:0.25;stroke-width:0.3;\" x=\"42.072446\" y=\"40.797479\" xlink:href=\"#m7155e60ab4\" />\n",
       "     <use style=\"fill:#225ea8;fill-opacity:0.25;stroke:#225ea8;stroke-opacity:0.25;stroke-width:0.3;\" x=\"33.852006\" y=\"40.990787\" xlink:href=\"#m7155e60ab4\" />\n",
       "     <use style=\"fill:#225ea8;fill-opacity:0.25;stroke:#225ea8;stroke-opacity:0.25;stroke-width:0.3;\" x=\"36.94869\" y=\"37.341504\" xlink:href=\"#m7155e60ab4\" />\n",
       "     <use style=\"fill:#225ea8;fill-opacity:0.25;stroke:#225ea8;stroke-opacity:0.25;stroke-width:0.3;\" x=\"43.805454\" y=\"40.802194\" xlink:href=\"#m7155e60ab4\" />\n",
       "     <use style=\"fill:#225ea8;fill-opacity:0.25;stroke:#225ea8;stroke-opacity:0.25;stroke-width:0.3;\" x=\"34.54989\" y=\"37.190629\" xlink:href=\"#m7155e60ab4\" />\n",
       "     <use style=\"fill:#225ea8;fill-opacity:0.25;stroke:#225ea8;stroke-opacity:0.25;stroke-width:0.3;\" x=\"42.782904\" y=\"42.221359\" xlink:href=\"#m7155e60ab4\" />\n",
       "     <use style=\"fill:#225ea8;fill-opacity:0.25;stroke:#225ea8;stroke-opacity:0.25;stroke-width:0.3;\" x=\"37.17089\" y=\"43.329346\" xlink:href=\"#m7155e60ab4\" />\n",
       "     <use style=\"fill:#225ea8;fill-opacity:0.25;stroke:#225ea8;stroke-opacity:0.25;stroke-width:0.3;\" x=\"38.446202\" y=\"42.711702\" xlink:href=\"#m7155e60ab4\" />\n",
       "     <use style=\"fill:#225ea8;fill-opacity:0.25;stroke:#225ea8;stroke-opacity:0.25;stroke-width:0.3;\" x=\"42.428883\" y=\"42.527824\" xlink:href=\"#m7155e60ab4\" />\n",
       "     <use style=\"fill:#225ea8;fill-opacity:0.25;stroke:#225ea8;stroke-opacity:0.25;stroke-width:0.3;\" x=\"36.480892\" y=\"42.999307\" xlink:href=\"#m7155e60ab4\" />\n",
       "     <use style=\"fill:#225ea8;fill-opacity:0.25;stroke:#225ea8;stroke-opacity:0.25;stroke-width:0.3;\" x=\"40.217674\" y=\"42.315656\" xlink:href=\"#m7155e60ab4\" />\n",
       "     <use style=\"fill:#225ea8;fill-opacity:0.25;stroke:#225ea8;stroke-opacity:0.25;stroke-width:0.3;\" x=\"41.066631\" y=\"42.362804\" xlink:href=\"#m7155e60ab4\" />\n",
       "     <use style=\"fill:#225ea8;fill-opacity:0.25;stroke:#225ea8;stroke-opacity:0.25;stroke-width:0.3;\" x=\"35.926075\" y=\"42.48539\" xlink:href=\"#m7155e60ab4\" />\n",
       "     <use style=\"fill:#225ea8;fill-opacity:0.25;stroke:#225ea8;stroke-opacity:0.25;stroke-width:0.3;\" x=\"35.555732\" y=\"40.764475\" xlink:href=\"#m7155e60ab4\" />\n",
       "     <use style=\"fill:#225ea8;fill-opacity:0.25;stroke:#225ea8;stroke-opacity:0.25;stroke-width:0.3;\" x=\"37.339637\" y=\"41.349114\" xlink:href=\"#m7155e60ab4\" />\n",
       "     <use style=\"fill:#225ea8;fill-opacity:0.25;stroke:#225ea8;stroke-opacity:0.25;stroke-width:0.3;\" x=\"37.444388\" y=\"42.259078\" xlink:href=\"#m7155e60ab4\" />\n",
       "     <use style=\"fill:#225ea8;fill-opacity:0.25;stroke:#225ea8;stroke-opacity:0.25;stroke-width:0.3;\" x=\"34.492682\" y=\"40.726756\" xlink:href=\"#m7155e60ab4\" />\n",
       "     <use style=\"fill:#225ea8;fill-opacity:0.25;stroke:#225ea8;stroke-opacity:0.25;stroke-width:0.3;\" x=\"35.956922\" y=\"40.877631\" xlink:href=\"#m7155e60ab4\" />\n",
       "     <use style=\"fill:#225ea8;fill-opacity:0.25;stroke:#225ea8;stroke-opacity:0.25;stroke-width:0.3;\" x=\"26.497805\" y=\"42.716417\" xlink:href=\"#m7155e60ab4\" />\n",
       "     <use style=\"fill:#225ea8;fill-opacity:0.25;stroke:#225ea8;stroke-opacity:0.25;stroke-width:0.3;\" x=\"36.985855\" y=\"41.089798\" xlink:href=\"#m7155e60ab4\" />\n",
       "     <use style=\"fill:#225ea8;fill-opacity:0.25;stroke:#225ea8;stroke-opacity:0.25;stroke-width:0.3;\" x=\"41.099432\" y=\"42.457101\" xlink:href=\"#m7155e60ab4\" />\n",
       "     <use style=\"fill:#225ea8;fill-opacity:0.25;stroke:#225ea8;stroke-opacity:0.25;stroke-width:0.3;\" x=\"32.524925\" y=\"40.524018\" xlink:href=\"#m7155e60ab4\" />\n",
       "     <use style=\"fill:#225ea8;fill-opacity:0.25;stroke:#225ea8;stroke-opacity:0.25;stroke-width:0.3;\" x=\"36.554392\" y=\"42.527824\" xlink:href=\"#m7155e60ab4\" />\n",
       "     <use style=\"fill:#225ea8;fill-opacity:0.25;stroke:#225ea8;stroke-opacity:0.25;stroke-width:0.3;\" x=\"46.28193\" y=\"43.140752\" xlink:href=\"#m7155e60ab4\" />\n",
       "     <use style=\"fill:#225ea8;fill-opacity:0.25;stroke:#225ea8;stroke-opacity:0.25;stroke-width:0.3;\" x=\"38.029469\" y=\"43.117178\" xlink:href=\"#m7155e60ab4\" />\n",
       "     <use style=\"fill:#225ea8;fill-opacity:0.25;stroke:#225ea8;stroke-opacity:0.25;stroke-width:0.3;\" x=\"42.647548\" y=\"42.150637\" xlink:href=\"#m7155e60ab4\" />\n",
       "     <use style=\"fill:#225ea8;fill-opacity:0.25;stroke:#225ea8;stroke-opacity:0.25;stroke-width:0.3;\" x=\"34.717108\" y=\"39.260442\" xlink:href=\"#m7155e60ab4\" />\n",
       "     <use style=\"fill:#225ea8;fill-opacity:0.25;stroke:#225ea8;stroke-opacity:0.25;stroke-width:0.3;\" x=\"39.607644\" y=\"41.514134\" xlink:href=\"#m7155e60ab4\" />\n",
       "     <use style=\"fill:#225ea8;fill-opacity:0.25;stroke:#225ea8;stroke-opacity:0.25;stroke-width:0.3;\" x=\"34.146933\" y=\"42.527824\" xlink:href=\"#m7155e60ab4\" />\n",
       "     <use style=\"fill:#225ea8;fill-opacity:0.25;stroke:#225ea8;stroke-opacity:0.25;stroke-width:0.3;\" x=\"39.447764\" y=\"42.532538\" xlink:href=\"#m7155e60ab4\" />\n",
       "     <use style=\"fill:#225ea8;fill-opacity:0.25;stroke:#225ea8;stroke-opacity:0.25;stroke-width:0.3;\" x=\"40.924847\" y=\"42.094059\" xlink:href=\"#m7155e60ab4\" />\n",
       "     <use style=\"fill:#225ea8;fill-opacity:0.25;stroke:#225ea8;stroke-opacity:0.25;stroke-width:0.3;\" x=\"40.130459\" y=\"41.231244\" xlink:href=\"#m7155e60ab4\" />\n",
       "     <use style=\"fill:#225ea8;fill-opacity:0.25;stroke:#225ea8;stroke-opacity:0.25;stroke-width:0.3;\" x=\"36.95015\" y=\"41.584856\" xlink:href=\"#m7155e60ab4\" />\n",
       "     <use style=\"fill:#225ea8;fill-opacity:0.25;stroke:#225ea8;stroke-opacity:0.25;stroke-width:0.3;\" x=\"39.025478\" y=\"41.867746\" xlink:href=\"#m7155e60ab4\" />\n",
       "     <use style=\"fill:#225ea8;fill-opacity:0.25;stroke:#225ea8;stroke-opacity:0.25;stroke-width:0.3;\" x=\"39.057479\" y=\"41.231244\" xlink:href=\"#m7155e60ab4\" />\n",
       "     <use style=\"fill:#225ea8;fill-opacity:0.25;stroke:#225ea8;stroke-opacity:0.25;stroke-width:0.3;\" x=\"40.334733\" y=\"40.882346\" xlink:href=\"#m7155e60ab4\" />\n",
       "     <use style=\"fill:#225ea8;fill-opacity:0.25;stroke:#225ea8;stroke-opacity:0.25;stroke-width:0.3;\" x=\"37.690628\" y=\"41.160521\" xlink:href=\"#m7155e60ab4\" />\n",
       "     <use style=\"fill:#225ea8;fill-opacity:0.25;stroke:#225ea8;stroke-opacity:0.25;stroke-width:0.3;\" x=\"41.222453\" y=\"42.362804\" xlink:href=\"#m7155e60ab4\" />\n",
       "     <use style=\"fill:#225ea8;fill-opacity:0.25;stroke:#225ea8;stroke-opacity:0.25;stroke-width:0.3;\" x=\"42.908059\" y=\"42.90501\" xlink:href=\"#m7155e60ab4\" />\n",
       "     <use style=\"fill:#225ea8;fill-opacity:0.25;stroke:#225ea8;stroke-opacity:0.25;stroke-width:0.3;\" x=\"37.04078\" y=\"42.032766\" xlink:href=\"#m7155e60ab4\" />\n",
       "     <use style=\"fill:#225ea8;fill-opacity:0.25;stroke:#225ea8;stroke-opacity:0.25;stroke-width:0.3;\" x=\"38.26048\" y=\"41.608431\" xlink:href=\"#m7155e60ab4\" />\n",
       "     <use style=\"fill:#225ea8;fill-opacity:0.25;stroke:#225ea8;stroke-opacity:0.25;stroke-width:0.3;\" x=\"35.07568\" y=\"42.05634\" xlink:href=\"#m7155e60ab4\" />\n",
       "     <use style=\"fill:#225ea8;fill-opacity:0.25;stroke:#225ea8;stroke-opacity:0.25;stroke-width:0.3;\" x=\"39.244182\" y=\"40.948353\" xlink:href=\"#m7155e60ab4\" />\n",
       "     <use style=\"fill:#225ea8;fill-opacity:0.25;stroke:#225ea8;stroke-opacity:0.25;stroke-width:0.3;\" x=\"39.265543\" y=\"41.231244\" xlink:href=\"#m7155e60ab4\" />\n",
       "     <use style=\"fill:#225ea8;fill-opacity:0.25;stroke:#225ea8;stroke-opacity:0.25;stroke-width:0.3;\" x=\"38.299138\" y=\"40.453296\" xlink:href=\"#m7155e60ab4\" />\n",
       "     <use style=\"fill:#225ea8;fill-opacity:0.25;stroke:#225ea8;stroke-opacity:0.25;stroke-width:0.3;\" x=\"38.551622\" y=\"43.164326\" xlink:href=\"#m7155e60ab4\" />\n",
       "     <use style=\"fill:#225ea8;fill-opacity:0.25;stroke:#225ea8;stroke-opacity:0.25;stroke-width:0.3;\" x=\"44.539275\" y=\"42.098773\" xlink:href=\"#m7155e60ab4\" />\n",
       "     <use style=\"fill:#225ea8;fill-opacity:0.25;stroke:#225ea8;stroke-opacity:0.25;stroke-width:0.3;\" x=\"28.440252\" y=\"41.396263\" xlink:href=\"#m7155e60ab4\" />\n",
       "     <use style=\"fill:#225ea8;fill-opacity:0.25;stroke:#225ea8;stroke-opacity:0.25;stroke-width:0.3;\" x=\"36.442193\" y=\"41.584856\" xlink:href=\"#m7155e60ab4\" />\n",
       "     <use style=\"fill:#225ea8;fill-opacity:0.25;stroke:#225ea8;stroke-opacity:0.25;stroke-width:0.3;\" x=\"36.954213\" y=\"40.066679\" xlink:href=\"#m7155e60ab4\" />\n",
       "     <use style=\"fill:#225ea8;fill-opacity:0.25;stroke:#225ea8;stroke-opacity:0.25;stroke-width:0.3;\" x=\"42.982743\" y=\"42.409953\" xlink:href=\"#m7155e60ab4\" />\n",
       "     <use style=\"fill:#225ea8;fill-opacity:0.25;stroke:#225ea8;stroke-opacity:0.25;stroke-width:0.3;\" x=\"39.696267\" y=\"41.702727\" xlink:href=\"#m7155e60ab4\" />\n",
       "     <use style=\"fill:#225ea8;fill-opacity:0.25;stroke:#225ea8;stroke-opacity:0.25;stroke-width:0.3;\" x=\"39.777948\" y=\"40.288276\" xlink:href=\"#m7155e60ab4\" />\n",
       "     <use style=\"fill:#225ea8;fill-opacity:0.25;stroke:#225ea8;stroke-opacity:0.25;stroke-width:0.3;\" x=\"42.322999\" y=\"42.523109\" xlink:href=\"#m7155e60ab4\" />\n",
       "     <use style=\"fill:#225ea8;fill-opacity:0.25;stroke:#225ea8;stroke-opacity:0.25;stroke-width:0.3;\" x=\"37.502505\" y=\"38.755955\" xlink:href=\"#m7155e60ab4\" />\n",
       "     <use style=\"fill:#225ea8;fill-opacity:0.25;stroke:#225ea8;stroke-opacity:0.25;stroke-width:0.3;\" x=\"40.288989\" y=\"40.637174\" xlink:href=\"#m7155e60ab4\" />\n",
       "     <use style=\"fill:#225ea8;fill-opacity:0.25;stroke:#225ea8;stroke-opacity:0.25;stroke-width:0.3;\" x=\"36.327996\" y=\"41.820598\" xlink:href=\"#m7155e60ab4\" />\n",
       "     <use style=\"fill:#225ea8;fill-opacity:0.25;stroke:#225ea8;stroke-opacity:0.25;stroke-width:0.3;\" x=\"34.57853\" y=\"41.632005\" xlink:href=\"#m7155e60ab4\" />\n",
       "     <use style=\"fill:#225ea8;fill-opacity:0.25;stroke:#225ea8;stroke-opacity:0.25;stroke-width:0.3;\" x=\"44.111871\" y=\"42.428812\" xlink:href=\"#m7155e60ab4\" />\n",
       "     <use style=\"fill:#225ea8;fill-opacity:0.25;stroke:#225ea8;stroke-opacity:0.25;stroke-width:0.3;\" x=\"39.340518\" y=\"41.938469\" xlink:href=\"#m7155e60ab4\" />\n",
       "     <use style=\"fill:#225ea8;fill-opacity:0.25;stroke:#225ea8;stroke-opacity:0.25;stroke-width:0.3;\" x=\"40.26333\" y=\"42.834288\" xlink:href=\"#m7155e60ab4\" />\n",
       "     <use style=\"fill:#225ea8;fill-opacity:0.25;stroke:#225ea8;stroke-opacity:0.25;stroke-width:0.3;\" x=\"34.488575\" y=\"42.457101\" xlink:href=\"#m7155e60ab4\" />\n",
       "     <use style=\"fill:#225ea8;fill-opacity:0.25;stroke:#225ea8;stroke-opacity:0.25;stroke-width:0.3;\" x=\"39.813661\" y=\"40.179835\" xlink:href=\"#m7155e60ab4\" />\n",
       "     <use style=\"fill:#225ea8;fill-opacity:0.25;stroke:#225ea8;stroke-opacity:0.25;stroke-width:0.3;\" x=\"44.058523\" y=\"43.093604\" xlink:href=\"#m7155e60ab4\" />\n",
       "     <use style=\"fill:#225ea8;fill-opacity:0.25;stroke:#225ea8;stroke-opacity:0.25;stroke-width:0.3;\" x=\"37.176097\" y=\"41.429267\" xlink:href=\"#m7155e60ab4\" />\n",
       "     <use style=\"fill:#225ea8;fill-opacity:0.25;stroke:#225ea8;stroke-opacity:0.25;stroke-width:0.3;\" x=\"33.900583\" y=\"41.080369\" xlink:href=\"#m7155e60ab4\" />\n",
       "     <use style=\"fill:#225ea8;fill-opacity:0.25;stroke:#225ea8;stroke-opacity:0.25;stroke-width:0.3;\" x=\"38.720952\" y=\"41.330255\" xlink:href=\"#m7155e60ab4\" />\n",
       "     <use style=\"fill:#225ea8;fill-opacity:0.25;stroke:#225ea8;stroke-opacity:0.25;stroke-width:0.3;\" x=\"34.636817\" y=\"42.240219\" xlink:href=\"#m7155e60ab4\" />\n",
       "     <use style=\"fill:#225ea8;fill-opacity:0.25;stroke:#225ea8;stroke-opacity:0.25;stroke-width:0.3;\" x=\"32.88949\" y=\"30.773736\" xlink:href=\"#m7155e60ab4\" />\n",
       "     <use style=\"fill:#225ea8;fill-opacity:0.25;stroke:#225ea8;stroke-opacity:0.25;stroke-width:0.3;\" x=\"35.645004\" y=\"40.288276\" xlink:href=\"#m7155e60ab4\" />\n",
       "     <use style=\"fill:#225ea8;fill-opacity:0.25;stroke:#225ea8;stroke-opacity:0.25;stroke-width:0.3;\" x=\"36.455783\" y=\"42.504249\" xlink:href=\"#m7155e60ab4\" />\n",
       "     <use style=\"fill:#225ea8;fill-opacity:0.25;stroke:#225ea8;stroke-opacity:0.25;stroke-width:0.3;\" x=\"34.799688\" y=\"41.584856\" xlink:href=\"#m7155e60ab4\" />\n",
       "     <use style=\"fill:#225ea8;fill-opacity:0.25;stroke:#225ea8;stroke-opacity:0.25;stroke-width:0.3;\" x=\"42.546011\" y=\"42.292082\" xlink:href=\"#m7155e60ab4\" />\n",
       "     <use style=\"fill:#225ea8;fill-opacity:0.25;stroke:#225ea8;stroke-opacity:0.25;stroke-width:0.3;\" x=\"44.431414\" y=\"41.419837\" xlink:href=\"#m7155e60ab4\" />\n",
       "     <use style=\"fill:#225ea8;fill-opacity:0.25;stroke:#225ea8;stroke-opacity:0.25;stroke-width:0.3;\" x=\"40.174359\" y=\"40.641889\" xlink:href=\"#m7155e60ab4\" />\n",
       "     <use style=\"fill:#225ea8;fill-opacity:0.25;stroke:#225ea8;stroke-opacity:0.25;stroke-width:0.3;\" x=\"39.391287\" y=\"38.284471\" xlink:href=\"#m7155e60ab4\" />\n",
       "     <use style=\"fill:#225ea8;fill-opacity:0.25;stroke:#225ea8;stroke-opacity:0.25;stroke-width:0.3;\" x=\"37.629423\" y=\"42.244933\" xlink:href=\"#m7155e60ab4\" />\n",
       "     <use style=\"fill:#225ea8;fill-opacity:0.25;stroke:#225ea8;stroke-opacity:0.25;stroke-width:0.3;\" x=\"35.104078\" y=\"42.05634\" xlink:href=\"#m7155e60ab4\" />\n",
       "     <use style=\"fill:#225ea8;fill-opacity:0.25;stroke:#225ea8;stroke-opacity:0.25;stroke-width:0.3;\" x=\"43.471543\" y=\"42.480675\" xlink:href=\"#m7155e60ab4\" />\n",
       "     <use style=\"fill:#225ea8;fill-opacity:0.25;stroke:#225ea8;stroke-opacity:0.25;stroke-width:0.3;\" x=\"37.894566\" y=\"41.396263\" xlink:href=\"#m7155e60ab4\" />\n",
       "     <use style=\"fill:#225ea8;fill-opacity:0.25;stroke:#225ea8;stroke-opacity:0.25;stroke-width:0.3;\" x=\"36.556264\" y=\"42.480675\" xlink:href=\"#m7155e60ab4\" />\n",
       "     <use style=\"fill:#225ea8;fill-opacity:0.25;stroke:#225ea8;stroke-opacity:0.25;stroke-width:0.3;\" x=\"41.502405\" y=\"39.958238\" xlink:href=\"#m7155e60ab4\" />\n",
       "     <use style=\"fill:#225ea8;fill-opacity:0.25;stroke:#225ea8;stroke-opacity:0.25;stroke-width:0.3;\" x=\"37.85864\" y=\"41.820598\" xlink:href=\"#m7155e60ab4\" />\n",
       "     <use style=\"fill:#225ea8;fill-opacity:0.25;stroke:#225ea8;stroke-opacity:0.25;stroke-width:0.3;\" x=\"41.376981\" y=\"42.574972\" xlink:href=\"#m7155e60ab4\" />\n",
       "     <use style=\"fill:#225ea8;fill-opacity:0.25;stroke:#225ea8;stroke-opacity:0.25;stroke-width:0.3;\" x=\"36.733161\" y=\"42.645694\" xlink:href=\"#m7155e60ab4\" />\n",
       "     <use style=\"fill:#225ea8;fill-opacity:0.25;stroke:#225ea8;stroke-opacity:0.25;stroke-width:0.3;\" x=\"41.512048\" y=\"41.146377\" xlink:href=\"#m7155e60ab4\" />\n",
       "     <use style=\"fill:#225ea8;fill-opacity:0.25;stroke:#225ea8;stroke-opacity:0.25;stroke-width:0.3;\" x=\"41.385261\" y=\"43.046456\" xlink:href=\"#m7155e60ab4\" />\n",
       "     <use style=\"fill:#225ea8;fill-opacity:0.25;stroke:#225ea8;stroke-opacity:0.25;stroke-width:0.3;\" x=\"42.540526\" y=\"40.651319\" xlink:href=\"#m7155e60ab4\" />\n",
       "     <use style=\"fill:#225ea8;fill-opacity:0.25;stroke:#225ea8;stroke-opacity:0.25;stroke-width:0.3;\" x=\"35.729846\" y=\"39.048274\" xlink:href=\"#m7155e60ab4\" />\n",
       "     <use style=\"fill:#225ea8;fill-opacity:0.25;stroke:#225ea8;stroke-opacity:0.25;stroke-width:0.3;\" x=\"37.826984\" y=\"41.349114\" xlink:href=\"#m7155e60ab4\" />\n",
       "     <use style=\"fill:#225ea8;fill-opacity:0.25;stroke:#225ea8;stroke-opacity:0.25;stroke-width:0.3;\" x=\"44.626134\" y=\"41.985617\" xlink:href=\"#m7155e60ab4\" />\n",
       "     <use style=\"fill:#225ea8;fill-opacity:0.25;stroke:#225ea8;stroke-opacity:0.25;stroke-width:0.3;\" x=\"37.280012\" y=\"39.222723\" xlink:href=\"#m7155e60ab4\" />\n",
       "     <use style=\"fill:#225ea8;fill-opacity:0.25;stroke:#225ea8;stroke-opacity:0.25;stroke-width:0.3;\" x=\"40.820314\" y=\"41.914895\" xlink:href=\"#m7155e60ab4\" />\n",
       "     <use style=\"fill:#225ea8;fill-opacity:0.25;stroke:#225ea8;stroke-opacity:0.25;stroke-width:0.3;\" x=\"45.773812\" y=\"43.494365\" xlink:href=\"#m7155e60ab4\" />\n",
       "     <use style=\"fill:#225ea8;fill-opacity:0.25;stroke:#225ea8;stroke-opacity:0.25;stroke-width:0.3;\" x=\"31.91441\" y=\"41.820598\" xlink:href=\"#m7155e60ab4\" />\n",
       "     <use style=\"fill:#225ea8;fill-opacity:0.25;stroke:#225ea8;stroke-opacity:0.25;stroke-width:0.3;\" x=\"37.169048\" y=\"41.04265\" xlink:href=\"#m7155e60ab4\" />\n",
       "     <use style=\"fill:#225ea8;fill-opacity:0.25;stroke:#225ea8;stroke-opacity:0.25;stroke-width:0.3;\" x=\"38.111261\" y=\"42.645694\" xlink:href=\"#m7155e60ab4\" />\n",
       "     <use style=\"fill:#225ea8;fill-opacity:0.25;stroke:#225ea8;stroke-opacity:0.25;stroke-width:0.3;\" x=\"32.082354\" y=\"42.150637\" xlink:href=\"#m7155e60ab4\" />\n",
       "     <use style=\"fill:#225ea8;fill-opacity:0.25;stroke:#225ea8;stroke-opacity:0.25;stroke-width:0.3;\" x=\"36.578408\" y=\"41.297251\" xlink:href=\"#m7155e60ab4\" />\n",
       "     <use style=\"fill:#225ea8;fill-opacity:0.25;stroke:#225ea8;stroke-opacity:0.25;stroke-width:0.3;\" x=\"34.852815\" y=\"42.574972\" xlink:href=\"#m7155e60ab4\" />\n",
       "     <use style=\"fill:#225ea8;fill-opacity:0.25;stroke:#225ea8;stroke-opacity:0.25;stroke-width:0.3;\" x=\"40.976531\" y=\"40.358999\" xlink:href=\"#m7155e60ab4\" />\n",
       "     <use style=\"fill:#225ea8;fill-opacity:0.25;stroke:#225ea8;stroke-opacity:0.25;stroke-width:0.3;\" x=\"32.304097\" y=\"41.679153\" xlink:href=\"#m7155e60ab4\" />\n",
       "     <use style=\"fill:#225ea8;fill-opacity:0.25;stroke:#225ea8;stroke-opacity:0.25;stroke-width:0.3;\" x=\"44.430452\" y=\"40.872916\" xlink:href=\"#m7155e60ab4\" />\n",
       "     <use style=\"fill:#225ea8;fill-opacity:0.25;stroke:#225ea8;stroke-opacity:0.25;stroke-width:0.3;\" x=\"40.414777\" y=\"41.77345\" xlink:href=\"#m7155e60ab4\" />\n",
       "     <use style=\"fill:#225ea8;fill-opacity:0.25;stroke:#225ea8;stroke-opacity:0.25;stroke-width:0.3;\" x=\"34.576805\" y=\"43.235049\" xlink:href=\"#m7155e60ab4\" />\n",
       "     <use style=\"fill:#225ea8;fill-opacity:0.25;stroke:#225ea8;stroke-opacity:0.25;stroke-width:0.3;\" x=\"41.541452\" y=\"35.455569\" xlink:href=\"#m7155e60ab4\" />\n",
       "     <use style=\"fill:#225ea8;fill-opacity:0.25;stroke:#225ea8;stroke-opacity:0.25;stroke-width:0.3;\" x=\"40.103688\" y=\"39.486754\" xlink:href=\"#m7155e60ab4\" />\n",
       "     <use style=\"fill:#225ea8;fill-opacity:0.25;stroke:#225ea8;stroke-opacity:0.25;stroke-width:0.3;\" x=\"37.975206\" y=\"42.574972\" xlink:href=\"#m7155e60ab4\" />\n",
       "     <use style=\"fill:#225ea8;fill-opacity:0.25;stroke:#225ea8;stroke-opacity:0.25;stroke-width:0.3;\" x=\"35.689562\" y=\"42.881436\" xlink:href=\"#m7155e60ab4\" />\n",
       "     <use style=\"fill:#225ea8;fill-opacity:0.25;stroke:#225ea8;stroke-opacity:0.25;stroke-width:0.3;\" x=\"39.938577\" y=\"41.000217\" xlink:href=\"#m7155e60ab4\" />\n",
       "     <use style=\"fill:#225ea8;fill-opacity:0.25;stroke:#225ea8;stroke-opacity:0.25;stroke-width:0.3;\" x=\"38.516537\" y=\"38.968122\" xlink:href=\"#m7155e60ab4\" />\n",
       "     <use style=\"fill:#225ea8;fill-opacity:0.25;stroke:#225ea8;stroke-opacity:0.25;stroke-width:0.3;\" x=\"35.797423\" y=\"42.457101\" xlink:href=\"#m7155e60ab4\" />\n",
       "     <use style=\"fill:#225ea8;fill-opacity:0.25;stroke:#225ea8;stroke-opacity:0.25;stroke-width:0.3;\" x=\"33.607782\" y=\"40.877631\" xlink:href=\"#m7155e60ab4\" />\n",
       "     <use style=\"fill:#225ea8;fill-opacity:0.25;stroke:#225ea8;stroke-opacity:0.25;stroke-width:0.3;\" x=\"35.257228\" y=\"40.47687\" xlink:href=\"#m7155e60ab4\" />\n",
       "     <use style=\"fill:#225ea8;fill-opacity:0.25;stroke:#225ea8;stroke-opacity:0.25;stroke-width:0.3;\" x=\"36.419959\" y=\"40.995502\" xlink:href=\"#m7155e60ab4\" />\n",
       "     <use style=\"fill:#225ea8;fill-opacity:0.25;stroke:#225ea8;stroke-opacity:0.25;stroke-width:0.3;\" x=\"41.997007\" y=\"42.197785\" xlink:href=\"#m7155e60ab4\" />\n",
       "     <use style=\"fill:#225ea8;fill-opacity:0.25;stroke:#225ea8;stroke-opacity:0.25;stroke-width:0.3;\" x=\"40.986821\" y=\"37.888425\" xlink:href=\"#m7155e60ab4\" />\n",
       "     <use style=\"fill:#225ea8;fill-opacity:0.25;stroke:#225ea8;stroke-opacity:0.25;stroke-width:0.3;\" x=\"36.598174\" y=\"41.962043\" xlink:href=\"#m7155e60ab4\" />\n",
       "     <use style=\"fill:#225ea8;fill-opacity:0.25;stroke:#225ea8;stroke-opacity:0.25;stroke-width:0.3;\" x=\"36.728323\" y=\"37.482949\" xlink:href=\"#m7155e60ab4\" />\n",
       "     <use style=\"fill:#225ea8;fill-opacity:0.25;stroke:#225ea8;stroke-opacity:0.25;stroke-width:0.3;\" x=\"41.424047\" y=\"42.150637\" xlink:href=\"#m7155e60ab4\" />\n",
       "     <use style=\"fill:#225ea8;fill-opacity:0.25;stroke:#225ea8;stroke-opacity:0.25;stroke-width:0.3;\" x=\"39.000077\" y=\"40.641889\" xlink:href=\"#m7155e60ab4\" />\n",
       "     <use style=\"fill:#225ea8;fill-opacity:0.25;stroke:#225ea8;stroke-opacity:0.25;stroke-width:0.3;\" x=\"38.953433\" y=\"39.981812\" xlink:href=\"#m7155e60ab4\" />\n",
       "     <use style=\"fill:#225ea8;fill-opacity:0.25;stroke:#225ea8;stroke-opacity:0.25;stroke-width:0.3;\" x=\"35.750099\" y=\"40.641889\" xlink:href=\"#m7155e60ab4\" />\n",
       "     <use style=\"fill:#225ea8;fill-opacity:0.25;stroke:#225ea8;stroke-opacity:0.25;stroke-width:0.3;\" x=\"37.691794\" y=\"40.806908\" xlink:href=\"#m7155e60ab4\" />\n",
       "     <use style=\"fill:#225ea8;fill-opacity:0.25;stroke:#225ea8;stroke-opacity:0.25;stroke-width:0.3;\" x=\"38.119268\" y=\"41.929039\" xlink:href=\"#m7155e60ab4\" />\n",
       "     <use style=\"fill:#225ea8;fill-opacity:0.25;stroke:#225ea8;stroke-opacity:0.25;stroke-width:0.3;\" x=\"37.79969\" y=\"42.928585\" xlink:href=\"#m7155e60ab4\" />\n",
       "     <use style=\"fill:#225ea8;fill-opacity:0.25;stroke:#225ea8;stroke-opacity:0.25;stroke-width:0.3;\" x=\"40.562659\" y=\"40.924779\" xlink:href=\"#m7155e60ab4\" />\n",
       "     <use style=\"fill:#225ea8;fill-opacity:0.25;stroke:#225ea8;stroke-opacity:0.25;stroke-width:0.3;\" x=\"40.667405\" y=\"40.170405\" xlink:href=\"#m7155e60ab4\" />\n",
       "     <use style=\"fill:#225ea8;fill-opacity:0.25;stroke:#225ea8;stroke-opacity:0.25;stroke-width:0.3;\" x=\"35.028329\" y=\"43.35292\" xlink:href=\"#m7155e60ab4\" />\n",
       "     <use style=\"fill:#225ea8;fill-opacity:0.25;stroke:#225ea8;stroke-opacity:0.25;stroke-width:0.3;\" x=\"36.430282\" y=\"40.924779\" xlink:href=\"#m7155e60ab4\" />\n",
       "     <use style=\"fill:#225ea8;fill-opacity:0.25;stroke:#225ea8;stroke-opacity:0.25;stroke-width:0.3;\" x=\"35.803673\" y=\"39.345309\" xlink:href=\"#m7155e60ab4\" />\n",
       "     <use style=\"fill:#225ea8;fill-opacity:0.25;stroke:#225ea8;stroke-opacity:0.25;stroke-width:0.3;\" x=\"42.753784\" y=\"40.03839\" xlink:href=\"#m7155e60ab4\" />\n",
       "     <use style=\"fill:#225ea8;fill-opacity:0.25;stroke:#225ea8;stroke-opacity:0.25;stroke-width:0.3;\" x=\"45.649686\" y=\"42.78714\" xlink:href=\"#m7155e60ab4\" />\n",
       "     <use style=\"fill:#225ea8;fill-opacity:0.25;stroke:#225ea8;stroke-opacity:0.25;stroke-width:0.3;\" x=\"36.552796\" y=\"34.936937\" xlink:href=\"#m7155e60ab4\" />\n",
       "     <use style=\"fill:#225ea8;fill-opacity:0.25;stroke:#225ea8;stroke-opacity:0.25;stroke-width:0.3;\" x=\"37.545565\" y=\"41.726301\" xlink:href=\"#m7155e60ab4\" />\n",
       "     <use style=\"fill:#225ea8;fill-opacity:0.25;stroke:#225ea8;stroke-opacity:0.25;stroke-width:0.3;\" x=\"40.92507\" y=\"41.514134\" xlink:href=\"#m7155e60ab4\" />\n",
       "     <use style=\"fill:#225ea8;fill-opacity:0.25;stroke:#225ea8;stroke-opacity:0.25;stroke-width:0.3;\" x=\"35.737257\" y=\"37.105762\" xlink:href=\"#m7155e60ab4\" />\n",
       "     <use style=\"fill:#225ea8;fill-opacity:0.25;stroke:#225ea8;stroke-opacity:0.25;stroke-width:0.3;\" x=\"41.000713\" y=\"40.47687\" xlink:href=\"#m7155e60ab4\" />\n",
       "     <use style=\"fill:#225ea8;fill-opacity:0.25;stroke:#225ea8;stroke-opacity:0.25;stroke-width:0.3;\" x=\"38.03513\" y=\"40.368429\" xlink:href=\"#m7155e60ab4\" />\n",
       "     <use style=\"fill:#225ea8;fill-opacity:0.25;stroke:#225ea8;stroke-opacity:0.25;stroke-width:0.3;\" x=\"32.266959\" y=\"41.466985\" xlink:href=\"#m7155e60ab4\" />\n",
       "     <use style=\"fill:#225ea8;fill-opacity:0.25;stroke:#225ea8;stroke-opacity:0.25;stroke-width:0.3;\" x=\"33.751148\" y=\"38.755955\" xlink:href=\"#m7155e60ab4\" />\n",
       "     <use style=\"fill:#225ea8;fill-opacity:0.25;stroke:#225ea8;stroke-opacity:0.25;stroke-width:0.3;\" x=\"36.973865\" y=\"42.62212\" xlink:href=\"#m7155e60ab4\" />\n",
       "     <use style=\"fill:#225ea8;fill-opacity:0.25;stroke:#225ea8;stroke-opacity:0.25;stroke-width:0.3;\" x=\"42.199432\" y=\"41.867746\" xlink:href=\"#m7155e60ab4\" />\n",
       "    </g>\n",
       "   </g>\n",
       "   <g id=\"matplotlib.axis_1\" />\n",
       "   <g id=\"matplotlib.axis_2\">\n",
       "    <g id=\"ytick_1\">\n",
       "     <g id=\"line2d_1\">\n",
       "      <defs>\n",
       "       <path d=\"M 0 0  L -3.5 0  \" id=\"m8ebed8a0a6\" style=\"stroke:#444443;stroke-width:0.3;\" />\n",
       "      </defs>\n",
       "      <g>\n",
       "       <use style=\"fill:#444443;stroke:#444443;stroke-width:0.3;\" x=\"17.18\" y=\"31.919442\" xlink:href=\"#m8ebed8a0a6\" />\n",
       "      </g>\n",
       "     </g>\n",
       "     <g id=\"text_1\">\n",
       "      \n",
       "      <g style=\"fill:#444443;\" transform=\"translate(0 34.958817)scale(0.08 -0.08)\">\n",
       "       <defs>\n",
       "        <path d=\"M 19.1875 8.296875  L 53.609375 8.296875  L 53.609375 0  L 7.328125 0  L 7.328125 8.296875  Q 12.9375 14.109375 22.625 23.890625  Q 32.328125 33.6875 34.8125 36.53125  Q 39.546875 41.84375 41.421875 45.53125  Q 43.3125 49.21875 43.3125 52.78125  Q 43.3125 58.59375 39.234375 62.25  Q 35.15625 65.921875 28.609375 65.921875  Q 23.96875 65.921875 18.8125 64.3125  Q 13.671875 62.703125 7.8125 59.421875  L 7.8125 69.390625  Q 13.765625 71.78125 18.9375 73  Q 24.125 74.21875 28.421875 74.21875  Q 39.75 74.21875 46.484375 68.546875  Q 53.21875 62.890625 53.21875 53.421875  Q 53.21875 48.921875 51.53125 44.890625  Q 49.859375 40.875 45.40625 35.40625  Q 44.1875 33.984375 37.640625 27.21875  Q 31.109375 20.453125 19.1875 8.296875  z \" id=\"DejaVuSans-50\" />\n",
       "        <path d=\"M 10.796875 72.90625  L 49.515625 72.90625  L 49.515625 64.59375  L 19.828125 64.59375  L 19.828125 46.734375  Q 21.96875 47.46875 24.109375 47.828125  Q 26.265625 48.1875 28.421875 48.1875  Q 40.625 48.1875 47.75 41.5  Q 54.890625 34.8125 54.890625 23.390625  Q 54.890625 11.625 47.5625 5.09375  Q 40.234375 -1.421875 26.90625 -1.421875  Q 22.3125 -1.421875 17.546875 -0.640625  Q 12.796875 0.140625 7.71875 1.703125  L 7.71875 11.625  Q 12.109375 9.234375 16.796875 8.0625  Q 21.484375 6.890625 26.703125 6.890625  Q 35.15625 6.890625 40.078125 11.328125  Q 45.015625 15.765625 45.015625 23.390625  Q 45.015625 31 40.078125 35.4375  Q 35.15625 39.890625 26.703125 39.890625  Q 22.75 39.890625 18.8125 39.015625  Q 14.890625 38.140625 10.796875 36.28125  z \" id=\"DejaVuSans-53\" />\n",
       "       </defs>\n",
       "       <use xlink:href=\"#DejaVuSans-50\" />\n",
       "       <use x=\"63.623047\" xlink:href=\"#DejaVuSans-53\" />\n",
       "      </g>\n",
       "     </g>\n",
       "    </g>\n",
       "    <g id=\"ytick_2\">\n",
       "     <g id=\"line2d_2\">\n",
       "      <g>\n",
       "       <use style=\"fill:#444443;stroke:#444443;stroke-width:0.3;\" x=\"17.18\" y=\"20.132351\" xlink:href=\"#m8ebed8a0a6\" />\n",
       "      </g>\n",
       "     </g>\n",
       "     <g id=\"text_2\">\n",
       "      \n",
       "      <g style=\"fill:#444443;\" transform=\"translate(0 23.171726)scale(0.08 -0.08)\">\n",
       "       <defs>\n",
       "        <path d=\"M 31.78125 66.40625  Q 24.171875 66.40625 20.328125 58.90625  Q 16.5 51.421875 16.5 36.375  Q 16.5 21.390625 20.328125 13.890625  Q 24.171875 6.390625 31.78125 6.390625  Q 39.453125 6.390625 43.28125 13.890625  Q 47.125 21.390625 47.125 36.375  Q 47.125 51.421875 43.28125 58.90625  Q 39.453125 66.40625 31.78125 66.40625  z M 31.78125 74.21875  Q 44.046875 74.21875 50.515625 64.515625  Q 56.984375 54.828125 56.984375 36.375  Q 56.984375 17.96875 50.515625 8.265625  Q 44.046875 -1.421875 31.78125 -1.421875  Q 19.53125 -1.421875 13.0625 8.265625  Q 6.59375 17.96875 6.59375 36.375  Q 6.59375 54.828125 13.0625 64.515625  Q 19.53125 74.21875 31.78125 74.21875  z \" id=\"DejaVuSans-48\" />\n",
       "       </defs>\n",
       "       <use xlink:href=\"#DejaVuSans-53\" />\n",
       "       <use x=\"63.623047\" xlink:href=\"#DejaVuSans-48\" />\n",
       "      </g>\n",
       "     </g>\n",
       "    </g>\n",
       "    <g id=\"ytick_3\">\n",
       "     <g id=\"line2d_3\">\n",
       "      <g>\n",
       "       <use style=\"fill:#444443;stroke:#444443;stroke-width:0.3;\" x=\"17.18\" y=\"8.34526\" xlink:href=\"#m8ebed8a0a6\" />\n",
       "      </g>\n",
       "     </g>\n",
       "     <g id=\"text_3\">\n",
       "      \n",
       "      <g style=\"fill:#444443;\" transform=\"translate(0 11.384635)scale(0.08 -0.08)\">\n",
       "       <defs>\n",
       "        <path d=\"M 8.203125 72.90625  L 55.078125 72.90625  L 55.078125 68.703125  L 28.609375 0  L 18.3125 0  L 43.21875 64.59375  L 8.203125 64.59375  z \" id=\"DejaVuSans-55\" />\n",
       "       </defs>\n",
       "       <use xlink:href=\"#DejaVuSans-55\" />\n",
       "       <use x=\"63.623047\" xlink:href=\"#DejaVuSans-53\" />\n",
       "      </g>\n",
       "     </g>\n",
       "    </g>\n",
       "   </g>\n",
       "   <g id=\"line2d_4\">\n",
       "    <path clip-path=\"url(#p91b772e28a)\" d=\"M 17.18 41.130694  L 67.372187 41.130694  \" style=\"fill:none;stroke:#444443;stroke-dasharray:3.7,1.6;stroke-dashoffset:0;\" />\n",
       "   </g>\n",
       "   <g id=\"patch_3\">\n",
       "    <path d=\"M 17.18 43.488  L 17.18 -0  \" style=\"fill:none;stroke:#000000;stroke-linecap:square;stroke-linejoin:miter;stroke-width:0.3;\" />\n",
       "   </g>\n",
       "   <g id=\"text_4\">\n",
       "    \n",
       "    <g style=\"fill:#444443;\" transform=\"translate(10.837813 52.836437)scale(0.1 -0.1)\">\n",
       "     <defs>\n",
       "      <path d=\"M 18.109375 8.203125  L 18.109375 -20.796875  L 9.078125 -20.796875  L 9.078125 54.6875  L 18.109375 54.6875  L 18.109375 46.390625  Q 20.953125 51.265625 25.265625 53.625  Q 29.59375 56 35.59375 56  Q 45.5625 56 51.78125 48.09375  Q 58.015625 40.1875 58.015625 27.296875  Q 58.015625 14.40625 51.78125 6.484375  Q 45.5625 -1.421875 35.59375 -1.421875  Q 29.59375 -1.421875 25.265625 0.953125  Q 20.953125 3.328125 18.109375 8.203125  z M 48.6875 27.296875  Q 48.6875 37.203125 44.609375 42.84375  Q 40.53125 48.484375 33.40625 48.484375  Q 26.265625 48.484375 22.1875 42.84375  Q 18.109375 37.203125 18.109375 27.296875  Q 18.109375 17.390625 22.1875 11.75  Q 26.265625 6.109375 33.40625 6.109375  Q 40.53125 6.109375 44.609375 11.75  Q 48.6875 17.390625 48.6875 27.296875  z \" id=\"DejaVuSans-112\" />\n",
       "      <path d=\"M 41.109375 46.296875  Q 39.59375 47.171875 37.8125 47.578125  Q 36.03125 48 33.890625 48  Q 26.265625 48 22.1875 43.046875  Q 18.109375 38.09375 18.109375 28.8125  L 18.109375 0  L 9.078125 0  L 9.078125 54.6875  L 18.109375 54.6875  L 18.109375 46.1875  Q 20.953125 51.171875 25.484375 53.578125  Q 30.03125 56 36.53125 56  Q 37.453125 56 38.578125 55.875  Q 39.703125 55.765625 41.0625 55.515625  z \" id=\"DejaVuSans-114\" />\n",
       "      <path d=\"M 9.421875 54.6875  L 18.40625 54.6875  L 18.40625 0  L 9.421875 0  z M 9.421875 75.984375  L 18.40625 75.984375  L 18.40625 64.59375  L 9.421875 64.59375  z \" id=\"DejaVuSans-105\" />\n",
       "      <path d=\"M 48.78125 52.59375  L 48.78125 44.1875  Q 44.96875 46.296875 41.140625 47.34375  Q 37.3125 48.390625 33.40625 48.390625  Q 24.65625 48.390625 19.8125 42.84375  Q 14.984375 37.3125 14.984375 27.296875  Q 14.984375 17.28125 19.8125 11.734375  Q 24.65625 6.203125 33.40625 6.203125  Q 37.3125 6.203125 41.140625 7.25  Q 44.96875 8.296875 48.78125 10.40625  L 48.78125 2.09375  Q 45.015625 0.34375 40.984375 -0.53125  Q 36.96875 -1.421875 32.421875 -1.421875  Q 20.0625 -1.421875 12.78125 6.34375  Q 5.515625 14.109375 5.515625 27.296875  Q 5.515625 40.671875 12.859375 48.328125  Q 20.21875 56 33.015625 56  Q 37.15625 56 41.109375 55.140625  Q 45.0625 54.296875 48.78125 52.59375  z \" id=\"DejaVuSans-99\" />\n",
       "      <path d=\"M 56.203125 29.59375  L 56.203125 25.203125  L 14.890625 25.203125  Q 15.484375 15.921875 20.484375 11.0625  Q 25.484375 6.203125 34.421875 6.203125  Q 39.59375 6.203125 44.453125 7.46875  Q 49.3125 8.734375 54.109375 11.28125  L 54.109375 2.78125  Q 49.265625 0.734375 44.1875 -0.34375  Q 39.109375 -1.421875 33.890625 -1.421875  Q 20.796875 -1.421875 13.15625 6.1875  Q 5.515625 13.8125 5.515625 26.8125  Q 5.515625 40.234375 12.765625 48.109375  Q 20.015625 56 32.328125 56  Q 43.359375 56 49.78125 48.890625  Q 56.203125 41.796875 56.203125 29.59375  z M 47.21875 32.234375  Q 47.125 39.59375 43.09375 43.984375  Q 39.0625 48.390625 32.421875 48.390625  Q 24.90625 48.390625 20.390625 44.140625  Q 15.875 39.890625 15.1875 32.171875  z \" id=\"DejaVuSans-101\" />\n",
       "      <path d=\"M 10.59375 45.40625  L 73.1875 45.40625  L 73.1875 37.203125  L 10.59375 37.203125  z M 10.59375 25.484375  L 73.1875 25.484375  L 73.1875 17.1875  L 10.59375 17.1875  z \" id=\"DejaVuSans-61\" />\n",
       "      <path d=\"M 10.6875 12.40625  L 21 12.40625  L 21 0  L 10.6875 0  z \" id=\"DejaVuSans-46\" />\n",
       "      <path d=\"M 37.796875 64.3125  L 12.890625 25.390625  L 37.796875 25.390625  z M 35.203125 72.90625  L 47.609375 72.90625  L 47.609375 25.390625  L 58.015625 25.390625  L 58.015625 17.1875  L 47.609375 17.1875  L 47.609375 0  L 37.796875 0  L 37.796875 17.1875  L 4.890625 17.1875  L 4.890625 26.703125  z \" id=\"DejaVuSans-52\" />\n",
       "      <path d=\"M 33.015625 40.375  Q 26.375 40.375 22.484375 35.828125  Q 18.609375 31.296875 18.609375 23.390625  Q 18.609375 15.53125 22.484375 10.953125  Q 26.375 6.390625 33.015625 6.390625  Q 39.65625 6.390625 43.53125 10.953125  Q 47.40625 15.53125 47.40625 23.390625  Q 47.40625 31.296875 43.53125 35.828125  Q 39.65625 40.375 33.015625 40.375  z M 52.59375 71.296875  L 52.59375 62.3125  Q 48.875 64.0625 45.09375 64.984375  Q 41.3125 65.921875 37.59375 65.921875  Q 27.828125 65.921875 22.671875 59.328125  Q 17.53125 52.734375 16.796875 39.40625  Q 19.671875 43.65625 24.015625 45.921875  Q 28.375 48.1875 33.59375 48.1875  Q 44.578125 48.1875 50.953125 41.515625  Q 57.328125 34.859375 57.328125 23.390625  Q 57.328125 12.15625 50.6875 5.359375  Q 44.046875 -1.421875 33.015625 -1.421875  Q 20.359375 -1.421875 13.671875 8.265625  Q 6.984375 17.96875 6.984375 36.375  Q 6.984375 53.65625 15.1875 63.9375  Q 23.390625 74.21875 37.203125 74.21875  Q 40.921875 74.21875 44.703125 73.484375  Q 48.484375 72.75 52.59375 71.296875  z \" id=\"DejaVuSans-54\" />\n",
       "     </defs>\n",
       "     <use xlink:href=\"#DejaVuSans-112\" />\n",
       "     <use x=\"63.476562\" xlink:href=\"#DejaVuSans-114\" />\n",
       "     <use x=\"104.589844\" xlink:href=\"#DejaVuSans-105\" />\n",
       "     <use x=\"132.373047\" xlink:href=\"#DejaVuSans-99\" />\n",
       "     <use x=\"187.353516\" xlink:href=\"#DejaVuSans-101\" />\n",
       "     <use x=\"248.876953\" xlink:href=\"#DejaVuSans-61\" />\n",
       "     <use x=\"332.666016\" xlink:href=\"#DejaVuSans-53\" />\n",
       "     <use x=\"396.289062\" xlink:href=\"#DejaVuSans-46\" />\n",
       "     <use x=\"428.076172\" xlink:href=\"#DejaVuSans-52\" />\n",
       "     <use x=\"491.699219\" xlink:href=\"#DejaVuSans-54\" />\n",
       "    </g>\n",
       "    \n",
       "    <g style=\"fill:#444443;\" transform=\"translate(21.702656 64.03425)scale(0.1 -0.1)\">\n",
       "     <defs>\n",
       "      <path d=\"M 54.890625 33.015625  L 54.890625 0  L 45.90625 0  L 45.90625 32.71875  Q 45.90625 40.484375 42.875 44.328125  Q 39.84375 48.1875 33.796875 48.1875  Q 26.515625 48.1875 22.3125 43.546875  Q 18.109375 38.921875 18.109375 30.90625  L 18.109375 0  L 9.078125 0  L 9.078125 54.6875  L 18.109375 54.6875  L 18.109375 46.1875  Q 21.34375 51.125 25.703125 53.5625  Q 30.078125 56 35.796875 56  Q 45.21875 56 50.046875 50.171875  Q 54.890625 44.34375 54.890625 33.015625  z \" id=\"DejaVuSans-110\" />\n",
       "      <path d=\"M 40.578125 39.3125  Q 47.65625 37.796875 51.625 33  Q 55.609375 28.21875 55.609375 21.1875  Q 55.609375 10.40625 48.1875 4.484375  Q 40.765625 -1.421875 27.09375 -1.421875  Q 22.515625 -1.421875 17.65625 -0.515625  Q 12.796875 0.390625 7.625 2.203125  L 7.625 11.71875  Q 11.71875 9.328125 16.59375 8.109375  Q 21.484375 6.890625 26.8125 6.890625  Q 36.078125 6.890625 40.9375 10.546875  Q 45.796875 14.203125 45.796875 21.1875  Q 45.796875 27.640625 41.28125 31.265625  Q 36.765625 34.90625 28.71875 34.90625  L 20.21875 34.90625  L 20.21875 43.015625  L 29.109375 43.015625  Q 36.375 43.015625 40.234375 45.921875  Q 44.09375 48.828125 44.09375 54.296875  Q 44.09375 59.90625 40.109375 62.90625  Q 36.140625 65.921875 28.71875 65.921875  Q 24.65625 65.921875 20.015625 65.03125  Q 15.375 64.15625 9.8125 62.3125  L 9.8125 71.09375  Q 15.4375 72.65625 20.34375 73.4375  Q 25.25 74.21875 29.59375 74.21875  Q 40.828125 74.21875 47.359375 69.109375  Q 53.90625 64.015625 53.90625 55.328125  Q 53.90625 49.265625 50.4375 45.09375  Q 46.96875 40.921875 40.578125 39.3125  z \" id=\"DejaVuSans-51\" />\n",
       "     </defs>\n",
       "     <use xlink:href=\"#DejaVuSans-110\" />\n",
       "     <use x=\"63.378906\" xlink:href=\"#DejaVuSans-61\" />\n",
       "     <use x=\"147.167969\" xlink:href=\"#DejaVuSans-52\" />\n",
       "     <use x=\"210.791016\" xlink:href=\"#DejaVuSans-50\" />\n",
       "     <use x=\"274.414062\" xlink:href=\"#DejaVuSans-51\" />\n",
       "    </g>\n",
       "   </g>\n",
       "  </g>\n",
       " </g>\n",
       " <defs>\n",
       "  <clipPath id=\"p91b772e28a\">\n",
       "   <rect height=\"43.488\" width=\"41.85\" x=\"17.18\" y=\"-0\" />\n",
       "  </clipPath>\n",
       " </defs>\n",
       "</svg></g>\n",
       "\n",
       "<g class=\"edge\" id=\"edge7\">\n",
       "<title>node0-&gt;leaf1</title>\n",
       "<path d=\"M144.06,-124.98C164.43,-130.14 185.66,-135.51 202.48,-139.77\" fill=\"none\" stroke=\"#444443\" stroke-width=\"0.3\" />\n",
       "<polygon fill=\"#444443\" points=\"202.44,-141.2 206.66,-140.83 203.12,-138.49 202.44,-141.2\" stroke=\"#444443\" stroke-width=\"0.3\" />\n",
       "<text font-family=\"Times,serif\" font-size=\"14.00\" text-anchor=\"start\" x=\"152\" y=\"-132.8\">&lt;</text>\n",
       "</g>\n",
       "\n",
       "\n",
       "</g>\n",
       "</svg>"
      ],
      "text/plain": [
       "<dtreeviz.trees.DTreeViz at 0x7fd1fb794c50>"
      ]
     },
     "execution_count": 43,
     "metadata": {},
     "output_type": "execute_result"
    }
   ],
   "source": [
    "#myfix - without scale\n",
    "samp_idx = np.random.permutation(len(y))[:500]\n",
    "dtreeviz(m, xs.iloc[samp_idx], y.iloc[samp_idx], xs.columns, dep_var,\n",
    "        fontname='DejaVu Sans',  label_fontsize=10,\n",
    "        orientation='LR') #scale=1.6,"
   ]
  },
  {
   "cell_type": "code",
   "execution_count": 44,
   "metadata": {},
   "outputs": [],
   "source": [
    "m = DecisionTreeRegressor()\n",
    "m.fit(xs, y);"
   ]
  },
  {
   "cell_type": "code",
   "execution_count": 45,
   "metadata": {},
   "outputs": [],
   "source": [
    "def r_mse(pred,y): return round(math.sqrt(((pred-y)**2).mean()), 6)\n",
    "def m_rmse(m, xs, y): return r_mse(m.predict(xs), y)"
   ]
  },
  {
   "cell_type": "code",
   "execution_count": 46,
   "metadata": {},
   "outputs": [
    {
     "data": {
      "text/plain": [
       "(0.0, 6.696872)"
      ]
     },
     "execution_count": 46,
     "metadata": {},
     "output_type": "execute_result"
    }
   ],
   "source": [
    "m_rmse(m, xs, y), m_rmse(m, valid_xs, valid_y)"
   ]
  },
  {
   "cell_type": "code",
   "execution_count": 47,
   "metadata": {},
   "outputs": [
    {
     "data": {
      "text/plain": [
       "(4531, 4815)"
      ]
     },
     "execution_count": 47,
     "metadata": {},
     "output_type": "execute_result"
    }
   ],
   "source": [
    "m.get_n_leaves(), len(xs)"
   ]
  },
  {
   "cell_type": "code",
   "execution_count": 48,
   "metadata": {},
   "outputs": [
    {
     "data": {
      "text/plain": [
       "(4.154048, 5.32644)"
      ]
     },
     "execution_count": 48,
     "metadata": {},
     "output_type": "execute_result"
    }
   ],
   "source": [
    "m = DecisionTreeRegressor(min_samples_leaf=25)\n",
    "m.fit(to.train.xs, to.train.y)\n",
    "m_rmse(m, xs, y), m_rmse(m, valid_xs, valid_y)"
   ]
  },
  {
   "cell_type": "code",
   "execution_count": 49,
   "metadata": {},
   "outputs": [
    {
     "data": {
      "text/plain": [
       "150"
      ]
     },
     "execution_count": 49,
     "metadata": {},
     "output_type": "execute_result"
    }
   ],
   "source": [
    "m.get_n_leaves()"
   ]
  },
  {
   "cell_type": "markdown",
   "metadata": {},
   "source": [
    "### Categorical Variables"
   ]
  },
  {
   "cell_type": "markdown",
   "metadata": {},
   "source": [
    "## Random Forests"
   ]
  },
  {
   "cell_type": "code",
   "execution_count": 50,
   "metadata": {},
   "outputs": [],
   "source": [
    "#hide\n",
    "# pip install —pre -f https://sklearn-nightly.scdn8.secure.raxcdn.com scikit-learn —U"
   ]
  },
  {
   "cell_type": "markdown",
   "metadata": {},
   "source": [
    "### Creating a Random Forest"
   ]
  },
  {
   "cell_type": "code",
   "execution_count": 51,
   "metadata": {},
   "outputs": [],
   "source": [
    "def rf(xs, y, n_estimators=40, max_samples=2000,\n",
    "       max_features=0.5, min_samples_leaf=5, **kwargs):\n",
    "    return RandomForestRegressor(n_jobs=-1, n_estimators=n_estimators,\n",
    "        max_samples=max_samples, max_features=max_features,\n",
    "        min_samples_leaf=min_samples_leaf, oob_score=True).fit(xs, y)"
   ]
  },
  {
   "cell_type": "code",
   "execution_count": 52,
   "metadata": {},
   "outputs": [],
   "source": [
    "m = rf(xs, y);"
   ]
  },
  {
   "cell_type": "code",
   "execution_count": 53,
   "metadata": {},
   "outputs": [
    {
     "data": {
      "text/plain": [
       "(3.345749, 4.826908)"
      ]
     },
     "execution_count": 53,
     "metadata": {},
     "output_type": "execute_result"
    }
   ],
   "source": [
    "m_rmse(m, xs, y), m_rmse(m, valid_xs, valid_y)"
   ]
  },
  {
   "cell_type": "code",
   "execution_count": 54,
   "metadata": {},
   "outputs": [],
   "source": [
    "preds = np.stack([t.predict(valid_xs) for t in m.estimators_])"
   ]
  },
  {
   "cell_type": "code",
   "execution_count": 55,
   "metadata": {},
   "outputs": [
    {
     "data": {
      "text/plain": [
       "4.826908"
      ]
     },
     "execution_count": 55,
     "metadata": {},
     "output_type": "execute_result"
    }
   ],
   "source": [
    "r_mse(preds.mean(0), valid_y)"
   ]
  },
  {
   "cell_type": "code",
   "execution_count": 56,
   "metadata": {},
   "outputs": [
    {
     "data": {
      "image/png": "[encoded data removed]",
      "text/plain": [
       "<Figure size 432x288 with 1 Axes>"
      ]
     },
     "metadata": {
      "needs_background": "light"
     },
     "output_type": "display_data"
    }
   ],
   "source": [
    "plt.plot([r_mse(preds[:i+1].mean(0), valid_y) for i in range(40)]);"
   ]
  },
  {
   "cell_type": "markdown",
   "metadata": {},
   "source": [
    "### Out-of-Bag Error"
   ]
  },
  {
   "cell_type": "code",
   "execution_count": 57,
   "metadata": {},
   "outputs": [
    {
     "data": {
      "text/plain": [
       "4.003384"
      ]
     },
     "execution_count": 57,
     "metadata": {},
     "output_type": "execute_result"
    }
   ],
   "source": [
    "r_mse(m.oob_prediction_, y)"
   ]
  },
  {
   "cell_type": "markdown",
   "metadata": {},
   "source": [
    "## Model Interpretation"
   ]
  },
  {
   "cell_type": "markdown",
   "metadata": {},
   "source": [
    "### Tree Variance for Prediction Confidence"
   ]
  },
  {
   "cell_type": "code",
   "execution_count": 58,
   "metadata": {},
   "outputs": [],
   "source": [
    "preds = np.stack([t.predict(valid_xs) for t in m.estimators_])"
   ]
  },
  {
   "cell_type": "code",
   "execution_count": 59,
   "metadata": {},
   "outputs": [
    {
     "data": {
      "text/plain": [
       "(40, 1204)"
      ]
     },
     "execution_count": 59,
     "metadata": {},
     "output_type": "execute_result"
    }
   ],
   "source": [
    "preds.shape"
   ]
  },
  {
   "cell_type": "code",
   "execution_count": 60,
   "metadata": {},
   "outputs": [],
   "source": [
    "preds_std = preds.std(0)"
   ]
  },
  {
   "cell_type": "code",
   "execution_count": 61,
   "metadata": {},
   "outputs": [
    {
     "data": {
      "text/plain": [
       "array([7.62269741, 1.07484825, 0.95108134, 3.43134758, 0.79000831])"
      ]
     },
     "execution_count": 61,
     "metadata": {},
     "output_type": "execute_result"
    }
   ],
   "source": [
    "preds_std[:5]"
   ]
  },
  {
   "cell_type": "markdown",
   "metadata": {},
   "source": [
    "### Feature Importance"
   ]
  },
  {
   "cell_type": "code",
   "execution_count": 62,
   "metadata": {},
   "outputs": [],
   "source": [
    "def rf_feat_importance(m, df):\n",
    "    return pd.DataFrame({'cols':df.columns, 'imp':m.feature_importances_}\n",
    "                       ).sort_values('imp', ascending=False)"
   ]
  },
  {
   "cell_type": "code",
   "execution_count": 63,
   "metadata": {},
   "outputs": [
    {
     "data": {
      "text/html": [
       "<div>\n",
       "<style scoped>\n",
       "    .dataframe tbody tr th:only-of-type {\n",
       "        vertical-align: middle;\n",
       "    }\n",
       "\n",
       "    .dataframe tbody tr th {\n",
       "        vertical-align: top;\n",
       "    }\n",
       "\n",
       "    .dataframe thead th {\n",
       "        text-align: right;\n",
       "    }\n",
       "</style>\n",
       "<table border=\"1\" class=\"dataframe\">\n",
       "  <thead>\n",
       "    <tr style=\"text-align: right;\">\n",
       "      <th></th>\n",
       "      <th>cols</th>\n",
       "      <th>imp</th>\n",
       "    </tr>\n",
       "  </thead>\n",
       "  <tbody>\n",
       "    <tr>\n",
       "      <th>16</th>\n",
       "      <td>power_num</td>\n",
       "      <td>0.347528</td>\n",
       "    </tr>\n",
       "    <tr>\n",
       "      <th>15</th>\n",
       "      <td>engine_num</td>\n",
       "      <td>0.202859</td>\n",
       "    </tr>\n",
       "    <tr>\n",
       "      <th>11</th>\n",
       "      <td>year</td>\n",
       "      <td>0.112647</td>\n",
       "    </tr>\n",
       "    <tr>\n",
       "      <th>3</th>\n",
       "      <td>transmission</td>\n",
       "      <td>0.087253</td>\n",
       "    </tr>\n",
       "    <tr>\n",
       "      <th>7</th>\n",
       "      <td>power</td>\n",
       "      <td>0.074054</td>\n",
       "    </tr>\n",
       "    <tr>\n",
       "      <th>12</th>\n",
       "      <td>kilometers_driven</td>\n",
       "      <td>0.068009</td>\n",
       "    </tr>\n",
       "    <tr>\n",
       "      <th>17</th>\n",
       "      <td>new_price_num</td>\n",
       "      <td>0.021020</td>\n",
       "    </tr>\n",
       "    <tr>\n",
       "      <th>6</th>\n",
       "      <td>engine</td>\n",
       "      <td>0.018930</td>\n",
       "    </tr>\n",
       "    <tr>\n",
       "      <th>0</th>\n",
       "      <td>name</td>\n",
       "      <td>0.017199</td>\n",
       "    </tr>\n",
       "    <tr>\n",
       "      <th>14</th>\n",
       "      <td>mileage_num</td>\n",
       "      <td>0.011447</td>\n",
       "    </tr>\n",
       "  </tbody>\n",
       "</table>\n",
       "</div>"
      ],
      "text/plain": [
       "                 cols       imp\n",
       "16          power_num  0.347528\n",
       "15         engine_num  0.202859\n",
       "11               year  0.112647\n",
       "3        transmission  0.087253\n",
       "7               power  0.074054\n",
       "12  kilometers_driven  0.068009\n",
       "17      new_price_num  0.021020\n",
       "6              engine  0.018930\n",
       "0                name  0.017199\n",
       "14        mileage_num  0.011447"
      ]
     },
     "execution_count": 63,
     "metadata": {},
     "output_type": "execute_result"
    }
   ],
   "source": [
    "fi = rf_feat_importance(m, xs)\n",
    "fi[:10]"
   ]
  },
  {
   "cell_type": "code",
   "execution_count": 64,
   "metadata": {},
   "outputs": [
    {
     "data": {
      "image/png": "[encoded data removed]",
      "text/plain": [
       "<Figure size 864x504 with 1 Axes>"
      ]
     },
     "metadata": {
      "needs_background": "light"
     },
     "output_type": "display_data"
    }
   ],
   "source": [
    "def plot_fi(fi):\n",
    "    return fi.plot('cols', 'imp', 'barh', figsize=(12,7), legend=False)\n",
    "\n",
    "plot_fi(fi[:30]);"
   ]
  },
  {
   "cell_type": "markdown",
   "metadata": {},
   "source": [
    "#### Redundant Features"
   ]
  },
  {
   "cell_type": "code",
   "execution_count": 65,
   "metadata": {},
   "outputs": [
    {
     "data": {
      "image/png": "[encoded data removed]",
      "text/plain": [
       "<Figure size 720x432 with 1 Axes>"
      ]
     },
     "metadata": {
      "needs_background": "light"
     },
     "output_type": "display_data"
    }
   ],
   "source": [
    "cluster_columns(xs)"
   ]
  },
  {
   "cell_type": "markdown",
   "metadata": {},
   "source": [
    "### Removing Low-Importance Variables"
   ]
  },
  {
   "cell_type": "code",
   "execution_count": 66,
   "metadata": {},
   "outputs": [
    {
     "name": "stdout",
     "output_type": "stream",
     "text": [
      "16            power_num\n",
      "15           engine_num\n",
      "11                 year\n",
      "3          transmission\n",
      "7                 power\n",
      "12    kilometers_driven\n",
      "17        new_price_num\n",
      "6                engine\n",
      "0                  name\n",
      "14          mileage_num\n",
      "8             new_price\n",
      "5               mileage\n",
      "1              location\n",
      "2             fuel_type\n",
      "Name: cols, dtype: object\n"
     ]
    },
    {
     "data": {
      "text/plain": [
       "14"
      ]
     },
     "execution_count": 66,
     "metadata": {},
     "output_type": "execute_result"
    }
   ],
   "source": [
    "#original\n",
    "to_keep = fi[fi.imp>0.005].cols\n",
    "print(to_keep)\n",
    "len(to_keep)"
   ]
  },
  {
   "cell_type": "code",
   "execution_count": 67,
   "metadata": {},
   "outputs": [],
   "source": [
    "xs_imp = xs[to_keep]\n",
    "valid_xs_imp = valid_xs[to_keep]"
   ]
  },
  {
   "cell_type": "code",
   "execution_count": 68,
   "metadata": {},
   "outputs": [],
   "source": [
    "m = rf(xs_imp, y)"
   ]
  },
  {
   "cell_type": "code",
   "execution_count": 69,
   "metadata": {},
   "outputs": [
    {
     "data": {
      "text/plain": [
       "(3.395673, 4.808788)"
      ]
     },
     "execution_count": 69,
     "metadata": {},
     "output_type": "execute_result"
    }
   ],
   "source": [
    "m_rmse(m, xs_imp, y), m_rmse(m, valid_xs_imp, valid_y)"
   ]
  },
  {
   "cell_type": "code",
   "execution_count": 70,
   "metadata": {},
   "outputs": [
    {
     "data": {
      "text/plain": [
       "(18, 14)"
      ]
     },
     "execution_count": 70,
     "metadata": {},
     "output_type": "execute_result"
    }
   ],
   "source": [
    "len(xs.columns), len(xs_imp.columns)"
   ]
  },
  {
   "cell_type": "code",
   "execution_count": 71,
   "metadata": {},
   "outputs": [
    {
     "data": {
      "image/png": "[encoded data removed]",
      "text/plain": [
       "<Figure size 864x504 with 1 Axes>"
      ]
     },
     "metadata": {
      "needs_background": "light"
     },
     "output_type": "display_data"
    }
   ],
   "source": [
    "plot_fi(rf_feat_importance(m, xs_imp));"
   ]
  },
  {
   "cell_type": "markdown",
   "metadata": {},
   "source": [
    "### Removing Redundant Features"
   ]
  },
  {
   "cell_type": "code",
   "execution_count": 72,
   "metadata": {},
   "outputs": [
    {
     "data": {
      "image/png": "[encoded data removed]",
      "text/plain": [
       "<Figure size 720x432 with 1 Axes>"
      ]
     },
     "metadata": {
      "needs_background": "light"
     },
     "output_type": "display_data"
    }
   ],
   "source": [
    "cluster_columns(xs_imp)"
   ]
  },
  {
   "cell_type": "code",
   "execution_count": 73,
   "metadata": {},
   "outputs": [],
   "source": [
    "def get_oob(df):\n",
    "    m = RandomForestRegressor(n_estimators=40, min_samples_leaf=15,\n",
    "        max_samples=2000, max_features=0.5, n_jobs=-1, oob_score=True)\n",
    "    m.fit(df, y)\n",
    "    return m.oob_score_"
   ]
  },
  {
   "cell_type": "markdown",
   "metadata": {},
   "source": [
    "#### Baseline R-squared"
   ]
  },
  {
   "cell_type": "code",
   "execution_count": 74,
   "metadata": {},
   "outputs": [
    {
     "data": {
      "text/plain": [
       "0.8382613620646131"
      ]
     },
     "execution_count": 74,
     "metadata": {},
     "output_type": "execute_result"
    }
   ],
   "source": [
    "get_oob(xs_imp)"
   ]
  },
  {
   "cell_type": "code",
   "execution_count": 75,
   "metadata": {},
   "outputs": [
    {
     "data": {
      "text/plain": [
       "{'power': 0.8397959707567568,\n",
       " 'power_num': 0.8273181539368433,\n",
       " 'mileage': 0.8366736389908564,\n",
       " 'mileage_num': 0.8357566626378332,\n",
       " 'engine': 0.8341403188156703,\n",
       " 'engine_num': 0.8310069612794921,\n",
       " 'new_price': 0.8409468111150805,\n",
       " 'new_price_num': 0.835661354232101}"
      ]
     },
     "execution_count": 75,
     "metadata": {},
     "output_type": "execute_result"
    }
   ],
   "source": [
    "{c:get_oob(xs_imp.drop(c, axis=1)) for c in (\n",
    "     'power', 'power_num', 'mileage', 'mileage_num', 'engine', 'engine_num', 'new_price', 'new_price_num')}"
   ]
  },
  {
   "cell_type": "code",
   "execution_count": 76,
   "metadata": {},
   "outputs": [
    {
     "data": {
      "text/plain": [
       "0.8459282632972918"
      ]
     },
     "execution_count": 76,
     "metadata": {},
     "output_type": "execute_result"
    }
   ],
   "source": [
    "to_drop = ['power', 'mileage', 'engine','new_price']\n",
    "get_oob(xs_imp.drop(to_drop, axis=1))"
   ]
  },
  {
   "cell_type": "code",
   "execution_count": 77,
   "metadata": {},
   "outputs": [],
   "source": [
    "xs_final = xs_imp.drop(to_drop, axis=1)\n",
    "valid_xs_final = valid_xs_imp.drop(to_drop, axis=1)"
   ]
  },
  {
   "cell_type": "code",
   "execution_count": 78,
   "metadata": {},
   "outputs": [],
   "source": [
    "(path/'xs_final.pkl').save(xs_final)\n",
    "(path/'valid_xs_final.pkl').save(valid_xs_final)"
   ]
  },
  {
   "cell_type": "code",
   "execution_count": 79,
   "metadata": {},
   "outputs": [],
   "source": [
    "xs_final = (path/'xs_final.pkl').load()\n",
    "valid_xs_final = (path/'valid_xs_final.pkl').load()"
   ]
  },
  {
   "cell_type": "code",
   "execution_count": 80,
   "metadata": {},
   "outputs": [
    {
     "data": {
      "text/plain": [
       "(3.314344, 4.771058)"
      ]
     },
     "execution_count": 80,
     "metadata": {},
     "output_type": "execute_result"
    }
   ],
   "source": [
    "m = rf(xs_final, y)\n",
    "m_rmse(m, xs_final, y), m_rmse(m, valid_xs_final, valid_y)"
   ]
  },
  {
   "cell_type": "code",
   "execution_count": 81,
   "metadata": {},
   "outputs": [
    {
     "data": {
      "image/png": "[encoded data removed]",
      "text/plain": [
       "<Figure size 864x504 with 1 Axes>"
      ]
     },
     "metadata": {
      "needs_background": "light"
     },
     "output_type": "display_data"
    }
   ],
   "source": [
    "plot_fi(rf_feat_importance(m, xs_final));"
   ]
  },
  {
   "cell_type": "markdown",
   "metadata": {},
   "source": [
    "### Partial Dependence"
   ]
  },
  {
   "cell_type": "code",
   "execution_count": 82,
   "metadata": {},
   "outputs": [],
   "source": [
    "#p = valid_xs_final['power_num'].value_counts(sort=False).plot.barh() $actodo\n",
    "#c = to.classes['owner_type_cat']\n",
    "#plt.yticks(range(len(c)), c);"
   ]
  },
  {
   "cell_type": "code",
   "execution_count": 83,
   "metadata": {},
   "outputs": [
    {
     "data": {
      "image/png": "[encoded data removed]",
      "text/plain": [
       "<Figure size 432x288 with 1 Axes>"
      ]
     },
     "metadata": {
      "needs_background": "light"
     },
     "output_type": "display_data"
    }
   ],
   "source": [
    "valid_xs_final['year'].hist();"
   ]
  },
  {
   "cell_type": "code",
   "execution_count": 84,
   "metadata": {},
   "outputs": [
    {
     "data": {
      "image/png": "[encoded data removed]",
      "text/plain": [
       "<Figure size 864x288 with 3 Axes>"
      ]
     },
     "metadata": {
      "needs_background": "light"
     },
     "output_type": "display_data"
    }
   ],
   "source": [
    "from sklearn.inspection import plot_partial_dependence\n",
    "\n",
    "fig,ax = plt.subplots(figsize=(12, 4))\n",
    "plot_partial_dependence(m, valid_xs_final, ['year','power_num'],\n",
    "                        grid_resolution=20, ax=ax);"
   ]
  },
  {
   "cell_type": "code",
   "execution_count": 85,
   "metadata": {},
   "outputs": [
    {
     "data": {
      "image/png": "[encoded data removed]",
      "text/plain": [
       "<Figure size 864x288 with 3 Axes>"
      ]
     },
     "metadata": {
      "needs_background": "light"
     },
     "output_type": "display_data"
    }
   ],
   "source": [
    "fig,ax = plt.subplots(figsize=(12, 4))\n",
    "plot_partial_dependence(m, valid_xs_final, ['year','engine_num'],\n",
    "                        grid_resolution=20, ax=ax);"
   ]
  },
  {
   "cell_type": "markdown",
   "metadata": {},
   "source": [
    "### Data Leakage"
   ]
  },
  {
   "cell_type": "markdown",
   "metadata": {},
   "source": [
    "### Tree Interpreter"
   ]
  },
  {
   "cell_type": "code",
   "execution_count": 86,
   "metadata": {},
   "outputs": [],
   "source": [
    "#hide\n",
    "import warnings\n",
    "warnings.simplefilter('ignore', FutureWarning)\n",
    "\n",
    "from treeinterpreter import treeinterpreter\n",
    "from waterfall_chart import plot as waterfall"
   ]
  },
  {
   "cell_type": "code",
   "execution_count": 87,
   "metadata": {},
   "outputs": [
    {
     "data": {
      "text/html": [
       "<div>\n",
       "<style scoped>\n",
       "    .dataframe tbody tr th:only-of-type {\n",
       "        vertical-align: middle;\n",
       "    }\n",
       "\n",
       "    .dataframe tbody tr th {\n",
       "        vertical-align: top;\n",
       "    }\n",
       "\n",
       "    .dataframe thead th {\n",
       "        text-align: right;\n",
       "    }\n",
       "</style>\n",
       "<table border=\"1\" class=\"dataframe\">\n",
       "  <thead>\n",
       "    <tr style=\"text-align: right;\">\n",
       "      <th></th>\n",
       "      <th>power_num</th>\n",
       "      <th>engine_num</th>\n",
       "      <th>year</th>\n",
       "      <th>transmission</th>\n",
       "      <th>...</th>\n",
       "      <th>name</th>\n",
       "      <th>mileage_num</th>\n",
       "      <th>location</th>\n",
       "      <th>fuel_type</th>\n",
       "    </tr>\n",
       "  </thead>\n",
       "  <tbody>\n",
       "    <tr>\n",
       "      <th>5641</th>\n",
       "      <td>153.860001</td>\n",
       "      <td>2953.0</td>\n",
       "      <td>2012</td>\n",
       "      <td>1</td>\n",
       "      <td>...</td>\n",
       "      <td>270</td>\n",
       "      <td>11.40</td>\n",
       "      <td>8</td>\n",
       "      <td>2</td>\n",
       "    </tr>\n",
       "    <tr>\n",
       "      <th>3594</th>\n",
       "      <td>130.000000</td>\n",
       "      <td>1799.0</td>\n",
       "      <td>2008</td>\n",
       "      <td>2</td>\n",
       "      <td>...</td>\n",
       "      <td>467</td>\n",
       "      <td>13.50</td>\n",
       "      <td>2</td>\n",
       "      <td>5</td>\n",
       "    </tr>\n",
       "    <tr>\n",
       "      <th>1920</th>\n",
       "      <td>73.750000</td>\n",
       "      <td>1248.0</td>\n",
       "      <td>2016</td>\n",
       "      <td>2</td>\n",
       "      <td>...</td>\n",
       "      <td>1046</td>\n",
       "      <td>28.40</td>\n",
       "      <td>5</td>\n",
       "      <td>2</td>\n",
       "    </tr>\n",
       "    <tr>\n",
       "      <th>513</th>\n",
       "      <td>120.000000</td>\n",
       "      <td>1997.0</td>\n",
       "      <td>2017</td>\n",
       "      <td>2</td>\n",
       "      <td>...</td>\n",
       "      <td>866</td>\n",
       "      <td>15.40</td>\n",
       "      <td>5</td>\n",
       "      <td>2</td>\n",
       "    </tr>\n",
       "    <tr>\n",
       "      <th>4177</th>\n",
       "      <td>126.320000</td>\n",
       "      <td>1582.0</td>\n",
       "      <td>2012</td>\n",
       "      <td>2</td>\n",
       "      <td>...</td>\n",
       "      <td>634</td>\n",
       "      <td>22.32</td>\n",
       "      <td>6</td>\n",
       "      <td>2</td>\n",
       "    </tr>\n",
       "  </tbody>\n",
       "</table>\n",
       "<p>5 rows × 10 columns</p>\n",
       "</div>"
      ],
      "text/plain": [
       "       power_num  engine_num  year  transmission  ...  name  mileage_num  \\\n",
       "5641  153.860001      2953.0  2012             1  ...   270        11.40   \n",
       "3594  130.000000      1799.0  2008             2  ...   467        13.50   \n",
       "1920   73.750000      1248.0  2016             2  ...  1046        28.40   \n",
       "513   120.000000      1997.0  2017             2  ...   866        15.40   \n",
       "4177  126.320000      1582.0  2012             2  ...   634        22.32   \n",
       "\n",
       "      location  fuel_type  \n",
       "5641         8          2  \n",
       "3594         2          5  \n",
       "1920         5          2  \n",
       "513          5          2  \n",
       "4177         6          2  \n",
       "\n",
       "[5 rows x 10 columns]"
      ]
     },
     "execution_count": 87,
     "metadata": {},
     "output_type": "execute_result"
    }
   ],
   "source": [
    "row = valid_xs_final.iloc[:5]\n",
    "row"
   ]
  },
  {
   "cell_type": "code",
   "execution_count": 88,
   "metadata": {},
   "outputs": [
    {
     "data": {
      "text/plain": [
       "10"
      ]
     },
     "execution_count": 88,
     "metadata": {},
     "output_type": "execute_result"
    }
   ],
   "source": [
    "#confirm shapes\n",
    "m.n_features_"
   ]
  },
  {
   "cell_type": "code",
   "execution_count": 89,
   "metadata": {},
   "outputs": [],
   "source": [
    "prediction,bias,contributions = treeinterpreter.predict(m, row.values)"
   ]
  },
  {
   "cell_type": "code",
   "execution_count": 90,
   "metadata": {},
   "outputs": [
    {
     "data": {
      "text/plain": [
       "(array([13.65540927]), 9.446716369690746, 4.20869290050508)"
      ]
     },
     "execution_count": 90,
     "metadata": {},
     "output_type": "execute_result"
    }
   ],
   "source": [
    "prediction[0], bias[0], contributions[0].sum()"
   ]
  },
  {
   "cell_type": "code",
   "execution_count": 91,
   "metadata": {},
   "outputs": [
    {
     "data": {
      "image/png": "[encoded data removed]",
      "text/plain": [
       "<Figure size 432x288 with 1 Axes>"
      ]
     },
     "metadata": {
      "needs_background": "light"
     },
     "output_type": "display_data"
    }
   ],
   "source": [
    "waterfall(valid_xs_final.columns, contributions[0], threshold=0.08, \n",
    "          rotation_value=45,formatting='{:,.3f}');"
   ]
  },
  {
   "cell_type": "markdown",
   "metadata": {},
   "source": [
    "### The Extrapolation Problem\n",
    "no time series here => n/a"
   ]
  },
  {
   "cell_type": "markdown",
   "metadata": {},
   "source": [
    "### Finding Out-of-Domain Data\n",
    "this section works but messes with my Ensemble later.  $actofix"
   ]
  },
  {
   "cell_type": "code",
   "execution_count": 92,
   "metadata": {},
   "outputs": [],
   "source": [
    "##df_dom = pd.concat([xs_final, valid_xs_final])\n",
    "##is_valid = np.array([0]*len(xs_final) + [1]*len(valid_xs_final))\n",
    "\n",
    "##m = rf(df_dom, is_valid)\n",
    "##rf_feat_importance(m, df_dom)[:6]"
   ]
  },
  {
   "cell_type": "code",
   "execution_count": 93,
   "metadata": {},
   "outputs": [],
   "source": [
    "#m = rf(xs_final, y)\n",
    "#print('orig', m_rmse(m, valid_xs_final, valid_y))\n",
    "\n",
    "#for c in ('kilometers_driven','name', 'mileage_num', 'power_num', 'location', 'new_price_num'):\n",
    "#    m = rf(xs_final.drop(c,axis=1), y)\n",
    "#    print(c, m_rmse(m, valid_xs_final.drop(c,axis=1), valid_y))"
   ]
  },
  {
   "cell_type": "code",
   "execution_count": 94,
   "metadata": {},
   "outputs": [
    {
     "data": {
      "image/png": "[encoded data removed]",
      "text/plain": [
       "<Figure size 432x288 with 1 Axes>"
      ]
     },
     "metadata": {
      "needs_background": "light"
     },
     "output_type": "display_data"
    }
   ],
   "source": [
    "xs['year'].hist();"
   ]
  },
  {
   "cell_type": "code",
   "execution_count": 95,
   "metadata": {},
   "outputs": [],
   "source": [
    "##check if ok to remove 'new_price?' - ok to keep too\n",
    "#xtra_vars = ['new_price_num']\n",
    "#xs_final_xtra = xs_final.drop(xtra_vars, axis=1)\n",
    "#valid_xs_xtra = valid_xs_final.drop(xtra_vars, axis=1)\n",
    "\n",
    "#m = rf(xs_final_xtra, y)\n",
    "#m_rmse(m, valid_xs_xtra, valid_y)"
   ]
  },
  {
   "cell_type": "markdown",
   "metadata": {},
   "source": [
    "### Using a Neural Network"
   ]
  },
  {
   "cell_type": "code",
   "execution_count": 144,
   "metadata": {},
   "outputs": [],
   "source": [
    "df_nn = pd.read_csv(path/'train-data.csv', low_memory=False)\n",
    "\n",
    "#duplicate data prep\n",
    "df_nn.columns = ['car_id', 'Name', 'Location', 'Year', 'Kilometers_Driven',\n",
    "        'Fuel_Type', 'Transmission', 'Owner_Type', 'Mileage', 'Engine', 'Power',\n",
    "        'Seats', 'New_Price', 'Price']\n",
    "\n",
    "#use list comprehension to convert to lower case\n",
    "df_nn.columns = [x.lower() for x in df_nn.columns]\n",
    "\n",
    "#preprocess\n",
    "#impute\n",
    "idx_missing_seats = df[df['seats'].isnull()].index\n",
    "idx_missing_seats\n",
    "df.loc[idx_missing_seats, 'seats'] = df['seats'].median()\n",
    "\n",
    "#convet to numeric\n",
    "#mileage or km/l\n",
    "df_nn['mileage_num'] = df_nn['mileage'].str.replace('\\s(.*)','', regex=True)\n",
    "df_nn['mileage_num'] = df_nn['mileage_num'].fillna(0).astype('float')\n",
    "\n",
    "#engine\n",
    "df_nn['engine_num'] = df_nn['engine'].str.replace('\\s(.*)','', regex=True)\n",
    "df_nn['engine_num'] = df_nn['engine_num'].fillna(0).astype(float)\n",
    "\n",
    "#power\n",
    "df_nn['power_num'] = df_nn['power'].str.replace('\\s(.*)','', regex=True)\n",
    "df_nn['power_num'] = df_nn['power_num'].str.replace('null','0', regex=True) #$note: a strange value 'null'\n",
    "df_nn['power_num'] = df_nn['power_num'].fillna(0).astype(float)\n",
    "\n",
    "#engine\n",
    "df_nn['new_price_num'] = df_nn['new_price'].str.replace('\\s(.*)','', regex=True)\n",
    "df_nn['new_price_num'] = df_nn['new_price_num'].fillna(0).astype(float)\n",
    "\n",
    "#ordinal - not including in the model\n",
    "df_nn['owner_type_cat'] = df_nn['owner_type'].astype('category')\n",
    "df_nn['owner_type_cat'].cat.set_categories(owner_type_order, ordered=True, inplace=True)\n",
    "\n",
    "#target var\n",
    "df_nn[dep_var] = df_nn[dep_var]\n"
   ]
  },
  {
   "cell_type": "code",
   "execution_count": 145,
   "metadata": {},
   "outputs": [
    {
     "name": "stdout",
     "output_type": "stream",
     "text": [
      "Index(['power_num', 'engine_num', 'year', 'transmission', 'kilometers_driven',\n",
      "       'new_price_num', 'name', 'mileage_num', 'location', 'fuel_type',\n",
      "       'price'],\n",
      "      dtype='object')\n"
     ]
    },
    {
     "data": {
      "text/plain": [
       "power_num            float64\n",
       "engine_num           float64\n",
       "year                   int64\n",
       "transmission          object\n",
       "kilometers_driven      int64\n",
       "new_price_num        float64\n",
       "name                  object\n",
       "mileage_num          float64\n",
       "location              object\n",
       "fuel_type             object\n",
       "price                float64\n",
       "dtype: object"
      ]
     },
     "execution_count": 145,
     "metadata": {},
     "output_type": "execute_result"
    }
   ],
   "source": [
    "df_nn_final = df_nn[list(xs_final.columns) + [dep_var]]\n",
    "\n",
    "print(df_nn_final.columns)\n",
    "df_nn_final.dtypes"
   ]
  },
  {
   "cell_type": "code",
   "execution_count": 146,
   "metadata": {},
   "outputs": [
    {
     "data": {
      "text/plain": [
       "power_num            6019\n",
       "engine_num           6019\n",
       "year                 6019\n",
       "transmission         6019\n",
       "kilometers_driven    6019\n",
       "new_price_num        6019\n",
       "name                 6019\n",
       "mileage_num          6019\n",
       "location             6019\n",
       "fuel_type            6019\n",
       "price                6019\n",
       "dtype: int64"
      ]
     },
     "execution_count": 146,
     "metadata": {},
     "output_type": "execute_result"
    }
   ],
   "source": [
    "#check for missing values\n",
    "df_nn_final.notnull().sum()"
   ]
  },
  {
   "cell_type": "code",
   "execution_count": 147,
   "metadata": {},
   "outputs": [],
   "source": [
    "cont_nn,cat_nn = cont_cat_split(df_nn_final, max_card=1500, dep_var=dep_var)\n",
    "\n",
    "#if need to remove a field\n",
    "##cat_nn.remove('field_name')"
   ]
  },
  {
   "cell_type": "code",
   "execution_count": 148,
   "metadata": {},
   "outputs": [
    {
     "data": {
      "text/plain": [
       "year              22\n",
       "transmission       2\n",
       "name            1876\n",
       "location          11\n",
       "fuel_type          5\n",
       "dtype: int64"
      ]
     },
     "execution_count": 148,
     "metadata": {},
     "output_type": "execute_result"
    }
   ],
   "source": [
    "df_nn_final[cat_nn].nunique()"
   ]
  },
  {
   "cell_type": "code",
   "execution_count": 149,
   "metadata": {},
   "outputs": [
    {
     "name": "stdout",
     "output_type": "stream",
     "text": [
      "(6019, 11)\n",
      "Index(['power_num', 'engine_num', 'year', 'transmission', 'kilometers_driven',\n",
      "       'new_price_num', 'name', 'mileage_num', 'location', 'fuel_type',\n",
      "       'price'],\n",
      "      dtype='object')\n",
      "5\n",
      "['year', 'transmission', 'name', 'location', 'fuel_type']\n",
      "5\n",
      "['power_num', 'engine_num', 'kilometers_driven', 'new_price_num', 'mileage_num']\n"
     ]
    }
   ],
   "source": [
    "#my check \n",
    "print(df_nn_final.shape)\n",
    "print(df_nn_final.columns)\n",
    "print(len(cat_nn))\n",
    "print(cat_nn)\n",
    "print(len(cont_nn))\n",
    "print(cont_nn)"
   ]
  },
  {
   "cell_type": "code",
   "execution_count": 150,
   "metadata": {},
   "outputs": [
    {
     "data": {
      "text/plain": [
       "power_num            float64\n",
       "engine_num           float64\n",
       "year                   int64\n",
       "transmission          object\n",
       "kilometers_driven      int64\n",
       "new_price_num        float64\n",
       "name                  object\n",
       "mileage_num          float64\n",
       "location              object\n",
       "fuel_type             object\n",
       "price                float64\n",
       "dtype: object"
      ]
     },
     "execution_count": 150,
     "metadata": {},
     "output_type": "execute_result"
    }
   ],
   "source": [
    "#check dtypes\n",
    "df_nn_final.dtypes"
   ]
  },
  {
   "cell_type": "code",
   "execution_count": 151,
   "metadata": {},
   "outputs": [],
   "source": [
    "#original - error ValueError: Unable to coerce to Series, length must be 1: given 0\n",
    "#refer to possible fix: https://forums.fast.ai/t/09-tabular-value-error-unable-to-coerce-to-series-length-must-be-1-given-0/80580/6\n",
    "procs_nn = [Categorify, FillMissing, Normalize]\n",
    "to_nn = TabularPandas(df_nn_final, procs_nn, cat_nn, cont_nn,\n",
    "                      splits=splits, y_names=dep_var)"
   ]
  },
  {
   "cell_type": "code",
   "execution_count": 152,
   "metadata": {},
   "outputs": [],
   "source": [
    "dls = to_nn.dataloaders(1024)"
   ]
  },
  {
   "cell_type": "code",
   "execution_count": 153,
   "metadata": {},
   "outputs": [
    {
     "data": {
      "text/plain": [
       "(0.4399999976158142, 120.0)"
      ]
     },
     "execution_count": 153,
     "metadata": {},
     "output_type": "execute_result"
    }
   ],
   "source": [
    "y = to_nn.train.y\n",
    "y.min(),y.max()"
   ]
  },
  {
   "cell_type": "code",
   "execution_count": 154,
   "metadata": {},
   "outputs": [],
   "source": [
    "#$note: ensure range\n",
    "learn = tabular_learner(dls, y_range=(0, 120), layers=[500,250],\n",
    "                        n_out=1, loss_func=F.mse_loss)"
   ]
  },
  {
   "cell_type": "code",
   "execution_count": 155,
   "metadata": {},
   "outputs": [
    {
     "data": {
      "text/html": [],
      "text/plain": [
       "<IPython.core.display.HTML object>"
      ]
     },
     "metadata": {},
     "output_type": "display_data"
    },
    {
     "data": {
      "text/plain": [
       "SuggestedLRs(lr_min=0.33113112449646, lr_steep=0.0012022644514217973)"
      ]
     },
     "execution_count": 155,
     "metadata": {},
     "output_type": "execute_result"
    },
    {
     "data": {
      "image/png": "[encoded data removed]",
      "text/plain": [
       "<Figure size 432x288 with 1 Axes>"
      ]
     },
     "metadata": {
      "needs_background": "light"
     },
     "output_type": "display_data"
    }
   ],
   "source": [
    "learn.lr_find()"
   ]
  },
  {
   "cell_type": "code",
   "execution_count": 156,
   "metadata": {},
   "outputs": [
    {
     "data": {
      "text/html": [
       "<table border=\"1\" class=\"dataframe\">\n",
       "  <thead>\n",
       "    <tr style=\"text-align: left;\">\n",
       "      <th>epoch</th>\n",
       "      <th>train_loss</th>\n",
       "      <th>valid_loss</th>\n",
       "      <th>time</th>\n",
       "    </tr>\n",
       "  </thead>\n",
       "  <tbody>\n",
       "    <tr>\n",
       "      <td>0</td>\n",
       "      <td>815.991516</td>\n",
       "      <td>844.681152</td>\n",
       "      <td>00:00</td>\n",
       "    </tr>\n",
       "    <tr>\n",
       "      <td>1</td>\n",
       "      <td>461.042084</td>\n",
       "      <td>154.850922</td>\n",
       "      <td>00:00</td>\n",
       "    </tr>\n",
       "    <tr>\n",
       "      <td>2</td>\n",
       "      <td>335.693573</td>\n",
       "      <td>133.190460</td>\n",
       "      <td>00:00</td>\n",
       "    </tr>\n",
       "    <tr>\n",
       "      <td>3</td>\n",
       "      <td>267.144348</td>\n",
       "      <td>94.509186</td>\n",
       "      <td>00:00</td>\n",
       "    </tr>\n",
       "    <tr>\n",
       "      <td>4</td>\n",
       "      <td>224.053284</td>\n",
       "      <td>74.338387</td>\n",
       "      <td>00:00</td>\n",
       "    </tr>\n",
       "    <tr>\n",
       "      <td>5</td>\n",
       "      <td>191.805511</td>\n",
       "      <td>87.937645</td>\n",
       "      <td>00:00</td>\n",
       "    </tr>\n",
       "    <tr>\n",
       "      <td>6</td>\n",
       "      <td>166.673019</td>\n",
       "      <td>52.446075</td>\n",
       "      <td>00:00</td>\n",
       "    </tr>\n",
       "    <tr>\n",
       "      <td>7</td>\n",
       "      <td>146.605896</td>\n",
       "      <td>49.431606</td>\n",
       "      <td>00:00</td>\n",
       "    </tr>\n",
       "    <tr>\n",
       "      <td>8</td>\n",
       "      <td>129.861313</td>\n",
       "      <td>44.696278</td>\n",
       "      <td>00:00</td>\n",
       "    </tr>\n",
       "    <tr>\n",
       "      <td>9</td>\n",
       "      <td>115.889046</td>\n",
       "      <td>42.537945</td>\n",
       "      <td>00:00</td>\n",
       "    </tr>\n",
       "    <tr>\n",
       "      <td>10</td>\n",
       "      <td>104.158470</td>\n",
       "      <td>40.820007</td>\n",
       "      <td>00:00</td>\n",
       "    </tr>\n",
       "    <tr>\n",
       "      <td>11</td>\n",
       "      <td>94.553856</td>\n",
       "      <td>40.541595</td>\n",
       "      <td>00:00</td>\n",
       "    </tr>\n",
       "    <tr>\n",
       "      <td>12</td>\n",
       "      <td>86.279411</td>\n",
       "      <td>38.693008</td>\n",
       "      <td>00:00</td>\n",
       "    </tr>\n",
       "    <tr>\n",
       "      <td>13</td>\n",
       "      <td>79.195183</td>\n",
       "      <td>38.865768</td>\n",
       "      <td>00:00</td>\n",
       "    </tr>\n",
       "    <tr>\n",
       "      <td>14</td>\n",
       "      <td>73.109238</td>\n",
       "      <td>39.181526</td>\n",
       "      <td>00:00</td>\n",
       "    </tr>\n",
       "  </tbody>\n",
       "</table>"
      ],
      "text/plain": [
       "<IPython.core.display.HTML object>"
      ]
     },
     "metadata": {},
     "output_type": "display_data"
    }
   ],
   "source": [
    "learn.fit_one_cycle(15, 1e-1)"
   ]
  },
  {
   "cell_type": "code",
   "execution_count": 157,
   "metadata": {},
   "outputs": [
    {
     "data": {
      "text/html": [],
      "text/plain": [
       "<IPython.core.display.HTML object>"
      ]
     },
     "metadata": {},
     "output_type": "display_data"
    },
    {
     "data": {
      "text/plain": [
       "6.259515"
      ]
     },
     "execution_count": 157,
     "metadata": {},
     "output_type": "execute_result"
    }
   ],
   "source": [
    "preds,targs = learn.get_preds()\n",
    "r_mse(preds,targs)"
   ]
  },
  {
   "cell_type": "code",
   "execution_count": 158,
   "metadata": {},
   "outputs": [
    {
     "data": {
      "text/plain": [
       "Path('models/nn_my09_used_cars.pth')"
      ]
     },
     "execution_count": 158,
     "metadata": {},
     "output_type": "execute_result"
    }
   ],
   "source": [
    "learn.save('nn_my09_used_cars')"
   ]
  },
  {
   "cell_type": "markdown",
   "metadata": {},
   "source": [
    "### Sidebar: fastai's Tabular Classes"
   ]
  },
  {
   "cell_type": "markdown",
   "metadata": {},
   "source": [
    "### End sidebar"
   ]
  },
  {
   "cell_type": "markdown",
   "metadata": {},
   "source": [
    "## Ensembling"
   ]
  },
  {
   "cell_type": "code",
   "execution_count": 159,
   "metadata": {},
   "outputs": [
    {
     "data": {
      "text/plain": [
       "(power_num            float32\n",
       " engine_num           float32\n",
       " year                   int16\n",
       " transmission            int8\n",
       " kilometers_driven      int32\n",
       " new_price_num        float32\n",
       " name                   int16\n",
       " mileage_num          float32\n",
       " location                int8\n",
       " fuel_type               int8\n",
       " dtype: object,\n",
       " power_num            float32\n",
       " engine_num           float32\n",
       " year                   int16\n",
       " transmission            int8\n",
       " kilometers_driven      int32\n",
       " new_price_num        float32\n",
       " name                   int16\n",
       " mileage_num          float32\n",
       " location                int8\n",
       " fuel_type               int8\n",
       " dtype: object)"
      ]
     },
     "execution_count": 159,
     "metadata": {},
     "output_type": "execute_result"
    }
   ],
   "source": [
    "#valid_xs_final = valid_xs_final.drop('new_price', axis=1)\n",
    "valid_xs_final.dtypes,  xs_final.dtypes"
   ]
  },
  {
   "cell_type": "code",
   "execution_count": 160,
   "metadata": {},
   "outputs": [],
   "source": [
    "#rf_preds = m.predict(valid_xs_time)\n",
    "rf_preds = m.predict(valid_xs_final)\n",
    "ens_preds = (to_np(preds.squeeze()) + rf_preds) /2"
   ]
  },
  {
   "cell_type": "code",
   "execution_count": 161,
   "metadata": {},
   "outputs": [
    {
     "data": {
      "text/plain": [
       "4.922593"
      ]
     },
     "execution_count": 161,
     "metadata": {},
     "output_type": "execute_result"
    }
   ],
   "source": [
    "r_mse(ens_preds,valid_y)"
   ]
  },
  {
   "cell_type": "markdown",
   "metadata": {},
   "source": [
    "## Conclusion: Our Advice for Tabular Modeling\n",
    "2 approaches: 1) ensemble models and 2) neural nets.  \n",
    "Suggest starting with a random forest, which gives you a stong baseline. Then use that model for feature selection and partial data analysis to better understand your data. Then try neural nets and GBMs.  \n",
    "\n",
    "## Further Research"
   ]
  },
  {
   "cell_type": "markdown",
   "metadata": {},
   "source": [
    "1. Pick a competition on Kaggle with tabular data (current or past) and try to adapt the techniques seen in this chapter to get the best possible results. Compare your results to the private leaderboard.\n",
    "1. Implement the decision tree algorithm in this chapter from scratch yourself, and try it on the datase you used in the first exercise.\n",
    "1. Use the embeddings from the neural net in this chapter in a random forest, and see if you can improve on the random forest results we saw.\n",
    "1. Explain what each line of the source of `TabularModel` does (with the exception of the `BatchNorm1d` and `Dropout` layers)."
   ]
  },
  {
   "cell_type": "code",
   "execution_count": null,
   "metadata": {},
   "outputs": [],
   "source": []
  }
 ],
 "metadata": {
  "environment": {
   "name": "common-cu101.m56",
   "type": "gcloud",
   "uri": "gcr.io/deeplearning-platform-release/base-cu101:m56"
  },
  "kernelspec": {
   "display_name": "Python 3",
   "language": "python",
   "name": "python3"
  },
  "language_info": {
   "codemirror_mode": {
    "name": "ipython",
    "version": 3
   },
   "file_extension": ".py",
   "mimetype": "text/x-python",
   "name": "python",
   "nbconvert_exporter": "python",
   "pygments_lexer": "ipython3",
   "version": "3.7.8"
  }
 },
 "nbformat": 4,
 "nbformat_minor": 4
}
