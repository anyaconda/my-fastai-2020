{
 "cells": [
  {
   "cell_type": "code",
   "execution_count": 1,
   "metadata": {},
   "outputs": [],
   "source": [
    "#hide\n",
    "#!pip install -Uqq fastbook\n",
    "#import fastbook\n",
    "#fastbook.setup_book()"
   ]
  },
  {
   "cell_type": "code",
   "execution_count": 59,
   "metadata": {},
   "outputs": [],
   "source": [
    "#hide\n",
    "from fastai.vision.all import *\n",
    "from fastbook import *\n",
    "import graphviz\n",
    "matplotlib.rc('image', cmap='Greys')"
   ]
  },
  {
   "cell_type": "markdown",
   "metadata": {},
   "source": [
    "# Under the Hood: Training a Digit Classifier\n",
    "Create a model that can classify images of 3 or 7."
   ]
  },
  {
   "cell_type": "markdown",
   "metadata": {},
   "source": [
    "## Pixels: The Foundations of Computer Vision\n",
    "In order to understand what happens in a computer vision model, we first have to understand how computers handle images."
   ]
  },
  {
   "cell_type": "code",
   "execution_count": 3,
   "metadata": {},
   "outputs": [
    {
     "data": {
      "text/plain": [
       "'https://s3.amazonaws.com/fast-ai-sample/mnist_sample.tgz'"
      ]
     },
     "execution_count": 3,
     "metadata": {},
     "output_type": "execute_result"
    }
   ],
   "source": [
    "URLs.MNIST_SAMPLE\n",
    "#output: 'https://s3.amazonaws.com/fast-ai-sample/mnist_sample.tgz'"
   ]
  },
  {
   "cell_type": "markdown",
   "metadata": {},
   "source": [
    "> fastai: Function untar_data  \n",
    "Download and uncompress a file\n",
    "Docstring: Download `url` to `fname` if `dest` doesn't exist, and un-tgz or unzip to folder `dest`."
   ]
  },
  {
   "cell_type": "code",
   "execution_count": 4,
   "metadata": {},
   "outputs": [
    {
     "data": {
      "text/html": [],
      "text/plain": [
       "<IPython.core.display.HTML object>"
      ]
     },
     "metadata": {},
     "output_type": "display_data"
    },
    {
     "name": "stdout",
     "output_type": "stream",
     "text": [
      "Path:  /home/jupyter/.fastai/data/mnist_sample\n"
     ]
    }
   ],
   "source": [
    "#download a sample of just 3s and 7s\n",
    "path = untar_data(URLs.MNIST_SAMPLE) #class pathlib.PosixPath\n",
    "print(\"Path: \", path)"
   ]
  },
  {
   "cell_type": "markdown",
   "metadata": {},
   "source": [
    "> fastai: `ls`, a method added by fastai. This method returns an object of a special fastai class called `L`, which has all the same functionality of Python's built-in `list`, plus a lot more. "
   ]
  },
  {
   "cell_type": "code",
   "execution_count": 5,
   "metadata": {},
   "outputs": [
    {
     "data": {
      "text/plain": [
       "(#3) [Path('train'),Path('valid'),Path('labels.csv')]"
      ]
     },
     "execution_count": 5,
     "metadata": {},
     "output_type": "execute_result"
    }
   ],
   "source": [
    "#path is '.' because use BASE_PATH attribute of Path\n",
    "Path.BASE_PATH = path\n",
    "\n",
    "\n",
    "#doc(path.ls())\n",
    "path.ls() #returns a list, class fastcore.foundation.L"
   ]
  },
  {
   "cell_type": "markdown",
   "metadata": {},
   "source": [
    "Common layout for ML datasets: separate folders for train and validation (and/or) test sets."
   ]
  },
  {
   "cell_type": "code",
   "execution_count": 6,
   "metadata": {},
   "outputs": [
    {
     "data": {
      "text/plain": [
       "(#2) [Path('train/3'),Path('train/7')]"
      ]
     },
     "execution_count": 6,
     "metadata": {},
     "output_type": "execute_result"
    }
   ],
   "source": [
    "#look inside the the train set - a folder of 3s and a folder of 7s\n",
    "(path/'train').ls()"
   ]
  },
  {
   "cell_type": "code",
   "execution_count": 7,
   "metadata": {},
   "outputs": [
    {
     "data": {
      "text/plain": [
       "(#6131) [Path('train/3/10.png'),Path('train/3/10000.png'),Path('train/3/10011.png'),Path('train/3/10031.png'),Path('train/3/10034.png'),Path('train/3/10042.png'),Path('train/3/10052.png'),Path('train/3/1007.png'),Path('train/3/10074.png'),Path('train/3/10091.png')...]"
      ]
     },
     "execution_count": 7,
     "metadata": {},
     "output_type": "execute_result"
    }
   ],
   "source": [
    "#look inside folders - full of image files\n",
    "threes = (path/'train'/'3').ls().sorted()\n",
    "sevens = (path/'train'/'7').ls().sorted()\n",
    "threes"
   ]
  },
  {
   "cell_type": "markdown",
   "metadata": {},
   "source": [
    "> python: `Image` class from the Python Imaging Library (PIL), which is the most widely used Python package for opening, manipulating, and viewing images. Jupyter knows about PIL images, so it displays the image for us automatically."
   ]
  },
  {
   "cell_type": "code",
   "execution_count": 8,
   "metadata": {},
   "outputs": [
    {
     "name": "stdout",
     "output_type": "stream",
     "text": [
      "Type:  <class 'PIL.PngImagePlugin.PngImageFile'>\n"
     ]
    },
    {
     "data": {
      "image/png": "[encoded data removed]",
      "text/plain": [
       "<PIL.PngImagePlugin.PngImageFile image mode=L size=28x28 at 0x7F1252A75F50>"
      ]
     },
     "execution_count": 8,
     "metadata": {},
     "output_type": "execute_result"
    }
   ],
   "source": [
    "im3_path = threes[1]\n",
    "im3 = Image.open(im3_path)\n",
    "print(\"Type: \", type(im3))\n",
    "im3\n"
   ]
  },
  {
   "cell_type": "markdown",
   "metadata": {},
   "source": [
    "In a computer, everything is represented as a number. To view the numbers that make up this image, we have to convert it to a *NumPy array* or a *PyTorch tensor*. For instance, here's what a section of the image looks like, converted to a NumPy array:"
   ]
  },
  {
   "cell_type": "code",
   "execution_count": 9,
   "metadata": {},
   "outputs": [
    {
     "data": {
      "text/plain": [
       "array([[  0,   0,   0,   0,   0,   0],\n",
       "       [  0,   0,   0,   0,   0,  29],\n",
       "       [  0,   0,   0,  48, 166, 224],\n",
       "       [  0,  93, 244, 249, 253, 187],\n",
       "       [  0, 107, 253, 253, 230,  48],\n",
       "       [  0,   3,  20,  20,  15,   0]], dtype=uint8)"
      ]
     },
     "execution_count": 9,
     "metadata": {},
     "output_type": "execute_result"
    }
   ],
   "source": [
    "#numpy \n",
    "array(im3)[4:10,4:10]"
   ]
  },
  {
   "cell_type": "code",
   "execution_count": 10,
   "metadata": {},
   "outputs": [
    {
     "data": {
      "text/plain": [
       "tensor([[  0,   0,   0,   0,   0,   0],\n",
       "        [  0,   0,   0,   0,   0,  29],\n",
       "        [  0,   0,   0,  48, 166, 224],\n",
       "        [  0,  93, 244, 249, 253, 187],\n",
       "        [  0, 107, 253, 253, 230,  48],\n",
       "        [  0,   3,  20,  20,  15,   0]], dtype=torch.uint8)"
      ]
     },
     "execution_count": 10,
     "metadata": {},
     "output_type": "execute_result"
    }
   ],
   "source": [
    "#the same thing as a PyTorch tensor\n",
    "tensor(im3)[4:10,4:10]"
   ]
  },
  {
   "cell_type": "markdown",
   "metadata": {},
   "source": [
    "We slice the array to pick just the part with the top of the digit in it, and then use a Pandas DataFrame to color-code the values using a gradient, which shows us clearly how the image is created from the pixel values\n",
    "> pandas: background_gradient"
   ]
  },
  {
   "cell_type": "code",
   "execution_count": 11,
   "metadata": {},
   "outputs": [
    {
     "data": {
      "text/html": [
       "<style  type=\"text/css\" >\n",
       "#T_8f99bede_0065_11eb_80a7_42010a8a0003row0_col0,#T_8f99bede_0065_11eb_80a7_42010a8a0003row0_col1,#T_8f99bede_0065_11eb_80a7_42010a8a0003row0_col2,#T_8f99bede_0065_11eb_80a7_42010a8a0003row0_col3,#T_8f99bede_0065_11eb_80a7_42010a8a0003row0_col4,#T_8f99bede_0065_11eb_80a7_42010a8a0003row0_col5,#T_8f99bede_0065_11eb_80a7_42010a8a0003row0_col6,#T_8f99bede_0065_11eb_80a7_42010a8a0003row0_col7,#T_8f99bede_0065_11eb_80a7_42010a8a0003row0_col8,#T_8f99bede_0065_11eb_80a7_42010a8a0003row0_col9,#T_8f99bede_0065_11eb_80a7_42010a8a0003row0_col10,#T_8f99bede_0065_11eb_80a7_42010a8a0003row0_col11,#T_8f99bede_0065_11eb_80a7_42010a8a0003row0_col12,#T_8f99bede_0065_11eb_80a7_42010a8a0003row0_col13,#T_8f99bede_0065_11eb_80a7_42010a8a0003row0_col14,#T_8f99bede_0065_11eb_80a7_42010a8a0003row0_col15,#T_8f99bede_0065_11eb_80a7_42010a8a0003row0_col16,#T_8f99bede_0065_11eb_80a7_42010a8a0003row0_col17,#T_8f99bede_0065_11eb_80a7_42010a8a0003row1_col0,#T_8f99bede_0065_11eb_80a7_42010a8a0003row1_col1,#T_8f99bede_0065_11eb_80a7_42010a8a0003row1_col2,#T_8f99bede_0065_11eb_80a7_42010a8a0003row1_col3,#T_8f99bede_0065_11eb_80a7_42010a8a0003row1_col4,#T_8f99bede_0065_11eb_80a7_42010a8a0003row1_col15,#T_8f99bede_0065_11eb_80a7_42010a8a0003row1_col16,#T_8f99bede_0065_11eb_80a7_42010a8a0003row1_col17,#T_8f99bede_0065_11eb_80a7_42010a8a0003row2_col0,#T_8f99bede_0065_11eb_80a7_42010a8a0003row2_col1,#T_8f99bede_0065_11eb_80a7_42010a8a0003row2_col2,#T_8f99bede_0065_11eb_80a7_42010a8a0003row2_col15,#T_8f99bede_0065_11eb_80a7_42010a8a0003row2_col16,#T_8f99bede_0065_11eb_80a7_42010a8a0003row2_col17,#T_8f99bede_0065_11eb_80a7_42010a8a0003row3_col0,#T_8f99bede_0065_11eb_80a7_42010a8a0003row3_col15,#T_8f99bede_0065_11eb_80a7_42010a8a0003row3_col16,#T_8f99bede_0065_11eb_80a7_42010a8a0003row3_col17,#T_8f99bede_0065_11eb_80a7_42010a8a0003row4_col0,#T_8f99bede_0065_11eb_80a7_42010a8a0003row4_col6,#T_8f99bede_0065_11eb_80a7_42010a8a0003row4_col7,#T_8f99bede_0065_11eb_80a7_42010a8a0003row4_col8,#T_8f99bede_0065_11eb_80a7_42010a8a0003row4_col9,#T_8f99bede_0065_11eb_80a7_42010a8a0003row4_col10,#T_8f99bede_0065_11eb_80a7_42010a8a0003row4_col15,#T_8f99bede_0065_11eb_80a7_42010a8a0003row4_col16,#T_8f99bede_0065_11eb_80a7_42010a8a0003row4_col17,#T_8f99bede_0065_11eb_80a7_42010a8a0003row5_col0,#T_8f99bede_0065_11eb_80a7_42010a8a0003row5_col5,#T_8f99bede_0065_11eb_80a7_42010a8a0003row5_col6,#T_8f99bede_0065_11eb_80a7_42010a8a0003row5_col7,#T_8f99bede_0065_11eb_80a7_42010a8a0003row5_col8,#T_8f99bede_0065_11eb_80a7_42010a8a0003row5_col9,#T_8f99bede_0065_11eb_80a7_42010a8a0003row5_col15,#T_8f99bede_0065_11eb_80a7_42010a8a0003row5_col16,#T_8f99bede_0065_11eb_80a7_42010a8a0003row5_col17,#T_8f99bede_0065_11eb_80a7_42010a8a0003row6_col0,#T_8f99bede_0065_11eb_80a7_42010a8a0003row6_col1,#T_8f99bede_0065_11eb_80a7_42010a8a0003row6_col2,#T_8f99bede_0065_11eb_80a7_42010a8a0003row6_col3,#T_8f99bede_0065_11eb_80a7_42010a8a0003row6_col4,#T_8f99bede_0065_11eb_80a7_42010a8a0003row6_col5,#T_8f99bede_0065_11eb_80a7_42010a8a0003row6_col6,#T_8f99bede_0065_11eb_80a7_42010a8a0003row6_col7,#T_8f99bede_0065_11eb_80a7_42010a8a0003row6_col8,#T_8f99bede_0065_11eb_80a7_42010a8a0003row6_col9,#T_8f99bede_0065_11eb_80a7_42010a8a0003row6_col14,#T_8f99bede_0065_11eb_80a7_42010a8a0003row6_col15,#T_8f99bede_0065_11eb_80a7_42010a8a0003row6_col16,#T_8f99bede_0065_11eb_80a7_42010a8a0003row6_col17,#T_8f99bede_0065_11eb_80a7_42010a8a0003row7_col0,#T_8f99bede_0065_11eb_80a7_42010a8a0003row7_col1,#T_8f99bede_0065_11eb_80a7_42010a8a0003row7_col2,#T_8f99bede_0065_11eb_80a7_42010a8a0003row7_col3,#T_8f99bede_0065_11eb_80a7_42010a8a0003row7_col4,#T_8f99bede_0065_11eb_80a7_42010a8a0003row7_col5,#T_8f99bede_0065_11eb_80a7_42010a8a0003row7_col6,#T_8f99bede_0065_11eb_80a7_42010a8a0003row7_col13,#T_8f99bede_0065_11eb_80a7_42010a8a0003row7_col14,#T_8f99bede_0065_11eb_80a7_42010a8a0003row7_col15,#T_8f99bede_0065_11eb_80a7_42010a8a0003row7_col16,#T_8f99bede_0065_11eb_80a7_42010a8a0003row7_col17,#T_8f99bede_0065_11eb_80a7_42010a8a0003row8_col0,#T_8f99bede_0065_11eb_80a7_42010a8a0003row8_col1,#T_8f99bede_0065_11eb_80a7_42010a8a0003row8_col2,#T_8f99bede_0065_11eb_80a7_42010a8a0003row8_col3,#T_8f99bede_0065_11eb_80a7_42010a8a0003row8_col4,#T_8f99bede_0065_11eb_80a7_42010a8a0003row8_col13,#T_8f99bede_0065_11eb_80a7_42010a8a0003row8_col14,#T_8f99bede_0065_11eb_80a7_42010a8a0003row8_col15,#T_8f99bede_0065_11eb_80a7_42010a8a0003row8_col16,#T_8f99bede_0065_11eb_80a7_42010a8a0003row8_col17,#T_8f99bede_0065_11eb_80a7_42010a8a0003row9_col0,#T_8f99bede_0065_11eb_80a7_42010a8a0003row9_col1,#T_8f99bede_0065_11eb_80a7_42010a8a0003row9_col2,#T_8f99bede_0065_11eb_80a7_42010a8a0003row9_col3,#T_8f99bede_0065_11eb_80a7_42010a8a0003row9_col4,#T_8f99bede_0065_11eb_80a7_42010a8a0003row9_col16,#T_8f99bede_0065_11eb_80a7_42010a8a0003row9_col17,#T_8f99bede_0065_11eb_80a7_42010a8a0003row10_col0,#T_8f99bede_0065_11eb_80a7_42010a8a0003row10_col1,#T_8f99bede_0065_11eb_80a7_42010a8a0003row10_col2,#T_8f99bede_0065_11eb_80a7_42010a8a0003row10_col3,#T_8f99bede_0065_11eb_80a7_42010a8a0003row10_col4,#T_8f99bede_0065_11eb_80a7_42010a8a0003row10_col5,#T_8f99bede_0065_11eb_80a7_42010a8a0003row10_col6,#T_8f99bede_0065_11eb_80a7_42010a8a0003row10_col17{\n",
       "            font-size:  6pt;\n",
       "            background-color:  #ffffff;\n",
       "            color:  #000000;\n",
       "        }#T_8f99bede_0065_11eb_80a7_42010a8a0003row1_col5{\n",
       "            font-size:  6pt;\n",
       "            background-color:  #efefef;\n",
       "            color:  #000000;\n",
       "        }#T_8f99bede_0065_11eb_80a7_42010a8a0003row1_col6,#T_8f99bede_0065_11eb_80a7_42010a8a0003row1_col13{\n",
       "            font-size:  6pt;\n",
       "            background-color:  #7c7c7c;\n",
       "            color:  #000000;\n",
       "        }#T_8f99bede_0065_11eb_80a7_42010a8a0003row1_col7{\n",
       "            font-size:  6pt;\n",
       "            background-color:  #4a4a4a;\n",
       "            color:  #f1f1f1;\n",
       "        }#T_8f99bede_0065_11eb_80a7_42010a8a0003row1_col8,#T_8f99bede_0065_11eb_80a7_42010a8a0003row1_col9,#T_8f99bede_0065_11eb_80a7_42010a8a0003row1_col10,#T_8f99bede_0065_11eb_80a7_42010a8a0003row2_col5,#T_8f99bede_0065_11eb_80a7_42010a8a0003row2_col6,#T_8f99bede_0065_11eb_80a7_42010a8a0003row2_col7,#T_8f99bede_0065_11eb_80a7_42010a8a0003row2_col11,#T_8f99bede_0065_11eb_80a7_42010a8a0003row2_col12,#T_8f99bede_0065_11eb_80a7_42010a8a0003row2_col13,#T_8f99bede_0065_11eb_80a7_42010a8a0003row3_col4,#T_8f99bede_0065_11eb_80a7_42010a8a0003row3_col12,#T_8f99bede_0065_11eb_80a7_42010a8a0003row3_col13,#T_8f99bede_0065_11eb_80a7_42010a8a0003row4_col1,#T_8f99bede_0065_11eb_80a7_42010a8a0003row4_col2,#T_8f99bede_0065_11eb_80a7_42010a8a0003row4_col3,#T_8f99bede_0065_11eb_80a7_42010a8a0003row4_col12,#T_8f99bede_0065_11eb_80a7_42010a8a0003row4_col13,#T_8f99bede_0065_11eb_80a7_42010a8a0003row5_col12,#T_8f99bede_0065_11eb_80a7_42010a8a0003row6_col11,#T_8f99bede_0065_11eb_80a7_42010a8a0003row9_col11,#T_8f99bede_0065_11eb_80a7_42010a8a0003row10_col11,#T_8f99bede_0065_11eb_80a7_42010a8a0003row10_col12,#T_8f99bede_0065_11eb_80a7_42010a8a0003row10_col13,#T_8f99bede_0065_11eb_80a7_42010a8a0003row10_col14,#T_8f99bede_0065_11eb_80a7_42010a8a0003row10_col15,#T_8f99bede_0065_11eb_80a7_42010a8a0003row10_col16{\n",
       "            font-size:  6pt;\n",
       "            background-color:  #000000;\n",
       "            color:  #f1f1f1;\n",
       "        }#T_8f99bede_0065_11eb_80a7_42010a8a0003row1_col11{\n",
       "            font-size:  6pt;\n",
       "            background-color:  #606060;\n",
       "            color:  #f1f1f1;\n",
       "        }#T_8f99bede_0065_11eb_80a7_42010a8a0003row1_col12{\n",
       "            font-size:  6pt;\n",
       "            background-color:  #4d4d4d;\n",
       "            color:  #f1f1f1;\n",
       "        }#T_8f99bede_0065_11eb_80a7_42010a8a0003row1_col14{\n",
       "            font-size:  6pt;\n",
       "            background-color:  #bbbbbb;\n",
       "            color:  #000000;\n",
       "        }#T_8f99bede_0065_11eb_80a7_42010a8a0003row2_col3{\n",
       "            font-size:  6pt;\n",
       "            background-color:  #e4e4e4;\n",
       "            color:  #000000;\n",
       "        }#T_8f99bede_0065_11eb_80a7_42010a8a0003row2_col4,#T_8f99bede_0065_11eb_80a7_42010a8a0003row8_col6{\n",
       "            font-size:  6pt;\n",
       "            background-color:  #6b6b6b;\n",
       "            color:  #000000;\n",
       "        }#T_8f99bede_0065_11eb_80a7_42010a8a0003row2_col8,#T_8f99bede_0065_11eb_80a7_42010a8a0003row2_col14,#T_8f99bede_0065_11eb_80a7_42010a8a0003row3_col14{\n",
       "            font-size:  6pt;\n",
       "            background-color:  #171717;\n",
       "            color:  #f1f1f1;\n",
       "        }#T_8f99bede_0065_11eb_80a7_42010a8a0003row2_col9,#T_8f99bede_0065_11eb_80a7_42010a8a0003row3_col11{\n",
       "            font-size:  6pt;\n",
       "            background-color:  #4b4b4b;\n",
       "            color:  #f1f1f1;\n",
       "        }#T_8f99bede_0065_11eb_80a7_42010a8a0003row2_col10,#T_8f99bede_0065_11eb_80a7_42010a8a0003row7_col10,#T_8f99bede_0065_11eb_80a7_42010a8a0003row8_col8,#T_8f99bede_0065_11eb_80a7_42010a8a0003row8_col10,#T_8f99bede_0065_11eb_80a7_42010a8a0003row9_col8,#T_8f99bede_0065_11eb_80a7_42010a8a0003row9_col10{\n",
       "            font-size:  6pt;\n",
       "            background-color:  #010101;\n",
       "            color:  #f1f1f1;\n",
       "        }#T_8f99bede_0065_11eb_80a7_42010a8a0003row3_col1{\n",
       "            font-size:  6pt;\n",
       "            background-color:  #272727;\n",
       "            color:  #f1f1f1;\n",
       "        }#T_8f99bede_0065_11eb_80a7_42010a8a0003row3_col2{\n",
       "            font-size:  6pt;\n",
       "            background-color:  #0a0a0a;\n",
       "            color:  #f1f1f1;\n",
       "        }#T_8f99bede_0065_11eb_80a7_42010a8a0003row3_col3{\n",
       "            font-size:  6pt;\n",
       "            background-color:  #050505;\n",
       "            color:  #f1f1f1;\n",
       "        }#T_8f99bede_0065_11eb_80a7_42010a8a0003row3_col5{\n",
       "            font-size:  6pt;\n",
       "            background-color:  #333333;\n",
       "            color:  #f1f1f1;\n",
       "        }#T_8f99bede_0065_11eb_80a7_42010a8a0003row3_col6{\n",
       "            font-size:  6pt;\n",
       "            background-color:  #e6e6e6;\n",
       "            color:  #000000;\n",
       "        }#T_8f99bede_0065_11eb_80a7_42010a8a0003row3_col7,#T_8f99bede_0065_11eb_80a7_42010a8a0003row3_col10{\n",
       "            font-size:  6pt;\n",
       "            background-color:  #fafafa;\n",
       "            color:  #000000;\n",
       "        }#T_8f99bede_0065_11eb_80a7_42010a8a0003row3_col8{\n",
       "            font-size:  6pt;\n",
       "            background-color:  #fbfbfb;\n",
       "            color:  #000000;\n",
       "        }#T_8f99bede_0065_11eb_80a7_42010a8a0003row3_col9{\n",
       "            font-size:  6pt;\n",
       "            background-color:  #fdfdfd;\n",
       "            color:  #000000;\n",
       "        }#T_8f99bede_0065_11eb_80a7_42010a8a0003row4_col4{\n",
       "            font-size:  6pt;\n",
       "            background-color:  #1b1b1b;\n",
       "            color:  #f1f1f1;\n",
       "        }#T_8f99bede_0065_11eb_80a7_42010a8a0003row4_col5{\n",
       "            font-size:  6pt;\n",
       "            background-color:  #e0e0e0;\n",
       "            color:  #000000;\n",
       "        }#T_8f99bede_0065_11eb_80a7_42010a8a0003row4_col11{\n",
       "            font-size:  6pt;\n",
       "            background-color:  #4e4e4e;\n",
       "            color:  #f1f1f1;\n",
       "        }#T_8f99bede_0065_11eb_80a7_42010a8a0003row4_col14{\n",
       "            font-size:  6pt;\n",
       "            background-color:  #767676;\n",
       "            color:  #000000;\n",
       "        }#T_8f99bede_0065_11eb_80a7_42010a8a0003row5_col1{\n",
       "            font-size:  6pt;\n",
       "            background-color:  #fcfcfc;\n",
       "            color:  #000000;\n",
       "        }#T_8f99bede_0065_11eb_80a7_42010a8a0003row5_col2,#T_8f99bede_0065_11eb_80a7_42010a8a0003row5_col3{\n",
       "            font-size:  6pt;\n",
       "            background-color:  #f6f6f6;\n",
       "            color:  #000000;\n",
       "        }#T_8f99bede_0065_11eb_80a7_42010a8a0003row5_col4,#T_8f99bede_0065_11eb_80a7_42010a8a0003row7_col7{\n",
       "            font-size:  6pt;\n",
       "            background-color:  #f8f8f8;\n",
       "            color:  #000000;\n",
       "        }#T_8f99bede_0065_11eb_80a7_42010a8a0003row5_col10,#T_8f99bede_0065_11eb_80a7_42010a8a0003row10_col7{\n",
       "            font-size:  6pt;\n",
       "            background-color:  #e8e8e8;\n",
       "            color:  #000000;\n",
       "        }#T_8f99bede_0065_11eb_80a7_42010a8a0003row5_col11{\n",
       "            font-size:  6pt;\n",
       "            background-color:  #222222;\n",
       "            color:  #f1f1f1;\n",
       "        }#T_8f99bede_0065_11eb_80a7_42010a8a0003row5_col13,#T_8f99bede_0065_11eb_80a7_42010a8a0003row6_col12{\n",
       "            font-size:  6pt;\n",
       "            background-color:  #090909;\n",
       "            color:  #f1f1f1;\n",
       "        }#T_8f99bede_0065_11eb_80a7_42010a8a0003row5_col14{\n",
       "            font-size:  6pt;\n",
       "            background-color:  #d0d0d0;\n",
       "            color:  #000000;\n",
       "        }#T_8f99bede_0065_11eb_80a7_42010a8a0003row6_col10,#T_8f99bede_0065_11eb_80a7_42010a8a0003row7_col11,#T_8f99bede_0065_11eb_80a7_42010a8a0003row9_col6{\n",
       "            font-size:  6pt;\n",
       "            background-color:  #060606;\n",
       "            color:  #f1f1f1;\n",
       "        }#T_8f99bede_0065_11eb_80a7_42010a8a0003row6_col13{\n",
       "            font-size:  6pt;\n",
       "            background-color:  #979797;\n",
       "            color:  #000000;\n",
       "        }#T_8f99bede_0065_11eb_80a7_42010a8a0003row7_col8{\n",
       "            font-size:  6pt;\n",
       "            background-color:  #b6b6b6;\n",
       "            color:  #000000;\n",
       "        }#T_8f99bede_0065_11eb_80a7_42010a8a0003row7_col9{\n",
       "            font-size:  6pt;\n",
       "            background-color:  #252525;\n",
       "            color:  #f1f1f1;\n",
       "        }#T_8f99bede_0065_11eb_80a7_42010a8a0003row7_col12{\n",
       "            font-size:  6pt;\n",
       "            background-color:  #999999;\n",
       "            color:  #000000;\n",
       "        }#T_8f99bede_0065_11eb_80a7_42010a8a0003row8_col5{\n",
       "            font-size:  6pt;\n",
       "            background-color:  #f9f9f9;\n",
       "            color:  #000000;\n",
       "        }#T_8f99bede_0065_11eb_80a7_42010a8a0003row8_col7{\n",
       "            font-size:  6pt;\n",
       "            background-color:  #101010;\n",
       "            color:  #f1f1f1;\n",
       "        }#T_8f99bede_0065_11eb_80a7_42010a8a0003row8_col9,#T_8f99bede_0065_11eb_80a7_42010a8a0003row9_col9{\n",
       "            font-size:  6pt;\n",
       "            background-color:  #020202;\n",
       "            color:  #f1f1f1;\n",
       "        }#T_8f99bede_0065_11eb_80a7_42010a8a0003row8_col11{\n",
       "            font-size:  6pt;\n",
       "            background-color:  #545454;\n",
       "            color:  #f1f1f1;\n",
       "        }#T_8f99bede_0065_11eb_80a7_42010a8a0003row8_col12{\n",
       "            font-size:  6pt;\n",
       "            background-color:  #f1f1f1;\n",
       "            color:  #000000;\n",
       "        }#T_8f99bede_0065_11eb_80a7_42010a8a0003row9_col5{\n",
       "            font-size:  6pt;\n",
       "            background-color:  #f7f7f7;\n",
       "            color:  #000000;\n",
       "        }#T_8f99bede_0065_11eb_80a7_42010a8a0003row9_col7{\n",
       "            font-size:  6pt;\n",
       "            background-color:  #030303;\n",
       "            color:  #f1f1f1;\n",
       "        }#T_8f99bede_0065_11eb_80a7_42010a8a0003row9_col12{\n",
       "            font-size:  6pt;\n",
       "            background-color:  #181818;\n",
       "            color:  #f1f1f1;\n",
       "        }#T_8f99bede_0065_11eb_80a7_42010a8a0003row9_col13{\n",
       "            font-size:  6pt;\n",
       "            background-color:  #303030;\n",
       "            color:  #f1f1f1;\n",
       "        }#T_8f99bede_0065_11eb_80a7_42010a8a0003row9_col14{\n",
       "            font-size:  6pt;\n",
       "            background-color:  #a9a9a9;\n",
       "            color:  #000000;\n",
       "        }#T_8f99bede_0065_11eb_80a7_42010a8a0003row9_col15{\n",
       "            font-size:  6pt;\n",
       "            background-color:  #fefefe;\n",
       "            color:  #000000;\n",
       "        }#T_8f99bede_0065_11eb_80a7_42010a8a0003row10_col8,#T_8f99bede_0065_11eb_80a7_42010a8a0003row10_col9{\n",
       "            font-size:  6pt;\n",
       "            background-color:  #bababa;\n",
       "            color:  #000000;\n",
       "        }#T_8f99bede_0065_11eb_80a7_42010a8a0003row10_col10{\n",
       "            font-size:  6pt;\n",
       "            background-color:  #393939;\n",
       "            color:  #f1f1f1;\n",
       "        }</style><table id=\"T_8f99bede_0065_11eb_80a7_42010a8a0003\" ><thead>    <tr>        <th class=\"blank level0\" ></th>        <th class=\"col_heading level0 col0\" >0</th>        <th class=\"col_heading level0 col1\" >1</th>        <th class=\"col_heading level0 col2\" >2</th>        <th class=\"col_heading level0 col3\" >3</th>        <th class=\"col_heading level0 col4\" >4</th>        <th class=\"col_heading level0 col5\" >5</th>        <th class=\"col_heading level0 col6\" >6</th>        <th class=\"col_heading level0 col7\" >7</th>        <th class=\"col_heading level0 col8\" >8</th>        <th class=\"col_heading level0 col9\" >9</th>        <th class=\"col_heading level0 col10\" >10</th>        <th class=\"col_heading level0 col11\" >11</th>        <th class=\"col_heading level0 col12\" >12</th>        <th class=\"col_heading level0 col13\" >13</th>        <th class=\"col_heading level0 col14\" >14</th>        <th class=\"col_heading level0 col15\" >15</th>        <th class=\"col_heading level0 col16\" >16</th>        <th class=\"col_heading level0 col17\" >17</th>    </tr></thead><tbody>\n",
       "                <tr>\n",
       "                        <th id=\"T_8f99bede_0065_11eb_80a7_42010a8a0003level0_row0\" class=\"row_heading level0 row0\" >0</th>\n",
       "                        <td id=\"T_8f99bede_0065_11eb_80a7_42010a8a0003row0_col0\" class=\"data row0 col0\" >0</td>\n",
       "                        <td id=\"T_8f99bede_0065_11eb_80a7_42010a8a0003row0_col1\" class=\"data row0 col1\" >0</td>\n",
       "                        <td id=\"T_8f99bede_0065_11eb_80a7_42010a8a0003row0_col2\" class=\"data row0 col2\" >0</td>\n",
       "                        <td id=\"T_8f99bede_0065_11eb_80a7_42010a8a0003row0_col3\" class=\"data row0 col3\" >0</td>\n",
       "                        <td id=\"T_8f99bede_0065_11eb_80a7_42010a8a0003row0_col4\" class=\"data row0 col4\" >0</td>\n",
       "                        <td id=\"T_8f99bede_0065_11eb_80a7_42010a8a0003row0_col5\" class=\"data row0 col5\" >0</td>\n",
       "                        <td id=\"T_8f99bede_0065_11eb_80a7_42010a8a0003row0_col6\" class=\"data row0 col6\" >0</td>\n",
       "                        <td id=\"T_8f99bede_0065_11eb_80a7_42010a8a0003row0_col7\" class=\"data row0 col7\" >0</td>\n",
       "                        <td id=\"T_8f99bede_0065_11eb_80a7_42010a8a0003row0_col8\" class=\"data row0 col8\" >0</td>\n",
       "                        <td id=\"T_8f99bede_0065_11eb_80a7_42010a8a0003row0_col9\" class=\"data row0 col9\" >0</td>\n",
       "                        <td id=\"T_8f99bede_0065_11eb_80a7_42010a8a0003row0_col10\" class=\"data row0 col10\" >0</td>\n",
       "                        <td id=\"T_8f99bede_0065_11eb_80a7_42010a8a0003row0_col11\" class=\"data row0 col11\" >0</td>\n",
       "                        <td id=\"T_8f99bede_0065_11eb_80a7_42010a8a0003row0_col12\" class=\"data row0 col12\" >0</td>\n",
       "                        <td id=\"T_8f99bede_0065_11eb_80a7_42010a8a0003row0_col13\" class=\"data row0 col13\" >0</td>\n",
       "                        <td id=\"T_8f99bede_0065_11eb_80a7_42010a8a0003row0_col14\" class=\"data row0 col14\" >0</td>\n",
       "                        <td id=\"T_8f99bede_0065_11eb_80a7_42010a8a0003row0_col15\" class=\"data row0 col15\" >0</td>\n",
       "                        <td id=\"T_8f99bede_0065_11eb_80a7_42010a8a0003row0_col16\" class=\"data row0 col16\" >0</td>\n",
       "                        <td id=\"T_8f99bede_0065_11eb_80a7_42010a8a0003row0_col17\" class=\"data row0 col17\" >0</td>\n",
       "            </tr>\n",
       "            <tr>\n",
       "                        <th id=\"T_8f99bede_0065_11eb_80a7_42010a8a0003level0_row1\" class=\"row_heading level0 row1\" >1</th>\n",
       "                        <td id=\"T_8f99bede_0065_11eb_80a7_42010a8a0003row1_col0\" class=\"data row1 col0\" >0</td>\n",
       "                        <td id=\"T_8f99bede_0065_11eb_80a7_42010a8a0003row1_col1\" class=\"data row1 col1\" >0</td>\n",
       "                        <td id=\"T_8f99bede_0065_11eb_80a7_42010a8a0003row1_col2\" class=\"data row1 col2\" >0</td>\n",
       "                        <td id=\"T_8f99bede_0065_11eb_80a7_42010a8a0003row1_col3\" class=\"data row1 col3\" >0</td>\n",
       "                        <td id=\"T_8f99bede_0065_11eb_80a7_42010a8a0003row1_col4\" class=\"data row1 col4\" >0</td>\n",
       "                        <td id=\"T_8f99bede_0065_11eb_80a7_42010a8a0003row1_col5\" class=\"data row1 col5\" >29</td>\n",
       "                        <td id=\"T_8f99bede_0065_11eb_80a7_42010a8a0003row1_col6\" class=\"data row1 col6\" >150</td>\n",
       "                        <td id=\"T_8f99bede_0065_11eb_80a7_42010a8a0003row1_col7\" class=\"data row1 col7\" >195</td>\n",
       "                        <td id=\"T_8f99bede_0065_11eb_80a7_42010a8a0003row1_col8\" class=\"data row1 col8\" >254</td>\n",
       "                        <td id=\"T_8f99bede_0065_11eb_80a7_42010a8a0003row1_col9\" class=\"data row1 col9\" >255</td>\n",
       "                        <td id=\"T_8f99bede_0065_11eb_80a7_42010a8a0003row1_col10\" class=\"data row1 col10\" >254</td>\n",
       "                        <td id=\"T_8f99bede_0065_11eb_80a7_42010a8a0003row1_col11\" class=\"data row1 col11\" >176</td>\n",
       "                        <td id=\"T_8f99bede_0065_11eb_80a7_42010a8a0003row1_col12\" class=\"data row1 col12\" >193</td>\n",
       "                        <td id=\"T_8f99bede_0065_11eb_80a7_42010a8a0003row1_col13\" class=\"data row1 col13\" >150</td>\n",
       "                        <td id=\"T_8f99bede_0065_11eb_80a7_42010a8a0003row1_col14\" class=\"data row1 col14\" >96</td>\n",
       "                        <td id=\"T_8f99bede_0065_11eb_80a7_42010a8a0003row1_col15\" class=\"data row1 col15\" >0</td>\n",
       "                        <td id=\"T_8f99bede_0065_11eb_80a7_42010a8a0003row1_col16\" class=\"data row1 col16\" >0</td>\n",
       "                        <td id=\"T_8f99bede_0065_11eb_80a7_42010a8a0003row1_col17\" class=\"data row1 col17\" >0</td>\n",
       "            </tr>\n",
       "            <tr>\n",
       "                        <th id=\"T_8f99bede_0065_11eb_80a7_42010a8a0003level0_row2\" class=\"row_heading level0 row2\" >2</th>\n",
       "                        <td id=\"T_8f99bede_0065_11eb_80a7_42010a8a0003row2_col0\" class=\"data row2 col0\" >0</td>\n",
       "                        <td id=\"T_8f99bede_0065_11eb_80a7_42010a8a0003row2_col1\" class=\"data row2 col1\" >0</td>\n",
       "                        <td id=\"T_8f99bede_0065_11eb_80a7_42010a8a0003row2_col2\" class=\"data row2 col2\" >0</td>\n",
       "                        <td id=\"T_8f99bede_0065_11eb_80a7_42010a8a0003row2_col3\" class=\"data row2 col3\" >48</td>\n",
       "                        <td id=\"T_8f99bede_0065_11eb_80a7_42010a8a0003row2_col4\" class=\"data row2 col4\" >166</td>\n",
       "                        <td id=\"T_8f99bede_0065_11eb_80a7_42010a8a0003row2_col5\" class=\"data row2 col5\" >224</td>\n",
       "                        <td id=\"T_8f99bede_0065_11eb_80a7_42010a8a0003row2_col6\" class=\"data row2 col6\" >253</td>\n",
       "                        <td id=\"T_8f99bede_0065_11eb_80a7_42010a8a0003row2_col7\" class=\"data row2 col7\" >253</td>\n",
       "                        <td id=\"T_8f99bede_0065_11eb_80a7_42010a8a0003row2_col8\" class=\"data row2 col8\" >234</td>\n",
       "                        <td id=\"T_8f99bede_0065_11eb_80a7_42010a8a0003row2_col9\" class=\"data row2 col9\" >196</td>\n",
       "                        <td id=\"T_8f99bede_0065_11eb_80a7_42010a8a0003row2_col10\" class=\"data row2 col10\" >253</td>\n",
       "                        <td id=\"T_8f99bede_0065_11eb_80a7_42010a8a0003row2_col11\" class=\"data row2 col11\" >253</td>\n",
       "                        <td id=\"T_8f99bede_0065_11eb_80a7_42010a8a0003row2_col12\" class=\"data row2 col12\" >253</td>\n",
       "                        <td id=\"T_8f99bede_0065_11eb_80a7_42010a8a0003row2_col13\" class=\"data row2 col13\" >253</td>\n",
       "                        <td id=\"T_8f99bede_0065_11eb_80a7_42010a8a0003row2_col14\" class=\"data row2 col14\" >233</td>\n",
       "                        <td id=\"T_8f99bede_0065_11eb_80a7_42010a8a0003row2_col15\" class=\"data row2 col15\" >0</td>\n",
       "                        <td id=\"T_8f99bede_0065_11eb_80a7_42010a8a0003row2_col16\" class=\"data row2 col16\" >0</td>\n",
       "                        <td id=\"T_8f99bede_0065_11eb_80a7_42010a8a0003row2_col17\" class=\"data row2 col17\" >0</td>\n",
       "            </tr>\n",
       "            <tr>\n",
       "                        <th id=\"T_8f99bede_0065_11eb_80a7_42010a8a0003level0_row3\" class=\"row_heading level0 row3\" >3</th>\n",
       "                        <td id=\"T_8f99bede_0065_11eb_80a7_42010a8a0003row3_col0\" class=\"data row3 col0\" >0</td>\n",
       "                        <td id=\"T_8f99bede_0065_11eb_80a7_42010a8a0003row3_col1\" class=\"data row3 col1\" >93</td>\n",
       "                        <td id=\"T_8f99bede_0065_11eb_80a7_42010a8a0003row3_col2\" class=\"data row3 col2\" >244</td>\n",
       "                        <td id=\"T_8f99bede_0065_11eb_80a7_42010a8a0003row3_col3\" class=\"data row3 col3\" >249</td>\n",
       "                        <td id=\"T_8f99bede_0065_11eb_80a7_42010a8a0003row3_col4\" class=\"data row3 col4\" >253</td>\n",
       "                        <td id=\"T_8f99bede_0065_11eb_80a7_42010a8a0003row3_col5\" class=\"data row3 col5\" >187</td>\n",
       "                        <td id=\"T_8f99bede_0065_11eb_80a7_42010a8a0003row3_col6\" class=\"data row3 col6\" >46</td>\n",
       "                        <td id=\"T_8f99bede_0065_11eb_80a7_42010a8a0003row3_col7\" class=\"data row3 col7\" >10</td>\n",
       "                        <td id=\"T_8f99bede_0065_11eb_80a7_42010a8a0003row3_col8\" class=\"data row3 col8\" >8</td>\n",
       "                        <td id=\"T_8f99bede_0065_11eb_80a7_42010a8a0003row3_col9\" class=\"data row3 col9\" >4</td>\n",
       "                        <td id=\"T_8f99bede_0065_11eb_80a7_42010a8a0003row3_col10\" class=\"data row3 col10\" >10</td>\n",
       "                        <td id=\"T_8f99bede_0065_11eb_80a7_42010a8a0003row3_col11\" class=\"data row3 col11\" >194</td>\n",
       "                        <td id=\"T_8f99bede_0065_11eb_80a7_42010a8a0003row3_col12\" class=\"data row3 col12\" >253</td>\n",
       "                        <td id=\"T_8f99bede_0065_11eb_80a7_42010a8a0003row3_col13\" class=\"data row3 col13\" >253</td>\n",
       "                        <td id=\"T_8f99bede_0065_11eb_80a7_42010a8a0003row3_col14\" class=\"data row3 col14\" >233</td>\n",
       "                        <td id=\"T_8f99bede_0065_11eb_80a7_42010a8a0003row3_col15\" class=\"data row3 col15\" >0</td>\n",
       "                        <td id=\"T_8f99bede_0065_11eb_80a7_42010a8a0003row3_col16\" class=\"data row3 col16\" >0</td>\n",
       "                        <td id=\"T_8f99bede_0065_11eb_80a7_42010a8a0003row3_col17\" class=\"data row3 col17\" >0</td>\n",
       "            </tr>\n",
       "            <tr>\n",
       "                        <th id=\"T_8f99bede_0065_11eb_80a7_42010a8a0003level0_row4\" class=\"row_heading level0 row4\" >4</th>\n",
       "                        <td id=\"T_8f99bede_0065_11eb_80a7_42010a8a0003row4_col0\" class=\"data row4 col0\" >0</td>\n",
       "                        <td id=\"T_8f99bede_0065_11eb_80a7_42010a8a0003row4_col1\" class=\"data row4 col1\" >107</td>\n",
       "                        <td id=\"T_8f99bede_0065_11eb_80a7_42010a8a0003row4_col2\" class=\"data row4 col2\" >253</td>\n",
       "                        <td id=\"T_8f99bede_0065_11eb_80a7_42010a8a0003row4_col3\" class=\"data row4 col3\" >253</td>\n",
       "                        <td id=\"T_8f99bede_0065_11eb_80a7_42010a8a0003row4_col4\" class=\"data row4 col4\" >230</td>\n",
       "                        <td id=\"T_8f99bede_0065_11eb_80a7_42010a8a0003row4_col5\" class=\"data row4 col5\" >48</td>\n",
       "                        <td id=\"T_8f99bede_0065_11eb_80a7_42010a8a0003row4_col6\" class=\"data row4 col6\" >0</td>\n",
       "                        <td id=\"T_8f99bede_0065_11eb_80a7_42010a8a0003row4_col7\" class=\"data row4 col7\" >0</td>\n",
       "                        <td id=\"T_8f99bede_0065_11eb_80a7_42010a8a0003row4_col8\" class=\"data row4 col8\" >0</td>\n",
       "                        <td id=\"T_8f99bede_0065_11eb_80a7_42010a8a0003row4_col9\" class=\"data row4 col9\" >0</td>\n",
       "                        <td id=\"T_8f99bede_0065_11eb_80a7_42010a8a0003row4_col10\" class=\"data row4 col10\" >0</td>\n",
       "                        <td id=\"T_8f99bede_0065_11eb_80a7_42010a8a0003row4_col11\" class=\"data row4 col11\" >192</td>\n",
       "                        <td id=\"T_8f99bede_0065_11eb_80a7_42010a8a0003row4_col12\" class=\"data row4 col12\" >253</td>\n",
       "                        <td id=\"T_8f99bede_0065_11eb_80a7_42010a8a0003row4_col13\" class=\"data row4 col13\" >253</td>\n",
       "                        <td id=\"T_8f99bede_0065_11eb_80a7_42010a8a0003row4_col14\" class=\"data row4 col14\" >156</td>\n",
       "                        <td id=\"T_8f99bede_0065_11eb_80a7_42010a8a0003row4_col15\" class=\"data row4 col15\" >0</td>\n",
       "                        <td id=\"T_8f99bede_0065_11eb_80a7_42010a8a0003row4_col16\" class=\"data row4 col16\" >0</td>\n",
       "                        <td id=\"T_8f99bede_0065_11eb_80a7_42010a8a0003row4_col17\" class=\"data row4 col17\" >0</td>\n",
       "            </tr>\n",
       "            <tr>\n",
       "                        <th id=\"T_8f99bede_0065_11eb_80a7_42010a8a0003level0_row5\" class=\"row_heading level0 row5\" >5</th>\n",
       "                        <td id=\"T_8f99bede_0065_11eb_80a7_42010a8a0003row5_col0\" class=\"data row5 col0\" >0</td>\n",
       "                        <td id=\"T_8f99bede_0065_11eb_80a7_42010a8a0003row5_col1\" class=\"data row5 col1\" >3</td>\n",
       "                        <td id=\"T_8f99bede_0065_11eb_80a7_42010a8a0003row5_col2\" class=\"data row5 col2\" >20</td>\n",
       "                        <td id=\"T_8f99bede_0065_11eb_80a7_42010a8a0003row5_col3\" class=\"data row5 col3\" >20</td>\n",
       "                        <td id=\"T_8f99bede_0065_11eb_80a7_42010a8a0003row5_col4\" class=\"data row5 col4\" >15</td>\n",
       "                        <td id=\"T_8f99bede_0065_11eb_80a7_42010a8a0003row5_col5\" class=\"data row5 col5\" >0</td>\n",
       "                        <td id=\"T_8f99bede_0065_11eb_80a7_42010a8a0003row5_col6\" class=\"data row5 col6\" >0</td>\n",
       "                        <td id=\"T_8f99bede_0065_11eb_80a7_42010a8a0003row5_col7\" class=\"data row5 col7\" >0</td>\n",
       "                        <td id=\"T_8f99bede_0065_11eb_80a7_42010a8a0003row5_col8\" class=\"data row5 col8\" >0</td>\n",
       "                        <td id=\"T_8f99bede_0065_11eb_80a7_42010a8a0003row5_col9\" class=\"data row5 col9\" >0</td>\n",
       "                        <td id=\"T_8f99bede_0065_11eb_80a7_42010a8a0003row5_col10\" class=\"data row5 col10\" >43</td>\n",
       "                        <td id=\"T_8f99bede_0065_11eb_80a7_42010a8a0003row5_col11\" class=\"data row5 col11\" >224</td>\n",
       "                        <td id=\"T_8f99bede_0065_11eb_80a7_42010a8a0003row5_col12\" class=\"data row5 col12\" >253</td>\n",
       "                        <td id=\"T_8f99bede_0065_11eb_80a7_42010a8a0003row5_col13\" class=\"data row5 col13\" >245</td>\n",
       "                        <td id=\"T_8f99bede_0065_11eb_80a7_42010a8a0003row5_col14\" class=\"data row5 col14\" >74</td>\n",
       "                        <td id=\"T_8f99bede_0065_11eb_80a7_42010a8a0003row5_col15\" class=\"data row5 col15\" >0</td>\n",
       "                        <td id=\"T_8f99bede_0065_11eb_80a7_42010a8a0003row5_col16\" class=\"data row5 col16\" >0</td>\n",
       "                        <td id=\"T_8f99bede_0065_11eb_80a7_42010a8a0003row5_col17\" class=\"data row5 col17\" >0</td>\n",
       "            </tr>\n",
       "            <tr>\n",
       "                        <th id=\"T_8f99bede_0065_11eb_80a7_42010a8a0003level0_row6\" class=\"row_heading level0 row6\" >6</th>\n",
       "                        <td id=\"T_8f99bede_0065_11eb_80a7_42010a8a0003row6_col0\" class=\"data row6 col0\" >0</td>\n",
       "                        <td id=\"T_8f99bede_0065_11eb_80a7_42010a8a0003row6_col1\" class=\"data row6 col1\" >0</td>\n",
       "                        <td id=\"T_8f99bede_0065_11eb_80a7_42010a8a0003row6_col2\" class=\"data row6 col2\" >0</td>\n",
       "                        <td id=\"T_8f99bede_0065_11eb_80a7_42010a8a0003row6_col3\" class=\"data row6 col3\" >0</td>\n",
       "                        <td id=\"T_8f99bede_0065_11eb_80a7_42010a8a0003row6_col4\" class=\"data row6 col4\" >0</td>\n",
       "                        <td id=\"T_8f99bede_0065_11eb_80a7_42010a8a0003row6_col5\" class=\"data row6 col5\" >0</td>\n",
       "                        <td id=\"T_8f99bede_0065_11eb_80a7_42010a8a0003row6_col6\" class=\"data row6 col6\" >0</td>\n",
       "                        <td id=\"T_8f99bede_0065_11eb_80a7_42010a8a0003row6_col7\" class=\"data row6 col7\" >0</td>\n",
       "                        <td id=\"T_8f99bede_0065_11eb_80a7_42010a8a0003row6_col8\" class=\"data row6 col8\" >0</td>\n",
       "                        <td id=\"T_8f99bede_0065_11eb_80a7_42010a8a0003row6_col9\" class=\"data row6 col9\" >0</td>\n",
       "                        <td id=\"T_8f99bede_0065_11eb_80a7_42010a8a0003row6_col10\" class=\"data row6 col10\" >249</td>\n",
       "                        <td id=\"T_8f99bede_0065_11eb_80a7_42010a8a0003row6_col11\" class=\"data row6 col11\" >253</td>\n",
       "                        <td id=\"T_8f99bede_0065_11eb_80a7_42010a8a0003row6_col12\" class=\"data row6 col12\" >245</td>\n",
       "                        <td id=\"T_8f99bede_0065_11eb_80a7_42010a8a0003row6_col13\" class=\"data row6 col13\" >126</td>\n",
       "                        <td id=\"T_8f99bede_0065_11eb_80a7_42010a8a0003row6_col14\" class=\"data row6 col14\" >0</td>\n",
       "                        <td id=\"T_8f99bede_0065_11eb_80a7_42010a8a0003row6_col15\" class=\"data row6 col15\" >0</td>\n",
       "                        <td id=\"T_8f99bede_0065_11eb_80a7_42010a8a0003row6_col16\" class=\"data row6 col16\" >0</td>\n",
       "                        <td id=\"T_8f99bede_0065_11eb_80a7_42010a8a0003row6_col17\" class=\"data row6 col17\" >0</td>\n",
       "            </tr>\n",
       "            <tr>\n",
       "                        <th id=\"T_8f99bede_0065_11eb_80a7_42010a8a0003level0_row7\" class=\"row_heading level0 row7\" >7</th>\n",
       "                        <td id=\"T_8f99bede_0065_11eb_80a7_42010a8a0003row7_col0\" class=\"data row7 col0\" >0</td>\n",
       "                        <td id=\"T_8f99bede_0065_11eb_80a7_42010a8a0003row7_col1\" class=\"data row7 col1\" >0</td>\n",
       "                        <td id=\"T_8f99bede_0065_11eb_80a7_42010a8a0003row7_col2\" class=\"data row7 col2\" >0</td>\n",
       "                        <td id=\"T_8f99bede_0065_11eb_80a7_42010a8a0003row7_col3\" class=\"data row7 col3\" >0</td>\n",
       "                        <td id=\"T_8f99bede_0065_11eb_80a7_42010a8a0003row7_col4\" class=\"data row7 col4\" >0</td>\n",
       "                        <td id=\"T_8f99bede_0065_11eb_80a7_42010a8a0003row7_col5\" class=\"data row7 col5\" >0</td>\n",
       "                        <td id=\"T_8f99bede_0065_11eb_80a7_42010a8a0003row7_col6\" class=\"data row7 col6\" >0</td>\n",
       "                        <td id=\"T_8f99bede_0065_11eb_80a7_42010a8a0003row7_col7\" class=\"data row7 col7\" >14</td>\n",
       "                        <td id=\"T_8f99bede_0065_11eb_80a7_42010a8a0003row7_col8\" class=\"data row7 col8\" >101</td>\n",
       "                        <td id=\"T_8f99bede_0065_11eb_80a7_42010a8a0003row7_col9\" class=\"data row7 col9\" >223</td>\n",
       "                        <td id=\"T_8f99bede_0065_11eb_80a7_42010a8a0003row7_col10\" class=\"data row7 col10\" >253</td>\n",
       "                        <td id=\"T_8f99bede_0065_11eb_80a7_42010a8a0003row7_col11\" class=\"data row7 col11\" >248</td>\n",
       "                        <td id=\"T_8f99bede_0065_11eb_80a7_42010a8a0003row7_col12\" class=\"data row7 col12\" >124</td>\n",
       "                        <td id=\"T_8f99bede_0065_11eb_80a7_42010a8a0003row7_col13\" class=\"data row7 col13\" >0</td>\n",
       "                        <td id=\"T_8f99bede_0065_11eb_80a7_42010a8a0003row7_col14\" class=\"data row7 col14\" >0</td>\n",
       "                        <td id=\"T_8f99bede_0065_11eb_80a7_42010a8a0003row7_col15\" class=\"data row7 col15\" >0</td>\n",
       "                        <td id=\"T_8f99bede_0065_11eb_80a7_42010a8a0003row7_col16\" class=\"data row7 col16\" >0</td>\n",
       "                        <td id=\"T_8f99bede_0065_11eb_80a7_42010a8a0003row7_col17\" class=\"data row7 col17\" >0</td>\n",
       "            </tr>\n",
       "            <tr>\n",
       "                        <th id=\"T_8f99bede_0065_11eb_80a7_42010a8a0003level0_row8\" class=\"row_heading level0 row8\" >8</th>\n",
       "                        <td id=\"T_8f99bede_0065_11eb_80a7_42010a8a0003row8_col0\" class=\"data row8 col0\" >0</td>\n",
       "                        <td id=\"T_8f99bede_0065_11eb_80a7_42010a8a0003row8_col1\" class=\"data row8 col1\" >0</td>\n",
       "                        <td id=\"T_8f99bede_0065_11eb_80a7_42010a8a0003row8_col2\" class=\"data row8 col2\" >0</td>\n",
       "                        <td id=\"T_8f99bede_0065_11eb_80a7_42010a8a0003row8_col3\" class=\"data row8 col3\" >0</td>\n",
       "                        <td id=\"T_8f99bede_0065_11eb_80a7_42010a8a0003row8_col4\" class=\"data row8 col4\" >0</td>\n",
       "                        <td id=\"T_8f99bede_0065_11eb_80a7_42010a8a0003row8_col5\" class=\"data row8 col5\" >11</td>\n",
       "                        <td id=\"T_8f99bede_0065_11eb_80a7_42010a8a0003row8_col6\" class=\"data row8 col6\" >166</td>\n",
       "                        <td id=\"T_8f99bede_0065_11eb_80a7_42010a8a0003row8_col7\" class=\"data row8 col7\" >239</td>\n",
       "                        <td id=\"T_8f99bede_0065_11eb_80a7_42010a8a0003row8_col8\" class=\"data row8 col8\" >253</td>\n",
       "                        <td id=\"T_8f99bede_0065_11eb_80a7_42010a8a0003row8_col9\" class=\"data row8 col9\" >253</td>\n",
       "                        <td id=\"T_8f99bede_0065_11eb_80a7_42010a8a0003row8_col10\" class=\"data row8 col10\" >253</td>\n",
       "                        <td id=\"T_8f99bede_0065_11eb_80a7_42010a8a0003row8_col11\" class=\"data row8 col11\" >187</td>\n",
       "                        <td id=\"T_8f99bede_0065_11eb_80a7_42010a8a0003row8_col12\" class=\"data row8 col12\" >30</td>\n",
       "                        <td id=\"T_8f99bede_0065_11eb_80a7_42010a8a0003row8_col13\" class=\"data row8 col13\" >0</td>\n",
       "                        <td id=\"T_8f99bede_0065_11eb_80a7_42010a8a0003row8_col14\" class=\"data row8 col14\" >0</td>\n",
       "                        <td id=\"T_8f99bede_0065_11eb_80a7_42010a8a0003row8_col15\" class=\"data row8 col15\" >0</td>\n",
       "                        <td id=\"T_8f99bede_0065_11eb_80a7_42010a8a0003row8_col16\" class=\"data row8 col16\" >0</td>\n",
       "                        <td id=\"T_8f99bede_0065_11eb_80a7_42010a8a0003row8_col17\" class=\"data row8 col17\" >0</td>\n",
       "            </tr>\n",
       "            <tr>\n",
       "                        <th id=\"T_8f99bede_0065_11eb_80a7_42010a8a0003level0_row9\" class=\"row_heading level0 row9\" >9</th>\n",
       "                        <td id=\"T_8f99bede_0065_11eb_80a7_42010a8a0003row9_col0\" class=\"data row9 col0\" >0</td>\n",
       "                        <td id=\"T_8f99bede_0065_11eb_80a7_42010a8a0003row9_col1\" class=\"data row9 col1\" >0</td>\n",
       "                        <td id=\"T_8f99bede_0065_11eb_80a7_42010a8a0003row9_col2\" class=\"data row9 col2\" >0</td>\n",
       "                        <td id=\"T_8f99bede_0065_11eb_80a7_42010a8a0003row9_col3\" class=\"data row9 col3\" >0</td>\n",
       "                        <td id=\"T_8f99bede_0065_11eb_80a7_42010a8a0003row9_col4\" class=\"data row9 col4\" >0</td>\n",
       "                        <td id=\"T_8f99bede_0065_11eb_80a7_42010a8a0003row9_col5\" class=\"data row9 col5\" >16</td>\n",
       "                        <td id=\"T_8f99bede_0065_11eb_80a7_42010a8a0003row9_col6\" class=\"data row9 col6\" >248</td>\n",
       "                        <td id=\"T_8f99bede_0065_11eb_80a7_42010a8a0003row9_col7\" class=\"data row9 col7\" >250</td>\n",
       "                        <td id=\"T_8f99bede_0065_11eb_80a7_42010a8a0003row9_col8\" class=\"data row9 col8\" >253</td>\n",
       "                        <td id=\"T_8f99bede_0065_11eb_80a7_42010a8a0003row9_col9\" class=\"data row9 col9\" >253</td>\n",
       "                        <td id=\"T_8f99bede_0065_11eb_80a7_42010a8a0003row9_col10\" class=\"data row9 col10\" >253</td>\n",
       "                        <td id=\"T_8f99bede_0065_11eb_80a7_42010a8a0003row9_col11\" class=\"data row9 col11\" >253</td>\n",
       "                        <td id=\"T_8f99bede_0065_11eb_80a7_42010a8a0003row9_col12\" class=\"data row9 col12\" >232</td>\n",
       "                        <td id=\"T_8f99bede_0065_11eb_80a7_42010a8a0003row9_col13\" class=\"data row9 col13\" >213</td>\n",
       "                        <td id=\"T_8f99bede_0065_11eb_80a7_42010a8a0003row9_col14\" class=\"data row9 col14\" >111</td>\n",
       "                        <td id=\"T_8f99bede_0065_11eb_80a7_42010a8a0003row9_col15\" class=\"data row9 col15\" >2</td>\n",
       "                        <td id=\"T_8f99bede_0065_11eb_80a7_42010a8a0003row9_col16\" class=\"data row9 col16\" >0</td>\n",
       "                        <td id=\"T_8f99bede_0065_11eb_80a7_42010a8a0003row9_col17\" class=\"data row9 col17\" >0</td>\n",
       "            </tr>\n",
       "            <tr>\n",
       "                        <th id=\"T_8f99bede_0065_11eb_80a7_42010a8a0003level0_row10\" class=\"row_heading level0 row10\" >10</th>\n",
       "                        <td id=\"T_8f99bede_0065_11eb_80a7_42010a8a0003row10_col0\" class=\"data row10 col0\" >0</td>\n",
       "                        <td id=\"T_8f99bede_0065_11eb_80a7_42010a8a0003row10_col1\" class=\"data row10 col1\" >0</td>\n",
       "                        <td id=\"T_8f99bede_0065_11eb_80a7_42010a8a0003row10_col2\" class=\"data row10 col2\" >0</td>\n",
       "                        <td id=\"T_8f99bede_0065_11eb_80a7_42010a8a0003row10_col3\" class=\"data row10 col3\" >0</td>\n",
       "                        <td id=\"T_8f99bede_0065_11eb_80a7_42010a8a0003row10_col4\" class=\"data row10 col4\" >0</td>\n",
       "                        <td id=\"T_8f99bede_0065_11eb_80a7_42010a8a0003row10_col5\" class=\"data row10 col5\" >0</td>\n",
       "                        <td id=\"T_8f99bede_0065_11eb_80a7_42010a8a0003row10_col6\" class=\"data row10 col6\" >0</td>\n",
       "                        <td id=\"T_8f99bede_0065_11eb_80a7_42010a8a0003row10_col7\" class=\"data row10 col7\" >43</td>\n",
       "                        <td id=\"T_8f99bede_0065_11eb_80a7_42010a8a0003row10_col8\" class=\"data row10 col8\" >98</td>\n",
       "                        <td id=\"T_8f99bede_0065_11eb_80a7_42010a8a0003row10_col9\" class=\"data row10 col9\" >98</td>\n",
       "                        <td id=\"T_8f99bede_0065_11eb_80a7_42010a8a0003row10_col10\" class=\"data row10 col10\" >208</td>\n",
       "                        <td id=\"T_8f99bede_0065_11eb_80a7_42010a8a0003row10_col11\" class=\"data row10 col11\" >253</td>\n",
       "                        <td id=\"T_8f99bede_0065_11eb_80a7_42010a8a0003row10_col12\" class=\"data row10 col12\" >253</td>\n",
       "                        <td id=\"T_8f99bede_0065_11eb_80a7_42010a8a0003row10_col13\" class=\"data row10 col13\" >253</td>\n",
       "                        <td id=\"T_8f99bede_0065_11eb_80a7_42010a8a0003row10_col14\" class=\"data row10 col14\" >253</td>\n",
       "                        <td id=\"T_8f99bede_0065_11eb_80a7_42010a8a0003row10_col15\" class=\"data row10 col15\" >187</td>\n",
       "                        <td id=\"T_8f99bede_0065_11eb_80a7_42010a8a0003row10_col16\" class=\"data row10 col16\" >22</td>\n",
       "                        <td id=\"T_8f99bede_0065_11eb_80a7_42010a8a0003row10_col17\" class=\"data row10 col17\" >0</td>\n",
       "            </tr>\n",
       "    </tbody></table>"
      ],
      "text/plain": [
       "<pandas.io.formats.style.Styler at 0x7f12526bb150>"
      ]
     },
     "execution_count": 11,
     "metadata": {},
     "output_type": "execute_result"
    }
   ],
   "source": [
    "im3_t = tensor(im3)\n",
    "df = pd.DataFrame(im3_t[4:15,4:22])\n",
    "df.style.set_properties(**{'font-size':'6pt'}).background_gradient('Greys')"
   ]
  },
  {
   "cell_type": "markdown",
   "metadata": {},
   "source": [
    "The background white pixels are stored as the number 0, black is the number 255, and shades of gray are between the two. The entire image contains 28 pixels across and 28 pixels down, for a total of 784 pixels. (This is much smaller than an image that you would get from a phone camera, which has millions of pixels, but is a convenient size for our initial learning and experiments.)\n",
    "\n",
    "This is how an image looks like to a computer.\n",
    "\n",
    "Let's recall our goal: create a model that can recognize 3s and 7s. How might you go about getting a computer to do that?\n"
   ]
  },
  {
   "cell_type": "markdown",
   "metadata": {},
   "source": [
    "## First Try: Pixel Similarity\n",
    "How about we find the average pixel value for every pixel of the 3s, then do the same for the 7s. This will give us two group averages, defining what we might call the \"ideal\" 3 and 7. Then, to classify an image as one digit or the other, we see which of these two ideal digits the image is most similar to. This should make a good baseline.\n",
    "\n",
    "> jargon: Baseline: A simple model which you are confident should perform reasonably well. It should be very simple to implement, and very easy to test, so that you can then test each of your improved ideas, and make sure they are always better than your baseline. Without starting with a sensible baseline, it is very difficult to know whether your super-fancy models are actually any good. \n",
    "\n",
    "#### Step 1. Get the average of pixel values for each of our two groups. \n",
    "and learn a lot of neat Python numeric programming tricks!\n",
    "\n",
    "> python: List Comprehensions:  \n",
    "`new_list = [f(o) for o in a_list if o>0]`   \n",
    "3 parts: \n",
    "    1) the collection you are iterating over (`a_list`)  \n",
    "    2) an optional filter (`if o>0`)  \n",
    "    3) something to do to each element (`f(o)`)  \n",
    "    It's way faster than loops."
   ]
  },
  {
   "cell_type": "code",
   "execution_count": 12,
   "metadata": {},
   "outputs": [
    {
     "data": {
      "text/plain": [
       "(6131, 6265)"
      ]
     },
     "execution_count": 12,
     "metadata": {},
     "output_type": "execute_result"
    }
   ],
   "source": [
    "#create a tensor containing all 3s and 7s stacked together\n",
    "# use Python list comprehension -> plain list of the single image tensors\n",
    "seven_tensors = [tensor(Image.open(o)) for o in sevens] #list of torch.Tensor\n",
    "three_tensors = [tensor(Image.open(o)) for o in threes]\n",
    "len(three_tensors),len(seven_tensors)"
   ]
  },
  {
   "cell_type": "markdown",
   "metadata": {},
   "source": [
    "A list of 2D torch.Tensors"
   ]
  },
  {
   "cell_type": "code",
   "execution_count": 13,
   "metadata": {},
   "outputs": [
    {
     "data": {
      "text/plain": [
       "torch.Size([28, 28])"
      ]
     },
     "execution_count": 13,
     "metadata": {},
     "output_type": "execute_result"
    }
   ],
   "source": [
    "three_tensors[1].shape"
   ]
  },
  {
   "cell_type": "markdown",
   "metadata": {},
   "source": [
    ">Jupyter and images:  \n",
    "type PIL images - Jupyter by default will display as images  \n",
    "type tensor - Jupyter by default will print as values  \n",
    "Use fastai `show_image` function to display tensor as image"
   ]
  },
  {
   "cell_type": "code",
   "execution_count": 14,
   "metadata": {},
   "outputs": [
    {
     "data": {
      "image/png": "[encoded data removed]",
      "text/plain": [
       "<Figure size 72x72 with 1 Axes>"
      ]
     },
     "metadata": {
      "needs_background": "light"
     },
     "output_type": "display_data"
    }
   ],
   "source": [
    "#check if image looks ok\n",
    "show_image(three_tensors[1]);"
   ]
  },
  {
   "cell_type": "markdown",
   "metadata": {},
   "source": [
    "For every pixel position, we want to compute the average over all the images of the intensity of that pixel. To do this we first combine all the images in this list into a single three-dimensional tensor. The most common way to describe such a tensor is to call it a *rank-3 tensor*. We often need to stack up individual tensors in a collection into a single tensor. \n",
    ">PyTorch: Use function `stack` .\n",
    "\n",
    ">PyTorch: Casting types  \n",
    "Some operations in PyTorch, such as taking a mean, require us to *cast* our integer types to float types. We cast our stacked tensor to `float` now. Casting in PyTorch is as simple as typing the name of the type you wish to cast to, and treating it as a method.\n",
    "\n",
    "Generally when images are floats, the pixel values are expected to be between 0 and 1, so we will also divide by 255 here:"
   ]
  },
  {
   "cell_type": "code",
   "execution_count": 15,
   "metadata": {},
   "outputs": [
    {
     "name": "stdout",
     "output_type": "stream",
     "text": [
      "type:  <class 'torch.Tensor'>\n"
     ]
    },
    {
     "data": {
      "text/plain": [
       "torch.Size([6131, 28, 28])"
      ]
     },
     "execution_count": 15,
     "metadata": {},
     "output_type": "execute_result"
    }
   ],
   "source": [
    "stacked_sevens = torch.stack(seven_tensors).float()/255 #class 'torch.Tensor'\n",
    "stacked_threes = torch.stack(three_tensors).float()/255\n",
    "print(\"type: \", type(stacked_sevens))\n",
    "stacked_threes.shape"
   ]
  },
  {
   "cell_type": "markdown",
   "metadata": {},
   "source": [
    "In my head (not trained with PyTorch yet) it's a 3D torch.Tensor    \n",
    "The correct term is rank-3 tensor."
   ]
  },
  {
   "cell_type": "code",
   "execution_count": 16,
   "metadata": {},
   "outputs": [
    {
     "data": {
      "text/plain": [
       "3"
      ]
     },
     "execution_count": 16,
     "metadata": {},
     "output_type": "execute_result"
    }
   ],
   "source": [
    "#tensor rank\n",
    "len(stacked_threes.shape)"
   ]
  },
  {
   "cell_type": "code",
   "execution_count": 17,
   "metadata": {},
   "outputs": [
    {
     "data": {
      "text/plain": [
       "3"
      ]
     },
     "execution_count": 17,
     "metadata": {},
     "output_type": "execute_result"
    }
   ],
   "source": [
    "#can also get rank with 'ndim'\n",
    "stacked_threes.ndim"
   ]
  },
  {
   "cell_type": "markdown",
   "metadata": {},
   "source": [
    "> PyTorch: Tensor Vocab  \n",
    "*rank* is the number of axes (or dimensions) in a tensor  \n",
    "*shape* is the size of each axis of a tensor.\n",
    "    - In this case, we can see that we have 6,131 images, each of size 28×28 pixels  \n",
    "*length* of a tensor's shape is its rank. \n",
    "\n",
    "Using the term *dimension* may lead to confustion. When confused, it's helpful to translate all statements into terms of rank, axis, and length, which are unambiguous terms."
   ]
  },
  {
   "cell_type": "markdown",
   "metadata": {},
   "source": [
    "#### Compute what the ideal 3 looks like\n",
    "We calculate the mean of all the image tensors by taking the mean along dim 0 of our rank-3 tensor. This is the dim that indexes over all the images.\n",
    "\n",
    "#### NOT \n",
    "mean() returns a single number, the average pixel across the whole cube, the whole rank-3 tensor."
   ]
  },
  {
   "cell_type": "code",
   "execution_count": 18,
   "metadata": {},
   "outputs": [
    {
     "data": {
      "text/plain": [
       "tensor(0.1415)"
      ]
     },
     "execution_count": 18,
     "metadata": {},
     "output_type": "execute_result"
    }
   ],
   "source": [
    "stacked_threes.mean()"
   ]
  },
  {
   "cell_type": "markdown",
   "metadata": {},
   "source": [
    "mean(0) is the mean over 0 axis, the mean across the images.  In other words, for every pixel position, this will compute the average of that pixel over all images. The result will be one value for every pixel position, or a single image."
   ]
  },
  {
   "cell_type": "code",
   "execution_count": 19,
   "metadata": {},
   "outputs": [
    {
     "name": "stdout",
     "output_type": "stream",
     "text": [
      "typical 3 shape:  torch.Size([28, 28])\n",
      "typical 3 preview: \n",
      " tensor([[0.0000e+00, 0.0000e+00, 0.0000e+00, 0.0000e+00, 0.0000e+00, 0.0000e+00, 0.0000e+00, 0.0000e+00],\n",
      "        [0.0000e+00, 0.0000e+00, 1.5991e-05, 4.8676e-04, 7.7331e-04, 1.4468e-03, 2.9788e-03, 5.6486e-03],\n",
      "        [3.2621e-05, 1.5607e-04, 1.3995e-03, 5.7854e-03, 1.3664e-02, 3.0111e-02, 5.5401e-02, 9.0316e-02],\n",
      "        [5.7567e-05, 1.5204e-03, 8.8908e-03, 2.7837e-02, 6.1064e-02, 1.1271e-01, 1.8688e-01, 2.8025e-01],\n",
      "        [3.0063e-04, 5.8174e-03, 2.4498e-02, 5.9899e-02, 1.2038e-01, 2.0755e-01, 3.1939e-01, 4.3547e-01],\n",
      "        [4.5414e-04, 9.7409e-03, 3.7895e-02, 8.2921e-02, 1.5382e-01, 2.4157e-01, 3.3767e-01, 4.2682e-01],\n",
      "        [5.3985e-04, 1.1943e-02, 4.0899e-02, 7.8775e-02, 1.3442e-01, 1.9457e-01, 2.5074e-01, 2.9489e-01],\n",
      "        [6.4603e-04, 9.1461e-03, 2.9371e-02, 5.4969e-02, 8.9482e-02, 1.1955e-01, 1.4173e-01, 1.5585e-01]])\n"
     ]
    }
   ],
   "source": [
    "mean3 = stacked_threes.mean(0)\n",
    "print(\"typical 3 shape: \", mean3.shape)\n",
    "print(\"typical 3 preview: \\n\", mean3[2:10, 2:10])\n"
   ]
  },
  {
   "cell_type": "code",
   "execution_count": 20,
   "metadata": {},
   "outputs": [
    {
     "data": {
      "image/png": "[encoded data removed]",
      "text/plain": [
       "<Figure size 72x72 with 1 Axes>"
      ]
     },
     "metadata": {
      "needs_background": "light"
     },
     "output_type": "display_data"
    }
   ],
   "source": [
    "show_image(mean3);"
   ]
  },
  {
   "cell_type": "code",
   "execution_count": 21,
   "metadata": {},
   "outputs": [
    {
     "data": {
      "image/png": "[encoded data removed]",
      "text/plain": [
       "<Figure size 72x72 with 1 Axes>"
      ]
     },
     "metadata": {
      "needs_background": "light"
     },
     "output_type": "display_data"
    }
   ],
   "source": [
    "mean7 = stacked_sevens.mean(0)\n",
    "show_image(mean7);"
   ]
  },
  {
   "cell_type": "markdown",
   "metadata": {},
   "source": [
    "This is what peak number performance looks like. We see how it's very dark where all the images agree it should be dark, but it becomes wispy and blurry where the images disagree. \n",
    "\n",
    "#### Pick an arbitrary 3 and measure its *distance* from our \"ideal digits.\"\n",
    "\n",
    "How would you calculate how similar a particular image is to each of our ideal digits? "
   ]
  },
  {
   "cell_type": "code",
   "execution_count": 22,
   "metadata": {},
   "outputs": [
    {
     "data": {
      "image/png": "[encoded data removed]",
      "text/plain": [
       "<Figure size 72x72 with 1 Axes>"
      ]
     },
     "metadata": {
      "needs_background": "light"
     },
     "output_type": "display_data"
    }
   ],
   "source": [
    "#a sample 3\n",
    "a_3 = stacked_threes[1]\n",
    "show_image(a_3);"
   ]
  },
  {
   "cell_type": "markdown",
   "metadata": {},
   "source": [
    "How can we determine its distance from our ideal 3? We can't just add up the differences between the pixels of this image and the ideal digit. Some differences will be positive while others will be negative, and these differences will cancel out, resulting in a situation where an image that is too dark in some places and too light in others might be shown as having zero total differences from the ideal. That would be misleading!\n",
    "\n",
    "To avoid this, there are two main ways data scientists measure distance in this context:\n",
    "\n",
    "- *L1 norm* or the *mean absolute difference*  \n",
    "Take the mean of the *absolute value* of differences  \n",
    "- *L2 norm* or the *root mean squared error* (RMSE)  \n",
    "Take the mean of the *square* of differences and then take the *square root* (which undoes the squaring)\n",
    "\n",
    "> Math. Khan Academy has a great [introduction to square roots](https://www.khanacademy.org/math/algebra/x2f8bb11595b61c86:rational-exponents-radicals/x2f8bb11595b61c86:radicals/v/understanding-square-roots)."
   ]
  },
  {
   "cell_type": "code",
   "execution_count": 23,
   "metadata": {},
   "outputs": [
    {
     "data": {
      "text/plain": [
       "(tensor(0.1114), tensor(0.2021))"
      ]
     },
     "execution_count": 23,
     "metadata": {},
     "output_type": "execute_result"
    }
   ],
   "source": [
    "dist_3_abs = (a_3 - mean3).abs().mean()\n",
    "dist_3_sqr = ((a_3 - mean3)**2).mean().sqrt()\n",
    "dist_3_abs,dist_3_sqr"
   ]
  },
  {
   "cell_type": "code",
   "execution_count": 24,
   "metadata": {},
   "outputs": [
    {
     "data": {
      "text/plain": [
       "(tensor(0.1586), tensor(0.3021))"
      ]
     },
     "execution_count": 24,
     "metadata": {},
     "output_type": "execute_result"
    }
   ],
   "source": [
    "dist_7_abs = (a_3 - mean7).abs().mean()\n",
    "dist_7_sqr = ((a_3 - mean7)**2).mean().sqrt()\n",
    "dist_7_abs,dist_7_sqr"
   ]
  },
  {
   "cell_type": "markdown",
   "metadata": {},
   "source": [
    "In both cases, the distance between our 3 and the \"ideal\" 3 is less than the distance to the ideal 7. So our simple model will give the right prediction in this case.\n",
    "\n",
    "#### Loss Functions\n",
    ">PyTorch: provides both of these as *loss functions*. You'll find these inside `torch.nn.functional`, which the PyTorch team recommends importing as `F` (and is available by default under that name in fastai).  \n",
    "   - *mean absolute value* (in math it's called the *L1 norm*) `mae`    \n",
    "   - *mean squared error* `mse` \n",
    ">Math vs Code: Loss Funcitons \n",
    "a and b are tensors  \n",
    "   - L1 loss is (a-b).abs().mean()\n",
    "   - L2 loss is ((a-b)**2).mean().sqrt()"
   ]
  },
  {
   "cell_type": "code",
   "execution_count": 25,
   "metadata": {},
   "outputs": [
    {
     "data": {
      "text/plain": [
       "(tensor(0.1586), tensor(0.3021))"
      ]
     },
     "execution_count": 25,
     "metadata": {},
     "output_type": "execute_result"
    }
   ],
   "source": [
    "F.l1_loss(a_3.float(),mean7), F.mse_loss(a_3,mean7).sqrt()"
   ]
  },
  {
   "cell_type": "markdown",
   "metadata": {},
   "source": [
    "### NumPy Arrays and PyTorch Tensors\n",
    "two very important data structures  \n",
    "Python is slow compared to many languages. Anything fast in Python, NumPy, or PyTorch is likely to be a wrapper for a compiled object written (and optimized) in another language—specifically C. In fact, **NumPy arrays and PyTorch tensors can finish computations many thousands of times faster than using pure Python.**\n",
    "\n",
    "[NumPy](https://numpy.org/) is the most widely used library for scientific and numeric programming in Python. It provides very similar functionality and a very similar API to that provided by PyTorch; however, it does not support using the GPU or calculating gradients, which are both critical for deep learning. Therefore, in this book we will generally use PyTorch tensors instead of NumPy arrays, where possible.\n",
    "\n",
    "(Note that fastai adds some features to NumPy and PyTorch to make them a bit more similar to each other. If any code in this book doesn't work on your computer, it's possible that you forgot to include a line like this at the start of your notebook: `from fastai.vision.all import *`.)\n",
    "\n",
    "Perhaps the most important new coding skill for a Python programmer to learn is how to effectively use the array/tensor APIs. We will be showing lots more tricks later in this book, but here's a summary of the key things you need to know for now.\n",
    "\n",
    "To create an array or tensor, pass a list (or list of lists, or list of lists of lists, etc.) to `array()` or `tensor()`:"
   ]
  },
  {
   "cell_type": "code",
   "execution_count": 26,
   "metadata": {},
   "outputs": [],
   "source": [
    "data = [[1,2,3],[4,5,6]]\n",
    "arr = array (data)\n",
    "tns = tensor(data)"
   ]
  },
  {
   "cell_type": "code",
   "execution_count": 27,
   "metadata": {},
   "outputs": [
    {
     "data": {
      "text/plain": [
       "array([[1, 2, 3],\n",
       "       [4, 5, 6]])"
      ]
     },
     "execution_count": 27,
     "metadata": {},
     "output_type": "execute_result"
    }
   ],
   "source": [
    "arr  # numpy"
   ]
  },
  {
   "cell_type": "code",
   "execution_count": 28,
   "metadata": {},
   "outputs": [
    {
     "data": {
      "text/plain": [
       "tensor([[1, 2, 3],\n",
       "        [4, 5, 6]])"
      ]
     },
     "execution_count": 28,
     "metadata": {},
     "output_type": "execute_result"
    }
   ],
   "source": [
    "tns  # pytorch"
   ]
  },
  {
   "cell_type": "code",
   "execution_count": 29,
   "metadata": {},
   "outputs": [
    {
     "data": {
      "text/plain": [
       "tensor([4, 5, 6])"
      ]
     },
     "execution_count": 29,
     "metadata": {},
     "output_type": "execute_result"
    }
   ],
   "source": [
    "#select a row\n",
    "tns[1]"
   ]
  },
  {
   "cell_type": "code",
   "execution_count": 30,
   "metadata": {},
   "outputs": [
    {
     "data": {
      "text/plain": [
       "tensor([2, 5])"
      ]
     },
     "execution_count": 30,
     "metadata": {},
     "output_type": "execute_result"
    }
   ],
   "source": [
    "#select a column\n",
    "tns[:,1]"
   ]
  },
  {
   "cell_type": "code",
   "execution_count": 31,
   "metadata": {},
   "outputs": [
    {
     "data": {
      "text/plain": [
       "tensor([5, 6])"
      ]
     },
     "execution_count": 31,
     "metadata": {},
     "output_type": "execute_result"
    }
   ],
   "source": [
    "tns[1,1:3]"
   ]
  },
  {
   "cell_type": "code",
   "execution_count": 32,
   "metadata": {},
   "outputs": [
    {
     "data": {
      "text/plain": [
       "tensor([[2, 3, 4],\n",
       "        [5, 6, 7]])"
      ]
     },
     "execution_count": 32,
     "metadata": {},
     "output_type": "execute_result"
    }
   ],
   "source": [
    "#use the standard operators such as +, -, *, /:\n",
    "tns+1"
   ]
  },
  {
   "cell_type": "markdown",
   "metadata": {},
   "source": [
    ">python and PyTorch diff: \n",
    "python type() tells you it's torch.Tensor  \n",
    "If want to know what type of Tesnsor, vs PyTorch tns.type()"
   ]
  },
  {
   "cell_type": "code",
   "execution_count": 33,
   "metadata": {},
   "outputs": [
    {
     "name": "stdout",
     "output_type": "stream",
     "text": [
      "<class 'torch.Tensor'>\n",
      "torch.LongTensor\n"
     ]
    }
   ],
   "source": [
    "print(type(tns))\n",
    "# Tensors have a type\n",
    "print(tns.type())"
   ]
  },
  {
   "cell_type": "code",
   "execution_count": 34,
   "metadata": {},
   "outputs": [
    {
     "data": {
      "text/plain": [
       "tensor([[1.5000, 3.0000, 4.5000],\n",
       "        [6.0000, 7.5000, 9.0000]])"
      ]
     },
     "execution_count": 34,
     "metadata": {},
     "output_type": "execute_result"
    }
   ],
   "source": [
    "#And will automatically change type as needed, for example from int to float:\n",
    "tns*1.5"
   ]
  },
  {
   "cell_type": "markdown",
   "metadata": {},
   "source": [
    "## Computing Metrics Using Broadcasting\n",
    "Reminder: Our model is comparing a digit (image) to the mean.\n",
    "\n",
    "Recall that a metric is a number that is calculated based on the predictions of our model vs the correct labels in our dataset, in order to tell us how good our model is. For instance, we could use either of the functions: mse or mae, and take the average of them over the whole dataset. However, neither of these are numbers that are very understandable to most people; in practice, we normally use *accuracy* as the metric for classification models.\n",
    "\n",
    "As we've discussed, we want to calculate our metric over a *validation set*. This is so that we don't inadvertently overfit—that is, train a model to work well only on our training data. This is not really a risk with the pixel similarity model we're using here as a first try, since it has no trained components, but we'll use a validation set anyway to follow normal practices and to be ready for our second try later."
   ]
  },
  {
   "cell_type": "markdown",
   "metadata": {},
   "source": [
    "#### Get a validation set\n",
    "Let's create tensors for our 3s and 7s from MNIST sample, validation directory. These are the tensors we will use to calculate a metric measuring the quality of our first-try model, which measures distance from an ideal image"
   ]
  },
  {
   "cell_type": "code",
   "execution_count": 35,
   "metadata": {},
   "outputs": [
    {
     "data": {
      "text/plain": [
       "(torch.Size([1010, 28, 28]), torch.Size([1028, 28, 28]))"
      ]
     },
     "execution_count": 35,
     "metadata": {},
     "output_type": "execute_result"
    }
   ],
   "source": [
    "valid_3_tens = torch.stack([tensor(Image.open(o)) \n",
    "                            for o in (path/'valid'/'3').ls()])\n",
    "valid_3_tens = valid_3_tens.float()/255\n",
    "valid_7_tens = torch.stack([tensor(Image.open(o)) \n",
    "                            for o in (path/'valid'/'7').ls()])\n",
    "valid_7_tens = valid_7_tens.float()/255\n",
    "valid_3_tens.shape,valid_7_tens.shape"
   ]
  },
  {
   "cell_type": "markdown",
   "metadata": {},
   "source": [
    "Good habit of checking shapes as you go. Here we see two tensors, one representing the 3s validation set of 1,010 images of size 28×28, and one representing the 7s validation set of 1,028 images of size 28×28.\n",
    "\n",
    "#### Prediction function\n",
    "We ultimately want to write a function, `is_3`, that will decide if an arbitrary image is a 3 or a 7. It will do this by deciding which of our two \"ideal digits\" this arbitrary image is closer to. For that we need to define a notion of distance—that is, a function that calculates the distance between two images.\n",
    "\n",
    "We can write a simple function that calculates the mean absolute error using an experssion very similar to the one we wrote in the last section:"
   ]
  },
  {
   "cell_type": "code",
   "execution_count": 36,
   "metadata": {},
   "outputs": [
    {
     "data": {
      "text/plain": [
       "tensor(0.1114)"
      ]
     },
     "execution_count": 36,
     "metadata": {},
     "output_type": "execute_result"
    }
   ],
   "source": [
    "#mean over last 2 dims\n",
    "def mnist_distance(a,b): return (a-b).abs().mean((-1,-2))\n",
    "mnist_distance(a_3, mean3)"
   ]
  },
  {
   "cell_type": "code",
   "execution_count": 37,
   "metadata": {},
   "outputs": [
    {
     "data": {
      "text/plain": [
       "tensor(0.1114)"
      ]
     },
     "execution_count": 37,
     "metadata": {},
     "output_type": "execute_result"
    }
   ],
   "source": [
    "#$note myQuestion, why .mean((-1,-2), not just mean() => answered below\n",
    "def my_mnist_distance(a,b): return (a-b).abs().mean()\n",
    "mnist_distance(a_3, mean3)"
   ]
  },
  {
   "cell_type": "markdown",
   "metadata": {},
   "source": [
    "This is the same value we previously calculated for the distance between these two images, the ideal 3 `mean_3` and the arbitrary sample 3 `a_3`, which are both single-image tensors with a shape of `[28,28]`.\n",
    "\n",
    "#### Overall accuracy (on validation set)\n",
    "In order to calculate a metric for overall accuracy, we will need to calculate the distance to the ideal 3 for _every_ image in the validation set. \n",
    "\n",
    "We could write a loop over all of the single-image tensors that are stacked within our validation set tensor, `valid_3_tens`, which has a shape of `[1010,28,28]` representing 1,010 images. But there is a better way.\n",
    "\n",
    "Something very interesting happens when we take this exact same distance function, designed for comparing two single images, but pass in as an argument `valid_3_tens`, the tensor that represents the 3s validation set:"
   ]
  },
  {
   "cell_type": "code",
   "execution_count": 41,
   "metadata": {},
   "outputs": [
    {
     "name": "stdout",
     "output_type": "stream",
     "text": [
      "tensor(0.1296)\n",
      "tensor(0.1596)\n"
     ]
    }
   ],
   "source": [
    "print(my_mnist_distance(valid_3_tens, mean3).mean())\n",
    "print(my_mnist_distance(valid_3_tens, mean7).mean())"
   ]
  },
  {
   "cell_type": "markdown",
   "metadata": {},
   "source": [
    ">SuperTrick: Broadcasting  \n",
    "(python, PyTorch)  \n",
    "automatically handles operation between two tensors of different ranks"
   ]
  },
  {
   "cell_type": "code",
   "execution_count": 43,
   "metadata": {},
   "outputs": [
    {
     "name": "stdout",
     "output_type": "stream",
     "text": [
      "Validation dataset (tensor) shape:  torch.Size([1010, 28, 28])\n",
      "Typical 3 (tensor) shape:  torch.Size([28, 28])\n"
     ]
    }
   ],
   "source": [
    "print(\"Validation dataset (tensor) shape: \", valid_3_tens.shape)\n",
    "print(\"Typical 3 (tensor) shape: \", mean3.shape)"
   ]
  },
  {
   "cell_type": "code",
   "execution_count": 44,
   "metadata": {},
   "outputs": [
    {
     "data": {
      "text/plain": [
       "(tensor([0.1580, 0.1440, 0.1240,  ..., 0.1250, 0.1116, 0.1170]),\n",
       " torch.Size([1010]))"
      ]
     },
     "execution_count": 44,
     "metadata": {},
     "output_type": "execute_result"
    }
   ],
   "source": [
    "valid_3_dist = mnist_distance(valid_3_tens, mean3)\n",
    "#instead of returning a single number, it returns n numbers\n",
    "valid_3_dist, valid_3_dist.shape"
   ]
  },
  {
   "cell_type": "markdown",
   "metadata": {},
   "source": [
    "Instead of complaining about shapes not matching, it returned the distance for every single image as a vector (i.e., a rank-1 tensor) of length 1,010 (the number of 3s in our validation set). How did that happen?\n",
    "\n",
    "Take another look at our function `mnist_distance`, and you'll see we have there the subtraction `(a-b)`. The magic trick is that PyTorch, when it tries to perform a simple subtraction operation between two tensors of different ranks, will use *broadcasting*. That is, it will automatically expand the tensor with the smaller rank to have the same size as the one with the larger rank. Broadcasting is an important capability that makes tensor code much easier to write.\n",
    "\n",
    "After broadcasting so the two argument tensors have the same rank, PyTorch applies its usual logic for two tensors of the same rank: it performs the operation on each corresponding element of the two tensors, and returns the tensor result."
   ]
  },
  {
   "cell_type": "markdown",
   "metadata": {},
   "source": [
    "#### Python operations"
   ]
  },
  {
   "cell_type": "code",
   "execution_count": 45,
   "metadata": {},
   "outputs": [
    {
     "data": {
      "text/plain": [
       "tensor([2, 3, 4])"
      ]
     },
     "execution_count": 45,
     "metadata": {},
     "output_type": "execute_result"
    }
   ],
   "source": [
    "#element-wise operation, when shapes match\n",
    "tensor([1,2,3]) + tensor([1,1,1])"
   ]
  },
  {
   "cell_type": "markdown",
   "metadata": {},
   "source": [
    ">SuperTrick: Broadcasting\n",
    "\n",
    "Here, PyTorch treats `mean3`, a rank-2 tensor representing a single image, as if it were 1,010 copies of the same image, and then subtracts each of those copies from each 3 in our validation set. "
   ]
  },
  {
   "cell_type": "code",
   "execution_count": 46,
   "metadata": {},
   "outputs": [
    {
     "data": {
      "text/plain": [
       "torch.Size([1010, 28, 28])"
      ]
     },
     "execution_count": 46,
     "metadata": {},
     "output_type": "execute_result"
    }
   ],
   "source": [
    "#when shapes don't match\n",
    "(valid_3_tens-mean3).shape"
   ]
  },
  {
   "cell_type": "markdown",
   "metadata": {},
   "source": [
    "We are calculating the difference between our \"ideal 3\" and each of the 1,010 3s in the validation set, for each of 28×28 images, resulting in the shape `[1010,28,28]`.\n",
    "\n",
    "Note: \n",
    "#### how broadcasting is implemented\n",
    "which make it valuable not just for expressivity but also for performance:\n",
    "\n",
    "- PyTorch doesn't *actually* copy `mean3` 1,010 times. It *pretends* it were a tensor of that shape, but doesn't actually allocate any additional memory\n",
    "- It does the whole calculation in C (or, if you're using a GPU, in CUDA, the equivalent of C on the GPU), tens of thousands of times faster than pure Python (up to millions of times faster on a GPU!).\n",
    "\n",
    "This is true of all broadcasting and elementwise operations and functions done in PyTorch. *It's the most important technique for you to know to create efficient PyTorch code.*\n",
    "\n"
   ]
  },
  {
   "cell_type": "markdown",
   "metadata": {},
   "source": [
    "Next in `mnist_distance` we see `abs`. You might be able to guess now what this does when applied to a tensor. It applies the method to each individual element in the tensor, and returns a tensor of the results (that is, it applies the method \"elementwise\"). So in this case, we'll get back 1,010 matrices of absolute values.\n",
    "\n",
    "Finally, our function calls `mean((-1,-2))`. The tuple `(-1,-2)` represents a range of axes. In Python, `-1` refers to the last element, and `-2` refers to the second-to-last. So in this case, this tells PyTorch that we want to take the mean ranging over the values indexed by the last two axes of the tensor. The last two axes are the horizontal and vertical dimensions of an image. After taking the mean over the last two axes, we are left with just the first tensor axis, which indexes over our images, which is why our final size was `(1010)`. In other words, for every image, we averaged the intensity of all the pixels in that image.\n",
    "\n",
    "#### Predict a 3\n",
    "We can use `mnist_distance` to figure out whether an image is a 3 or not by using the following logic: if the distance between the digit in question and the ideal 3 is less than the distance to the ideal 7, then it's a 3. This function will automatically do broadcasting and be applied elementwise, just like all PyTorch functions and operators:"
   ]
  },
  {
   "cell_type": "code",
   "execution_count": 47,
   "metadata": {},
   "outputs": [],
   "source": [
    "def is_3(x): return mnist_distance(x,mean3) < mnist_distance(x,mean7)"
   ]
  },
  {
   "cell_type": "code",
   "execution_count": 48,
   "metadata": {},
   "outputs": [
    {
     "data": {
      "text/plain": [
       "(tensor(True), tensor(1.))"
      ]
     },
     "execution_count": 48,
     "metadata": {},
     "output_type": "execute_result"
    }
   ],
   "source": [
    "#test on our example case\n",
    "is_3(a_3), is_3(a_3).float()"
   ]
  },
  {
   "cell_type": "code",
   "execution_count": 49,
   "metadata": {},
   "outputs": [
    {
     "data": {
      "text/plain": [
       "tensor([False,  True,  True,  ...,  True,  True,  True])"
      ]
     },
     "execution_count": 49,
     "metadata": {},
     "output_type": "execute_result"
    }
   ],
   "source": [
    "#test it on the full validation set of 3s\n",
    "is_3(valid_3_tens)"
   ]
  },
  {
   "cell_type": "markdown",
   "metadata": {},
   "source": [
    "#### Salculate the accuracy for each of the 3s and 7s \n",
    "by taking the average of that function for all 3s and its inverse for all 7s"
   ]
  },
  {
   "cell_type": "code",
   "execution_count": 50,
   "metadata": {},
   "outputs": [
    {
     "data": {
      "text/plain": [
       "(tensor(0.9168), tensor(0.9854), tensor(0.9511))"
      ]
     },
     "execution_count": 50,
     "metadata": {},
     "output_type": "execute_result"
    }
   ],
   "source": [
    "accuracy_3s =      is_3(valid_3_tens).float() .mean()\n",
    "accuracy_7s = (1 - is_3(valid_7_tens).float()).mean()\n",
    "\n",
    "accuracy_3s,accuracy_7s,(accuracy_3s+accuracy_7s)/2"
   ]
  },
  {
   "cell_type": "markdown",
   "metadata": {},
   "source": [
    "We're getting over 90% accuracy on both 3s and 7s, and we've seen how to define a metric conveniently using broadcasting.\n",
    "\n",
    "However, 3s and 7s are very different-looking digits. And we're only classifying 2 out of the 10 possible digits so far. So we're going to need to do better!\n",
    "\n",
    "To do better, perhaps it is time to try a system that does some real learning—that is, that can automatically modify itself to improve its performance. In other words, it's time to talk about the training process, and SGD.\n",
    "\n",
    "## Stochastic Gradient Descent (SGD)\n",
    "\n",
    " Arthur Samuel described machine learning as\n",
    "\n",
    "> : Suppose we arrange for some automatic means of testing the effectiveness of any current weight assignment in terms of actual performance and provide a mechanism for altering the weight assignment so as to maximize the performance. We need not go into the details of such a procedure to see that it could be made entirely automatic and to see that a machine so programmed would \"learn\" from its experience.\n",
    "\n",
    "As we discussed, this is the key to allowing us to have a model that can get better and better—that can learn. But our pixel similarity approach does not really do this. We do not have any kind of weight assignment, or any way of improving based on testing the effectiveness of a weight assignment. In other words, we can't really improve our pixel similarity approach by modifying a set of parameters. In order to take advantage of the power of deep learning, we will first have to represent our task in the way that Arthur Samuel described it.\n",
    "\n",
    "Instead of trying to find the similarity between an image and an \"ideal image,\" we could instead look at each individual pixel and come up with a set of weights for each one, such that the highest weights are associated with those pixels most likely to be black for a particular category. For instance, pixels toward the bottom right are not very likely to be activated for a 7, so they should have a low weight for a 7, but they are likely to be activated for an 8, so they should have a high weight for an 8. This can be represented as a function and set of weight values for each possible category—for instance the probability of being the number 8\n",
    "\n",
    "```\n",
    "def pr_eight(x,w) = (x*w).sum()\n",
    "```"
   ]
  },
  {
   "cell_type": "markdown",
   "metadata": {},
   "source": [
    "Here we are assuming that `x` is the image, represented as a vector—in other words, with all of the rows stacked up end to end into a single long line. And we are assuming that the weights are a vector `w`. If we have this function, then we just need some way to update the weights to make them a little bit better. With such an approach, we can repeat that step a number of times, making the weights better and better, until they are as good as we can make them.\n",
    "\n",
    "We want to find the specific values for the vector `w` that causes the result of our function to be high for those images that are actually 8s, and low for those images that are not. Searching for the best vector `w` is a way to search for the best function for recognising 8s. (Because we are not yet using a deep neural network, we are limited by what our function can actually do—we are going to fix that constraint later in this chapter.) \n",
    "\n",
    "To be more specific, here are the steps that we are going to require, to turn this function into a machine learning classifier:\n",
    "\n",
    "1. *Initialize* the weights.\n",
    "1. For each image, use these weights to *predict* whether it appears to be a 3 or a 7.\n",
    "1. Based on these predictions, calculate how good the model is (its *loss*).\n",
    "1. Calculate the *gradient*, which measures for each weight, how changing that weight would change the loss\n",
    "1. *Step* (that is, change) all the weights based on that calculation.\n",
    "1. Go back to the step 2, and *repeat* the process.\n",
    "1. Iterate until you decide to *stop* the training process (for instance, because the model is good enough or you don't want to wait any longer).\n",
    "\n",
    "These seven steps, illustrated in $actodo link<<gradient_descent>>, are the key to the training of all deep learning models. That deep learning turns out to rely entirely on these steps is extremely surprising and counterintuitive. It's amazing that this process can solve such complex problems!"
   ]
  },
  {
   "cell_type": "code",
   "execution_count": 64,
   "metadata": {},
   "outputs": [
    {
     "ename": "NameError",
     "evalue": "name 'graphviz' is not defined",
     "output_type": "error",
     "traceback": [
      "\u001b[0;31m---------------------------------------------------------------------------\u001b[0m",
      "\u001b[0;31mNameError\u001b[0m                                 Traceback (most recent call last)",
      "\u001b[0;32m<ipython-input-64-86ea66c6cea2>\u001b[0m in \u001b[0;36m<module>\u001b[0;34m\u001b[0m\n\u001b[1;32m      5\u001b[0m \u001b[0minit\u001b[0m\u001b[0;34m->\u001b[0m\u001b[0mpredict\u001b[0m\u001b[0;34m->\u001b[0m\u001b[0mloss\u001b[0m\u001b[0;34m->\u001b[0m\u001b[0mgradient\u001b[0m\u001b[0;34m->\u001b[0m\u001b[0mstep\u001b[0m\u001b[0;34m->\u001b[0m\u001b[0mstop\u001b[0m\u001b[0;34m\u001b[0m\u001b[0;34m\u001b[0m\u001b[0m\n\u001b[1;32m      6\u001b[0m \u001b[0mstep\u001b[0m\u001b[0;34m->\u001b[0m\u001b[0mpredict\u001b[0m\u001b[0;34m[\u001b[0m\u001b[0mlabel\u001b[0m\u001b[0;34m=\u001b[0m\u001b[0mrepeat\u001b[0m\u001b[0;34m]\u001b[0m\u001b[0;34m\u001b[0m\u001b[0;34m\u001b[0m\u001b[0m\n\u001b[0;32m----> 7\u001b[0;31m ''')\n\u001b[0m",
      "\u001b[0;32m/opt/conda/lib/python3.7/site-packages/fastbook/__init__.py\u001b[0m in \u001b[0;36mgv\u001b[0;34m(s)\u001b[0m\n\u001b[1;32m     43\u001b[0m     \u001b[0;32mif\u001b[0m \u001b[0mIN_COLAB\u001b[0m\u001b[0;34m:\u001b[0m \u001b[0;32mreturn\u001b[0m \u001b[0msetup_colab\u001b[0m\u001b[0;34m(\u001b[0m\u001b[0;34m)\u001b[0m\u001b[0;34m\u001b[0m\u001b[0;34m\u001b[0m\u001b[0m\n\u001b[1;32m     44\u001b[0m \u001b[0;34m\u001b[0m\u001b[0m\n\u001b[0;32m---> 45\u001b[0;31m \u001b[0;32mdef\u001b[0m \u001b[0mgv\u001b[0m\u001b[0;34m(\u001b[0m\u001b[0ms\u001b[0m\u001b[0;34m)\u001b[0m\u001b[0;34m:\u001b[0m \u001b[0;32mreturn\u001b[0m \u001b[0mgraphviz\u001b[0m\u001b[0;34m.\u001b[0m\u001b[0mSource\u001b[0m\u001b[0;34m(\u001b[0m\u001b[0;34m'digraph G{ rankdir=\"LR\"'\u001b[0m \u001b[0;34m+\u001b[0m \u001b[0ms\u001b[0m \u001b[0;34m+\u001b[0m \u001b[0;34m'; }'\u001b[0m\u001b[0;34m)\u001b[0m\u001b[0;34m\u001b[0m\u001b[0;34m\u001b[0m\u001b[0m\n\u001b[0m\u001b[1;32m     46\u001b[0m \u001b[0;34m\u001b[0m\u001b[0m\n\u001b[1;32m     47\u001b[0m \u001b[0;32mdef\u001b[0m \u001b[0mget_image_files_sorted\u001b[0m\u001b[0;34m(\u001b[0m\u001b[0mpath\u001b[0m\u001b[0;34m,\u001b[0m \u001b[0mrecurse\u001b[0m\u001b[0;34m=\u001b[0m\u001b[0;32mTrue\u001b[0m\u001b[0;34m,\u001b[0m \u001b[0mfolders\u001b[0m\u001b[0;34m=\u001b[0m\u001b[0;32mNone\u001b[0m\u001b[0;34m)\u001b[0m\u001b[0;34m:\u001b[0m\u001b[0;34m\u001b[0m\u001b[0;34m\u001b[0m\u001b[0m\n",
      "\u001b[0;31mNameError\u001b[0m: name 'graphviz' is not defined"
     ]
    }
   ],
   "source": [
    "#id gradient_descent\n",
    "#caption The gradient descent process\n",
    "#alt Graph showing the steps for Gradient Descent\n",
    "gv('''\n",
    "init->predict->loss->gradient->step->stop\n",
    "step->predict[label=repeat]\n",
    "''')"
   ]
  },
  {
   "cell_type": "markdown",
   "metadata": {},
   "source": [
    "the general approach to each one generally follows some basic principles. Here are a few guidelines:\n",
    "\n",
    "- Initialize:: We initialize the parameters to random values. This may sound surprising. There are certainly other choices we could make, such as initializing them to the percentage of times that pixel is activated for that category—but since we already know that we have a routine to improve these weights, it turns out that just starting with random weights works perfectly well.\n",
    "- Loss:: This is what Samuel referred to when he spoke of *testing the effectiveness of any current weight assignment in terms of actual performance*. We need some function that will return a number that is small if the performance of the model is good (the standard approach is to treat a small loss as good, and a large loss as bad, although this is just a convention).\n",
    "- Step:: A simple way to figure out whether a weight should be increased a bit, or decreased a bit, would be just to try it: increase the weight by a small amount, and see if the loss goes up or down. Once you find the correct direction, you could then change that amount by a bit more, and a bit less, until you find an amount that works well. However, this is slow! As we will see, the magic of calculus allows us to directly figure out in which direction, and by roughly how much, to change each weight, without having to try all these small changes. The way to do this is by calculating *gradients*. This is just a performance optimization, we would get exactly the same results by using the slower manual process as well.\n",
    "- Stop:: Once we've decided how many epochs to train the model for (a few suggestions for this were given in the earlier list), we apply that decision. This is where that decision is applied. For our digit classifier, we would keep training until the accuracy of the model started getting worse, or we ran out of time."
   ]
  },
  {
   "cell_type": "markdown",
   "metadata": {},
   "source": [
    "#### Gradient Descent - simple case\n",
    "Before applying these steps to our image classification problem, let's illustrate what they look like in a simpler case. First we will define a very simple function, the quadratic—let's pretend that this is our loss function, and `x` is a weight parameter of the function:"
   ]
  },
  {
   "cell_type": "code",
   "execution_count": 65,
   "metadata": {},
   "outputs": [],
   "source": [
    "def f(x): return x**2"
   ]
  },
  {
   "cell_type": "code",
   "execution_count": 66,
   "metadata": {},
   "outputs": [
    {
     "data": {
      "image/png": "[encoded data removed]",
      "text/plain": [
       "<Figure size 432x288 with 1 Axes>"
      ]
     },
     "metadata": {
      "needs_background": "light"
     },
     "output_type": "display_data"
    }
   ],
   "source": [
    "#graph\n",
    "plot_function(f, 'x', 'x**2')\n"
   ]
  },
  {
   "cell_type": "markdown",
   "metadata": {},
   "source": [
    "The sequence of steps:  \n",
    "- Point1 - picking some random value for a parameter, and calculating the value of the loss.  \n",
    "- Point2 - increase or decreas our parameter by a little bit—the *adjustment*. This is simply the slope at a particular point.  \n",
    "- Point3 - change our weight by a little in the direction of the slope, calculate our loss and adjustment again.  \n",
    "\n",
    "Repeat this a few times. Eventually, we will get to the lowest point on our curve."
   ]
  },
  {
   "cell_type": "code",
   "execution_count": 67,
   "metadata": {},
   "outputs": [
    {
     "data": {
      "image/png": "[encoded data removed]",
      "text/plain": [
       "<Figure size 432x288 with 1 Axes>"
      ]
     },
     "metadata": {
      "needs_background": "light"
     },
     "output_type": "display_data"
    }
   ],
   "source": [
    "#graph\n",
    "plot_function(f, 'x', 'x**2')\n",
    "plt.scatter(-1.5, f(-1.5), color='red');\n",
    "plt.scatter(-1, f(-1), color='red');\n",
    "plt.scatter(-0.5, f(-0.5), color='red');"
   ]
  },
  {
   "cell_type": "markdown",
   "metadata": {},
   "source": [
    "### Calculating Gradients\n",
    "\n",
    "The one magic step is the bit where we calculate the gradients. The gradients will tell us how much we have to change each weight to make our model better.  We use calculus as a performance optimization.\n",
    "\n",
    "> Math: calculus - the *derivative* of a function tells you how much a change in its parameterss will change its result.  \n",
    "Khan Academy and complete the [lessons on basic derivatives](https://www.khanacademy.org/math/differential-calculus/dc-diff-intro).\n",
    "\n",
    "The key point about a derivative is this: for any function, such as the quadratic function we saw in the previous section, we can calculate its derivative. The derivative is another function. It calculates the change, rather than the value. For instance, the derivative of the quadratic function at the value 3 tells us how rapidly the function changes at the value 3. More specifically, you may recall that gradient is defined as *rise/run*, that is, the change in the value of the function, divided by the change in the value of the parameter. When we know how our function will change, then we know what we need to do to make it smaller. This is the key to machine learning: having a way to change the parameters of a function to make it smaller. Calculus provides us with a computational shortcut, the derivative, which lets us directly calculate the gradients of our functions."
   ]
  },
  {
   "cell_type": "markdown",
   "metadata": {},
   "source": [
    "One important thing to be aware of is that our function has lots of weights that we need to adjust, so when we calculate the derivative we won't get back one number, but lots of them—a gradient for every weight. But there is nothing mathematically tricky here; you can calculate the derivative with respect to one weight, and treat all the other ones as constant, then repeat that for each other weight. This is how all of the gradients are calculated, for every weight.\n",
    "\n",
    "PyTorch is able to automatically compute the derivative of nearly any function! \n",
    "\n",
    "#### Example of gradients\n",
    "- A scalar tensor value which we want gradients at"
   ]
  },
  {
   "cell_type": "code",
   "execution_count": 69,
   "metadata": {},
   "outputs": [
    {
     "data": {
      "text/plain": [
       "tensor(3., requires_grad=True)"
      ]
     },
     "execution_count": 69,
     "metadata": {},
     "output_type": "execute_result"
    }
   ],
   "source": [
    "#pick a tensor value which we want gradients at\n",
    "xt = tensor(3.).requires_grad_()\n",
    "xt"
   ]
  },
  {
   "cell_type": "markdown",
   "metadata": {},
   "source": [
    ">PyTorch: special method `requires_grad_`? The magical incantation we use to tell PyTorch that we want to calculate gradients with respect to that variable at that value. It is essentially tagging the variable, so PyTorch will remember to keep track of how to compute gradients of the other, direct calculations on it that you will ask for.  \n",
    "\n",
    "In deep learning, \"gradients\" usually means the _value_ of a function's derivative at a particular argument value. "
   ]
  },
  {
   "cell_type": "code",
   "execution_count": 70,
   "metadata": {},
   "outputs": [
    {
     "data": {
      "text/plain": [
       "tensor(9., grad_fn=<PowBackward0>)"
      ]
     },
     "execution_count": 70,
     "metadata": {},
     "output_type": "execute_result"
    }
   ],
   "source": [
    "#calculate our function with that value. Notice how PyTorch prints not just the value calculated, but also a note that it has a gradient function it'll be using to calculate our gradients when needed\n",
    "yt = f(xt)\n",
    "yt"
   ]
  },
  {
   "cell_type": "code",
   "execution_count": 71,
   "metadata": {},
   "outputs": [],
   "source": [
    "#tell PyTorch to calculate the gradients for us\n",
    "yt.backward()"
   ]
  },
  {
   "cell_type": "markdown",
   "metadata": {},
   "source": [
    ">PyTorch: The \"backward\" here refers to *backpropagation*, which is the name given to the process of calculating the derivative of each layer. \n",
    "\n",
    "Later, when we calculate the gradients of a deep neural net from scratch. This is called the \"backward pass\" of the network, as opposed to the \"forward pass,\" which is where the activations are calculated. Life would probably be easier if `backward` was just called `calculate_grad`, but deep learning folks really do like to add jargon everywhere they can!"
   ]
  },
  {
   "cell_type": "code",
   "execution_count": 72,
   "metadata": {},
   "outputs": [
    {
     "data": {
      "text/plain": [
       "tensor(6.)"
      ]
     },
     "execution_count": 72,
     "metadata": {},
     "output_type": "execute_result"
    }
   ],
   "source": [
    "#view the gradients by checking the grad attribute of our tensor\n",
    "xt.grad"
   ]
  },
  {
   "cell_type": "markdown",
   "metadata": {},
   "source": [
    "With calculus rules, the derivative of `x**2` is `2*x`, and we have `x=3`, so the gradients should be `2*3=6`, which is what PyTorch calculated for us!\n",
    "\n",
    "- Repeat with a vector argument for our function:"
   ]
  },
  {
   "cell_type": "code",
   "execution_count": 73,
   "metadata": {},
   "outputs": [
    {
     "data": {
      "text/plain": [
       "tensor([ 3.,  4., 10.], requires_grad=True)"
      ]
     },
     "execution_count": 73,
     "metadata": {},
     "output_type": "execute_result"
    }
   ],
   "source": [
    "xt = tensor([3.,4.,10.]).requires_grad_()\n",
    "xt"
   ]
  },
  {
   "cell_type": "markdown",
   "metadata": {},
   "source": [
    "And we'll add `sum` to our function so it can take a vector (i.e., a rank-1 tensor), and return a scalar (i.e., a rank-0 tensor):"
   ]
  },
  {
   "cell_type": "code",
   "execution_count": 74,
   "metadata": {},
   "outputs": [
    {
     "data": {
      "text/plain": [
       "tensor(125., grad_fn=<SumBackward0>)"
      ]
     },
     "execution_count": 74,
     "metadata": {},
     "output_type": "execute_result"
    }
   ],
   "source": [
    "def f(x): return (x**2).sum()\n",
    "\n",
    "yt = f(xt)\n",
    "yt"
   ]
  },
  {
   "cell_type": "code",
   "execution_count": 75,
   "metadata": {},
   "outputs": [
    {
     "data": {
      "text/plain": [
       "tensor([ 6.,  8., 20.])"
      ]
     },
     "execution_count": 75,
     "metadata": {},
     "output_type": "execute_result"
    }
   ],
   "source": [
    "yt.backward()\n",
    "xt.grad"
   ]
  },
  {
   "cell_type": "markdown",
   "metadata": {},
   "source": [
    "Our gradients are `2*xt`, as we'd expect!\n",
    "\n",
    "The gradients only tell us the slope of our function, they don't actually tell us exactly how far to adjust the parameters. But it gives us some idea of how far; if the slope is very large, then that may suggest that we have more adjustments to do, whereas if the slope is very small, that may suggest that we are close to the optimal value.\n",
    "\n",
    "### Stepping With a Learning Rate\n",
    "The basic idea of multiplying the gradient by some small number, called the learning rate (LR). The learning rate is often a number between 0.001 and 0.1.  More later on picking LR.  \n",
    "\n",
    "Once you've picked a learning rate, you can adjust your parameters using this simple function:\n",
    "\n",
    "```\n",
    "w -= gradient(w) * lr\n",
    "```\n",
    "\n",
    "This is known as *stepping* your parameters, using an *optimizer step*."
   ]
  },
  {
   "cell_type": "markdown",
   "metadata": {},
   "source": [
    "### An End-to-End SGD Example"
   ]
  },
  {
   "cell_type": "code",
   "execution_count": 76,
   "metadata": {},
   "outputs": [
    {
     "data": {
      "text/plain": [
       "tensor([ 0.,  1.,  2.,  3.,  4.,  5.,  6.,  7.,  8.,  9., 10., 11., 12., 13., 14., 15., 16., 17., 18., 19.])"
      ]
     },
     "execution_count": 76,
     "metadata": {},
     "output_type": "execute_result"
    }
   ],
   "source": [
    "time = torch.arange(0,20).float(); time"
   ]
  },
  {
   "cell_type": "code",
   "execution_count": 77,
   "metadata": {},
   "outputs": [
    {
     "data": {
      "image/png": "[encoded data removed]",
      "text/plain": [
       "<Figure size 432x288 with 1 Axes>"
      ]
     },
     "metadata": {
      "needs_background": "light"
     },
     "output_type": "display_data"
    }
   ],
   "source": [
    "speed = torch.randn(20)*3 + 0.75*(time-9.5)**2 + 1\n",
    "plt.scatter(time,speed);"
   ]
  },
  {
   "cell_type": "code",
   "execution_count": 78,
   "metadata": {},
   "outputs": [],
   "source": [
    "def f(t, params):\n",
    "    a,b,c = params\n",
    "    return a*(t**2) + (b*t) + c"
   ]
  },
  {
   "cell_type": "code",
   "execution_count": null,
   "metadata": {},
   "outputs": [],
   "source": [
    "def mse(preds, targets): return ((preds-targets)**2).mean()"
   ]
  },
  {
   "cell_type": "code",
   "execution_count": null,
   "metadata": {},
   "outputs": [],
   "source": []
  },
  {
   "cell_type": "markdown",
   "metadata": {},
   "source": [
    "#### Step 1: Initialize the parameters"
   ]
  },
  {
   "cell_type": "code",
   "execution_count": 151,
   "metadata": {},
   "outputs": [],
   "source": [
    "params = torch.randn(3).requires_grad_()"
   ]
  },
  {
   "cell_type": "code",
   "execution_count": 152,
   "metadata": {},
   "outputs": [],
   "source": [
    "#hide\n",
    "orig_params = params.clone()"
   ]
  },
  {
   "cell_type": "markdown",
   "metadata": {},
   "source": [
    "#### Step 2: Calculate the predictions"
   ]
  },
  {
   "cell_type": "code",
   "execution_count": 153,
   "metadata": {},
   "outputs": [],
   "source": [
    "preds = f(time, params)"
   ]
  },
  {
   "cell_type": "code",
   "execution_count": 154,
   "metadata": {},
   "outputs": [],
   "source": [
    "def show_preds(preds, ax=None):\n",
    "    if ax is None: ax=plt.subplots()[1]\n",
    "    ax.scatter(time, speed)\n",
    "    ax.scatter(time, to_np(preds), color='red')\n",
    "    ax.set_ylim(-300,100)"
   ]
  },
  {
   "cell_type": "code",
   "execution_count": 155,
   "metadata": {},
   "outputs": [
    {
     "data": {
      "image/png": "[encoded data removed]",
      "text/plain": [
       "<Figure size 432x288 with 1 Axes>"
      ]
     },
     "metadata": {
      "needs_background": "light"
     },
     "output_type": "display_data"
    }
   ],
   "source": [
    "show_preds(preds)"
   ]
  },
  {
   "cell_type": "markdown",
   "metadata": {},
   "source": [
    "#### Step 3: Calculate the loss"
   ]
  },
  {
   "cell_type": "code",
   "execution_count": 156,
   "metadata": {},
   "outputs": [
    {
     "data": {
      "text/plain": [
       "tensor(13889.1465, grad_fn=<MeanBackward0>)"
      ]
     },
     "execution_count": 156,
     "metadata": {},
     "output_type": "execute_result"
    }
   ],
   "source": [
    "loss = mse(preds, speed)\n",
    "loss"
   ]
  },
  {
   "cell_type": "markdown",
   "metadata": {},
   "source": [
    "#### Step 4: Calculate the gradients"
   ]
  },
  {
   "cell_type": "code",
   "execution_count": 157,
   "metadata": {},
   "outputs": [
    {
     "data": {
      "text/plain": [
       "tensor([-38440.7969,  -2491.1804,   -193.6937])"
      ]
     },
     "execution_count": 157,
     "metadata": {},
     "output_type": "execute_result"
    }
   ],
   "source": [
    "loss.backward()\n",
    "params.grad"
   ]
  },
  {
   "cell_type": "code",
   "execution_count": 158,
   "metadata": {},
   "outputs": [
    {
     "data": {
      "text/plain": [
       "tensor([-0.3844, -0.0249, -0.0019])"
      ]
     },
     "execution_count": 158,
     "metadata": {},
     "output_type": "execute_result"
    }
   ],
   "source": [
    "params.grad * 1e-5"
   ]
  },
  {
   "cell_type": "code",
   "execution_count": 159,
   "metadata": {},
   "outputs": [
    {
     "data": {
      "text/plain": [
       "tensor([-0.4559, -1.2763, -1.8336], requires_grad=True)"
      ]
     },
     "execution_count": 159,
     "metadata": {},
     "output_type": "execute_result"
    }
   ],
   "source": [
    "params"
   ]
  },
  {
   "cell_type": "markdown",
   "metadata": {},
   "source": [
    "#### Step 5: Step the weights. "
   ]
  },
  {
   "cell_type": "code",
   "execution_count": 160,
   "metadata": {},
   "outputs": [],
   "source": [
    "lr = 1e-5\n",
    "params.data -= lr * params.grad.data\n",
    "params.grad = None"
   ]
  },
  {
   "cell_type": "code",
   "execution_count": 161,
   "metadata": {},
   "outputs": [
    {
     "data": {
      "text/plain": [
       "tensor(3241.8374, grad_fn=<MeanBackward0>)"
      ]
     },
     "execution_count": 161,
     "metadata": {},
     "output_type": "execute_result"
    }
   ],
   "source": [
    "preds = f(time,params)\n",
    "mse(preds, speed)"
   ]
  },
  {
   "cell_type": "code",
   "execution_count": 162,
   "metadata": {},
   "outputs": [
    {
     "data": {
      "image/png": "[encoded data removed]",
      "text/plain": [
       "<Figure size 432x288 with 1 Axes>"
      ]
     },
     "metadata": {
      "needs_background": "light"
     },
     "output_type": "display_data"
    }
   ],
   "source": [
    "show_preds(preds)"
   ]
  },
  {
   "cell_type": "code",
   "execution_count": 163,
   "metadata": {},
   "outputs": [],
   "source": [
    "def apply_step(params, prn=True):\n",
    "    preds = f(time, params)\n",
    "    loss = mse(preds, speed)\n",
    "    loss.backward()\n",
    "    params.data -= lr * params.grad.data\n",
    "    params.grad = None\n",
    "    if prn: print(loss.item())\n",
    "    return preds"
   ]
  },
  {
   "cell_type": "markdown",
   "metadata": {},
   "source": [
    "#### Step 6: Repeat the process "
   ]
  },
  {
   "cell_type": "code",
   "execution_count": 164,
   "metadata": {},
   "outputs": [
    {
     "name": "stdout",
     "output_type": "stream",
     "text": [
      "3241.83740234375\n",
      "1227.0316162109375\n",
      "845.7589721679688\n",
      "773.6008911132812\n",
      "759.9366455078125\n",
      "757.34130859375\n",
      "756.8404541015625\n",
      "756.7359008789062\n",
      "756.7064208984375\n",
      "756.6912841796875\n"
     ]
    }
   ],
   "source": [
    "for i in range(10): apply_step(params)"
   ]
  },
  {
   "cell_type": "code",
   "execution_count": 165,
   "metadata": {},
   "outputs": [],
   "source": [
    "#hide\n",
    "params = orig_params.detach().requires_grad_()"
   ]
  },
  {
   "cell_type": "code",
   "execution_count": 166,
   "metadata": {},
   "outputs": [
    {
     "data": {
      "image/png": "[encoded data removed]",
      "text/plain": [
       "<Figure size 864x216 with 4 Axes>"
      ]
     },
     "metadata": {
      "needs_background": "light"
     },
     "output_type": "display_data"
    }
   ],
   "source": [
    "_,axs = plt.subplots(1,4,figsize=(12,3))\n",
    "for ax in axs: show_preds(apply_step(params, False), ax)\n",
    "plt.tight_layout()"
   ]
  },
  {
   "cell_type": "markdown",
   "metadata": {},
   "source": [
    "#### Step 7: stop"
   ]
  },
  {
   "cell_type": "markdown",
   "metadata": {},
   "source": [
    "### Summarizing Gradient Descent"
   ]
  },
  {
   "cell_type": "code",
   "execution_count": 167,
   "metadata": {},
   "outputs": [
    {
     "ename": "NameError",
     "evalue": "name 'graphviz' is not defined",
     "output_type": "error",
     "traceback": [
      "\u001b[0;31m---------------------------------------------------------------------------\u001b[0m",
      "\u001b[0;31mNameError\u001b[0m                                 Traceback (most recent call last)",
      "\u001b[0;32m<ipython-input-167-ef7727bab678>\u001b[0m in \u001b[0;36m<module>\u001b[0;34m\u001b[0m\n\u001b[1;32m      2\u001b[0m \u001b[0minit\u001b[0m\u001b[0;34m->\u001b[0m\u001b[0mpredict\u001b[0m\u001b[0;34m->\u001b[0m\u001b[0mloss\u001b[0m\u001b[0;34m->\u001b[0m\u001b[0mgradient\u001b[0m\u001b[0;34m->\u001b[0m\u001b[0mstep\u001b[0m\u001b[0;34m->\u001b[0m\u001b[0mstop\u001b[0m\u001b[0;34m\u001b[0m\u001b[0;34m\u001b[0m\u001b[0m\n\u001b[1;32m      3\u001b[0m \u001b[0mstep\u001b[0m\u001b[0;34m->\u001b[0m\u001b[0mpredict\u001b[0m\u001b[0;34m[\u001b[0m\u001b[0mlabel\u001b[0m\u001b[0;34m=\u001b[0m\u001b[0mrepeat\u001b[0m\u001b[0;34m]\u001b[0m\u001b[0;34m\u001b[0m\u001b[0;34m\u001b[0m\u001b[0m\n\u001b[0;32m----> 4\u001b[0;31m ''')\n\u001b[0m",
      "\u001b[0;32m/opt/conda/lib/python3.7/site-packages/fastbook/__init__.py\u001b[0m in \u001b[0;36mgv\u001b[0;34m(s)\u001b[0m\n\u001b[1;32m     43\u001b[0m     \u001b[0;32mif\u001b[0m \u001b[0mIN_COLAB\u001b[0m\u001b[0;34m:\u001b[0m \u001b[0;32mreturn\u001b[0m \u001b[0msetup_colab\u001b[0m\u001b[0;34m(\u001b[0m\u001b[0;34m)\u001b[0m\u001b[0;34m\u001b[0m\u001b[0;34m\u001b[0m\u001b[0m\n\u001b[1;32m     44\u001b[0m \u001b[0;34m\u001b[0m\u001b[0m\n\u001b[0;32m---> 45\u001b[0;31m \u001b[0;32mdef\u001b[0m \u001b[0mgv\u001b[0m\u001b[0;34m(\u001b[0m\u001b[0ms\u001b[0m\u001b[0;34m)\u001b[0m\u001b[0;34m:\u001b[0m \u001b[0;32mreturn\u001b[0m \u001b[0mgraphviz\u001b[0m\u001b[0;34m.\u001b[0m\u001b[0mSource\u001b[0m\u001b[0;34m(\u001b[0m\u001b[0;34m'digraph G{ rankdir=\"LR\"'\u001b[0m \u001b[0;34m+\u001b[0m \u001b[0ms\u001b[0m \u001b[0;34m+\u001b[0m \u001b[0;34m'; }'\u001b[0m\u001b[0;34m)\u001b[0m\u001b[0;34m\u001b[0m\u001b[0;34m\u001b[0m\u001b[0m\n\u001b[0m\u001b[1;32m     46\u001b[0m \u001b[0;34m\u001b[0m\u001b[0m\n\u001b[1;32m     47\u001b[0m \u001b[0;32mdef\u001b[0m \u001b[0mget_image_files_sorted\u001b[0m\u001b[0;34m(\u001b[0m\u001b[0mpath\u001b[0m\u001b[0;34m,\u001b[0m \u001b[0mrecurse\u001b[0m\u001b[0;34m=\u001b[0m\u001b[0;32mTrue\u001b[0m\u001b[0;34m,\u001b[0m \u001b[0mfolders\u001b[0m\u001b[0;34m=\u001b[0m\u001b[0;32mNone\u001b[0m\u001b[0;34m)\u001b[0m\u001b[0;34m:\u001b[0m\u001b[0;34m\u001b[0m\u001b[0;34m\u001b[0m\u001b[0m\n",
      "\u001b[0;31mNameError\u001b[0m: name 'graphviz' is not defined"
     ]
    }
   ],
   "source": [
    "gv('''\n",
    "init->predict->loss->gradient->step->stop\n",
    "step->predict[label=repeat]\n",
    "''')"
   ]
  },
  {
   "cell_type": "markdown",
   "metadata": {},
   "source": [
    "## The MNIST Loss Function\n",
    "We already have our dependent variables `x`—these are the images themselves. We'll concatenate them all into a single tensor, and also change them from a list of matrices (a rank-3 tensor) to a list of vectors (a rank-2 tensor). \n",
    ">PyTorch: method `view`, which changes the shape of a tensor without changing its contents. `-1` is a special parameter to `view` that means \"make this axis as big as necessary to fit all the data\""
   ]
  },
  {
   "cell_type": "code",
   "execution_count": 179,
   "metadata": {},
   "outputs": [],
   "source": [
    "#review classes and shapes\n",
    "#stacked_threes.shape # class torch.Tensor, torch.Size([6131, 28, 28])\n",
    "#[stacked_threes, stacked_sevens] #class list\n"
   ]
  },
  {
   "cell_type": "markdown",
   "metadata": {},
   "source": [
    "Transform data: reshape and turn into vectors"
   ]
  },
  {
   "cell_type": "code",
   "execution_count": 172,
   "metadata": {},
   "outputs": [],
   "source": [
    "train_x = torch.cat([stacked_threes, stacked_sevens]).view(-1, 28*28)"
   ]
  },
  {
   "cell_type": "code",
   "execution_count": 180,
   "metadata": {},
   "outputs": [],
   "source": [
    "#review classes and shapes\n",
    "#train_x.shape # class torch.Tensor, torch.Size([12396, 784])"
   ]
  },
  {
   "cell_type": "markdown",
   "metadata": {},
   "source": [
    "We need a label for each image. We'll use `1` for 3s and `0` for 7s\n",
    ">PyTorch: unsqueeze() adds an additional unit dimension  \n",
    "\n",
    "From a vector of 12396 long into a matrix of 12396 rows and 1 column.  That's what PyTorch expects. "
   ]
  },
  {
   "cell_type": "code",
   "execution_count": 175,
   "metadata": {},
   "outputs": [
    {
     "data": {
      "text/plain": [
       "(torch.Size([12396, 784]), torch.Size([12396, 1]))"
      ]
     },
     "execution_count": 175,
     "metadata": {},
     "output_type": "execute_result"
    }
   ],
   "source": [
    "train_y = tensor([1]*len(threes) + [0]*len(sevens)).unsqueeze(1)\n",
    "train_x.shape,train_y.shape"
   ]
  },
  {
   "cell_type": "markdown",
   "metadata": {},
   "source": [
    "Now turn our `x` and `y` into a dataset.  A `Dataset` in PyTorch is required to return a tuple of `(x,y)` when indexed. \n",
    ">Python: `zip` function which, when combined with `list`, provides a simple way to get this functionality"
   ]
  },
  {
   "cell_type": "code",
   "execution_count": 188,
   "metadata": {},
   "outputs": [
    {
     "data": {
      "text/plain": [
       "(torch.Size([784]), tensor([1]))"
      ]
     },
     "execution_count": 188,
     "metadata": {},
     "output_type": "execute_result"
    }
   ],
   "source": [
    "dset = list(zip(train_x,train_y))\n",
    "#will contain images and labels:\n",
    "\n",
    "#here's 1 image and 1 label\n",
    "x,y = dset[0]\n",
    "x.shape,y"
   ]
  },
  {
   "cell_type": "markdown",
   "metadata": {},
   "source": [
    "Same steps for the validation dataset"
   ]
  },
  {
   "cell_type": "code",
   "execution_count": 184,
   "metadata": {},
   "outputs": [],
   "source": [
    "valid_x = torch.cat([valid_3_tens, valid_7_tens]).view(-1, 28*28)\n",
    "valid_y = tensor([1]*len(valid_3_tens) + [0]*len(valid_7_tens)).unsqueeze(1)\n",
    "valid_dset = list(zip(valid_x,valid_y))"
   ]
  },
  {
   "cell_type": "markdown",
   "metadata": {},
   "source": [
    "Now we need an (initially random) weight for every pixel (this is the *initialize* step in our seven-step process)"
   ]
  },
  {
   "cell_type": "code",
   "execution_count": 185,
   "metadata": {},
   "outputs": [],
   "source": [
    "#must tell PyTorch that we want gradients\n",
    "def init_params(size, var=1.0): return (torch.randn(size)*var).requires_grad_()"
   ]
  },
  {
   "cell_type": "code",
   "execution_count": 186,
   "metadata": {},
   "outputs": [],
   "source": [
    "#every pixel will need a weight -> 28*28\n",
    "weights = init_params((28*28,1)) # class torch.Tensor, torch.Size([784, 1])"
   ]
  },
  {
   "cell_type": "markdown",
   "metadata": {},
   "source": [
    "The function `weights*pixels` won't be flexible enough—it is always equal to 0 when the pixels are equal to 0 (i.e., its *intercept* is 0). You might remember from high school math that the formula for a line is `y=w*x+b`; we still need the `b`. We'll initialize it to a random number too"
   ]
  },
  {
   "cell_type": "code",
   "execution_count": 191,
   "metadata": {},
   "outputs": [],
   "source": [
    "bias = init_params(1) # class torch.Tensor, torch.Size([1])"
   ]
  },
  {
   "cell_type": "markdown",
   "metadata": {},
   "source": [
    "#### Difference between Parameters and Weights\n",
    "In neural networks, the `w` in the equation `y=w*x+b` is called the *weights*, and the `b` is called the *bias*. Together, the weights and bias make up the *parameters*.\n",
    "> jargon: Parameters: The _weights_ and _biases_ of a model. The weights are the `w` in the equation `w*x+b`, and the biases are the `b` in that equation.\n",
    "\n",
    "We can now calculate a prediction for one image"
   ]
  },
  {
   "cell_type": "code",
   "execution_count": 194,
   "metadata": {},
   "outputs": [
    {
     "data": {
      "text/plain": [
       "tensor([-16.5056], grad_fn=<AddBackward0>)"
      ]
     },
     "execution_count": 194,
     "metadata": {},
     "output_type": "execute_result"
    }
   ],
   "source": [
    "(train_x[0]*weights.T).sum() + bias"
   ]
  },
  {
   "cell_type": "markdown",
   "metadata": {},
   "source": [
    "We want to do it for every image (without `for` loops, that would be very slow. Because Python loops don't run on the GPU, and because Python is a slow language for loops in general). We need to represent as much of the computation in a model as possible using higher-level functions.\n",
    "\n",
    "In this case, there's an extremely convenient mathematical operation that calculates `w*x` for every row of a matrix—it's called *matrix multiplication*. <<matmul>> shows what matrix multiplication looks like."
   ]
  },
  {
   "cell_type": "markdown",
   "metadata": {},
   "source": [
    "<img alt=\"Matrix multiplication\" width=\"400\" caption=\"Matrix multiplication\" src=\"fastbook/images/matmul2.svg\" id=\"matmul\"/>"
   ]
  },
  {
   "cell_type": "markdown",
   "metadata": {},
   "source": [
    ">Math: Matrix Multiplication  \n",
    "This image shows two matrices, `A` and `B`, being multiplied together. Each item of the result, which we'll call `AB`, contains each item of its corresponding row of `A` multiplied by each item of its corresponding column of `B`, added together. \n",
    "\n",
    "For instance, row 1, column 2 (the orange dot with a red border) is calculated as $a_{1,1} * b_{1,2} + a_{1,2} * b_{2,2}$. If you need a refresher on matrix multiplication, we suggest you take a look at the [Intro to Matrix Multiplication](https://youtu.be/kT4Mp9EdVqs) on *Khan Academy*, since this is the most important mathematical operation in deep learning.\n",
    "\n",
    ">Python: matrix multiplication is represented with the `@` operator"
   ]
  },
  {
   "cell_type": "code",
   "execution_count": 196,
   "metadata": {},
   "outputs": [
    {
     "data": {
      "text/plain": [
       "tensor([[-16.5056],\n",
       "        [ -6.3979],\n",
       "        [ -2.2830],\n",
       "        ...,\n",
       "        [  3.5637],\n",
       "        [ 12.3363],\n",
       "        [ 11.4337]], grad_fn=<AddBackward0>)"
      ]
     },
     "execution_count": 196,
     "metadata": {},
     "output_type": "execute_result"
    }
   ],
   "source": [
    "#xb for x batch?\n",
    "def linear1(xb): return xb@weights + bias\n",
    "preds = linear1(train_x)\n",
    "preds"
   ]
  },
  {
   "cell_type": "code",
   "execution_count": 198,
   "metadata": {},
   "outputs": [
    {
     "data": {
      "text/plain": [
       "torch.Size([12396, 1])"
      ]
     },
     "execution_count": 198,
     "metadata": {},
     "output_type": "execute_result"
    }
   ],
   "source": [
    "preds.shape"
   ]
  },
  {
   "cell_type": "markdown",
   "metadata": {},
   "source": [
    "#### Fundamental Equation #1 of Neural Nets\n",
    "The first element is the same as we calculated before, as we'd expect. This equation, `batch@weights + bias`, is one of the two fundamental equations of any neural network (the other one is the *activation function*, which we'll see in a moment).\n",
    "\n",
    "Let's check our accuracy. To decide if an output represents a 3 or a 7, we can just check whether it's greater than 0, so our accuracy for each item can be calculated (using broadcasting, so no loops!) with"
   ]
  },
  {
   "cell_type": "code",
   "execution_count": 199,
   "metadata": {},
   "outputs": [
    {
     "data": {
      "text/plain": [
       "tensor([[False],\n",
       "        [False],\n",
       "        [False],\n",
       "        ...,\n",
       "        [False],\n",
       "        [False],\n",
       "        [False]])"
      ]
     },
     "execution_count": 199,
     "metadata": {},
     "output_type": "execute_result"
    }
   ],
   "source": [
    "corrects = (preds>0.0).float() == train_y\n",
    "corrects"
   ]
  },
  {
   "cell_type": "code",
   "execution_count": 204,
   "metadata": {},
   "outputs": [
    {
     "data": {
      "text/plain": [
       "0.28848016262054443"
      ]
     },
     "execution_count": 204,
     "metadata": {},
     "output_type": "execute_result"
    }
   ],
   "source": [
    "#corrects.float().mean().__class__ #class torch.Tensor\n",
    "#to unwrap the tensor, use item()\n",
    "corrects.float().mean().item() #class float, a normal Python scalar"
   ]
  },
  {
   "cell_type": "markdown",
   "metadata": {},
   "source": [
    "#### Calculate Derivative on the Accuracy\n",
    "by changing a parameter by a tiny bit.  Now let's see what the change in accuracy is for a small change in one of the weights"
   ]
  },
  {
   "cell_type": "code",
   "execution_count": 205,
   "metadata": {},
   "outputs": [],
   "source": [
    "#take just one parameter and change it a little\n",
    "weights[0] *= 1.0001"
   ]
  },
  {
   "cell_type": "code",
   "execution_count": 206,
   "metadata": {},
   "outputs": [
    {
     "data": {
      "text/plain": [
       "0.28848016262054443"
      ]
     },
     "execution_count": 206,
     "metadata": {},
     "output_type": "execute_result"
    }
   ],
   "source": [
    "#calculate how the accuracy changes\n",
    "preds = linear1(train_x)\n",
    "((preds>0.0).float() == train_y).float().mean().item()"
   ]
  },
  {
   "cell_type": "markdown",
   "metadata": {},
   "source": [
    "How did the accuracy change?  It didn't. \n",
    "We have a problem: our derivative is 0 (rise over run: no change in y => y-change divided by x-change = 0) so we have 0 gradients, which means our step will be 0, which means our prediction won't change.  Can't improve.  \n",
    "\n",
    "So we need to use something other than accuracy as our loss function. \n",
    "\n",
    "Same explanation as above in more detail:  \n",
    "As we've seen, we need gradients in order to improve our model using SGD, and in order to calculate gradients we need some *loss function* that represents how good our model is. That is because the gradients are a measure of how that loss function changes with small tweaks to the weights.\n",
    "\n",
    "So, we need to choose a loss function. The obvious approach would be to use accuracy, which is our metric, as our loss function as well. In this case, we would calculate our prediction for each image, collect these values to calculate an overall accuracy, and then calculate the gradients of each weight with respect to that overall accuracy.\n",
    "\n",
    "Unfortunately, we have a significant technical problem here. The gradient of a function is its *slope*, or its steepness, which can be defined as *rise over run*—that is, how much the value of the function goes up or down, divided by how much we changed the input. We can write this in mathematically as: `(y_new - y_old) / (x_new - x_old)`. This gives us a good approximation of the gradient when `x_new` is very similar to `x_old`, meaning that their difference is very small. But accuracy only changes at all when a prediction changes from a 3 to a 7, or vice versa. The problem is that a small change in weights from `x_old` to `x_new` isn't likely to cause any prediction to change, so `(y_new - y_old)` will almost always be 0. In other words, the gradient is 0 almost everywhere."
   ]
  },
  {
   "cell_type": "markdown",
   "metadata": {},
   "source": [
    "A very small change in the value of a weight will often not actually change the accuracy at all. This means it is not useful to use accuracy as a loss function—if we do, most of the time our gradients will actually be 0, and the model will not be able to learn from that number.\n",
    "\n",
    "> S: In mathematical terms, accuracy is a function that is constant almost everywhere (except at the threshold, 0.5), so its derivative is nil almost everywhere (and infinity at the threshold). This then gives gradients that are 0 or infinite, which are useless for updating the model.\n",
    "\n",
    "#### Small Example\n",
    "Instead, we need a loss function which, when our weights result in slightly better predictions, gives us a slightly better loss. So what does a \"slightly better prediction\" look like, exactly? Well, in this case, it means that if the correct answer is a 3 the score is a little higher, or if the correct answer is a 7 the score is a little lower.\n",
    "\n",
    "Let's write such a function now. What form does it take?\n",
    "\n",
    "The loss function receives not the images themselves, but the predictions from the model. Let's make one argument, `prds`, of values between 0 and 1, where each value is the prediction that an image is a 3. It is a vector (i.e., a rank-1 tensor), indexed over the images.\n",
    "\n",
    "The purpose of the loss function is to measure the difference between predicted values and the true values — that is, the targets (aka labels). Let's make another argument, `trgts`, with values of 0 or 1 which tells whether an image actually is a 3 or not. It is also a vector (i.e., another rank-1 tensor), indexed over the images.\n",
    "\n",
    "So, for instance, suppose we had three images which we knew were a 3, a 7, and a 3. And suppose our model predicted with high confidence (`0.9`) that the first was a 3, with slight confidence (`0.4`) that the second was a 7, and with fair confidence (`0.2`), but incorrectly, that the last was a 7. This would mean our loss function would receive these values as its inputs:"
   ]
  },
  {
   "cell_type": "code",
   "execution_count": 207,
   "metadata": {},
   "outputs": [],
   "source": [
    "trgts  = tensor([1,0,1])\n",
    "prds   = tensor([0.9, 0.4, 0.2])"
   ]
  },
  {
   "cell_type": "markdown",
   "metadata": {},
   "source": [
    "Here's a first try at a loss function that measures the distance between `predictions` and `targets`"
   ]
  },
  {
   "cell_type": "code",
   "execution_count": 208,
   "metadata": {},
   "outputs": [],
   "source": [
    "def mnist_loss(predictions, targets):\n",
    "    return torch.where(targets==1, 1-predictions, predictions).mean()"
   ]
  },
  {
   "cell_type": "markdown",
   "metadata": {},
   "source": [
    ">PyTorch:  `torch.where(a,b,c)`. This is the same as running the list comprehension `[b[i] if a[i] else c[i] for i in range(len(a))]`, except it works on tensors, at C/CUDA speed. In plain English, this function will measure how distant each prediction is from 1 if it should be 1, and how distant it is from 0 if it should be 0, and then it will take the mean of all those distances.\n",
    "\n",
    "Note: Read the Docs: It's important to learn about PyTorch functions like this, because looping over tensors in Python performs at Python speed, not C/CUDA speed! Try running `help(torch.where)` or, better still, look it up on the PyTorch documentation site.\n",
    "\n",
    "Let's try it on our `prds` and `trgts`"
   ]
  },
  {
   "cell_type": "code",
   "execution_count": 209,
   "metadata": {},
   "outputs": [
    {
     "data": {
      "text/plain": [
       "tensor([0.1000, 0.4000, 0.8000])"
      ]
     },
     "execution_count": 209,
     "metadata": {},
     "output_type": "execute_result"
    }
   ],
   "source": [
    "torch.where(trgts==1, 1-prds, prds)"
   ]
  },
  {
   "cell_type": "markdown",
   "metadata": {},
   "source": [
    "You can see that this function returns a lower number when predictions are more accurate, when accurate predictions are more confident (higher absolute values), and when inaccurate predictions are less confident. In PyTorch, we always assume that a lower value of a loss function is better. Since we need a scalar for the final loss, `mnist_loss` takes the mean of the previous tensor"
   ]
  },
  {
   "cell_type": "code",
   "execution_count": 210,
   "metadata": {},
   "outputs": [
    {
     "data": {
      "text/plain": [
       "tensor(0.4333)"
      ]
     },
     "execution_count": 210,
     "metadata": {},
     "output_type": "execute_result"
    }
   ],
   "source": [
    "mnist_loss(prds,trgts)"
   ]
  },
  {
   "cell_type": "markdown",
   "metadata": {},
   "source": [
    "For instance, if we change our prediction for the one \"false\" target from `0.2` to `0.8` the loss will go down, indicating that this is a better prediction"
   ]
  },
  {
   "cell_type": "code",
   "execution_count": 211,
   "metadata": {},
   "outputs": [
    {
     "data": {
      "text/plain": [
       "tensor(0.2333)"
      ]
     },
     "execution_count": 211,
     "metadata": {},
     "output_type": "execute_result"
    }
   ],
   "source": [
    "mnist_loss(tensor([0.9, 0.4, 0.8]),trgts)"
   ]
  },
  {
   "cell_type": "markdown",
   "metadata": {},
   "source": [
    "One problem with `mnist_loss` as currently defined is that it assumes that predictions are always between 0 and 1. We need to ensure, then, that this is actually the case! As it happens, there is a function that does exactly that.\n",
    "\n",
    "Summary: Only going to work if our predictions are between 0 and 1.  Our predictions so far return quite different numbers, i.e. [[-16.5056], [ -6.3979],...,[ 12.3363], [ 11.4337]].  We need some function to turn them into values between 0 and 1. Intuitively think of them as probabilities, at least nicely scaled numbers. \n",
    "\n",
    "### Sigmoid\n",
    "The `sigmoid` function always outputs a number between 0 and 1. It's defined as"
   ]
  },
  {
   "cell_type": "code",
   "execution_count": 212,
   "metadata": {},
   "outputs": [],
   "source": [
    "def sigmoid(x): return 1/(1+torch.exp(-x))"
   ]
  },
  {
   "cell_type": "markdown",
   "metadata": {},
   "source": [
    "#### mySigmoid\n",
    "by hand"
   ]
  },
  {
   "cell_type": "code",
   "execution_count": 215,
   "metadata": {},
   "outputs": [
    {
     "data": {
      "text/plain": [
       "2.718281828459045"
      ]
     },
     "execution_count": 215,
     "metadata": {},
     "output_type": "execute_result"
    }
   ],
   "source": [
    "math.e"
   ]
  },
  {
   "cell_type": "code",
   "execution_count": 217,
   "metadata": {},
   "outputs": [],
   "source": [
    "def mySigmoid(x): return 1 / (1 + math.e**(-x))"
   ]
  },
  {
   "cell_type": "code",
   "execution_count": 218,
   "metadata": {},
   "outputs": [
    {
     "data": {
      "image/png": "[encoded data removed]",
      "text/plain": [
       "<Figure size 432x288 with 1 Axes>"
      ]
     },
     "metadata": {
      "needs_background": "light"
     },
     "output_type": "display_data"
    }
   ],
   "source": [
    "plot_function(mySigmoid, title='Sigmoid', min=-4, max=4)"
   ]
  },
  {
   "cell_type": "markdown",
   "metadata": {},
   "source": [
    ">Math, numpy and PyTorch: exp() function"
   ]
  },
  {
   "cell_type": "code",
   "execution_count": 223,
   "metadata": {},
   "outputs": [
    {
     "name": "stdout",
     "output_type": "stream",
     "text": [
      "7.3890560989306495\n",
      "7.38905609893065\n",
      "tensor(7.3891)\n"
     ]
    }
   ],
   "source": [
    "print (math.e**2)\n",
    "print(np.exp(2))\n",
    "print(torch.exp(tensor(2.)))"
   ]
  },
  {
   "cell_type": "markdown",
   "metadata": {},
   "source": [
    ">Pytorch: defines an accelerated version torch.sigmoid"
   ]
  },
  {
   "cell_type": "code",
   "execution_count": 213,
   "metadata": {},
   "outputs": [
    {
     "data": {
      "image/png": "[encoded data removed]",
      "text/plain": [
       "<Figure size 432x288 with 1 Axes>"
      ]
     },
     "metadata": {
      "needs_background": "light"
     },
     "output_type": "display_data"
    }
   ],
   "source": [
    "plot_function(torch.sigmoid, title='Sigmoid', min=-4, max=4)"
   ]
  },
  {
   "cell_type": "markdown",
   "metadata": {},
   "source": [
    "What's important is the Sigmoid shape: it squashes every number to be between 0 and 1. It won't have nasty 0 gradients.  \n",
    "\n",
    "It takes any input value, positive or negative, and smooshes it onto an output value between 0 and 1. It's also a smooth curve that only goes up, which makes it easier for SGD to find meaningful gradients. \n",
    "\n",
    "Let's update `mnist_loss` to first apply `sigmoid` to the inputs"
   ]
  },
  {
   "cell_type": "code",
   "execution_count": 224,
   "metadata": {},
   "outputs": [],
   "source": [
    "def mnist_loss(predictions, targets):\n",
    "    #scale predicitons\n",
    "    predictions = predictions.sigmoid()\n",
    "    return torch.where(targets==1, 1-predictions, predictions).mean()"
   ]
  },
  {
   "cell_type": "markdown",
   "metadata": {},
   "source": [
    "Now we can be confident our loss function will work, even if the predictions are not between 0 and 1. All that is required is that a higher prediction corresponds to higher confidence an image is a 3.\n",
    "\n",
    "Having defined a loss function, now is a good moment to recapitulate why we did this. After all, we already had a metric, which was overall accuracy. So why did we define a loss?\n",
    "\n",
    "The key difference is that the metric is to drive human understanding and the loss is to drive automated learning. To drive automated learning, the loss must be a function that has a meaningful derivative. It can't have big flat sections and large jumps, but instead must be reasonably smooth. This is why we designed a loss function that would respond to small changes in confidence level. This requirement means that sometimes it does not really reflect exactly what we are trying to achieve, but is rather a compromise between our real goal, and a function that can be optimized using its gradient. The loss function is calculated for each item in our dataset, and then at the end of an epoch the loss values are all averaged and the overall mean is reported for the epoch.\n",
    "\n",
    "Metrics, on the other hand, are the numbers that we really care about. These are the values that are printed at the end of each epoch that tell us how our model is really doing. It is important that we learn to focus on these metrics, rather than the loss, when judging the performance of a model.\n",
    "\n",
    "Summary: the reason we did all this because our accuracy (what we care about) gave us 0 gradients, can't use it to create our steps to improve parameters. So we changed our accuracy to another funtion which gets better when accuracy gets better but it also doesn't have 0 gradients. So, here we have a metric (humans actually care about) and a loss (similar to what we care about with nicely behaving gradient).  Sometimes metric and loss are the same, i.e. (R)MSE has a nicely defined gradient so can be used directly as a loss.  But unfortunately we can't use it for classification.  So we need to transform predictions with Sigmoid to update the parameters.  \n"
   ]
  },
  {
   "cell_type": "markdown",
   "metadata": {},
   "source": [
    "### SGD and Mini-Batches\n",
    "Now that we have a loss function that is suitable for driving SGD, we can consider some of the details involved in the next phase of the learning process, which is to change or update the weights based on the gradients. This is called an *optimization step*.\n",
    "\n",
    "In order to take an optimization step we need to calculate the loss over one or more data items. How many should we use? We could calculate it for the whole dataset, and take the average, or we could calculate it for a single data item. But neither of these is ideal. Calculating it for the whole dataset would take a very long time. Calculating it for a single item would not use much information, so it would result in a very imprecise and unstable gradient. That is, you'd be going to the trouble of updating the weights, but taking into account only how that would improve the model's performance on that single item.\n",
    "\n",
    "So instead we take a compromise between the two: we calculate the average loss for a few data items at a time. This is called a *mini-batch*. The number of data items in the mini-batch is called the *batch size*. A larger batch size means that you will get a more accurate and stable estimate of your dataset's gradients from the loss function, but it will take longer, and you will process fewer mini-batches per epoch. Choosing a good batch size is one of the decisions you need to make as a deep learning practitioner to train your model quickly and accurately. We will talk about how to make this choice throughout this book.\n",
    "\n",
    "Another good reason for using mini-batches rather than calculating the gradient on individual data items is that, in practice, we nearly always do our training on an accelerator such as a GPU. These accelerators only perform well if they have lots of work to do at a time, so it's helpful if we can give them lots of data items to work on. Using mini-batches is one of the best ways to do this. However, if you give them too much data to work on at once, they run out of memory—making GPUs happy is also tricky!\n",
    "\n",
    "As we saw in our discussion of data augmentation in <<chapter_production>>, we get better generalization if we can vary things during training. One simple and effective thing we can vary is what data items we put in each mini-batch. Rather than simply enumerating our dataset in order for every epoch, instead what we normally do is randomly shuffle it on every epoch, before we create mini-batches. PyTorch and fastai provide a class that will do the shuffling and mini-batch collation for you, called `DataLoader`.\n",
    "\n",
    "A `DataLoader` can take any Python collection and turn it into an iterator over many batches, like so"
   ]
  },
  {
   "cell_type": "code",
   "execution_count": null,
   "metadata": {},
   "outputs": [],
   "source": [
    "coll = range(15)\n",
    "dl = DataLoader(coll, batch_size=5, shuffle=True)\n",
    "list(dl)"
   ]
  },
  {
   "cell_type": "code",
   "execution_count": null,
   "metadata": {},
   "outputs": [],
   "source": [
    "ds = L(enumerate(string.ascii_lowercase))\n",
    "ds"
   ]
  },
  {
   "cell_type": "code",
   "execution_count": null,
   "metadata": {},
   "outputs": [],
   "source": [
    "dl = DataLoader(ds, batch_size=6, shuffle=True)\n",
    "list(dl)"
   ]
  },
  {
   "cell_type": "markdown",
   "metadata": {},
   "source": [
    "## Putting It All Together"
   ]
  },
  {
   "cell_type": "code",
   "execution_count": null,
   "metadata": {},
   "outputs": [],
   "source": [
    "weights = init_params((28*28,1))\n",
    "bias = init_params(1)"
   ]
  },
  {
   "cell_type": "code",
   "execution_count": null,
   "metadata": {},
   "outputs": [],
   "source": [
    "dl = DataLoader(dset, batch_size=256)\n",
    "xb,yb = first(dl)\n",
    "xb.shape,yb.shape"
   ]
  },
  {
   "cell_type": "code",
   "execution_count": null,
   "metadata": {},
   "outputs": [],
   "source": [
    "valid_dl = DataLoader(valid_dset, batch_size=256)"
   ]
  },
  {
   "cell_type": "code",
   "execution_count": null,
   "metadata": {},
   "outputs": [],
   "source": [
    "batch = train_x[:4]\n",
    "batch.shape"
   ]
  },
  {
   "cell_type": "code",
   "execution_count": null,
   "metadata": {},
   "outputs": [],
   "source": [
    "preds = linear1(batch)\n",
    "preds"
   ]
  },
  {
   "cell_type": "code",
   "execution_count": null,
   "metadata": {},
   "outputs": [],
   "source": [
    "loss = mnist_loss(preds, train_y[:4])\n",
    "loss"
   ]
  },
  {
   "cell_type": "code",
   "execution_count": null,
   "metadata": {},
   "outputs": [],
   "source": [
    "loss.backward()\n",
    "weights.grad.shape,weights.grad.mean(),bias.grad"
   ]
  },
  {
   "cell_type": "code",
   "execution_count": null,
   "metadata": {},
   "outputs": [],
   "source": [
    "def calc_grad(xb, yb, model):\n",
    "    preds = model(xb)\n",
    "    loss = mnist_loss(preds, yb)\n",
    "    loss.backward()"
   ]
  },
  {
   "cell_type": "code",
   "execution_count": null,
   "metadata": {},
   "outputs": [],
   "source": [
    "calc_grad(batch, train_y[:4], linear1)\n",
    "weights.grad.mean(),bias.grad"
   ]
  },
  {
   "cell_type": "code",
   "execution_count": null,
   "metadata": {},
   "outputs": [],
   "source": [
    "calc_grad(batch, train_y[:4], linear1)\n",
    "weights.grad.mean(),bias.grad"
   ]
  },
  {
   "cell_type": "code",
   "execution_count": null,
   "metadata": {},
   "outputs": [],
   "source": [
    "weights.grad.zero_()\n",
    "bias.grad.zero_();"
   ]
  },
  {
   "cell_type": "code",
   "execution_count": null,
   "metadata": {},
   "outputs": [],
   "source": [
    "def train_epoch(model, lr, params):\n",
    "    for xb,yb in dl:\n",
    "        calc_grad(xb, yb, model)\n",
    "        for p in params:\n",
    "            p.data -= p.grad*lr\n",
    "            p.grad.zero_()"
   ]
  },
  {
   "cell_type": "code",
   "execution_count": null,
   "metadata": {},
   "outputs": [],
   "source": [
    "(preds>0.0).float() == train_y[:4]"
   ]
  },
  {
   "cell_type": "code",
   "execution_count": null,
   "metadata": {},
   "outputs": [],
   "source": [
    "def batch_accuracy(xb, yb):\n",
    "    preds = xb.sigmoid()\n",
    "    correct = (preds>0.5) == yb\n",
    "    return correct.float().mean()"
   ]
  },
  {
   "cell_type": "code",
   "execution_count": null,
   "metadata": {},
   "outputs": [],
   "source": [
    "batch_accuracy(linear1(batch), train_y[:4])"
   ]
  },
  {
   "cell_type": "code",
   "execution_count": null,
   "metadata": {},
   "outputs": [],
   "source": [
    "def validate_epoch(model):\n",
    "    accs = [batch_accuracy(model(xb), yb) for xb,yb in valid_dl]\n",
    "    return round(torch.stack(accs).mean().item(), 4)"
   ]
  },
  {
   "cell_type": "code",
   "execution_count": null,
   "metadata": {},
   "outputs": [],
   "source": [
    "validate_epoch(linear1)"
   ]
  },
  {
   "cell_type": "code",
   "execution_count": null,
   "metadata": {},
   "outputs": [],
   "source": [
    "lr = 1.\n",
    "params = weights,bias\n",
    "train_epoch(linear1, lr, params)\n",
    "validate_epoch(linear1)"
   ]
  },
  {
   "cell_type": "code",
   "execution_count": null,
   "metadata": {},
   "outputs": [],
   "source": [
    "for i in range(20):\n",
    "    train_epoch(linear1, lr, params)\n",
    "    print(validate_epoch(linear1), end=' ')"
   ]
  },
  {
   "cell_type": "markdown",
   "metadata": {},
   "source": [
    "### Creating an Optimizer"
   ]
  },
  {
   "cell_type": "code",
   "execution_count": null,
   "metadata": {},
   "outputs": [],
   "source": [
    "linear_model = nn.Linear(28*28,1)"
   ]
  },
  {
   "cell_type": "code",
   "execution_count": null,
   "metadata": {},
   "outputs": [],
   "source": [
    "w,b = linear_model.parameters()\n",
    "w.shape,b.shape"
   ]
  },
  {
   "cell_type": "code",
   "execution_count": null,
   "metadata": {},
   "outputs": [],
   "source": [
    "class BasicOptim:\n",
    "    def __init__(self,params,lr): self.params,self.lr = list(params),lr\n",
    "\n",
    "    def step(self, *args, **kwargs):\n",
    "        for p in self.params: p.data -= p.grad.data * self.lr\n",
    "\n",
    "    def zero_grad(self, *args, **kwargs):\n",
    "        for p in self.params: p.grad = None"
   ]
  },
  {
   "cell_type": "code",
   "execution_count": null,
   "metadata": {},
   "outputs": [],
   "source": [
    "opt = BasicOptim(linear_model.parameters(), lr)"
   ]
  },
  {
   "cell_type": "code",
   "execution_count": null,
   "metadata": {},
   "outputs": [],
   "source": [
    "def train_epoch(model):\n",
    "    for xb,yb in dl:\n",
    "        calc_grad(xb, yb, model)\n",
    "        opt.step()\n",
    "        opt.zero_grad()"
   ]
  },
  {
   "cell_type": "code",
   "execution_count": null,
   "metadata": {},
   "outputs": [],
   "source": [
    "validate_epoch(linear_model)"
   ]
  },
  {
   "cell_type": "code",
   "execution_count": null,
   "metadata": {},
   "outputs": [],
   "source": [
    "def train_model(model, epochs):\n",
    "    for i in range(epochs):\n",
    "        train_epoch(model)\n",
    "        print(validate_epoch(model), end=' ')"
   ]
  },
  {
   "cell_type": "code",
   "execution_count": null,
   "metadata": {},
   "outputs": [],
   "source": [
    "train_model(linear_model, 20)"
   ]
  },
  {
   "cell_type": "code",
   "execution_count": null,
   "metadata": {},
   "outputs": [],
   "source": [
    "linear_model = nn.Linear(28*28,1)\n",
    "opt = SGD(linear_model.parameters(), lr)\n",
    "train_model(linear_model, 20)"
   ]
  },
  {
   "cell_type": "code",
   "execution_count": null,
   "metadata": {},
   "outputs": [],
   "source": [
    "dls = DataLoaders(dl, valid_dl)"
   ]
  },
  {
   "cell_type": "code",
   "execution_count": null,
   "metadata": {},
   "outputs": [],
   "source": [
    "learn = Learner(dls, nn.Linear(28*28,1), opt_func=SGD,\n",
    "                loss_func=mnist_loss, metrics=batch_accuracy)"
   ]
  },
  {
   "cell_type": "code",
   "execution_count": null,
   "metadata": {},
   "outputs": [],
   "source": [
    "learn.fit(10, lr=lr)"
   ]
  },
  {
   "cell_type": "markdown",
   "metadata": {},
   "source": [
    "## Adding a Nonlinearity"
   ]
  },
  {
   "cell_type": "code",
   "execution_count": null,
   "metadata": {},
   "outputs": [],
   "source": [
    "def simple_net(xb): \n",
    "    res = xb@w1 + b1\n",
    "    res = res.max(tensor(0.0))\n",
    "    res = res@w2 + b2\n",
    "    return res"
   ]
  },
  {
   "cell_type": "code",
   "execution_count": null,
   "metadata": {},
   "outputs": [],
   "source": [
    "w1 = init_params((28*28,30))\n",
    "b1 = init_params(30)\n",
    "w2 = init_params((30,1))\n",
    "b2 = init_params(1)"
   ]
  },
  {
   "cell_type": "code",
   "execution_count": null,
   "metadata": {},
   "outputs": [],
   "source": [
    "plot_function(F.relu)"
   ]
  },
  {
   "cell_type": "code",
   "execution_count": null,
   "metadata": {},
   "outputs": [],
   "source": [
    "simple_net = nn.Sequential(\n",
    "    nn.Linear(28*28,30),\n",
    "    nn.ReLU(),\n",
    "    nn.Linear(30,1)\n",
    ")"
   ]
  },
  {
   "cell_type": "code",
   "execution_count": null,
   "metadata": {},
   "outputs": [],
   "source": [
    "learn = Learner(dls, simple_net, opt_func=SGD,\n",
    "                loss_func=mnist_loss, metrics=batch_accuracy)"
   ]
  },
  {
   "cell_type": "code",
   "execution_count": null,
   "metadata": {},
   "outputs": [],
   "source": [
    "learn.fit(40, 0.1)"
   ]
  },
  {
   "cell_type": "code",
   "execution_count": null,
   "metadata": {},
   "outputs": [],
   "source": [
    "plt.plot(L(learn.recorder.values).itemgot(2));"
   ]
  },
  {
   "cell_type": "code",
   "execution_count": null,
   "metadata": {},
   "outputs": [],
   "source": [
    "learn.recorder.values[-1][2]"
   ]
  },
  {
   "cell_type": "markdown",
   "metadata": {},
   "source": [
    "### Going Deeper"
   ]
  },
  {
   "cell_type": "code",
   "execution_count": null,
   "metadata": {},
   "outputs": [],
   "source": [
    "dls = ImageDataLoaders.from_folder(path)\n",
    "learn = cnn_learner(dls, resnet18, pretrained=False,\n",
    "                    loss_func=F.cross_entropy, metrics=accuracy)\n",
    "learn.fit_one_cycle(1, 0.1)"
   ]
  },
  {
   "cell_type": "markdown",
   "metadata": {},
   "source": [
    "## Jargon Recap"
   ]
  },
  {
   "cell_type": "markdown",
   "metadata": {},
   "source": [
    "## Questionnaire"
   ]
  },
  {
   "cell_type": "markdown",
   "metadata": {},
   "source": [
    "1. How is a grayscale image represented on a computer? How about a color image?\n",
    "1. How are the files and folders in the `MNIST_SAMPLE` dataset structured? Why?\n",
    "1. Explain how the \"pixel similarity\" approach to classifying digits works.\n",
    "1. What is a list comprehension? Create one now that selects odd numbers from a list and doubles them.\n",
    "1. What is a \"rank-3 tensor\"?\n",
    "1. What is the difference between tensor rank and shape? How do you get the rank from the shape?\n",
    "1. What are RMSE and L1 norm?\n",
    "1. How can you apply a calculation on thousands of numbers at once, many thousands of times faster than a Python loop?\n",
    "1. Create a 3×3 tensor or array containing the numbers from 1 to 9. Double it. Select the bottom-right four numbers.\n",
    "1. What is broadcasting?\n",
    "1. Are metrics generally calculated using the training set, or the validation set? Why?\n",
    "1. What is SGD?\n",
    "1. Why does SGD use mini-batches?\n",
    "1. What are the seven steps in SGD for machine learning?\n",
    "1. How do we initialize the weights in a model?\n",
    "1. What is \"loss\"?\n",
    "1. Why can't we always use a high learning rate?\n",
    "1. What is a \"gradient\"?\n",
    "1. Do you need to know how to calculate gradients yourself?\n",
    "1. Why can't we use accuracy as a loss function?\n",
    "1. Draw the sigmoid function. What is special about its shape?\n",
    "1. What is the difference between a loss function and a metric?\n",
    "1. What is the function to calculate new weights using a learning rate?\n",
    "1. What does the `DataLoader` class do?\n",
    "1. Write pseudocode showing the basic steps taken in each epoch for SGD.\n",
    "1. Create a function that, if passed two arguments `[1,2,3,4]` and `'abcd'`, returns `[(1, 'a'), (2, 'b'), (3, 'c'), (4, 'd')]`. What is special about that output data structure?\n",
    "1. What does `view` do in PyTorch?\n",
    "1. What are the \"bias\" parameters in a neural network? Why do we need them?\n",
    "1. What does the `@` operator do in Python?\n",
    "1. What does the `backward` method do?\n",
    "1. Why do we have to zero the gradients?\n",
    "1. What information do we have to pass to `Learner`?\n",
    "1. Show Python or pseudocode for the basic steps of a training loop.\n",
    "1. What is \"ReLU\"? Draw a plot of it for values from `-2` to `+2`.\n",
    "1. What is an \"activation function\"?\n",
    "1. What's the difference between `F.relu` and `nn.ReLU`?\n",
    "1. The universal approximation theorem shows that any function can be approximated as closely as needed using just one nonlinearity. So why do we normally use more?"
   ]
  },
  {
   "cell_type": "markdown",
   "metadata": {},
   "source": [
    "### Further Research"
   ]
  },
  {
   "cell_type": "markdown",
   "metadata": {},
   "source": [
    "1. Create your own implementation of `Learner` from scratch, based on the training loop shown in this chapter.\n",
    "1. Complete all the steps in this chapter using the full MNIST datasets (that is, for all digits, not just 3s and 7s). This is a significant project and will take you quite a bit of time to complete! You'll need to do some of your own research to figure out how to overcome some obstacles you'll meet on the way."
   ]
  },
  {
   "cell_type": "code",
   "execution_count": null,
   "metadata": {},
   "outputs": [],
   "source": [
    "#$xtra myTry ok to delete\n",
    "dist_valid3_abs3 = [(i - mean3).abs().mean() for i in valid_3_tens]\n",
    "dist_valid3_abs7 = [(i - mean7).abs().mean() for i in valid_3_tens]\n",
    "diff3_abs = tensor(dist_valid3_abs3) - tensor(dist_valid3_abs7)\n",
    "diff3_abs"
   ]
  },
  {
   "cell_type": "code",
   "execution_count": null,
   "metadata": {},
   "outputs": [],
   "source": [
    "#xtra myComparedToCourseraML -> translate notation\n",
    "\n",
    "#prediciton\n",
    "y_hat = f(time, params) #X is time, thetas ~ params (with exclusion of bias term)\n",
    "print(\"y_hat\", y_hat)\n",
    "#show_preds(y_hat)\n",
    "\n",
    "#calculate loss function J, here is MSE\n",
    "error2_mse = mse(y_hat, speed)\n",
    "print(\"loss\",error2_mse)\n",
    "\n",
    "#backstep and get gradient(s)\n",
    "error2_mse.backward()\n",
    "print(\"gradients\",params.grad)\n",
    "\n",
    "#adjust step\n",
    "params.data -= lr * params.grad.data\n",
    "params.grad = None"
   ]
  }
 ],
 "metadata": {
  "environment": {
   "name": "common-cu101.m56",
   "type": "gcloud",
   "uri": "gcr.io/deeplearning-platform-release/base-cu101:m56"
  },
  "jupytext": {
   "split_at_heading": true
  },
  "kernelspec": {
   "display_name": "Python 3",
   "language": "python",
   "name": "python3"
  },
  "language_info": {
   "codemirror_mode": {
    "name": "ipython",
    "version": 3
   },
   "file_extension": ".py",
   "mimetype": "text/x-python",
   "name": "python",
   "nbconvert_exporter": "python",
   "pygments_lexer": "ipython3",
   "version": "3.7.8"
  }
 },
 "nbformat": 4,
 "nbformat_minor": 4
}
