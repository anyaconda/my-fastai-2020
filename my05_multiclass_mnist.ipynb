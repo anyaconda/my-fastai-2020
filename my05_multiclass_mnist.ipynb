{
 "cells": [
  {
   "cell_type": "code",
   "execution_count": 3,
   "metadata": {},
   "outputs": [],
   "source": [
    "#meta 10/11/2020 myTry Ch 4&5. Image Classification (multilabel) - MNIST full.\n",
    "\n",
    "#change log\n",
    "#prev 10/11/2020 TRAIN MNIST CLASSIFIER, WITH AND WITHOUT PRETRAINED MODEL\n",
    "\n",
    "#here 10/12/2020 PICKLE DATA FOR REUSE\n",
    "#      Save dls_train and dls_test \n",
    "#      Load pre-pickled data if available.\n"
   ]
  },
  {
   "cell_type": "code",
   "execution_count": 4,
   "metadata": {},
   "outputs": [],
   "source": [
    "#load modules\n",
    "from fastbook import *\n",
    "from fastai.vision.all import *"
   ]
  },
  {
   "cell_type": "markdown",
   "metadata": {},
   "source": [
    "# Image Classification - MNIST\n",
    "full dataset\n",
    "\n",
    "## 0. Load Data\n",
    "\n",
    "If no pre-pickled data, then get it from source and pickle for future reuse."
   ]
  },
  {
   "cell_type": "code",
   "execution_count": 5,
   "metadata": {},
   "outputs": [],
   "source": [
    "#!pwd => /home/jupyter\n",
    "try:\n",
    "    dls_train = torch.load('myData/mnist_full_dls_train.pkl') #class fastai.data.core.DataLoaders\n",
    "    dls_test = torch.load('myData/mnist_full_dls_test.pkl') \n",
    "except:\n",
    "    flg_data_pkl = False"
   ]
  },
  {
   "cell_type": "code",
   "execution_count": 6,
   "metadata": {},
   "outputs": [
    {
     "name": "stdout",
     "output_type": "stream",
     "text": [
      "https://s3.amazonaws.com/fast-ai-imageclas/mnist_png.tgz\n",
      "Path folders:  (#2) [Path('testing'),Path('training')]\n"
     ]
    }
   ],
   "source": [
    "if not flg_data_pkl:\n",
    "    print(URLs.MNIST)\n",
    "    \n",
    "    path = untar_data(URLs.MNIST)\n",
    "    #set path reference\n",
    "    Path.BASE_PATH = path\n",
    "\n",
    "    #see what's in our dataset -> 2 directories\n",
    "    print(\"Path folders: \", path.ls())"
   ]
  },
  {
   "cell_type": "markdown",
   "metadata": {},
   "source": [
    "Files organization: train and test folders, then each digit in its own folder."
   ]
  },
  {
   "cell_type": "code",
   "execution_count": 7,
   "metadata": {},
   "outputs": [
    {
     "name": "stdout",
     "output_type": "stream",
     "text": [
      "(#10) [Path('training/3'),Path('training/8'),Path('training/5'),Path('training/4'),Path('training/9'),Path('training/7'),Path('training/2'),Path('training/6'),Path('training/1'),Path('training/0')]\n",
      "(#6265) [Path('training/7/11328.png'),Path('training/7/30538.png'),Path('training/7/36916.png'),Path('training/7/6986.png'),Path('training/7/981.png'),Path('training/7/50464.png'),Path('training/7/19370.png'),Path('training/7/18720.png'),Path('training/7/23309.png'),Path('training/7/9905.png')...]\n"
     ]
    }
   ],
   "source": [
    "if not flg_data_pkl:\n",
    "    #files structure\n",
    "    print((path/\"training\").ls()) #class fastcore.foundation.L\n",
    "    print((path/\"training/7\").ls())\n",
    "    "
   ]
  },
  {
   "cell_type": "code",
   "execution_count": 20,
   "metadata": {},
   "outputs": [
    {
     "data": {
      "image/png": "[encoded data removed]",
      "text/plain": [
       "<PIL.PngImagePlugin.PngImageFile image mode=L size=28x28 at 0x7F78600625D0>"
      ]
     },
     "execution_count": 20,
     "metadata": {},
     "output_type": "execute_result"
    }
   ],
   "source": [
    "if not flg_data_pkl:\n",
    "     #look at one image\n",
    "    fname = (path/\"training/7\").ls()[0]\n",
    "    \n",
    "Image.open(fname)"
   ]
  },
  {
   "cell_type": "markdown",
   "metadata": {},
   "source": [
    "## 1. Preprocess Data\n",
    "#### Train set\n",
    "Get all files from `training` folder and make them available as train and valid."
   ]
  },
  {
   "cell_type": "code",
   "execution_count": 8,
   "metadata": {},
   "outputs": [
    {
     "name": "stdout",
     "output_type": "stream",
     "text": [
      "<class 'fastai.data.block.DataBlock'> <class 'fastai.data.core.DataLoaders'>\n"
     ]
    }
   ],
   "source": [
    "if not flg_data_pkl:\n",
    "    digits_train = DataBlock(blocks = (ImageBlock, CategoryBlock),\n",
    "                 get_items=get_image_files, \n",
    "                 splitter=RandomSplitter(valid_pct = 0.2, seed=42),\n",
    "                 get_y = parent_label, \n",
    "                 item_tfms=Resize(128))#,\n",
    "                 #batch_tfms=aug_transforms(size=224, min_scale=0.75)\n",
    "        \n",
    "    dls_train = digits_train.dataloaders(path/\"training\")\n",
    "    \n",
    "    print(digits_train.__class__, dls_train.__class__)"
   ]
  },
  {
   "cell_type": "markdown",
   "metadata": {},
   "source": [
    "#### Test set\n",
    "Get all files from `testing` folder.  Don't use it for training.  Hold it for measuring model performance."
   ]
  },
  {
   "cell_type": "code",
   "execution_count": 9,
   "metadata": {},
   "outputs": [],
   "source": [
    "if not flg_data_pkl:\n",
    "    digits_test = DataBlock(blocks = (ImageBlock, CategoryBlock),\n",
    "                 get_items=get_image_files, \n",
    "                 get_y = parent_label, \n",
    "                 item_tfms=Resize(128))\n",
    "    \n",
    "    dls_test = digits_test.dataloaders(path/\"testing\")"
   ]
  },
  {
   "cell_type": "markdown",
   "metadata": {},
   "source": [
    "Pickle files for reuse and saving GCP money"
   ]
  },
  {
   "cell_type": "code",
   "execution_count": 13,
   "metadata": {},
   "outputs": [],
   "source": [
    "if not flg_data_pkl:\n",
    "    #torch.save( digits_train, 'myData/mnist_full_datablock_train.pkl') #class fastai.data.block.DataBlock\n",
    "    #torch.save( digits_test, 'myData/mnist_full_datablock_test.pkl') \n",
    "    torch.save( dls_train, 'myData/mnist_full_dls_train.pkl') #class fastai.data.core.DataLoaders\n",
    "    torch.save( dls_test, 'myData/mnist_full_dls_test.pkl')\n"
   ]
  },
  {
   "cell_type": "code",
   "execution_count": null,
   "metadata": {},
   "outputs": [],
   "source": [
    "df100"
   ]
  },
  {
   "cell_type": "markdown",
   "metadata": {},
   "source": [
    "#### Checking and Debugging a DataBlock"
   ]
  },
  {
   "cell_type": "code",
   "execution_count": null,
   "metadata": {},
   "outputs": [],
   "source": [
    "dls_train.show_batch(nrows=2, ncols=3)"
   ]
  },
  {
   "cell_type": "markdown",
   "metadata": {},
   "source": [
    "## 2. Train model\n",
    "### 2.1 Using fast.ai cnn learner, without pretrained model"
   ]
  },
  {
   "cell_type": "code",
   "execution_count": null,
   "metadata": {},
   "outputs": [],
   "source": [
    "#pg.180\n",
    "my_learn = cnn_learner(dls_train, resnet18, pretrained=False, metrics=error_rate)\n",
    "my_learn.fit_one_cycle(1, 0.1)"
   ]
  },
  {
   "cell_type": "markdown",
   "metadata": {},
   "source": [
    "#### 2.1a Check Model Performance\n",
    "on the validation set"
   ]
  },
  {
   "cell_type": "code",
   "execution_count": null,
   "metadata": {},
   "outputs": [],
   "source": [
    "x_train,y_train = dls_train.one_batch()"
   ]
  },
  {
   "cell_type": "code",
   "execution_count": null,
   "metadata": {},
   "outputs": [],
   "source": [
    "#preview actuals\n",
    "y_train"
   ]
  },
  {
   "cell_type": "code",
   "execution_count": null,
   "metadata": {},
   "outputs": [],
   "source": [
    "#preview first prediction\n",
    "preds,_ = my_learn.get_preds(dl=[(x_train,y_train)])\n",
    "preds[0]"
   ]
  },
  {
   "cell_type": "code",
   "execution_count": null,
   "metadata": {},
   "outputs": [],
   "source": [
    "len(preds[0]),preds[0].sum()"
   ]
  },
  {
   "cell_type": "code",
   "execution_count": null,
   "metadata": {},
   "outputs": [],
   "source": [
    "print(\"Loss function:\")\n",
    "my_learn.loss_func"
   ]
  },
  {
   "cell_type": "code",
   "execution_count": null,
   "metadata": {},
   "outputs": [],
   "source": [
    "#learn.metrics[0].__class__ #fastai.learner.AvgMetric\n",
    "print(\"Metric: error rate\")\n",
    "my_learn.metrics[0].value"
   ]
  },
  {
   "cell_type": "markdown",
   "metadata": {},
   "source": [
    "## Model Interpretation"
   ]
  },
  {
   "cell_type": "code",
   "execution_count": null,
   "metadata": {},
   "outputs": [],
   "source": [
    "interp = ClassificationInterpretation.from_learner(my_learn)\n",
    "interp.plot_top_losses(5, nrows=1)"
   ]
  },
  {
   "cell_type": "code",
   "execution_count": null,
   "metadata": {},
   "outputs": [],
   "source": [
    "interp.plot_confusion_matrix(figsize=(12,12), dpi=60)"
   ]
  },
  {
   "cell_type": "code",
   "execution_count": null,
   "metadata": {},
   "outputs": [],
   "source": [
    "interp.most_confused(min_val=6)"
   ]
  },
  {
   "cell_type": "markdown",
   "metadata": {},
   "source": [
    "## 3. Improving Our Model\n",
    "#### The Learning Rate Finder"
   ]
  },
  {
   "cell_type": "code",
   "execution_count": null,
   "metadata": {},
   "outputs": [],
   "source": [
    "dls = dls_train.clone()"
   ]
  },
  {
   "cell_type": "code",
   "execution_count": null,
   "metadata": {},
   "outputs": [],
   "source": [
    "learn = cnn_learner(dls, resnet18, metrics=error_rate)\n",
    "lr_min,lr_steep = learn.lr_find()"
   ]
  },
  {
   "cell_type": "code",
   "execution_count": null,
   "metadata": {},
   "outputs": [],
   "source": [
    "print(f\"Minimum/10: {lr_min:.2e}, steepest point: {lr_steep:.2e}\")"
   ]
  },
  {
   "cell_type": "code",
   "execution_count": null,
   "metadata": {},
   "outputs": [],
   "source": [
    "learn = cnn_learner(dls, resnet18, metrics=error_rate)\n",
    "learn.fine_tune(2, base_lr=5e-3)"
   ]
  },
  {
   "cell_type": "code",
   "execution_count": null,
   "metadata": {},
   "outputs": [],
   "source": [
    "$ac redo above with diff rate"
   ]
  },
  {
   "cell_type": "markdown",
   "metadata": {},
   "source": [
    "#### Unfreezing and Transfer Learning"
   ]
  },
  {
   "cell_type": "code",
   "execution_count": null,
   "metadata": {},
   "outputs": [],
   "source": [
    "learn = cnn_learner(dls, resnet18, metrics=error_rate)\n",
    "learn.fit_one_cycle(3, 5e-3)"
   ]
  },
  {
   "cell_type": "code",
   "execution_count": null,
   "metadata": {},
   "outputs": [],
   "source": [
    "learn.unfreeze()"
   ]
  },
  {
   "cell_type": "code",
   "execution_count": null,
   "metadata": {},
   "outputs": [],
   "source": [
    "learn.lr_find()"
   ]
  },
  {
   "cell_type": "code",
   "execution_count": null,
   "metadata": {},
   "outputs": [],
   "source": [
    "#$accheck rate\n",
    "#learn.fit_one_cycle(6, lr_max=1e-5)"
   ]
  },
  {
   "cell_type": "markdown",
   "metadata": {},
   "source": [
    "#### Discriminative Learning Rates"
   ]
  },
  {
   "cell_type": "code",
   "execution_count": null,
   "metadata": {},
   "outputs": [],
   "source": [
    "#$accheck rate\n",
    "'''learn = cnn_learner(dls, resnet18, metrics=error_rate)\n",
    "learn.fit_one_cycle(3, 5e-3)\n",
    "learn.unfreeze()\n",
    "learn.fit_one_cycle(12, lr_max=slice(1e-6,1e-4))'''"
   ]
  },
  {
   "cell_type": "code",
   "execution_count": null,
   "metadata": {},
   "outputs": [],
   "source": [
    "learn.recorder.plot_loss()"
   ]
  },
  {
   "cell_type": "code",
   "execution_count": null,
   "metadata": {},
   "outputs": [],
   "source": []
  },
  {
   "cell_type": "code",
   "execution_count": null,
   "metadata": {},
   "outputs": [],
   "source": []
  },
  {
   "cell_type": "code",
   "execution_count": null,
   "metadata": {},
   "outputs": [],
   "source": []
  },
  {
   "cell_type": "code",
   "execution_count": null,
   "metadata": {},
   "outputs": [],
   "source": []
  },
  {
   "cell_type": "code",
   "execution_count": null,
   "metadata": {},
   "outputs": [],
   "source": []
  },
  {
   "cell_type": "markdown",
   "metadata": {},
   "source": [
    "### 2.2 Using fast.ai cnn learner, with pretrained model Resnet18"
   ]
  },
  {
   "cell_type": "code",
   "execution_count": null,
   "metadata": {},
   "outputs": [],
   "source": [
    "learn1 = cnn_learner(dls, resnet18, metrics=error_rate)\n",
    "learn1.fine_tune(2)"
   ]
  },
  {
   "cell_type": "markdown",
   "metadata": {},
   "source": [
    "#### 2.2a Check Model Performance\n",
    "on the validation set"
   ]
  },
  {
   "cell_type": "code",
   "execution_count": null,
   "metadata": {},
   "outputs": [],
   "source": [
    "#preview predictions\n",
    "preds1,_ = learn1.get_preds(dl=[(x,y)])\n",
    "preds1[0]"
   ]
  },
  {
   "cell_type": "code",
   "execution_count": null,
   "metadata": {},
   "outputs": [],
   "source": [
    "len(preds1[0]),preds1[0].sum()"
   ]
  },
  {
   "cell_type": "code",
   "execution_count": null,
   "metadata": {},
   "outputs": [],
   "source": [
    "print(\"Metric: error rate\")\n",
    "learn1.metrics[0].value"
   ]
  },
  {
   "cell_type": "code",
   "execution_count": null,
   "metadata": {},
   "outputs": [],
   "source": []
  },
  {
   "cell_type": "code",
   "execution_count": null,
   "metadata": {},
   "outputs": [],
   "source": [
    "interp1 = ClassificationInterpretation.from_learner(learn1)\n",
    "interp1.plot_confusion_matrix(figsize=(12,12), dpi=60)"
   ]
  },
  {
   "cell_type": "code",
   "execution_count": null,
   "metadata": {},
   "outputs": [],
   "source": [
    "interp1.most_confused(min_val=6)"
   ]
  },
  {
   "cell_type": "markdown",
   "metadata": {},
   "source": [
    "## 3. Evaluate Models on Testset\n",
    "saved separately and not used for training and validation"
   ]
  },
  {
   "cell_type": "code",
   "execution_count": null,
   "metadata": {},
   "outputs": [],
   "source": [
    "print(\"Metric: error rate\")\n",
    "learn1.metrics[0].value"
   ]
  },
  {
   "cell_type": "code",
   "execution_count": null,
   "metadata": {},
   "outputs": [],
   "source": []
  }
 ],
 "metadata": {
  "environment": {
   "name": "common-cu101.m56",
   "type": "gcloud",
   "uri": "gcr.io/deeplearning-platform-release/base-cu101:m56"
  },
  "kernelspec": {
   "display_name": "Python 3",
   "language": "python",
   "name": "python3"
  },
  "language_info": {
   "codemirror_mode": {
    "name": "ipython",
    "version": 3
   },
   "file_extension": ".py",
   "mimetype": "text/x-python",
   "name": "python",
   "nbconvert_exporter": "python",
   "pygments_lexer": "ipython3",
   "version": "3.7.8"
  }
 },
 "nbformat": 4,
 "nbformat_minor": 4
}
