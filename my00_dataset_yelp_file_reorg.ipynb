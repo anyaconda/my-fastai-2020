{
 "cells": [
  {
   "cell_type": "code",
   "execution_count": 39,
   "metadata": {},
   "outputs": [],
   "source": [
    "#meta 10/26/2020 File Reorg\n",
    "#Organize Yelp reviews, from a pandas dataframe to a fs 2 folders for positive and negative reviews\n",
    "\n",
    "#reqs\n",
    "# need yelp_review_polarity_csv.tgz\n",
    "# src: https://www.kaggle.com/ashishsalunkhe/yelp-review-polarity\n",
    "\n",
    "#note: for fast.ai NLP Ch.10\n",
    "#note: improve for efficiency"
   ]
  },
  {
   "cell_type": "code",
   "execution_count": 3,
   "metadata": {},
   "outputs": [],
   "source": [
    "import pandas as pd\n",
    "import numpy as np\n",
    "import os\n"
   ]
  },
  {
   "cell_type": "markdown",
   "metadata": {},
   "source": [
    "## 0. Load data\n",
    "source: Kaggle  \n",
    "dataset: Yelp_Review_Polarity  \n",
    "https://www.kaggle.com/ashishsalunkhe/yelp-review-polarity\n",
    "\n",
    "#### Descripiton\n",
    "https://www.kaggle.com/ilhamfp31/yelp-review-dataset\n",
    "\n",
    "The Yelp reviews polarity dataset is constructed by considering stars 1 and 2 negative, and 3 and 4 positive. For each polarity 280,000 training samples and 19,000 testing samples are take randomly. In total there are 560,000 trainig samples and 38,000 testing samples. Negative polarity is class 1, and positive class 2.\n",
    "\n",
    "The files train.csv and test.csv contain all the training samples as comma-sparated values. There are 2 columns in them, corresponding to class index (1 and 2) and review text. The review texts are escaped using double quotes (\"), and any internal double quote is escaped by 2 double quotes (\"\"). New lines are escaped by a backslash followed with an \"n\" character, that is \"\\n\"."
   ]
  },
  {
   "cell_type": "code",
   "execution_count": 4,
   "metadata": {},
   "outputs": [
    {
     "name": "stdout",
     "output_type": "stream",
     "text": [
      "(560000, 2)\n"
     ]
    },
    {
     "data": {
      "text/html": [
       "<div>\n",
       "<style scoped>\n",
       "    .dataframe tbody tr th:only-of-type {\n",
       "        vertical-align: middle;\n",
       "    }\n",
       "\n",
       "    .dataframe tbody tr th {\n",
       "        vertical-align: top;\n",
       "    }\n",
       "\n",
       "    .dataframe thead th {\n",
       "        text-align: right;\n",
       "    }\n",
       "</style>\n",
       "<table border=\"1\" class=\"dataframe\">\n",
       "  <thead>\n",
       "    <tr style=\"text-align: right;\">\n",
       "      <th></th>\n",
       "      <th>rating</th>\n",
       "      <th>review</th>\n",
       "    </tr>\n",
       "  </thead>\n",
       "  <tbody>\n",
       "    <tr>\n",
       "      <th>0</th>\n",
       "      <td>1</td>\n",
       "      <td>Unfortunately, the frustration of being Dr. Go...</td>\n",
       "    </tr>\n",
       "    <tr>\n",
       "      <th>1</th>\n",
       "      <td>2</td>\n",
       "      <td>Been going to Dr. Goldberg for over 10 years. ...</td>\n",
       "    </tr>\n",
       "    <tr>\n",
       "      <th>2</th>\n",
       "      <td>1</td>\n",
       "      <td>I don't know what Dr. Goldberg was like before...</td>\n",
       "    </tr>\n",
       "    <tr>\n",
       "      <th>3</th>\n",
       "      <td>1</td>\n",
       "      <td>I'm writing this review to give you a heads up...</td>\n",
       "    </tr>\n",
       "    <tr>\n",
       "      <th>4</th>\n",
       "      <td>2</td>\n",
       "      <td>All the food is great here. But the best thing...</td>\n",
       "    </tr>\n",
       "  </tbody>\n",
       "</table>\n",
       "</div>"
      ],
      "text/plain": [
       "   rating                                             review\n",
       "0       1  Unfortunately, the frustration of being Dr. Go...\n",
       "1       2  Been going to Dr. Goldberg for over 10 years. ...\n",
       "2       1  I don't know what Dr. Goldberg was like before...\n",
       "3       1  I'm writing this review to give you a heads up...\n",
       "4       2  All the food is great here. But the best thing..."
      ]
     },
     "execution_count": 4,
     "metadata": {},
     "output_type": "execute_result"
    }
   ],
   "source": [
    "df = pd.read_csv(\"train.csv\", names = ['rating', 'review'])\n",
    "print(df.shape)\n",
    "df.head()"
   ]
  },
  {
   "cell_type": "code",
   "execution_count": 5,
   "metadata": {
    "scrolled": true
   },
   "outputs": [
    {
     "data": {
      "text/plain": [
       "rating     int64\n",
       "review    object\n",
       "dtype: object"
      ]
     },
     "execution_count": 5,
     "metadata": {},
     "output_type": "execute_result"
    }
   ],
   "source": [
    "df.dtypes"
   ]
  },
  {
   "cell_type": "markdown",
   "metadata": {},
   "source": [
    "### 0.1 Quick EDA \n",
    "Group by positive and negative"
   ]
  },
  {
   "cell_type": "code",
   "execution_count": 6,
   "metadata": {},
   "outputs": [
    {
     "data": {
      "text/plain": [
       "2    280000\n",
       "1    280000\n",
       "Name: rating, dtype: int64"
      ]
     },
     "execution_count": 6,
     "metadata": {},
     "output_type": "execute_result"
    }
   ],
   "source": [
    "df.rating.value_counts()"
   ]
  },
  {
   "cell_type": "code",
   "execution_count": 7,
   "metadata": {},
   "outputs": [
    {
     "data": {
      "text/html": [
       "<div>\n",
       "<style scoped>\n",
       "    .dataframe tbody tr th:only-of-type {\n",
       "        vertical-align: middle;\n",
       "    }\n",
       "\n",
       "    .dataframe tbody tr th {\n",
       "        vertical-align: top;\n",
       "    }\n",
       "\n",
       "    .dataframe thead th {\n",
       "        text-align: right;\n",
       "    }\n",
       "</style>\n",
       "<table border=\"1\" class=\"dataframe\">\n",
       "  <thead>\n",
       "    <tr style=\"text-align: right;\">\n",
       "      <th></th>\n",
       "      <th>review</th>\n",
       "    </tr>\n",
       "    <tr>\n",
       "      <th>rating</th>\n",
       "      <th></th>\n",
       "    </tr>\n",
       "  </thead>\n",
       "  <tbody>\n",
       "    <tr>\n",
       "      <th>1</th>\n",
       "      <td>Unfortunately, the frustration of being Dr. Go...</td>\n",
       "    </tr>\n",
       "    <tr>\n",
       "      <th>2</th>\n",
       "      <td>Been going to Dr. Goldberg for over 10 years. ...</td>\n",
       "    </tr>\n",
       "  </tbody>\n",
       "</table>\n",
       "</div>"
      ],
      "text/plain": [
       "                                                   review\n",
       "rating                                                   \n",
       "1       Unfortunately, the frustration of being Dr. Go...\n",
       "2       Been going to Dr. Goldberg for over 10 years. ..."
      ]
     },
     "execution_count": 7,
     "metadata": {},
     "output_type": "execute_result"
    }
   ],
   "source": [
    "df_grp = df.groupby(\"rating\")\n",
    "df_grp.first()"
   ]
  },
  {
   "cell_type": "code",
   "execution_count": 8,
   "metadata": {},
   "outputs": [
    {
     "data": {
      "text/html": [
       "<div>\n",
       "<style scoped>\n",
       "    .dataframe tbody tr th:only-of-type {\n",
       "        vertical-align: middle;\n",
       "    }\n",
       "\n",
       "    .dataframe tbody tr th {\n",
       "        vertical-align: top;\n",
       "    }\n",
       "\n",
       "    .dataframe thead tr th {\n",
       "        text-align: left;\n",
       "    }\n",
       "\n",
       "    .dataframe thead tr:last-of-type th {\n",
       "        text-align: right;\n",
       "    }\n",
       "</style>\n",
       "<table border=\"1\" class=\"dataframe\">\n",
       "  <thead>\n",
       "    <tr>\n",
       "      <th></th>\n",
       "      <th colspan=\"4\" halign=\"left\">review</th>\n",
       "    </tr>\n",
       "    <tr>\n",
       "      <th></th>\n",
       "      <th>count</th>\n",
       "      <th>unique</th>\n",
       "      <th>top</th>\n",
       "      <th>freq</th>\n",
       "    </tr>\n",
       "    <tr>\n",
       "      <th>rating</th>\n",
       "      <th></th>\n",
       "      <th></th>\n",
       "      <th></th>\n",
       "      <th></th>\n",
       "    </tr>\n",
       "  </thead>\n",
       "  <tbody>\n",
       "    <tr>\n",
       "      <th>1</th>\n",
       "      <td>280000</td>\n",
       "      <td>280000</td>\n",
       "      <td>Stay away from this dry cleaners in Chandler. ...</td>\n",
       "      <td>1</td>\n",
       "    </tr>\n",
       "    <tr>\n",
       "      <th>2</th>\n",
       "      <td>280000</td>\n",
       "      <td>280000</td>\n",
       "      <td>Really enjoyed my visit. Thank you betsie Boop...</td>\n",
       "      <td>1</td>\n",
       "    </tr>\n",
       "  </tbody>\n",
       "</table>\n",
       "</div>"
      ],
      "text/plain": [
       "        review                                                                \n",
       "         count  unique                                                top freq\n",
       "rating                                                                        \n",
       "1       280000  280000  Stay away from this dry cleaners in Chandler. ...    1\n",
       "2       280000  280000  Really enjoyed my visit. Thank you betsie Boop...    1"
      ]
     },
     "execution_count": 8,
     "metadata": {},
     "output_type": "execute_result"
    }
   ],
   "source": [
    "df_grp.describe()"
   ]
  },
  {
   "cell_type": "code",
   "execution_count": 9,
   "metadata": {
    "scrolled": true
   },
   "outputs": [
    {
     "data": {
      "text/plain": [
       "{1: Int64Index([     0,      2,      3,      5,      6,      7,     10,     15,\n",
       "                 16,     17,\n",
       "             ...\n",
       "             559982, 559983, 559985, 559988, 559990, 559992, 559993, 559994,\n",
       "             559997, 559998],\n",
       "            dtype='int64', length=280000),\n",
       " 2: Int64Index([     1,      4,      8,      9,     11,     12,     13,     14,\n",
       "                 19,     25,\n",
       "             ...\n",
       "             559980, 559981, 559984, 559986, 559987, 559989, 559991, 559995,\n",
       "             559996, 559999],\n",
       "            dtype='int64', length=280000)}"
      ]
     },
     "execution_count": 9,
     "metadata": {},
     "output_type": "execute_result"
    }
   ],
   "source": [
    "df_grp.groups"
   ]
  },
  {
   "cell_type": "code",
   "execution_count": 10,
   "metadata": {},
   "outputs": [
    {
     "name": "stdout",
     "output_type": "stream",
     "text": [
      "1         rating                                             review\n",
      "0            1  Unfortunately, the frustration of being Dr. Go...\n",
      "2            1  I don't know what Dr. Goldberg was like before...\n",
      "3            1  I'm writing this review to give you a heads up...\n",
      "5            1  Wing sauce is like water. Pretty much a lot of...\n",
      "6            1  Owning a driving range inside the city limits ...\n",
      "...        ...                                                ...\n",
      "559992       1  Long line, inefficient staff. Maybe my expecta...\n",
      "559993       1  First: Please note that many people are review...\n",
      "559994       1  I'm shocked everyone time I go to a Bouchon Ba...\n",
      "559997       1  Phone calls always go to voicemail and message...\n",
      "559998       1  Looks like all of the good reviews have gone t...\n",
      "\n",
      "[280000 rows x 2 columns]\n",
      "2         rating                                             review\n",
      "1            2  Been going to Dr. Goldberg for over 10 years. ...\n",
      "4            2  All the food is great here. But the best thing...\n",
      "8            2  Before I finally made it over to this range I ...\n",
      "9            2  I drove by yesterday to get a sneak peak.  It ...\n",
      "11           2  Wonderful reuben.  Map shown on Yelp page is i...\n",
      "...        ...                                                ...\n",
      "559989       2  When Corey sent the email about tickets being ...\n",
      "559991       2  We tried the Cheese Danish w lemon. Creamy, fl...\n",
      "559995       2  Ryan was as good as everyone on yelp has claim...\n",
      "559996       2  Professional \\nFriendly\\nOn time AND affordabl...\n",
      "559999       2  Ryan Rocks! I called him this morning for some...\n",
      "\n",
      "[280000 rows x 2 columns]\n"
     ]
    }
   ],
   "source": [
    "for name, group in df_grp:\n",
    "    print(name, group)\n",
    "    "
   ]
  },
  {
   "cell_type": "markdown",
   "metadata": {},
   "source": [
    "## 1. Text Preprocessing for fast.ai NLP\n",
    "Process date into folders"
   ]
  },
  {
   "cell_type": "code",
   "execution_count": 38,
   "metadata": {
    "scrolled": false
   },
   "outputs": [],
   "source": [
    "#for each group\n",
    "for name, group in df_grp:\n",
    "    #setup a folder\n",
    "    folder = str(name)\n",
    "\n",
    "    #df for each group\n",
    "    #print(group.__class__)\n",
    "    \n",
    "    #write each record to a file\n",
    "    for index, row in group.iterrows():\n",
    "        #set file name\n",
    "        file_name = folder + \"/\" + str(index) +\".txt\"\n",
    "        #print(file_name, row[\"review\"])\n",
    "        \n",
    "        #save each review to a separate file\n",
    "        with open(file_name, 'w') as f:\n",
    "            f.write(row[\"review\"])\n",
    "    "
   ]
  },
  {
   "cell_type": "markdown",
   "metadata": {},
   "source": [
    "## Xtra"
   ]
  },
  {
   "cell_type": "code",
   "execution_count": 31,
   "metadata": {
    "scrolled": false
   },
   "outputs": [
    {
     "name": "stdout",
     "output_type": "stream",
     "text": [
      "<class 'pandas.core.series.Series'>\n",
      "1/0.txt Unfortunately, the frustration of being Dr. Goldberg's patient is a repeat of the experience I've had with so many other doctors in NYC -- good doctor, terrible staff.  It seems that his staff simply never answers the phone.  It usually takes 2 hours of repeated calling to get an answer.  Who has time for that or wants to deal with it?  I have run into this problem with many other doctors and I just don't get it.  You have office workers, you have patients with medical needs, why isn't anyone answering the phone?  It's incomprehensible and not work the aggravation.  It's with regret that I feel that I have to give Dr. Goldberg 2 stars.\n",
      "<class 'pandas.core.series.Series'>\n",
      "1/2.txt I don't know what Dr. Goldberg was like before  moving to Arizona, but let me tell you, STAY AWAY from this doctor and this office. I was going to Dr. Johnson before he left and Goldberg took over when Johnson left. He is not a caring doctor. He is only interested in the co-pay and having you come in for medication refills every month. He will not give refills and could less about patients's financial situations. Trying to get your 90 days mail away pharmacy prescriptions through this guy is a joke. And to make matters even worse, his office staff is incompetent. 90% of the time when you call the office, they'll put you through to a voice mail, that NO ONE ever answers or returns your call. Both my adult children and husband have decided to leave this practice after experiencing such frustration. The entire office has an attitude like they are doing you a favor. Give me a break! Stay away from this doc and the practice. You deserve better and they will not be there when you really need them. I have never felt compelled to write a bad review about anyone until I met this pathetic excuse for a doctor who is all about the money.\n",
      "<class 'pandas.core.series.Series'>\n",
      "1/3.txt I'm writing this review to give you a heads up before you see this Doctor. The office staff and administration are very unprofessional. I left a message with multiple people regarding my bill, and no one ever called me back. I had to hound them to get an answer about my bill. \\n\\nSecond, and most important, make sure your insurance is going to cover Dr. Goldberg's visits and blood work. He recommended to me that I get a physical, and he knew I was a student because I told him. I got the physical done. Later, I found out my health insurance doesn't pay for preventative visits. I received an $800.00 bill for the blood work. I can't pay for my bill because I'm a student and don't have any cash flow at this current time. I can't believe the Doctor wouldn't give me a heads up to make sure my insurance would cover work that wasn't necessary and was strictly preventative. The office can't do anything to help me cover the bill. In addition, the office staff said the onus is on me to make sure my insurance covers visits. Frustrating situation!\n",
      "<class 'pandas.core.series.Series'>\n",
      "1/5.txt Wing sauce is like water. Pretty much a lot of butter and some hot sauce (franks red hot maybe).  The whole wings are good size and crispy, but for $1 a wing the sauce could be better. The hot and extra hot are about the same flavor/heat.  The fish sandwich is good and is a large portion, sides are decent.\n",
      "<class 'pandas.core.series.Series'>\n",
      "2/1.txt Been going to Dr. Goldberg for over 10 years. I think I was one of his 1st patients when he started at MHMG. He's been great over the years and is really all about the big picture. It is because of him, not my now former gyn Dr. Markoff, that I found out I have fibroids. He explores all options with you and is very patient and understanding. He doesn't judge and asks all the right questions. Very thorough and wants to be kept in the loop on every aspect of your medical health and your life.\n"
     ]
    }
   ],
   "source": [
    "#$xtra - write each row of dataframe to a file - not efficient way but does the job\n",
    "#vars\n",
    "i = 0\n",
    "\n",
    "#for each group\n",
    "for name, group in df_grp:\n",
    "    #setup a folder\n",
    "    folder = str(name)\n",
    "\n",
    "    #df for each group\n",
    "    #print(group.__class__)\n",
    "    \n",
    "    #write each record to a file\n",
    "    for index, row in group.iterrows():\n",
    "        print(row.__class__)\n",
    "        file_name = folder + \"/\" + str(index) +\".txt\"\n",
    "        print(file_name, row[\"review\"])\n",
    "        with open(file_name, 'w') as f:\n",
    "            f.write(row[\"review\"])\n",
    "        i+= 1\n",
    "        \n",
    "        #for quick testing\n",
    "        if i>3: \n",
    "            break\n",
    "    "
   ]
  },
  {
   "cell_type": "code",
   "execution_count": 1,
   "metadata": {},
   "outputs": [],
   "source": []
  }
 ],
 "metadata": {
  "kernelspec": {
   "display_name": "Python 3",
   "language": "python",
   "name": "python3"
  },
  "language_info": {
   "codemirror_mode": {
    "name": "ipython",
    "version": 3
   },
   "file_extension": ".py",
   "mimetype": "text/x-python",
   "name": "python",
   "nbconvert_exporter": "python",
   "pygments_lexer": "ipython3",
   "version": "3.7.4"
  }
 },
 "nbformat": 4,
 "nbformat_minor": 4
}
